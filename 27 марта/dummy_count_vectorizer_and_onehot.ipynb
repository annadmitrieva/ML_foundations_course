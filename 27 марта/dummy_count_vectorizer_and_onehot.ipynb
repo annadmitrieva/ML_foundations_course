{
  "nbformat": 4,
  "nbformat_minor": 0,
  "metadata": {
    "colab": {
      "provenance": [],
      "mount_file_id": "129nThlLTvBCS_k2G-l8HATjwEtb74FKA",
      "authorship_tag": "ABX9TyOErsF+nEu+cn7nfoaCZN55",
      "include_colab_link": true
    },
    "kernelspec": {
      "name": "python3",
      "display_name": "Python 3"
    },
    "language_info": {
      "name": "python"
    }
  },
  "cells": [
    {
      "cell_type": "markdown",
      "metadata": {
        "id": "view-in-github",
        "colab_type": "text"
      },
      "source": [
        "<a href=\"https://colab.research.google.com/github/annadmitrieva/ML_foundations_course_2024/blob/main/27%20%D0%BC%D0%B0%D1%80%D1%82%D0%B0/dummy_count_vectorizer_and_onehot.ipynb\" target=\"_parent\"><img src=\"https://colab.research.google.com/assets/colab-badge.svg\" alt=\"Open In Colab\"/></a>"
      ]
    },
    {
      "cell_type": "markdown",
      "source": [
        "## CountVectorizer своими руками"
      ],
      "metadata": {
        "id": "9_s49_3CXitX"
      }
    },
    {
      "cell_type": "code",
      "source": [
        "import re"
      ],
      "metadata": {
        "id": "2ovhI3fYNLW0"
      },
      "execution_count": 2,
      "outputs": []
    },
    {
      "cell_type": "code",
      "execution_count": 11,
      "metadata": {
        "id": "IzRWxvbFMj7u"
      },
      "outputs": [],
      "source": [
        "corpus = ['Микро усреднение: считаем среднее количество TP и FP',\n",
        "          'Макро усреднение: считаем точность по всем классам',\n",
        "          'Взвешенное усреднение: макро усреднение'\n",
        "          ]"
      ]
    },
    {
      "cell_type": "markdown",
      "source": [
        "Хотим сделать матрицу размера N*M:\n",
        "\n",
        "\n",
        "*   N - документы\n",
        "*   M - все слова\n",
        "\n"
      ],
      "metadata": {
        "id": "CFzpm7qmM3MD"
      }
    },
    {
      "cell_type": "code",
      "source": [
        "unique_words = set()\n",
        "\n",
        "for doc in corpus:\n",
        "  tokens = re.findall('\\w+', doc.lower())\n",
        "  for token in tokens:\n",
        "    unique_words.add(token)"
      ],
      "metadata": {
        "id": "TVdQnUbsM11P"
      },
      "execution_count": 12,
      "outputs": []
    },
    {
      "cell_type": "code",
      "source": [
        "unique_words = list(unique_words)"
      ],
      "metadata": {
        "id": "6n0HRo-bNjE0"
      },
      "execution_count": 15,
      "outputs": []
    },
    {
      "cell_type": "code",
      "source": [
        "len(unique_words)"
      ],
      "metadata": {
        "colab": {
          "base_uri": "https://localhost:8080/"
        },
        "id": "AjmBqU4RNuNh",
        "outputId": "a9436ea4-0a98-4b1f-cff9-16f65c5a2049"
      },
      "execution_count": 8,
      "outputs": [
        {
          "output_type": "execute_result",
          "data": {
            "text/plain": [
              "14"
            ]
          },
          "metadata": {},
          "execution_count": 8
        }
      ]
    },
    {
      "cell_type": "code",
      "source": [
        "unique_words"
      ],
      "metadata": {
        "colab": {
          "base_uri": "https://localhost:8080/"
        },
        "id": "apFUvMnCNho0",
        "outputId": "66f40767-cee8-420e-9c16-43aa3c6e07ef"
      },
      "execution_count": 16,
      "outputs": [
        {
          "output_type": "execute_result",
          "data": {
            "text/plain": [
              "['усреднение',\n",
              " 'считаем',\n",
              " 'микро',\n",
              " 'и',\n",
              " 'макро',\n",
              " 'точность',\n",
              " 'всем',\n",
              " 'среднее',\n",
              " 'классам',\n",
              " 'количество',\n",
              " 'tp',\n",
              " 'по',\n",
              " 'взвешенное',\n",
              " 'fp']"
            ]
          },
          "metadata": {},
          "execution_count": 16
        }
      ]
    },
    {
      "cell_type": "code",
      "source": [
        "def get_vector(doc, unique_words):\n",
        "\n",
        "  tokens = re.findall('\\w+', doc.lower())\n",
        "  vec = []\n",
        "  for word in unique_words:\n",
        "    if word in tokens:\n",
        "      c = tokens.count(word)\n",
        "      vec.append(c)\n",
        "    else:\n",
        "      vec.append(0)\n",
        "\n",
        "  return vec"
      ],
      "metadata": {
        "id": "x0voZZuMN4Jr"
      },
      "execution_count": 17,
      "outputs": []
    },
    {
      "cell_type": "code",
      "source": [
        "get_vector(corpus[2], unique_words)"
      ],
      "metadata": {
        "colab": {
          "base_uri": "https://localhost:8080/"
        },
        "id": "G8zs9eVAPZKj",
        "outputId": "d50e80ba-dda5-4d25-add9-179dcbe83c16"
      },
      "execution_count": 18,
      "outputs": [
        {
          "output_type": "execute_result",
          "data": {
            "text/plain": [
              "[2, 0, 0, 0, 1, 0, 0, 0, 0, 0, 0, 0, 1, 0]"
            ]
          },
          "metadata": {},
          "execution_count": 18
        }
      ]
    },
    {
      "cell_type": "code",
      "source": [
        "from sklearn.feature_extraction.text import CountVectorizer"
      ],
      "metadata": {
        "id": "-SZ5-2b4Pc0w"
      },
      "execution_count": 19,
      "outputs": []
    },
    {
      "cell_type": "code",
      "source": [
        "vectorizer = CountVectorizer()"
      ],
      "metadata": {
        "id": "TeF0agcQPsI9"
      },
      "execution_count": 20,
      "outputs": []
    },
    {
      "cell_type": "code",
      "source": [
        "vectors = vectorizer.fit_transform(corpus)"
      ],
      "metadata": {
        "id": "E5RiGWKiPxOB"
      },
      "execution_count": 22,
      "outputs": []
    },
    {
      "cell_type": "code",
      "source": [
        "vectors.todense()"
      ],
      "metadata": {
        "colab": {
          "base_uri": "https://localhost:8080/"
        },
        "id": "EIzAzy5QP1vj",
        "outputId": "e974ac48-ebbd-456e-a93b-c37bcd196b38"
      },
      "execution_count": 24,
      "outputs": [
        {
          "output_type": "execute_result",
          "data": {
            "text/plain": [
              "matrix([[1, 1, 0, 0, 0, 1, 0, 1, 0, 1, 1, 0, 1],\n",
              "        [0, 0, 0, 1, 1, 0, 1, 0, 1, 0, 1, 1, 1],\n",
              "        [0, 0, 1, 0, 0, 0, 1, 0, 0, 0, 0, 0, 2]])"
            ]
          },
          "metadata": {},
          "execution_count": 24
        }
      ]
    },
    {
      "cell_type": "code",
      "source": [
        "vectors.shape"
      ],
      "metadata": {
        "colab": {
          "base_uri": "https://localhost:8080/"
        },
        "id": "pA35HoHnP40G",
        "outputId": "746d95e6-15c2-4d3b-c589-ac5a4bfc81ff"
      },
      "execution_count": 25,
      "outputs": [
        {
          "output_type": "execute_result",
          "data": {
            "text/plain": [
              "(3, 13)"
            ]
          },
          "metadata": {},
          "execution_count": 25
        }
      ]
    },
    {
      "cell_type": "code",
      "source": [
        "vectorizer.get_feature_names_out()"
      ],
      "metadata": {
        "colab": {
          "base_uri": "https://localhost:8080/"
        },
        "id": "z7nYlYoLP_yq",
        "outputId": "e52c62a8-bca6-4376-8d8d-35fa4e77eb54"
      },
      "execution_count": 27,
      "outputs": [
        {
          "output_type": "execute_result",
          "data": {
            "text/plain": [
              "array(['fp', 'tp', 'взвешенное', 'всем', 'классам', 'количество', 'макро',\n",
              "       'микро', 'по', 'среднее', 'считаем', 'точность', 'усреднение'],\n",
              "      dtype=object)"
            ]
          },
          "metadata": {},
          "execution_count": 27
        }
      ]
    },
    {
      "cell_type": "code",
      "source": [
        "unique_words"
      ],
      "metadata": {
        "colab": {
          "base_uri": "https://localhost:8080/"
        },
        "id": "OUz7BHllQNTi",
        "outputId": "0b817e03-d09d-4ee7-e967-09eb080a0f5e"
      },
      "execution_count": 28,
      "outputs": [
        {
          "output_type": "execute_result",
          "data": {
            "text/plain": [
              "['усреднение',\n",
              " 'считаем',\n",
              " 'микро',\n",
              " 'и',\n",
              " 'макро',\n",
              " 'точность',\n",
              " 'всем',\n",
              " 'среднее',\n",
              " 'классам',\n",
              " 'количество',\n",
              " 'tp',\n",
              " 'по',\n",
              " 'взвешенное',\n",
              " 'fp']"
            ]
          },
          "metadata": {},
          "execution_count": 28
        }
      ]
    },
    {
      "cell_type": "markdown",
      "source": [
        "## Кошачий OneHotEncoding"
      ],
      "metadata": {
        "id": "y7nV9iPEXsme"
      }
    },
    {
      "cell_type": "code",
      "source": [
        "feature = ['abissine', 'burma', 'ragdoll', 'burma', 'ragdoll', 'abissine', 'burma']"
      ],
      "metadata": {
        "id": "nYGXFkfCQUyA"
      },
      "execution_count": 30,
      "outputs": []
    },
    {
      "cell_type": "code",
      "source": [
        "set(feature)"
      ],
      "metadata": {
        "colab": {
          "base_uri": "https://localhost:8080/"
        },
        "id": "0USxZakCTeIH",
        "outputId": "714d6ae2-63a7-465a-9bf6-01fb9bfcc510"
      },
      "execution_count": 39,
      "outputs": [
        {
          "output_type": "execute_result",
          "data": {
            "text/plain": [
              "{'abissine', 'burma', 'ragdoll'}"
            ]
          },
          "metadata": {},
          "execution_count": 39
        }
      ]
    },
    {
      "cell_type": "code",
      "source": [
        "from sklearn.preprocessing import OneHotEncoder"
      ],
      "metadata": {
        "id": "vcdLQWbFS2-k"
      },
      "execution_count": 31,
      "outputs": []
    },
    {
      "cell_type": "code",
      "source": [
        "import numpy as np"
      ],
      "metadata": {
        "id": "xGnXkaHqTSo2"
      },
      "execution_count": 35,
      "outputs": []
    },
    {
      "cell_type": "code",
      "source": [
        "encoder = OneHotEncoder()"
      ],
      "metadata": {
        "id": "iYdjipcPTDNE"
      },
      "execution_count": 32,
      "outputs": []
    },
    {
      "cell_type": "code",
      "source": [
        "encoded_features = encoder.fit_transform(np.array(feature).reshape(-1, 1))"
      ],
      "metadata": {
        "id": "TS9p9rbfTIi2"
      },
      "execution_count": 36,
      "outputs": []
    },
    {
      "cell_type": "code",
      "source": [
        "encoded_features.todense()"
      ],
      "metadata": {
        "colab": {
          "base_uri": "https://localhost:8080/"
        },
        "id": "WRLSJzRnTNwL",
        "outputId": "630d61f0-63c4-4754-e830-8895b90663bf"
      },
      "execution_count": 38,
      "outputs": [
        {
          "output_type": "execute_result",
          "data": {
            "text/plain": [
              "matrix([[1., 0., 0.],\n",
              "        [0., 1., 0.],\n",
              "        [0., 0., 1.],\n",
              "        [0., 1., 0.],\n",
              "        [0., 0., 1.],\n",
              "        [1., 0., 0.],\n",
              "        [0., 1., 0.]])"
            ]
          },
          "metadata": {},
          "execution_count": 38
        }
      ]
    }
  ]
}