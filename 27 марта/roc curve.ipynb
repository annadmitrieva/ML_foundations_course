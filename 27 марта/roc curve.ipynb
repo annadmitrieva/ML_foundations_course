{
 "cells": [
  {
   "cell_type": "code",
   "execution_count": 1,
   "id": "8b7e3802",
   "metadata": {},
   "outputs": [],
   "source": [
    "from sklearn.metrics import roc_curve"
   ]
  },
  {
   "cell_type": "code",
   "execution_count": 2,
   "id": "cd62aa37",
   "metadata": {},
   "outputs": [],
   "source": [
    "def get_binary_preds_by_threshold(y_pred, threshold):\n",
    "    binary_preds = []\n",
    "    for y in y_pred:\n",
    "        if y >= threshold:\n",
    "            binary_preds.append(1)\n",
    "        else:\n",
    "            binary_preds.append(0)\n",
    "    return binary_preds"
   ]
  },
  {
   "cell_type": "code",
   "execution_count": 3,
   "id": "cd9cbbba",
   "metadata": {},
   "outputs": [],
   "source": [
    "def get_tpr(y_binary_pred, y_true):\n",
    "    divider = y_true.count(1)\n",
    "    true_positives = list(zip(y_binary_pred, y_true)).count((1, 1))\n",
    "    return true_positives / divider"
   ]
  },
  {
   "cell_type": "code",
   "execution_count": 4,
   "id": "dcc302cd",
   "metadata": {},
   "outputs": [],
   "source": [
    "def get_fpr(y_binary_pred, y_true):\n",
    "    divider = y_true.count(0)\n",
    "    true_negatives = list(zip(y_binary_pred, y_true)).count((1, 0))\n",
    "    return true_negatives / divider"
   ]
  },
  {
   "cell_type": "code",
   "execution_count": 5,
   "id": "1816e055",
   "metadata": {},
   "outputs": [],
   "source": [
    "def sort_by_preds(y_true, y_pred):\n",
    "    y_true_sorted = []\n",
    "    y_pred_sorted = []\n",
    "    \n",
    "    for p, t in sorted(zip(y_pred, y_true)):\n",
    "        y_true_sorted.append(t)\n",
    "        y_pred_sorted.append(p)\n",
    "    \n",
    "    return y_true_sorted, y_pred_sorted"
   ]
  },
  {
   "cell_type": "code",
   "execution_count": 6,
   "id": "dc24d9fe",
   "metadata": {},
   "outputs": [],
   "source": [
    "def get_tpr_fpr(pred_sorted, true_sorted):\n",
    "    list_of_tpr = []\n",
    "    list_of_fpr = []\n",
    "\n",
    "    for prob in pred_sorted:\n",
    "        current_y_pred = get_binary_preds_by_threshold(pred_sorted, threshold=prob)\n",
    "        current_tpr = get_tpr(current_y_pred, true_sorted)\n",
    "        current_fpr = get_fpr(current_y_pred, true_sorted)\n",
    "        list_of_tpr.append(current_tpr)\n",
    "        list_of_fpr.append(current_fpr)\n",
    "    \n",
    "    return list_of_tpr, list_of_fpr"
   ]
  },
  {
   "cell_type": "code",
   "execution_count": 2,
   "id": "10505078",
   "metadata": {},
   "outputs": [],
   "source": [
    "probs = [0.5, 0.1, 0.2, 0.6, 0.2, 0.3, 0.0]\n",
    "y = [0, 0, 0, 1, 1, 1, 0]"
   ]
  },
  {
   "cell_type": "code",
   "execution_count": 8,
   "id": "eea7cbae",
   "metadata": {},
   "outputs": [],
   "source": [
    "y_sorted, probs_sorted = sort_by_preds(y, probs)"
   ]
  },
  {
   "cell_type": "code",
   "execution_count": 9,
   "id": "0f972a66",
   "metadata": {},
   "outputs": [],
   "source": [
    "list_of_tpr, list_of_fpr = get_tpr_fpr(probs_sorted, y_sorted)"
   ]
  },
  {
   "cell_type": "code",
   "execution_count": 10,
   "id": "43db1fe3",
   "metadata": {},
   "outputs": [
    {
     "data": {
      "text/plain": [
       "[1.0,\n",
       " 1.0,\n",
       " 1.0,\n",
       " 1.0,\n",
       " 0.6666666666666666,\n",
       " 0.3333333333333333,\n",
       " 0.3333333333333333]"
      ]
     },
     "execution_count": 10,
     "metadata": {},
     "output_type": "execute_result"
    }
   ],
   "source": [
    "list_of_tpr"
   ]
  },
  {
   "cell_type": "code",
   "execution_count": 11,
   "id": "efdaa123",
   "metadata": {},
   "outputs": [
    {
     "data": {
      "text/plain": [
       "[1.0, 0.75, 0.5, 0.5, 0.25, 0.25, 0.0]"
      ]
     },
     "execution_count": 11,
     "metadata": {},
     "output_type": "execute_result"
    }
   ],
   "source": [
    "list_of_fpr"
   ]
  },
  {
   "cell_type": "code",
   "execution_count": 12,
   "id": "034ff3da",
   "metadata": {},
   "outputs": [
    {
     "data": {
      "text/plain": [
       "[0.0, 0.1, 0.2, 0.2, 0.3, 0.5, 0.6]"
      ]
     },
     "execution_count": 12,
     "metadata": {},
     "output_type": "execute_result"
    }
   ],
   "source": [
    "probs_sorted"
   ]
  },
  {
   "cell_type": "code",
   "execution_count": 17,
   "id": "c60da192",
   "metadata": {},
   "outputs": [],
   "source": [
    "current_y_pred = get_binary_preds_by_threshold(probs_sorted, 0.25)"
   ]
  },
  {
   "cell_type": "code",
   "execution_count": 18,
   "id": "2ca74f81",
   "metadata": {},
   "outputs": [
    {
     "data": {
      "text/plain": [
       "[0, 0, 0, 0, 1, 1, 1]"
      ]
     },
     "execution_count": 18,
     "metadata": {},
     "output_type": "execute_result"
    }
   ],
   "source": [
    "current_y_pred"
   ]
  },
  {
   "cell_type": "code",
   "execution_count": 19,
   "id": "34b7cb96",
   "metadata": {},
   "outputs": [],
   "source": [
    "current_tpr = get_tpr(current_y_pred, y_sorted)\n",
    "current_fpr = get_fpr(current_y_pred, y_sorted)"
   ]
  },
  {
   "cell_type": "code",
   "execution_count": 20,
   "id": "36f8def3",
   "metadata": {},
   "outputs": [
    {
     "data": {
      "text/plain": [
       "0.6666666666666666"
      ]
     },
     "execution_count": 20,
     "metadata": {},
     "output_type": "execute_result"
    }
   ],
   "source": [
    "current_tpr"
   ]
  },
  {
   "cell_type": "code",
   "execution_count": 21,
   "id": "58d2ccee",
   "metadata": {},
   "outputs": [
    {
     "data": {
      "text/plain": [
       "0.25"
      ]
     },
     "execution_count": 21,
     "metadata": {},
     "output_type": "execute_result"
    }
   ],
   "source": [
    "current_fpr"
   ]
  },
  {
   "cell_type": "code",
   "execution_count": 22,
   "id": "03d2791c",
   "metadata": {},
   "outputs": [],
   "source": [
    "import matplotlib.pyplot as plt"
   ]
  },
  {
   "cell_type": "code",
   "execution_count": 26,
   "id": "029b9672",
   "metadata": {},
   "outputs": [],
   "source": [
    "list_of_tpr.append(0.0)\n",
    "list_of_fpr.append(0.0)\n",
    "probs_sorted.append(1.1)"
   ]
  },
  {
   "cell_type": "code",
   "execution_count": 29,
   "id": "7b82b50c",
   "metadata": {},
   "outputs": [
    {
     "data": {
      "text/plain": [
       "[1.0, 0.75, 0.5, 0.5, 0.25, 0.25, 0.0, 0.0]"
      ]
     },
     "execution_count": 29,
     "metadata": {},
     "output_type": "execute_result"
    }
   ],
   "source": [
    "list_of_fpr"
   ]
  },
  {
   "cell_type": "code",
   "execution_count": 28,
   "id": "2cff0394",
   "metadata": {},
   "outputs": [
    {
     "data": {
      "image/png": "[encoded data removed]",
      "text/plain": [
       "<Figure size 432x288 with 1 Axes>"
      ]
     },
     "metadata": {
      "needs_background": "light"
     },
     "output_type": "display_data"
    }
   ],
   "source": [
    "plt.plot(list_of_fpr, list_of_tpr)\n",
    "plt.xlabel('FPR')\n",
    "plt.ylabel('TPR')\n",
    "plt.show()"
   ]
  },
  {
   "cell_type": "code",
   "execution_count": 9,
   "id": "9a34fa2d",
   "metadata": {},
   "outputs": [],
   "source": [
    "from sklearn.metrics import RocCurveDisplay, auc"
   ]
  },
  {
   "cell_type": "code",
   "execution_count": 59,
   "id": "78c27439",
   "metadata": {},
   "outputs": [],
   "source": [
    "fpr, tpr, thresholds = roc_curve(y, probs)"
   ]
  },
  {
   "cell_type": "code",
   "execution_count": 60,
   "id": "50cd596c",
   "metadata": {},
   "outputs": [
    {
     "data": {
      "text/plain": [
       "array([0.  , 0.  , 0.25, 0.25, 0.5 , 1.  ])"
      ]
     },
     "execution_count": 60,
     "metadata": {},
     "output_type": "execute_result"
    }
   ],
   "source": [
    "fpr"
   ]
  },
  {
   "cell_type": "code",
   "execution_count": 61,
   "id": "7d79c542",
   "metadata": {},
   "outputs": [
    {
     "data": {
      "text/plain": [
       "array([0.        , 0.33333333, 0.33333333, 0.66666667, 1.        ,\n",
       "       1.        ])"
      ]
     },
     "execution_count": 61,
     "metadata": {},
     "output_type": "execute_result"
    }
   ],
   "source": [
    "tpr"
   ]
  },
  {
   "cell_type": "code",
   "execution_count": 62,
   "id": "d0628c9f",
   "metadata": {},
   "outputs": [
    {
     "data": {
      "text/plain": [
       "array([1.6, 0.6, 0.5, 0.3, 0.2, 0. ])"
      ]
     },
     "execution_count": 62,
     "metadata": {},
     "output_type": "execute_result"
    }
   ],
   "source": [
    "thresholds"
   ]
  },
  {
   "cell_type": "code",
   "execution_count": 63,
   "id": "f42ca5d8",
   "metadata": {},
   "outputs": [],
   "source": [
    "roc_auc = auc(fpr, tpr)"
   ]
  },
  {
   "cell_type": "code",
   "execution_count": 64,
   "id": "6f6ffa77",
   "metadata": {},
   "outputs": [
    {
     "data": {
      "text/plain": [
       "<sklearn.metrics._plot.roc_curve.RocCurveDisplay at 0x7f48400c3950>"
      ]
     },
     "execution_count": 64,
     "metadata": {},
     "output_type": "execute_result"
    },
    {
     "data": {
      "image/png": "[encoded data removed]",
      "text/plain": [
       "<Figure size 432x288 with 1 Axes>"
      ]
     },
     "metadata": {
      "needs_background": "light"
     },
     "output_type": "display_data"
    }
   ],
   "source": [
    "display = RocCurveDisplay(fpr=fpr, tpr=tpr, roc_auc=roc_auc)\n",
    "display.plot()"
   ]
  },
  {
   "cell_type": "code",
   "execution_count": null,
   "id": "54964e1d",
   "metadata": {},
   "outputs": [],
   "source": []
  },
  {
   "cell_type": "code",
   "execution_count": null,
   "id": "f5836ccc",
   "metadata": {},
   "outputs": [],
   "source": []
  },
  {
   "cell_type": "code",
   "execution_count": null,
   "id": "26cc82b9",
   "metadata": {},
   "outputs": [],
   "source": []
  },
  {
   "cell_type": "code",
   "execution_count": null,
   "id": "bfc73b03",
   "metadata": {},
   "outputs": [],
   "source": []
  },
  {
   "cell_type": "code",
   "execution_count": 31,
   "id": "2b8ea22f",
   "metadata": {},
   "outputs": [
    {
     "data": {
      "text/plain": [
       "<sklearn.metrics._plot.roc_curve.RocCurveDisplay at 0x7f48413bef90>"
      ]
     },
     "execution_count": 31,
     "metadata": {},
     "output_type": "execute_result"
    },
    {
     "data": {
      "image/png": "[encoded data removed]",
      "text/plain": [
       "<Figure size 432x288 with 1 Axes>"
      ]
     },
     "metadata": {
      "needs_background": "light"
     },
     "output_type": "display_data"
    }
   ],
   "source": [
    "RocCurveDisplay.from_predictions([0, 1, 1, 1, 0, 0, 0, 1], [0, 1, 0, 1, 0, 1, 0, 1])"
   ]
  },
  {
   "cell_type": "code",
   "execution_count": null,
   "id": "b821613a",
   "metadata": {},
   "outputs": [],
   "source": []
  }
 ],
 "metadata": {
  "kernelspec": {
   "display_name": "Python 3 (ipykernel)",
   "language": "python",
   "name": "python3"
  },
  "language_info": {
   "codemirror_mode": {
    "name": "ipython",
    "version": 3
   },
   "file_extension": ".py",
   "mimetype": "text/x-python",
   "name": "python",
   "nbconvert_exporter": "python",
   "pygments_lexer": "ipython3",
   "version": "3.7.13"
  }
 },
 "nbformat": 4,
 "nbformat_minor": 5
}
