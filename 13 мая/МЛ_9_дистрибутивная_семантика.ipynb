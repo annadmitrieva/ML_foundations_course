{
  "nbformat": 4,
  "nbformat_minor": 0,
  "metadata": {
    "colab": {
      "provenance": [],
      "toc_visible": true
    },
    "kernelspec": {
      "name": "python3",
      "display_name": "Python 3"
    },
    "language_info": {
      "name": "python"
    },
    "widgets": {
      "application/vnd.jupyter.widget-state+json": {
        "3cd19c77f9b249d698b2d54c77da57d8": {
          "model_module": "@jupyter-widgets/controls",
          "model_name": "HBoxModel",
          "model_module_version": "1.5.0",
          "state": {
            "_dom_classes": [],
            "_model_module": "@jupyter-widgets/controls",
            "_model_module_version": "1.5.0",
            "_model_name": "HBoxModel",
            "_view_count": null,
            "_view_module": "@jupyter-widgets/controls",
            "_view_module_version": "1.5.0",
            "_view_name": "HBoxView",
            "box_style": "",
            "children": [
              "IPY_MODEL_2362cc9c061e4a408f7c2f63c6795b1b",
              "IPY_MODEL_903b34cbe0da4b579e2f56133c65aa3a",
              "IPY_MODEL_ab62a9270d1c4760a3ae49f783ba36bb"
            ],
            "layout": "IPY_MODEL_5b2f6b8d8689428186264985ff068d6d"
          }
        },
        "2362cc9c061e4a408f7c2f63c6795b1b": {
          "model_module": "@jupyter-widgets/controls",
          "model_name": "HTMLModel",
          "model_module_version": "1.5.0",
          "state": {
            "_dom_classes": [],
            "_model_module": "@jupyter-widgets/controls",
            "_model_module_version": "1.5.0",
            "_model_name": "HTMLModel",
            "_view_count": null,
            "_view_module": "@jupyter-widgets/controls",
            "_view_module_version": "1.5.0",
            "_view_name": "HTMLView",
            "description": "",
            "description_tooltip": null,
            "layout": "IPY_MODEL_db8d6d68921b4588b331bde3bc84d82e",
            "placeholder": "​",
            "style": "IPY_MODEL_470a52c19c3c4220a152f820ac9b3871",
            "value": "modules.json: 100%"
          }
        },
        "903b34cbe0da4b579e2f56133c65aa3a": {
          "model_module": "@jupyter-widgets/controls",
          "model_name": "FloatProgressModel",
          "model_module_version": "1.5.0",
          "state": {
            "_dom_classes": [],
            "_model_module": "@jupyter-widgets/controls",
            "_model_module_version": "1.5.0",
            "_model_name": "FloatProgressModel",
            "_view_count": null,
            "_view_module": "@jupyter-widgets/controls",
            "_view_module_version": "1.5.0",
            "_view_name": "ProgressView",
            "bar_style": "success",
            "description": "",
            "description_tooltip": null,
            "layout": "IPY_MODEL_c666d6ee5cfa49bd8eaa36f789c89166",
            "max": 341,
            "min": 0,
            "orientation": "horizontal",
            "style": "IPY_MODEL_aeaa85d55cc84000b716b9b0706cc148",
            "value": 341
          }
        },
        "ab62a9270d1c4760a3ae49f783ba36bb": {
          "model_module": "@jupyter-widgets/controls",
          "model_name": "HTMLModel",
          "model_module_version": "1.5.0",
          "state": {
            "_dom_classes": [],
            "_model_module": "@jupyter-widgets/controls",
            "_model_module_version": "1.5.0",
            "_model_name": "HTMLModel",
            "_view_count": null,
            "_view_module": "@jupyter-widgets/controls",
            "_view_module_version": "1.5.0",
            "_view_name": "HTMLView",
            "description": "",
            "description_tooltip": null,
            "layout": "IPY_MODEL_b051b611549b4b4dae12806213e429d2",
            "placeholder": "​",
            "style": "IPY_MODEL_1bafa0b64a4f4338bbcb2cd22b04f2f1",
            "value": " 341/341 [00:00&lt;00:00, 5.92kB/s]"
          }
        },
        "5b2f6b8d8689428186264985ff068d6d": {
          "model_module": "@jupyter-widgets/base",
          "model_name": "LayoutModel",
          "model_module_version": "1.2.0",
          "state": {
            "_model_module": "@jupyter-widgets/base",
            "_model_module_version": "1.2.0",
            "_model_name": "LayoutModel",
            "_view_count": null,
            "_view_module": "@jupyter-widgets/base",
            "_view_module_version": "1.2.0",
            "_view_name": "LayoutView",
            "align_content": null,
            "align_items": null,
            "align_self": null,
            "border": null,
            "bottom": null,
            "display": null,
            "flex": null,
            "flex_flow": null,
            "grid_area": null,
            "grid_auto_columns": null,
            "grid_auto_flow": null,
            "grid_auto_rows": null,
            "grid_column": null,
            "grid_gap": null,
            "grid_row": null,
            "grid_template_areas": null,
            "grid_template_columns": null,
            "grid_template_rows": null,
            "height": null,
            "justify_content": null,
            "justify_items": null,
            "left": null,
            "margin": null,
            "max_height": null,
            "max_width": null,
            "min_height": null,
            "min_width": null,
            "object_fit": null,
            "object_position": null,
            "order": null,
            "overflow": null,
            "overflow_x": null,
            "overflow_y": null,
            "padding": null,
            "right": null,
            "top": null,
            "visibility": null,
            "width": null
          }
        },
        "db8d6d68921b4588b331bde3bc84d82e": {
          "model_module": "@jupyter-widgets/base",
          "model_name": "LayoutModel",
          "model_module_version": "1.2.0",
          "state": {
            "_model_module": "@jupyter-widgets/base",
            "_model_module_version": "1.2.0",
            "_model_name": "LayoutModel",
            "_view_count": null,
            "_view_module": "@jupyter-widgets/base",
            "_view_module_version": "1.2.0",
            "_view_name": "LayoutView",
            "align_content": null,
            "align_items": null,
            "align_self": null,
            "border": null,
            "bottom": null,
            "display": null,
            "flex": null,
            "flex_flow": null,
            "grid_area": null,
            "grid_auto_columns": null,
            "grid_auto_flow": null,
            "grid_auto_rows": null,
            "grid_column": null,
            "grid_gap": null,
            "grid_row": null,
            "grid_template_areas": null,
            "grid_template_columns": null,
            "grid_template_rows": null,
            "height": null,
            "justify_content": null,
            "justify_items": null,
            "left": null,
            "margin": null,
            "max_height": null,
            "max_width": null,
            "min_height": null,
            "min_width": null,
            "object_fit": null,
            "object_position": null,
            "order": null,
            "overflow": null,
            "overflow_x": null,
            "overflow_y": null,
            "padding": null,
            "right": null,
            "top": null,
            "visibility": null,
            "width": null
          }
        },
        "470a52c19c3c4220a152f820ac9b3871": {
          "model_module": "@jupyter-widgets/controls",
          "model_name": "DescriptionStyleModel",
          "model_module_version": "1.5.0",
          "state": {
            "_model_module": "@jupyter-widgets/controls",
            "_model_module_version": "1.5.0",
            "_model_name": "DescriptionStyleModel",
            "_view_count": null,
            "_view_module": "@jupyter-widgets/base",
            "_view_module_version": "1.2.0",
            "_view_name": "StyleView",
            "description_width": ""
          }
        },
        "c666d6ee5cfa49bd8eaa36f789c89166": {
          "model_module": "@jupyter-widgets/base",
          "model_name": "LayoutModel",
          "model_module_version": "1.2.0",
          "state": {
            "_model_module": "@jupyter-widgets/base",
            "_model_module_version": "1.2.0",
            "_model_name": "LayoutModel",
            "_view_count": null,
            "_view_module": "@jupyter-widgets/base",
            "_view_module_version": "1.2.0",
            "_view_name": "LayoutView",
            "align_content": null,
            "align_items": null,
            "align_self": null,
            "border": null,
            "bottom": null,
            "display": null,
            "flex": null,
            "flex_flow": null,
            "grid_area": null,
            "grid_auto_columns": null,
            "grid_auto_flow": null,
            "grid_auto_rows": null,
            "grid_column": null,
            "grid_gap": null,
            "grid_row": null,
            "grid_template_areas": null,
            "grid_template_columns": null,
            "grid_template_rows": null,
            "height": null,
            "justify_content": null,
            "justify_items": null,
            "left": null,
            "margin": null,
            "max_height": null,
            "max_width": null,
            "min_height": null,
            "min_width": null,
            "object_fit": null,
            "object_position": null,
            "order": null,
            "overflow": null,
            "overflow_x": null,
            "overflow_y": null,
            "padding": null,
            "right": null,
            "top": null,
            "visibility": null,
            "width": null
          }
        },
        "aeaa85d55cc84000b716b9b0706cc148": {
          "model_module": "@jupyter-widgets/controls",
          "model_name": "ProgressStyleModel",
          "model_module_version": "1.5.0",
          "state": {
            "_model_module": "@jupyter-widgets/controls",
            "_model_module_version": "1.5.0",
            "_model_name": "ProgressStyleModel",
            "_view_count": null,
            "_view_module": "@jupyter-widgets/base",
            "_view_module_version": "1.2.0",
            "_view_name": "StyleView",
            "bar_color": null,
            "description_width": ""
          }
        },
        "b051b611549b4b4dae12806213e429d2": {
          "model_module": "@jupyter-widgets/base",
          "model_name": "LayoutModel",
          "model_module_version": "1.2.0",
          "state": {
            "_model_module": "@jupyter-widgets/base",
            "_model_module_version": "1.2.0",
            "_model_name": "LayoutModel",
            "_view_count": null,
            "_view_module": "@jupyter-widgets/base",
            "_view_module_version": "1.2.0",
            "_view_name": "LayoutView",
            "align_content": null,
            "align_items": null,
            "align_self": null,
            "border": null,
            "bottom": null,
            "display": null,
            "flex": null,
            "flex_flow": null,
            "grid_area": null,
            "grid_auto_columns": null,
            "grid_auto_flow": null,
            "grid_auto_rows": null,
            "grid_column": null,
            "grid_gap": null,
            "grid_row": null,
            "grid_template_areas": null,
            "grid_template_columns": null,
            "grid_template_rows": null,
            "height": null,
            "justify_content": null,
            "justify_items": null,
            "left": null,
            "margin": null,
            "max_height": null,
            "max_width": null,
            "min_height": null,
            "min_width": null,
            "object_fit": null,
            "object_position": null,
            "order": null,
            "overflow": null,
            "overflow_x": null,
            "overflow_y": null,
            "padding": null,
            "right": null,
            "top": null,
            "visibility": null,
            "width": null
          }
        },
        "1bafa0b64a4f4338bbcb2cd22b04f2f1": {
          "model_module": "@jupyter-widgets/controls",
          "model_name": "DescriptionStyleModel",
          "model_module_version": "1.5.0",
          "state": {
            "_model_module": "@jupyter-widgets/controls",
            "_model_module_version": "1.5.0",
            "_model_name": "DescriptionStyleModel",
            "_view_count": null,
            "_view_module": "@jupyter-widgets/base",
            "_view_module_version": "1.2.0",
            "_view_name": "StyleView",
            "description_width": ""
          }
        },
        "f876a448c8174b08a235e8361defbb0e": {
          "model_module": "@jupyter-widgets/controls",
          "model_name": "HBoxModel",
          "model_module_version": "1.5.0",
          "state": {
            "_dom_classes": [],
            "_model_module": "@jupyter-widgets/controls",
            "_model_module_version": "1.5.0",
            "_model_name": "HBoxModel",
            "_view_count": null,
            "_view_module": "@jupyter-widgets/controls",
            "_view_module_version": "1.5.0",
            "_view_name": "HBoxView",
            "box_style": "",
            "children": [
              "IPY_MODEL_14128061bcbe40229a0bfa775cdd9ca8",
              "IPY_MODEL_00ba71ba6b364f7f9f45debb2cd75832",
              "IPY_MODEL_66de61b4d1064875a8ab04badee94c31"
            ],
            "layout": "IPY_MODEL_18ef783dcbe042c0a48e02c46818c05c"
          }
        },
        "14128061bcbe40229a0bfa775cdd9ca8": {
          "model_module": "@jupyter-widgets/controls",
          "model_name": "HTMLModel",
          "model_module_version": "1.5.0",
          "state": {
            "_dom_classes": [],
            "_model_module": "@jupyter-widgets/controls",
            "_model_module_version": "1.5.0",
            "_model_name": "HTMLModel",
            "_view_count": null,
            "_view_module": "@jupyter-widgets/controls",
            "_view_module_version": "1.5.0",
            "_view_name": "HTMLView",
            "description": "",
            "description_tooltip": null,
            "layout": "IPY_MODEL_81139deb25f3483d9b0063840e59b969",
            "placeholder": "​",
            "style": "IPY_MODEL_6ac79b25c95844fabd619c240af7df9d",
            "value": "config_sentence_transformers.json: 100%"
          }
        },
        "00ba71ba6b364f7f9f45debb2cd75832": {
          "model_module": "@jupyter-widgets/controls",
          "model_name": "FloatProgressModel",
          "model_module_version": "1.5.0",
          "state": {
            "_dom_classes": [],
            "_model_module": "@jupyter-widgets/controls",
            "_model_module_version": "1.5.0",
            "_model_name": "FloatProgressModel",
            "_view_count": null,
            "_view_module": "@jupyter-widgets/controls",
            "_view_module_version": "1.5.0",
            "_view_name": "ProgressView",
            "bar_style": "success",
            "description": "",
            "description_tooltip": null,
            "layout": "IPY_MODEL_ca94e10b8e774b9ba3d1e5042a376623",
            "max": 122,
            "min": 0,
            "orientation": "horizontal",
            "style": "IPY_MODEL_1614ac2b086848edb954aee21417f2d6",
            "value": 122
          }
        },
        "66de61b4d1064875a8ab04badee94c31": {
          "model_module": "@jupyter-widgets/controls",
          "model_name": "HTMLModel",
          "model_module_version": "1.5.0",
          "state": {
            "_dom_classes": [],
            "_model_module": "@jupyter-widgets/controls",
            "_model_module_version": "1.5.0",
            "_model_name": "HTMLModel",
            "_view_count": null,
            "_view_module": "@jupyter-widgets/controls",
            "_view_module_version": "1.5.0",
            "_view_name": "HTMLView",
            "description": "",
            "description_tooltip": null,
            "layout": "IPY_MODEL_7805b4eba52c44a187c9f3a8f9965a6a",
            "placeholder": "​",
            "style": "IPY_MODEL_c108ffd1f4d6427fa26359cb124bc7e4",
            "value": " 122/122 [00:00&lt;00:00, 1.62kB/s]"
          }
        },
        "18ef783dcbe042c0a48e02c46818c05c": {
          "model_module": "@jupyter-widgets/base",
          "model_name": "LayoutModel",
          "model_module_version": "1.2.0",
          "state": {
            "_model_module": "@jupyter-widgets/base",
            "_model_module_version": "1.2.0",
            "_model_name": "LayoutModel",
            "_view_count": null,
            "_view_module": "@jupyter-widgets/base",
            "_view_module_version": "1.2.0",
            "_view_name": "LayoutView",
            "align_content": null,
            "align_items": null,
            "align_self": null,
            "border": null,
            "bottom": null,
            "display": null,
            "flex": null,
            "flex_flow": null,
            "grid_area": null,
            "grid_auto_columns": null,
            "grid_auto_flow": null,
            "grid_auto_rows": null,
            "grid_column": null,
            "grid_gap": null,
            "grid_row": null,
            "grid_template_areas": null,
            "grid_template_columns": null,
            "grid_template_rows": null,
            "height": null,
            "justify_content": null,
            "justify_items": null,
            "left": null,
            "margin": null,
            "max_height": null,
            "max_width": null,
            "min_height": null,
            "min_width": null,
            "object_fit": null,
            "object_position": null,
            "order": null,
            "overflow": null,
            "overflow_x": null,
            "overflow_y": null,
            "padding": null,
            "right": null,
            "top": null,
            "visibility": null,
            "width": null
          }
        },
        "81139deb25f3483d9b0063840e59b969": {
          "model_module": "@jupyter-widgets/base",
          "model_name": "LayoutModel",
          "model_module_version": "1.2.0",
          "state": {
            "_model_module": "@jupyter-widgets/base",
            "_model_module_version": "1.2.0",
            "_model_name": "LayoutModel",
            "_view_count": null,
            "_view_module": "@jupyter-widgets/base",
            "_view_module_version": "1.2.0",
            "_view_name": "LayoutView",
            "align_content": null,
            "align_items": null,
            "align_self": null,
            "border": null,
            "bottom": null,
            "display": null,
            "flex": null,
            "flex_flow": null,
            "grid_area": null,
            "grid_auto_columns": null,
            "grid_auto_flow": null,
            "grid_auto_rows": null,
            "grid_column": null,
            "grid_gap": null,
            "grid_row": null,
            "grid_template_areas": null,
            "grid_template_columns": null,
            "grid_template_rows": null,
            "height": null,
            "justify_content": null,
            "justify_items": null,
            "left": null,
            "margin": null,
            "max_height": null,
            "max_width": null,
            "min_height": null,
            "min_width": null,
            "object_fit": null,
            "object_position": null,
            "order": null,
            "overflow": null,
            "overflow_x": null,
            "overflow_y": null,
            "padding": null,
            "right": null,
            "top": null,
            "visibility": null,
            "width": null
          }
        },
        "6ac79b25c95844fabd619c240af7df9d": {
          "model_module": "@jupyter-widgets/controls",
          "model_name": "DescriptionStyleModel",
          "model_module_version": "1.5.0",
          "state": {
            "_model_module": "@jupyter-widgets/controls",
            "_model_module_version": "1.5.0",
            "_model_name": "DescriptionStyleModel",
            "_view_count": null,
            "_view_module": "@jupyter-widgets/base",
            "_view_module_version": "1.2.0",
            "_view_name": "StyleView",
            "description_width": ""
          }
        },
        "ca94e10b8e774b9ba3d1e5042a376623": {
          "model_module": "@jupyter-widgets/base",
          "model_name": "LayoutModel",
          "model_module_version": "1.2.0",
          "state": {
            "_model_module": "@jupyter-widgets/base",
            "_model_module_version": "1.2.0",
            "_model_name": "LayoutModel",
            "_view_count": null,
            "_view_module": "@jupyter-widgets/base",
            "_view_module_version": "1.2.0",
            "_view_name": "LayoutView",
            "align_content": null,
            "align_items": null,
            "align_self": null,
            "border": null,
            "bottom": null,
            "display": null,
            "flex": null,
            "flex_flow": null,
            "grid_area": null,
            "grid_auto_columns": null,
            "grid_auto_flow": null,
            "grid_auto_rows": null,
            "grid_column": null,
            "grid_gap": null,
            "grid_row": null,
            "grid_template_areas": null,
            "grid_template_columns": null,
            "grid_template_rows": null,
            "height": null,
            "justify_content": null,
            "justify_items": null,
            "left": null,
            "margin": null,
            "max_height": null,
            "max_width": null,
            "min_height": null,
            "min_width": null,
            "object_fit": null,
            "object_position": null,
            "order": null,
            "overflow": null,
            "overflow_x": null,
            "overflow_y": null,
            "padding": null,
            "right": null,
            "top": null,
            "visibility": null,
            "width": null
          }
        },
        "1614ac2b086848edb954aee21417f2d6": {
          "model_module": "@jupyter-widgets/controls",
          "model_name": "ProgressStyleModel",
          "model_module_version": "1.5.0",
          "state": {
            "_model_module": "@jupyter-widgets/controls",
            "_model_module_version": "1.5.0",
            "_model_name": "ProgressStyleModel",
            "_view_count": null,
            "_view_module": "@jupyter-widgets/base",
            "_view_module_version": "1.2.0",
            "_view_name": "StyleView",
            "bar_color": null,
            "description_width": ""
          }
        },
        "7805b4eba52c44a187c9f3a8f9965a6a": {
          "model_module": "@jupyter-widgets/base",
          "model_name": "LayoutModel",
          "model_module_version": "1.2.0",
          "state": {
            "_model_module": "@jupyter-widgets/base",
            "_model_module_version": "1.2.0",
            "_model_name": "LayoutModel",
            "_view_count": null,
            "_view_module": "@jupyter-widgets/base",
            "_view_module_version": "1.2.0",
            "_view_name": "LayoutView",
            "align_content": null,
            "align_items": null,
            "align_self": null,
            "border": null,
            "bottom": null,
            "display": null,
            "flex": null,
            "flex_flow": null,
            "grid_area": null,
            "grid_auto_columns": null,
            "grid_auto_flow": null,
            "grid_auto_rows": null,
            "grid_column": null,
            "grid_gap": null,
            "grid_row": null,
            "grid_template_areas": null,
            "grid_template_columns": null,
            "grid_template_rows": null,
            "height": null,
            "justify_content": null,
            "justify_items": null,
            "left": null,
            "margin": null,
            "max_height": null,
            "max_width": null,
            "min_height": null,
            "min_width": null,
            "object_fit": null,
            "object_position": null,
            "order": null,
            "overflow": null,
            "overflow_x": null,
            "overflow_y": null,
            "padding": null,
            "right": null,
            "top": null,
            "visibility": null,
            "width": null
          }
        },
        "c108ffd1f4d6427fa26359cb124bc7e4": {
          "model_module": "@jupyter-widgets/controls",
          "model_name": "DescriptionStyleModel",
          "model_module_version": "1.5.0",
          "state": {
            "_model_module": "@jupyter-widgets/controls",
            "_model_module_version": "1.5.0",
            "_model_name": "DescriptionStyleModel",
            "_view_count": null,
            "_view_module": "@jupyter-widgets/base",
            "_view_module_version": "1.2.0",
            "_view_name": "StyleView",
            "description_width": ""
          }
        },
        "c5c5c6f9cc664272a3930899adeeeca0": {
          "model_module": "@jupyter-widgets/controls",
          "model_name": "HBoxModel",
          "model_module_version": "1.5.0",
          "state": {
            "_dom_classes": [],
            "_model_module": "@jupyter-widgets/controls",
            "_model_module_version": "1.5.0",
            "_model_name": "HBoxModel",
            "_view_count": null,
            "_view_module": "@jupyter-widgets/controls",
            "_view_module_version": "1.5.0",
            "_view_name": "HBoxView",
            "box_style": "",
            "children": [
              "IPY_MODEL_8a12647e52e24ab1b5358be82aafd54f",
              "IPY_MODEL_c07970db0b734fad9f038de1e7e86745",
              "IPY_MODEL_6d51bc61e3cf43d68ab1a93462636d6c"
            ],
            "layout": "IPY_MODEL_6470891324404017beecff2504b5083d"
          }
        },
        "8a12647e52e24ab1b5358be82aafd54f": {
          "model_module": "@jupyter-widgets/controls",
          "model_name": "HTMLModel",
          "model_module_version": "1.5.0",
          "state": {
            "_dom_classes": [],
            "_model_module": "@jupyter-widgets/controls",
            "_model_module_version": "1.5.0",
            "_model_name": "HTMLModel",
            "_view_count": null,
            "_view_module": "@jupyter-widgets/controls",
            "_view_module_version": "1.5.0",
            "_view_name": "HTMLView",
            "description": "",
            "description_tooltip": null,
            "layout": "IPY_MODEL_f8900f812a8c47fca24d3fb43bce7a93",
            "placeholder": "​",
            "style": "IPY_MODEL_7f807ec5f6b74664af1ee081538fe1e8",
            "value": "README.md: 100%"
          }
        },
        "c07970db0b734fad9f038de1e7e86745": {
          "model_module": "@jupyter-widgets/controls",
          "model_name": "FloatProgressModel",
          "model_module_version": "1.5.0",
          "state": {
            "_dom_classes": [],
            "_model_module": "@jupyter-widgets/controls",
            "_model_module_version": "1.5.0",
            "_model_name": "FloatProgressModel",
            "_view_count": null,
            "_view_module": "@jupyter-widgets/controls",
            "_view_module_version": "1.5.0",
            "_view_name": "ProgressView",
            "bar_style": "success",
            "description": "",
            "description_tooltip": null,
            "layout": "IPY_MODEL_68cb31ca5bbd4d33a3d23a3fb3b63579",
            "max": 2694,
            "min": 0,
            "orientation": "horizontal",
            "style": "IPY_MODEL_1c09cf8ae6864f71b33e046d97b91c09",
            "value": 2694
          }
        },
        "6d51bc61e3cf43d68ab1a93462636d6c": {
          "model_module": "@jupyter-widgets/controls",
          "model_name": "HTMLModel",
          "model_module_version": "1.5.0",
          "state": {
            "_dom_classes": [],
            "_model_module": "@jupyter-widgets/controls",
            "_model_module_version": "1.5.0",
            "_model_name": "HTMLModel",
            "_view_count": null,
            "_view_module": "@jupyter-widgets/controls",
            "_view_module_version": "1.5.0",
            "_view_name": "HTMLView",
            "description": "",
            "description_tooltip": null,
            "layout": "IPY_MODEL_40954dcd5a544ef0a1059cb0357331ce",
            "placeholder": "​",
            "style": "IPY_MODEL_6da8cd4211b84df9a13774377893e480",
            "value": " 2.69k/2.69k [00:00&lt;00:00, 57.2kB/s]"
          }
        },
        "6470891324404017beecff2504b5083d": {
          "model_module": "@jupyter-widgets/base",
          "model_name": "LayoutModel",
          "model_module_version": "1.2.0",
          "state": {
            "_model_module": "@jupyter-widgets/base",
            "_model_module_version": "1.2.0",
            "_model_name": "LayoutModel",
            "_view_count": null,
            "_view_module": "@jupyter-widgets/base",
            "_view_module_version": "1.2.0",
            "_view_name": "LayoutView",
            "align_content": null,
            "align_items": null,
            "align_self": null,
            "border": null,
            "bottom": null,
            "display": null,
            "flex": null,
            "flex_flow": null,
            "grid_area": null,
            "grid_auto_columns": null,
            "grid_auto_flow": null,
            "grid_auto_rows": null,
            "grid_column": null,
            "grid_gap": null,
            "grid_row": null,
            "grid_template_areas": null,
            "grid_template_columns": null,
            "grid_template_rows": null,
            "height": null,
            "justify_content": null,
            "justify_items": null,
            "left": null,
            "margin": null,
            "max_height": null,
            "max_width": null,
            "min_height": null,
            "min_width": null,
            "object_fit": null,
            "object_position": null,
            "order": null,
            "overflow": null,
            "overflow_x": null,
            "overflow_y": null,
            "padding": null,
            "right": null,
            "top": null,
            "visibility": null,
            "width": null
          }
        },
        "f8900f812a8c47fca24d3fb43bce7a93": {
          "model_module": "@jupyter-widgets/base",
          "model_name": "LayoutModel",
          "model_module_version": "1.2.0",
          "state": {
            "_model_module": "@jupyter-widgets/base",
            "_model_module_version": "1.2.0",
            "_model_name": "LayoutModel",
            "_view_count": null,
            "_view_module": "@jupyter-widgets/base",
            "_view_module_version": "1.2.0",
            "_view_name": "LayoutView",
            "align_content": null,
            "align_items": null,
            "align_self": null,
            "border": null,
            "bottom": null,
            "display": null,
            "flex": null,
            "flex_flow": null,
            "grid_area": null,
            "grid_auto_columns": null,
            "grid_auto_flow": null,
            "grid_auto_rows": null,
            "grid_column": null,
            "grid_gap": null,
            "grid_row": null,
            "grid_template_areas": null,
            "grid_template_columns": null,
            "grid_template_rows": null,
            "height": null,
            "justify_content": null,
            "justify_items": null,
            "left": null,
            "margin": null,
            "max_height": null,
            "max_width": null,
            "min_height": null,
            "min_width": null,
            "object_fit": null,
            "object_position": null,
            "order": null,
            "overflow": null,
            "overflow_x": null,
            "overflow_y": null,
            "padding": null,
            "right": null,
            "top": null,
            "visibility": null,
            "width": null
          }
        },
        "7f807ec5f6b74664af1ee081538fe1e8": {
          "model_module": "@jupyter-widgets/controls",
          "model_name": "DescriptionStyleModel",
          "model_module_version": "1.5.0",
          "state": {
            "_model_module": "@jupyter-widgets/controls",
            "_model_module_version": "1.5.0",
            "_model_name": "DescriptionStyleModel",
            "_view_count": null,
            "_view_module": "@jupyter-widgets/base",
            "_view_module_version": "1.2.0",
            "_view_name": "StyleView",
            "description_width": ""
          }
        },
        "68cb31ca5bbd4d33a3d23a3fb3b63579": {
          "model_module": "@jupyter-widgets/base",
          "model_name": "LayoutModel",
          "model_module_version": "1.2.0",
          "state": {
            "_model_module": "@jupyter-widgets/base",
            "_model_module_version": "1.2.0",
            "_model_name": "LayoutModel",
            "_view_count": null,
            "_view_module": "@jupyter-widgets/base",
            "_view_module_version": "1.2.0",
            "_view_name": "LayoutView",
            "align_content": null,
            "align_items": null,
            "align_self": null,
            "border": null,
            "bottom": null,
            "display": null,
            "flex": null,
            "flex_flow": null,
            "grid_area": null,
            "grid_auto_columns": null,
            "grid_auto_flow": null,
            "grid_auto_rows": null,
            "grid_column": null,
            "grid_gap": null,
            "grid_row": null,
            "grid_template_areas": null,
            "grid_template_columns": null,
            "grid_template_rows": null,
            "height": null,
            "justify_content": null,
            "justify_items": null,
            "left": null,
            "margin": null,
            "max_height": null,
            "max_width": null,
            "min_height": null,
            "min_width": null,
            "object_fit": null,
            "object_position": null,
            "order": null,
            "overflow": null,
            "overflow_x": null,
            "overflow_y": null,
            "padding": null,
            "right": null,
            "top": null,
            "visibility": null,
            "width": null
          }
        },
        "1c09cf8ae6864f71b33e046d97b91c09": {
          "model_module": "@jupyter-widgets/controls",
          "model_name": "ProgressStyleModel",
          "model_module_version": "1.5.0",
          "state": {
            "_model_module": "@jupyter-widgets/controls",
            "_model_module_version": "1.5.0",
            "_model_name": "ProgressStyleModel",
            "_view_count": null,
            "_view_module": "@jupyter-widgets/base",
            "_view_module_version": "1.2.0",
            "_view_name": "StyleView",
            "bar_color": null,
            "description_width": ""
          }
        },
        "40954dcd5a544ef0a1059cb0357331ce": {
          "model_module": "@jupyter-widgets/base",
          "model_name": "LayoutModel",
          "model_module_version": "1.2.0",
          "state": {
            "_model_module": "@jupyter-widgets/base",
            "_model_module_version": "1.2.0",
            "_model_name": "LayoutModel",
            "_view_count": null,
            "_view_module": "@jupyter-widgets/base",
            "_view_module_version": "1.2.0",
            "_view_name": "LayoutView",
            "align_content": null,
            "align_items": null,
            "align_self": null,
            "border": null,
            "bottom": null,
            "display": null,
            "flex": null,
            "flex_flow": null,
            "grid_area": null,
            "grid_auto_columns": null,
            "grid_auto_flow": null,
            "grid_auto_rows": null,
            "grid_column": null,
            "grid_gap": null,
            "grid_row": null,
            "grid_template_areas": null,
            "grid_template_columns": null,
            "grid_template_rows": null,
            "height": null,
            "justify_content": null,
            "justify_items": null,
            "left": null,
            "margin": null,
            "max_height": null,
            "max_width": null,
            "min_height": null,
            "min_width": null,
            "object_fit": null,
            "object_position": null,
            "order": null,
            "overflow": null,
            "overflow_x": null,
            "overflow_y": null,
            "padding": null,
            "right": null,
            "top": null,
            "visibility": null,
            "width": null
          }
        },
        "6da8cd4211b84df9a13774377893e480": {
          "model_module": "@jupyter-widgets/controls",
          "model_name": "DescriptionStyleModel",
          "model_module_version": "1.5.0",
          "state": {
            "_model_module": "@jupyter-widgets/controls",
            "_model_module_version": "1.5.0",
            "_model_name": "DescriptionStyleModel",
            "_view_count": null,
            "_view_module": "@jupyter-widgets/base",
            "_view_module_version": "1.2.0",
            "_view_name": "StyleView",
            "description_width": ""
          }
        },
        "d401c1b8368d46769d9943fa7f5c7f20": {
          "model_module": "@jupyter-widgets/controls",
          "model_name": "HBoxModel",
          "model_module_version": "1.5.0",
          "state": {
            "_dom_classes": [],
            "_model_module": "@jupyter-widgets/controls",
            "_model_module_version": "1.5.0",
            "_model_name": "HBoxModel",
            "_view_count": null,
            "_view_module": "@jupyter-widgets/controls",
            "_view_module_version": "1.5.0",
            "_view_name": "HBoxView",
            "box_style": "",
            "children": [
              "IPY_MODEL_54420bf6bc584913a8c741d56f686cb6",
              "IPY_MODEL_d4eaf3a0415a4cfa89e08bdc9567b79f",
              "IPY_MODEL_6d4ea724ca564914873ba1bf004b2679"
            ],
            "layout": "IPY_MODEL_fe3d6cad5f6d44d0816bfb54c2ea2e2d"
          }
        },
        "54420bf6bc584913a8c741d56f686cb6": {
          "model_module": "@jupyter-widgets/controls",
          "model_name": "HTMLModel",
          "model_module_version": "1.5.0",
          "state": {
            "_dom_classes": [],
            "_model_module": "@jupyter-widgets/controls",
            "_model_module_version": "1.5.0",
            "_model_name": "HTMLModel",
            "_view_count": null,
            "_view_module": "@jupyter-widgets/controls",
            "_view_module_version": "1.5.0",
            "_view_name": "HTMLView",
            "description": "",
            "description_tooltip": null,
            "layout": "IPY_MODEL_2d0a8b3514fe48998de440eb9e51693a",
            "placeholder": "​",
            "style": "IPY_MODEL_67f450d412b84094bb25135fec3d965b",
            "value": "sentence_bert_config.json: 100%"
          }
        },
        "d4eaf3a0415a4cfa89e08bdc9567b79f": {
          "model_module": "@jupyter-widgets/controls",
          "model_name": "FloatProgressModel",
          "model_module_version": "1.5.0",
          "state": {
            "_dom_classes": [],
            "_model_module": "@jupyter-widgets/controls",
            "_model_module_version": "1.5.0",
            "_model_name": "FloatProgressModel",
            "_view_count": null,
            "_view_module": "@jupyter-widgets/controls",
            "_view_module_version": "1.5.0",
            "_view_name": "ProgressView",
            "bar_style": "success",
            "description": "",
            "description_tooltip": null,
            "layout": "IPY_MODEL_13c164d0ece64776a4315d7bbb3ab123",
            "max": 53,
            "min": 0,
            "orientation": "horizontal",
            "style": "IPY_MODEL_9ae28dcb82484836a5a941980a7dae8d",
            "value": 53
          }
        },
        "6d4ea724ca564914873ba1bf004b2679": {
          "model_module": "@jupyter-widgets/controls",
          "model_name": "HTMLModel",
          "model_module_version": "1.5.0",
          "state": {
            "_dom_classes": [],
            "_model_module": "@jupyter-widgets/controls",
            "_model_module_version": "1.5.0",
            "_model_name": "HTMLModel",
            "_view_count": null,
            "_view_module": "@jupyter-widgets/controls",
            "_view_module_version": "1.5.0",
            "_view_name": "HTMLView",
            "description": "",
            "description_tooltip": null,
            "layout": "IPY_MODEL_c4f6dd43e71043849da1841a3889cd24",
            "placeholder": "​",
            "style": "IPY_MODEL_612395f52fd9466190eda86cbfa13d67",
            "value": " 53.0/53.0 [00:00&lt;00:00, 891B/s]"
          }
        },
        "fe3d6cad5f6d44d0816bfb54c2ea2e2d": {
          "model_module": "@jupyter-widgets/base",
          "model_name": "LayoutModel",
          "model_module_version": "1.2.0",
          "state": {
            "_model_module": "@jupyter-widgets/base",
            "_model_module_version": "1.2.0",
            "_model_name": "LayoutModel",
            "_view_count": null,
            "_view_module": "@jupyter-widgets/base",
            "_view_module_version": "1.2.0",
            "_view_name": "LayoutView",
            "align_content": null,
            "align_items": null,
            "align_self": null,
            "border": null,
            "bottom": null,
            "display": null,
            "flex": null,
            "flex_flow": null,
            "grid_area": null,
            "grid_auto_columns": null,
            "grid_auto_flow": null,
            "grid_auto_rows": null,
            "grid_column": null,
            "grid_gap": null,
            "grid_row": null,
            "grid_template_areas": null,
            "grid_template_columns": null,
            "grid_template_rows": null,
            "height": null,
            "justify_content": null,
            "justify_items": null,
            "left": null,
            "margin": null,
            "max_height": null,
            "max_width": null,
            "min_height": null,
            "min_width": null,
            "object_fit": null,
            "object_position": null,
            "order": null,
            "overflow": null,
            "overflow_x": null,
            "overflow_y": null,
            "padding": null,
            "right": null,
            "top": null,
            "visibility": null,
            "width": null
          }
        },
        "2d0a8b3514fe48998de440eb9e51693a": {
          "model_module": "@jupyter-widgets/base",
          "model_name": "LayoutModel",
          "model_module_version": "1.2.0",
          "state": {
            "_model_module": "@jupyter-widgets/base",
            "_model_module_version": "1.2.0",
            "_model_name": "LayoutModel",
            "_view_count": null,
            "_view_module": "@jupyter-widgets/base",
            "_view_module_version": "1.2.0",
            "_view_name": "LayoutView",
            "align_content": null,
            "align_items": null,
            "align_self": null,
            "border": null,
            "bottom": null,
            "display": null,
            "flex": null,
            "flex_flow": null,
            "grid_area": null,
            "grid_auto_columns": null,
            "grid_auto_flow": null,
            "grid_auto_rows": null,
            "grid_column": null,
            "grid_gap": null,
            "grid_row": null,
            "grid_template_areas": null,
            "grid_template_columns": null,
            "grid_template_rows": null,
            "height": null,
            "justify_content": null,
            "justify_items": null,
            "left": null,
            "margin": null,
            "max_height": null,
            "max_width": null,
            "min_height": null,
            "min_width": null,
            "object_fit": null,
            "object_position": null,
            "order": null,
            "overflow": null,
            "overflow_x": null,
            "overflow_y": null,
            "padding": null,
            "right": null,
            "top": null,
            "visibility": null,
            "width": null
          }
        },
        "67f450d412b84094bb25135fec3d965b": {
          "model_module": "@jupyter-widgets/controls",
          "model_name": "DescriptionStyleModel",
          "model_module_version": "1.5.0",
          "state": {
            "_model_module": "@jupyter-widgets/controls",
            "_model_module_version": "1.5.0",
            "_model_name": "DescriptionStyleModel",
            "_view_count": null,
            "_view_module": "@jupyter-widgets/base",
            "_view_module_version": "1.2.0",
            "_view_name": "StyleView",
            "description_width": ""
          }
        },
        "13c164d0ece64776a4315d7bbb3ab123": {
          "model_module": "@jupyter-widgets/base",
          "model_name": "LayoutModel",
          "model_module_version": "1.2.0",
          "state": {
            "_model_module": "@jupyter-widgets/base",
            "_model_module_version": "1.2.0",
            "_model_name": "LayoutModel",
            "_view_count": null,
            "_view_module": "@jupyter-widgets/base",
            "_view_module_version": "1.2.0",
            "_view_name": "LayoutView",
            "align_content": null,
            "align_items": null,
            "align_self": null,
            "border": null,
            "bottom": null,
            "display": null,
            "flex": null,
            "flex_flow": null,
            "grid_area": null,
            "grid_auto_columns": null,
            "grid_auto_flow": null,
            "grid_auto_rows": null,
            "grid_column": null,
            "grid_gap": null,
            "grid_row": null,
            "grid_template_areas": null,
            "grid_template_columns": null,
            "grid_template_rows": null,
            "height": null,
            "justify_content": null,
            "justify_items": null,
            "left": null,
            "margin": null,
            "max_height": null,
            "max_width": null,
            "min_height": null,
            "min_width": null,
            "object_fit": null,
            "object_position": null,
            "order": null,
            "overflow": null,
            "overflow_x": null,
            "overflow_y": null,
            "padding": null,
            "right": null,
            "top": null,
            "visibility": null,
            "width": null
          }
        },
        "9ae28dcb82484836a5a941980a7dae8d": {
          "model_module": "@jupyter-widgets/controls",
          "model_name": "ProgressStyleModel",
          "model_module_version": "1.5.0",
          "state": {
            "_model_module": "@jupyter-widgets/controls",
            "_model_module_version": "1.5.0",
            "_model_name": "ProgressStyleModel",
            "_view_count": null,
            "_view_module": "@jupyter-widgets/base",
            "_view_module_version": "1.2.0",
            "_view_name": "StyleView",
            "bar_color": null,
            "description_width": ""
          }
        },
        "c4f6dd43e71043849da1841a3889cd24": {
          "model_module": "@jupyter-widgets/base",
          "model_name": "LayoutModel",
          "model_module_version": "1.2.0",
          "state": {
            "_model_module": "@jupyter-widgets/base",
            "_model_module_version": "1.2.0",
            "_model_name": "LayoutModel",
            "_view_count": null,
            "_view_module": "@jupyter-widgets/base",
            "_view_module_version": "1.2.0",
            "_view_name": "LayoutView",
            "align_content": null,
            "align_items": null,
            "align_self": null,
            "border": null,
            "bottom": null,
            "display": null,
            "flex": null,
            "flex_flow": null,
            "grid_area": null,
            "grid_auto_columns": null,
            "grid_auto_flow": null,
            "grid_auto_rows": null,
            "grid_column": null,
            "grid_gap": null,
            "grid_row": null,
            "grid_template_areas": null,
            "grid_template_columns": null,
            "grid_template_rows": null,
            "height": null,
            "justify_content": null,
            "justify_items": null,
            "left": null,
            "margin": null,
            "max_height": null,
            "max_width": null,
            "min_height": null,
            "min_width": null,
            "object_fit": null,
            "object_position": null,
            "order": null,
            "overflow": null,
            "overflow_x": null,
            "overflow_y": null,
            "padding": null,
            "right": null,
            "top": null,
            "visibility": null,
            "width": null
          }
        },
        "612395f52fd9466190eda86cbfa13d67": {
          "model_module": "@jupyter-widgets/controls",
          "model_name": "DescriptionStyleModel",
          "model_module_version": "1.5.0",
          "state": {
            "_model_module": "@jupyter-widgets/controls",
            "_model_module_version": "1.5.0",
            "_model_name": "DescriptionStyleModel",
            "_view_count": null,
            "_view_module": "@jupyter-widgets/base",
            "_view_module_version": "1.2.0",
            "_view_name": "StyleView",
            "description_width": ""
          }
        },
        "2c64cde86965461ab729a8c441e7f432": {
          "model_module": "@jupyter-widgets/controls",
          "model_name": "HBoxModel",
          "model_module_version": "1.5.0",
          "state": {
            "_dom_classes": [],
            "_model_module": "@jupyter-widgets/controls",
            "_model_module_version": "1.5.0",
            "_model_name": "HBoxModel",
            "_view_count": null,
            "_view_module": "@jupyter-widgets/controls",
            "_view_module_version": "1.5.0",
            "_view_name": "HBoxView",
            "box_style": "",
            "children": [
              "IPY_MODEL_259f4855810b4b91a76b861de53024a1",
              "IPY_MODEL_34f3780161324c6280118796e52cc908",
              "IPY_MODEL_ba74454843e64ddf903bb0e8abd87194"
            ],
            "layout": "IPY_MODEL_9351b46da19043d387cf6ccbccc9326c"
          }
        },
        "259f4855810b4b91a76b861de53024a1": {
          "model_module": "@jupyter-widgets/controls",
          "model_name": "HTMLModel",
          "model_module_version": "1.5.0",
          "state": {
            "_dom_classes": [],
            "_model_module": "@jupyter-widgets/controls",
            "_model_module_version": "1.5.0",
            "_model_name": "HTMLModel",
            "_view_count": null,
            "_view_module": "@jupyter-widgets/controls",
            "_view_module_version": "1.5.0",
            "_view_name": "HTMLView",
            "description": "",
            "description_tooltip": null,
            "layout": "IPY_MODEL_3b9deb744707493182e6aa112c775ce5",
            "placeholder": "​",
            "style": "IPY_MODEL_db73d42c81e54f7296450ea49c3bd1d7",
            "value": "config.json: 100%"
          }
        },
        "34f3780161324c6280118796e52cc908": {
          "model_module": "@jupyter-widgets/controls",
          "model_name": "FloatProgressModel",
          "model_module_version": "1.5.0",
          "state": {
            "_dom_classes": [],
            "_model_module": "@jupyter-widgets/controls",
            "_model_module_version": "1.5.0",
            "_model_name": "FloatProgressModel",
            "_view_count": null,
            "_view_module": "@jupyter-widgets/controls",
            "_view_module_version": "1.5.0",
            "_view_name": "ProgressView",
            "bar_style": "success",
            "description": "",
            "description_tooltip": null,
            "layout": "IPY_MODEL_51712795a8784588803ba40fe4d19249",
            "max": 610,
            "min": 0,
            "orientation": "horizontal",
            "style": "IPY_MODEL_bbb41a1f537f42fe933b3a16dbfc783c",
            "value": 610
          }
        },
        "ba74454843e64ddf903bb0e8abd87194": {
          "model_module": "@jupyter-widgets/controls",
          "model_name": "HTMLModel",
          "model_module_version": "1.5.0",
          "state": {
            "_dom_classes": [],
            "_model_module": "@jupyter-widgets/controls",
            "_model_module_version": "1.5.0",
            "_model_name": "HTMLModel",
            "_view_count": null,
            "_view_module": "@jupyter-widgets/controls",
            "_view_module_version": "1.5.0",
            "_view_name": "HTMLView",
            "description": "",
            "description_tooltip": null,
            "layout": "IPY_MODEL_78a90b0770034ca5ab358ef0b07681a1",
            "placeholder": "​",
            "style": "IPY_MODEL_09ca2039476f4d348362da25b4f91c6d",
            "value": " 610/610 [00:00&lt;00:00, 13.5kB/s]"
          }
        },
        "9351b46da19043d387cf6ccbccc9326c": {
          "model_module": "@jupyter-widgets/base",
          "model_name": "LayoutModel",
          "model_module_version": "1.2.0",
          "state": {
            "_model_module": "@jupyter-widgets/base",
            "_model_module_version": "1.2.0",
            "_model_name": "LayoutModel",
            "_view_count": null,
            "_view_module": "@jupyter-widgets/base",
            "_view_module_version": "1.2.0",
            "_view_name": "LayoutView",
            "align_content": null,
            "align_items": null,
            "align_self": null,
            "border": null,
            "bottom": null,
            "display": null,
            "flex": null,
            "flex_flow": null,
            "grid_area": null,
            "grid_auto_columns": null,
            "grid_auto_flow": null,
            "grid_auto_rows": null,
            "grid_column": null,
            "grid_gap": null,
            "grid_row": null,
            "grid_template_areas": null,
            "grid_template_columns": null,
            "grid_template_rows": null,
            "height": null,
            "justify_content": null,
            "justify_items": null,
            "left": null,
            "margin": null,
            "max_height": null,
            "max_width": null,
            "min_height": null,
            "min_width": null,
            "object_fit": null,
            "object_position": null,
            "order": null,
            "overflow": null,
            "overflow_x": null,
            "overflow_y": null,
            "padding": null,
            "right": null,
            "top": null,
            "visibility": null,
            "width": null
          }
        },
        "3b9deb744707493182e6aa112c775ce5": {
          "model_module": "@jupyter-widgets/base",
          "model_name": "LayoutModel",
          "model_module_version": "1.2.0",
          "state": {
            "_model_module": "@jupyter-widgets/base",
            "_model_module_version": "1.2.0",
            "_model_name": "LayoutModel",
            "_view_count": null,
            "_view_module": "@jupyter-widgets/base",
            "_view_module_version": "1.2.0",
            "_view_name": "LayoutView",
            "align_content": null,
            "align_items": null,
            "align_self": null,
            "border": null,
            "bottom": null,
            "display": null,
            "flex": null,
            "flex_flow": null,
            "grid_area": null,
            "grid_auto_columns": null,
            "grid_auto_flow": null,
            "grid_auto_rows": null,
            "grid_column": null,
            "grid_gap": null,
            "grid_row": null,
            "grid_template_areas": null,
            "grid_template_columns": null,
            "grid_template_rows": null,
            "height": null,
            "justify_content": null,
            "justify_items": null,
            "left": null,
            "margin": null,
            "max_height": null,
            "max_width": null,
            "min_height": null,
            "min_width": null,
            "object_fit": null,
            "object_position": null,
            "order": null,
            "overflow": null,
            "overflow_x": null,
            "overflow_y": null,
            "padding": null,
            "right": null,
            "top": null,
            "visibility": null,
            "width": null
          }
        },
        "db73d42c81e54f7296450ea49c3bd1d7": {
          "model_module": "@jupyter-widgets/controls",
          "model_name": "DescriptionStyleModel",
          "model_module_version": "1.5.0",
          "state": {
            "_model_module": "@jupyter-widgets/controls",
            "_model_module_version": "1.5.0",
            "_model_name": "DescriptionStyleModel",
            "_view_count": null,
            "_view_module": "@jupyter-widgets/base",
            "_view_module_version": "1.2.0",
            "_view_name": "StyleView",
            "description_width": ""
          }
        },
        "51712795a8784588803ba40fe4d19249": {
          "model_module": "@jupyter-widgets/base",
          "model_name": "LayoutModel",
          "model_module_version": "1.2.0",
          "state": {
            "_model_module": "@jupyter-widgets/base",
            "_model_module_version": "1.2.0",
            "_model_name": "LayoutModel",
            "_view_count": null,
            "_view_module": "@jupyter-widgets/base",
            "_view_module_version": "1.2.0",
            "_view_name": "LayoutView",
            "align_content": null,
            "align_items": null,
            "align_self": null,
            "border": null,
            "bottom": null,
            "display": null,
            "flex": null,
            "flex_flow": null,
            "grid_area": null,
            "grid_auto_columns": null,
            "grid_auto_flow": null,
            "grid_auto_rows": null,
            "grid_column": null,
            "grid_gap": null,
            "grid_row": null,
            "grid_template_areas": null,
            "grid_template_columns": null,
            "grid_template_rows": null,
            "height": null,
            "justify_content": null,
            "justify_items": null,
            "left": null,
            "margin": null,
            "max_height": null,
            "max_width": null,
            "min_height": null,
            "min_width": null,
            "object_fit": null,
            "object_position": null,
            "order": null,
            "overflow": null,
            "overflow_x": null,
            "overflow_y": null,
            "padding": null,
            "right": null,
            "top": null,
            "visibility": null,
            "width": null
          }
        },
        "bbb41a1f537f42fe933b3a16dbfc783c": {
          "model_module": "@jupyter-widgets/controls",
          "model_name": "ProgressStyleModel",
          "model_module_version": "1.5.0",
          "state": {
            "_model_module": "@jupyter-widgets/controls",
            "_model_module_version": "1.5.0",
            "_model_name": "ProgressStyleModel",
            "_view_count": null,
            "_view_module": "@jupyter-widgets/base",
            "_view_module_version": "1.2.0",
            "_view_name": "StyleView",
            "bar_color": null,
            "description_width": ""
          }
        },
        "78a90b0770034ca5ab358ef0b07681a1": {
          "model_module": "@jupyter-widgets/base",
          "model_name": "LayoutModel",
          "model_module_version": "1.2.0",
          "state": {
            "_model_module": "@jupyter-widgets/base",
            "_model_module_version": "1.2.0",
            "_model_name": "LayoutModel",
            "_view_count": null,
            "_view_module": "@jupyter-widgets/base",
            "_view_module_version": "1.2.0",
            "_view_name": "LayoutView",
            "align_content": null,
            "align_items": null,
            "align_self": null,
            "border": null,
            "bottom": null,
            "display": null,
            "flex": null,
            "flex_flow": null,
            "grid_area": null,
            "grid_auto_columns": null,
            "grid_auto_flow": null,
            "grid_auto_rows": null,
            "grid_column": null,
            "grid_gap": null,
            "grid_row": null,
            "grid_template_areas": null,
            "grid_template_columns": null,
            "grid_template_rows": null,
            "height": null,
            "justify_content": null,
            "justify_items": null,
            "left": null,
            "margin": null,
            "max_height": null,
            "max_width": null,
            "min_height": null,
            "min_width": null,
            "object_fit": null,
            "object_position": null,
            "order": null,
            "overflow": null,
            "overflow_x": null,
            "overflow_y": null,
            "padding": null,
            "right": null,
            "top": null,
            "visibility": null,
            "width": null
          }
        },
        "09ca2039476f4d348362da25b4f91c6d": {
          "model_module": "@jupyter-widgets/controls",
          "model_name": "DescriptionStyleModel",
          "model_module_version": "1.5.0",
          "state": {
            "_model_module": "@jupyter-widgets/controls",
            "_model_module_version": "1.5.0",
            "_model_name": "DescriptionStyleModel",
            "_view_count": null,
            "_view_module": "@jupyter-widgets/base",
            "_view_module_version": "1.2.0",
            "_view_name": "StyleView",
            "description_width": ""
          }
        },
        "9642db24b5ac43408049ee3ea7a7a1fe": {
          "model_module": "@jupyter-widgets/controls",
          "model_name": "HBoxModel",
          "model_module_version": "1.5.0",
          "state": {
            "_dom_classes": [],
            "_model_module": "@jupyter-widgets/controls",
            "_model_module_version": "1.5.0",
            "_model_name": "HBoxModel",
            "_view_count": null,
            "_view_module": "@jupyter-widgets/controls",
            "_view_module_version": "1.5.0",
            "_view_name": "HBoxView",
            "box_style": "",
            "children": [
              "IPY_MODEL_f05d767fa1be4e42bee5e839c92a7dc9",
              "IPY_MODEL_e0dea9642ecc42408733876b88959716",
              "IPY_MODEL_a3542402af0a4c989b69d54bdd3653a7"
            ],
            "layout": "IPY_MODEL_40572d3871f8462d90f04891d0070d38"
          }
        },
        "f05d767fa1be4e42bee5e839c92a7dc9": {
          "model_module": "@jupyter-widgets/controls",
          "model_name": "HTMLModel",
          "model_module_version": "1.5.0",
          "state": {
            "_dom_classes": [],
            "_model_module": "@jupyter-widgets/controls",
            "_model_module_version": "1.5.0",
            "_model_name": "HTMLModel",
            "_view_count": null,
            "_view_module": "@jupyter-widgets/controls",
            "_view_module_version": "1.5.0",
            "_view_name": "HTMLView",
            "description": "",
            "description_tooltip": null,
            "layout": "IPY_MODEL_ca5f229f7bda4947b01207f078608f73",
            "placeholder": "​",
            "style": "IPY_MODEL_1dd010bea022492fac40adbec5d0f48b",
            "value": "model.safetensors: 100%"
          }
        },
        "e0dea9642ecc42408733876b88959716": {
          "model_module": "@jupyter-widgets/controls",
          "model_name": "FloatProgressModel",
          "model_module_version": "1.5.0",
          "state": {
            "_dom_classes": [],
            "_model_module": "@jupyter-widgets/controls",
            "_model_module_version": "1.5.0",
            "_model_name": "FloatProgressModel",
            "_view_count": null,
            "_view_module": "@jupyter-widgets/controls",
            "_view_module_version": "1.5.0",
            "_view_name": "ProgressView",
            "bar_style": "success",
            "description": "",
            "description_tooltip": null,
            "layout": "IPY_MODEL_50eaa7e06f3d4b358d9240a933405058",
            "max": 538947416,
            "min": 0,
            "orientation": "horizontal",
            "style": "IPY_MODEL_7bf7b2862aa247979b322c0b6bc8fe0e",
            "value": 538947416
          }
        },
        "a3542402af0a4c989b69d54bdd3653a7": {
          "model_module": "@jupyter-widgets/controls",
          "model_name": "HTMLModel",
          "model_module_version": "1.5.0",
          "state": {
            "_dom_classes": [],
            "_model_module": "@jupyter-widgets/controls",
            "_model_module_version": "1.5.0",
            "_model_name": "HTMLModel",
            "_view_count": null,
            "_view_module": "@jupyter-widgets/controls",
            "_view_module_version": "1.5.0",
            "_view_name": "HTMLView",
            "description": "",
            "description_tooltip": null,
            "layout": "IPY_MODEL_956baae5ecf044f69440c526ff6b0aa0",
            "placeholder": "​",
            "style": "IPY_MODEL_c552bc7248c04854b307eb80f8d3c262",
            "value": " 539M/539M [00:07&lt;00:00, 93.9MB/s]"
          }
        },
        "40572d3871f8462d90f04891d0070d38": {
          "model_module": "@jupyter-widgets/base",
          "model_name": "LayoutModel",
          "model_module_version": "1.2.0",
          "state": {
            "_model_module": "@jupyter-widgets/base",
            "_model_module_version": "1.2.0",
            "_model_name": "LayoutModel",
            "_view_count": null,
            "_view_module": "@jupyter-widgets/base",
            "_view_module_version": "1.2.0",
            "_view_name": "LayoutView",
            "align_content": null,
            "align_items": null,
            "align_self": null,
            "border": null,
            "bottom": null,
            "display": null,
            "flex": null,
            "flex_flow": null,
            "grid_area": null,
            "grid_auto_columns": null,
            "grid_auto_flow": null,
            "grid_auto_rows": null,
            "grid_column": null,
            "grid_gap": null,
            "grid_row": null,
            "grid_template_areas": null,
            "grid_template_columns": null,
            "grid_template_rows": null,
            "height": null,
            "justify_content": null,
            "justify_items": null,
            "left": null,
            "margin": null,
            "max_height": null,
            "max_width": null,
            "min_height": null,
            "min_width": null,
            "object_fit": null,
            "object_position": null,
            "order": null,
            "overflow": null,
            "overflow_x": null,
            "overflow_y": null,
            "padding": null,
            "right": null,
            "top": null,
            "visibility": null,
            "width": null
          }
        },
        "ca5f229f7bda4947b01207f078608f73": {
          "model_module": "@jupyter-widgets/base",
          "model_name": "LayoutModel",
          "model_module_version": "1.2.0",
          "state": {
            "_model_module": "@jupyter-widgets/base",
            "_model_module_version": "1.2.0",
            "_model_name": "LayoutModel",
            "_view_count": null,
            "_view_module": "@jupyter-widgets/base",
            "_view_module_version": "1.2.0",
            "_view_name": "LayoutView",
            "align_content": null,
            "align_items": null,
            "align_self": null,
            "border": null,
            "bottom": null,
            "display": null,
            "flex": null,
            "flex_flow": null,
            "grid_area": null,
            "grid_auto_columns": null,
            "grid_auto_flow": null,
            "grid_auto_rows": null,
            "grid_column": null,
            "grid_gap": null,
            "grid_row": null,
            "grid_template_areas": null,
            "grid_template_columns": null,
            "grid_template_rows": null,
            "height": null,
            "justify_content": null,
            "justify_items": null,
            "left": null,
            "margin": null,
            "max_height": null,
            "max_width": null,
            "min_height": null,
            "min_width": null,
            "object_fit": null,
            "object_position": null,
            "order": null,
            "overflow": null,
            "overflow_x": null,
            "overflow_y": null,
            "padding": null,
            "right": null,
            "top": null,
            "visibility": null,
            "width": null
          }
        },
        "1dd010bea022492fac40adbec5d0f48b": {
          "model_module": "@jupyter-widgets/controls",
          "model_name": "DescriptionStyleModel",
          "model_module_version": "1.5.0",
          "state": {
            "_model_module": "@jupyter-widgets/controls",
            "_model_module_version": "1.5.0",
            "_model_name": "DescriptionStyleModel",
            "_view_count": null,
            "_view_module": "@jupyter-widgets/base",
            "_view_module_version": "1.2.0",
            "_view_name": "StyleView",
            "description_width": ""
          }
        },
        "50eaa7e06f3d4b358d9240a933405058": {
          "model_module": "@jupyter-widgets/base",
          "model_name": "LayoutModel",
          "model_module_version": "1.2.0",
          "state": {
            "_model_module": "@jupyter-widgets/base",
            "_model_module_version": "1.2.0",
            "_model_name": "LayoutModel",
            "_view_count": null,
            "_view_module": "@jupyter-widgets/base",
            "_view_module_version": "1.2.0",
            "_view_name": "LayoutView",
            "align_content": null,
            "align_items": null,
            "align_self": null,
            "border": null,
            "bottom": null,
            "display": null,
            "flex": null,
            "flex_flow": null,
            "grid_area": null,
            "grid_auto_columns": null,
            "grid_auto_flow": null,
            "grid_auto_rows": null,
            "grid_column": null,
            "grid_gap": null,
            "grid_row": null,
            "grid_template_areas": null,
            "grid_template_columns": null,
            "grid_template_rows": null,
            "height": null,
            "justify_content": null,
            "justify_items": null,
            "left": null,
            "margin": null,
            "max_height": null,
            "max_width": null,
            "min_height": null,
            "min_width": null,
            "object_fit": null,
            "object_position": null,
            "order": null,
            "overflow": null,
            "overflow_x": null,
            "overflow_y": null,
            "padding": null,
            "right": null,
            "top": null,
            "visibility": null,
            "width": null
          }
        },
        "7bf7b2862aa247979b322c0b6bc8fe0e": {
          "model_module": "@jupyter-widgets/controls",
          "model_name": "ProgressStyleModel",
          "model_module_version": "1.5.0",
          "state": {
            "_model_module": "@jupyter-widgets/controls",
            "_model_module_version": "1.5.0",
            "_model_name": "ProgressStyleModel",
            "_view_count": null,
            "_view_module": "@jupyter-widgets/base",
            "_view_module_version": "1.2.0",
            "_view_name": "StyleView",
            "bar_color": null,
            "description_width": ""
          }
        },
        "956baae5ecf044f69440c526ff6b0aa0": {
          "model_module": "@jupyter-widgets/base",
          "model_name": "LayoutModel",
          "model_module_version": "1.2.0",
          "state": {
            "_model_module": "@jupyter-widgets/base",
            "_model_module_version": "1.2.0",
            "_model_name": "LayoutModel",
            "_view_count": null,
            "_view_module": "@jupyter-widgets/base",
            "_view_module_version": "1.2.0",
            "_view_name": "LayoutView",
            "align_content": null,
            "align_items": null,
            "align_self": null,
            "border": null,
            "bottom": null,
            "display": null,
            "flex": null,
            "flex_flow": null,
            "grid_area": null,
            "grid_auto_columns": null,
            "grid_auto_flow": null,
            "grid_auto_rows": null,
            "grid_column": null,
            "grid_gap": null,
            "grid_row": null,
            "grid_template_areas": null,
            "grid_template_columns": null,
            "grid_template_rows": null,
            "height": null,
            "justify_content": null,
            "justify_items": null,
            "left": null,
            "margin": null,
            "max_height": null,
            "max_width": null,
            "min_height": null,
            "min_width": null,
            "object_fit": null,
            "object_position": null,
            "order": null,
            "overflow": null,
            "overflow_x": null,
            "overflow_y": null,
            "padding": null,
            "right": null,
            "top": null,
            "visibility": null,
            "width": null
          }
        },
        "c552bc7248c04854b307eb80f8d3c262": {
          "model_module": "@jupyter-widgets/controls",
          "model_name": "DescriptionStyleModel",
          "model_module_version": "1.5.0",
          "state": {
            "_model_module": "@jupyter-widgets/controls",
            "_model_module_version": "1.5.0",
            "_model_name": "DescriptionStyleModel",
            "_view_count": null,
            "_view_module": "@jupyter-widgets/base",
            "_view_module_version": "1.2.0",
            "_view_name": "StyleView",
            "description_width": ""
          }
        },
        "69dad2ef4fbb4677b2632239f32004ad": {
          "model_module": "@jupyter-widgets/controls",
          "model_name": "HBoxModel",
          "model_module_version": "1.5.0",
          "state": {
            "_dom_classes": [],
            "_model_module": "@jupyter-widgets/controls",
            "_model_module_version": "1.5.0",
            "_model_name": "HBoxModel",
            "_view_count": null,
            "_view_module": "@jupyter-widgets/controls",
            "_view_module_version": "1.5.0",
            "_view_name": "HBoxView",
            "box_style": "",
            "children": [
              "IPY_MODEL_9f07fd6f60064753916dc128920b76e1",
              "IPY_MODEL_a1cb04b5a6514e73bce14bbfeb328fb4",
              "IPY_MODEL_5b2c9d58914e43d3aaed896242ac388a"
            ],
            "layout": "IPY_MODEL_251990583e6142018dfc7cc75beda547"
          }
        },
        "9f07fd6f60064753916dc128920b76e1": {
          "model_module": "@jupyter-widgets/controls",
          "model_name": "HTMLModel",
          "model_module_version": "1.5.0",
          "state": {
            "_dom_classes": [],
            "_model_module": "@jupyter-widgets/controls",
            "_model_module_version": "1.5.0",
            "_model_name": "HTMLModel",
            "_view_count": null,
            "_view_module": "@jupyter-widgets/controls",
            "_view_module_version": "1.5.0",
            "_view_name": "HTMLView",
            "description": "",
            "description_tooltip": null,
            "layout": "IPY_MODEL_bffd35ce8858493996d84bdddb570d67",
            "placeholder": "​",
            "style": "IPY_MODEL_2313ccddada949008b636410ea3a8244",
            "value": "tokenizer_config.json: 100%"
          }
        },
        "a1cb04b5a6514e73bce14bbfeb328fb4": {
          "model_module": "@jupyter-widgets/controls",
          "model_name": "FloatProgressModel",
          "model_module_version": "1.5.0",
          "state": {
            "_dom_classes": [],
            "_model_module": "@jupyter-widgets/controls",
            "_model_module_version": "1.5.0",
            "_model_name": "FloatProgressModel",
            "_view_count": null,
            "_view_module": "@jupyter-widgets/controls",
            "_view_module_version": "1.5.0",
            "_view_name": "ProgressView",
            "bar_style": "success",
            "description": "",
            "description_tooltip": null,
            "layout": "IPY_MODEL_a2942a65895544bfb22bd7001ffefff3",
            "max": 531,
            "min": 0,
            "orientation": "horizontal",
            "style": "IPY_MODEL_a3e6984f6865493dbb01f1b22ecbbac1",
            "value": 531
          }
        },
        "5b2c9d58914e43d3aaed896242ac388a": {
          "model_module": "@jupyter-widgets/controls",
          "model_name": "HTMLModel",
          "model_module_version": "1.5.0",
          "state": {
            "_dom_classes": [],
            "_model_module": "@jupyter-widgets/controls",
            "_model_module_version": "1.5.0",
            "_model_name": "HTMLModel",
            "_view_count": null,
            "_view_module": "@jupyter-widgets/controls",
            "_view_module_version": "1.5.0",
            "_view_name": "HTMLView",
            "description": "",
            "description_tooltip": null,
            "layout": "IPY_MODEL_6f757f369ef6484aa07627c150dc129c",
            "placeholder": "​",
            "style": "IPY_MODEL_67916ccfc1344f15a5569cd20ddd0b89",
            "value": " 531/531 [00:00&lt;00:00, 7.16kB/s]"
          }
        },
        "251990583e6142018dfc7cc75beda547": {
          "model_module": "@jupyter-widgets/base",
          "model_name": "LayoutModel",
          "model_module_version": "1.2.0",
          "state": {
            "_model_module": "@jupyter-widgets/base",
            "_model_module_version": "1.2.0",
            "_model_name": "LayoutModel",
            "_view_count": null,
            "_view_module": "@jupyter-widgets/base",
            "_view_module_version": "1.2.0",
            "_view_name": "LayoutView",
            "align_content": null,
            "align_items": null,
            "align_self": null,
            "border": null,
            "bottom": null,
            "display": null,
            "flex": null,
            "flex_flow": null,
            "grid_area": null,
            "grid_auto_columns": null,
            "grid_auto_flow": null,
            "grid_auto_rows": null,
            "grid_column": null,
            "grid_gap": null,
            "grid_row": null,
            "grid_template_areas": null,
            "grid_template_columns": null,
            "grid_template_rows": null,
            "height": null,
            "justify_content": null,
            "justify_items": null,
            "left": null,
            "margin": null,
            "max_height": null,
            "max_width": null,
            "min_height": null,
            "min_width": null,
            "object_fit": null,
            "object_position": null,
            "order": null,
            "overflow": null,
            "overflow_x": null,
            "overflow_y": null,
            "padding": null,
            "right": null,
            "top": null,
            "visibility": null,
            "width": null
          }
        },
        "bffd35ce8858493996d84bdddb570d67": {
          "model_module": "@jupyter-widgets/base",
          "model_name": "LayoutModel",
          "model_module_version": "1.2.0",
          "state": {
            "_model_module": "@jupyter-widgets/base",
            "_model_module_version": "1.2.0",
            "_model_name": "LayoutModel",
            "_view_count": null,
            "_view_module": "@jupyter-widgets/base",
            "_view_module_version": "1.2.0",
            "_view_name": "LayoutView",
            "align_content": null,
            "align_items": null,
            "align_self": null,
            "border": null,
            "bottom": null,
            "display": null,
            "flex": null,
            "flex_flow": null,
            "grid_area": null,
            "grid_auto_columns": null,
            "grid_auto_flow": null,
            "grid_auto_rows": null,
            "grid_column": null,
            "grid_gap": null,
            "grid_row": null,
            "grid_template_areas": null,
            "grid_template_columns": null,
            "grid_template_rows": null,
            "height": null,
            "justify_content": null,
            "justify_items": null,
            "left": null,
            "margin": null,
            "max_height": null,
            "max_width": null,
            "min_height": null,
            "min_width": null,
            "object_fit": null,
            "object_position": null,
            "order": null,
            "overflow": null,
            "overflow_x": null,
            "overflow_y": null,
            "padding": null,
            "right": null,
            "top": null,
            "visibility": null,
            "width": null
          }
        },
        "2313ccddada949008b636410ea3a8244": {
          "model_module": "@jupyter-widgets/controls",
          "model_name": "DescriptionStyleModel",
          "model_module_version": "1.5.0",
          "state": {
            "_model_module": "@jupyter-widgets/controls",
            "_model_module_version": "1.5.0",
            "_model_name": "DescriptionStyleModel",
            "_view_count": null,
            "_view_module": "@jupyter-widgets/base",
            "_view_module_version": "1.2.0",
            "_view_name": "StyleView",
            "description_width": ""
          }
        },
        "a2942a65895544bfb22bd7001ffefff3": {
          "model_module": "@jupyter-widgets/base",
          "model_name": "LayoutModel",
          "model_module_version": "1.2.0",
          "state": {
            "_model_module": "@jupyter-widgets/base",
            "_model_module_version": "1.2.0",
            "_model_name": "LayoutModel",
            "_view_count": null,
            "_view_module": "@jupyter-widgets/base",
            "_view_module_version": "1.2.0",
            "_view_name": "LayoutView",
            "align_content": null,
            "align_items": null,
            "align_self": null,
            "border": null,
            "bottom": null,
            "display": null,
            "flex": null,
            "flex_flow": null,
            "grid_area": null,
            "grid_auto_columns": null,
            "grid_auto_flow": null,
            "grid_auto_rows": null,
            "grid_column": null,
            "grid_gap": null,
            "grid_row": null,
            "grid_template_areas": null,
            "grid_template_columns": null,
            "grid_template_rows": null,
            "height": null,
            "justify_content": null,
            "justify_items": null,
            "left": null,
            "margin": null,
            "max_height": null,
            "max_width": null,
            "min_height": null,
            "min_width": null,
            "object_fit": null,
            "object_position": null,
            "order": null,
            "overflow": null,
            "overflow_x": null,
            "overflow_y": null,
            "padding": null,
            "right": null,
            "top": null,
            "visibility": null,
            "width": null
          }
        },
        "a3e6984f6865493dbb01f1b22ecbbac1": {
          "model_module": "@jupyter-widgets/controls",
          "model_name": "ProgressStyleModel",
          "model_module_version": "1.5.0",
          "state": {
            "_model_module": "@jupyter-widgets/controls",
            "_model_module_version": "1.5.0",
            "_model_name": "ProgressStyleModel",
            "_view_count": null,
            "_view_module": "@jupyter-widgets/base",
            "_view_module_version": "1.2.0",
            "_view_name": "StyleView",
            "bar_color": null,
            "description_width": ""
          }
        },
        "6f757f369ef6484aa07627c150dc129c": {
          "model_module": "@jupyter-widgets/base",
          "model_name": "LayoutModel",
          "model_module_version": "1.2.0",
          "state": {
            "_model_module": "@jupyter-widgets/base",
            "_model_module_version": "1.2.0",
            "_model_name": "LayoutModel",
            "_view_count": null,
            "_view_module": "@jupyter-widgets/base",
            "_view_module_version": "1.2.0",
            "_view_name": "LayoutView",
            "align_content": null,
            "align_items": null,
            "align_self": null,
            "border": null,
            "bottom": null,
            "display": null,
            "flex": null,
            "flex_flow": null,
            "grid_area": null,
            "grid_auto_columns": null,
            "grid_auto_flow": null,
            "grid_auto_rows": null,
            "grid_column": null,
            "grid_gap": null,
            "grid_row": null,
            "grid_template_areas": null,
            "grid_template_columns": null,
            "grid_template_rows": null,
            "height": null,
            "justify_content": null,
            "justify_items": null,
            "left": null,
            "margin": null,
            "max_height": null,
            "max_width": null,
            "min_height": null,
            "min_width": null,
            "object_fit": null,
            "object_position": null,
            "order": null,
            "overflow": null,
            "overflow_x": null,
            "overflow_y": null,
            "padding": null,
            "right": null,
            "top": null,
            "visibility": null,
            "width": null
          }
        },
        "67916ccfc1344f15a5569cd20ddd0b89": {
          "model_module": "@jupyter-widgets/controls",
          "model_name": "DescriptionStyleModel",
          "model_module_version": "1.5.0",
          "state": {
            "_model_module": "@jupyter-widgets/controls",
            "_model_module_version": "1.5.0",
            "_model_name": "DescriptionStyleModel",
            "_view_count": null,
            "_view_module": "@jupyter-widgets/base",
            "_view_module_version": "1.2.0",
            "_view_name": "StyleView",
            "description_width": ""
          }
        },
        "ceaf45197852410caabc6b73245055be": {
          "model_module": "@jupyter-widgets/controls",
          "model_name": "HBoxModel",
          "model_module_version": "1.5.0",
          "state": {
            "_dom_classes": [],
            "_model_module": "@jupyter-widgets/controls",
            "_model_module_version": "1.5.0",
            "_model_name": "HBoxModel",
            "_view_count": null,
            "_view_module": "@jupyter-widgets/controls",
            "_view_module_version": "1.5.0",
            "_view_name": "HBoxView",
            "box_style": "",
            "children": [
              "IPY_MODEL_5678861478fd41dea92fb5ef683cf81b",
              "IPY_MODEL_6769b0b5cf3a45d0b2196ae7ebeb0da8",
              "IPY_MODEL_2dcdddb8c8df420089f731c20bd1efd8"
            ],
            "layout": "IPY_MODEL_f5afa82d91244f9abf0b30f3650b753c"
          }
        },
        "5678861478fd41dea92fb5ef683cf81b": {
          "model_module": "@jupyter-widgets/controls",
          "model_name": "HTMLModel",
          "model_module_version": "1.5.0",
          "state": {
            "_dom_classes": [],
            "_model_module": "@jupyter-widgets/controls",
            "_model_module_version": "1.5.0",
            "_model_name": "HTMLModel",
            "_view_count": null,
            "_view_module": "@jupyter-widgets/controls",
            "_view_module_version": "1.5.0",
            "_view_name": "HTMLView",
            "description": "",
            "description_tooltip": null,
            "layout": "IPY_MODEL_5a1c38a5d47b4c3995a04f3ac6a003c4",
            "placeholder": "​",
            "style": "IPY_MODEL_97c286cd7d224782a9fbc0e42527a171",
            "value": "vocab.txt: 100%"
          }
        },
        "6769b0b5cf3a45d0b2196ae7ebeb0da8": {
          "model_module": "@jupyter-widgets/controls",
          "model_name": "FloatProgressModel",
          "model_module_version": "1.5.0",
          "state": {
            "_dom_classes": [],
            "_model_module": "@jupyter-widgets/controls",
            "_model_module_version": "1.5.0",
            "_model_name": "FloatProgressModel",
            "_view_count": null,
            "_view_module": "@jupyter-widgets/controls",
            "_view_module_version": "1.5.0",
            "_view_name": "ProgressView",
            "bar_style": "success",
            "description": "",
            "description_tooltip": null,
            "layout": "IPY_MODEL_a0cd4db96709470ea3ade8f2d2096983",
            "max": 995526,
            "min": 0,
            "orientation": "horizontal",
            "style": "IPY_MODEL_a7a0a343865842bda45b4625c3bf1a9c",
            "value": 995526
          }
        },
        "2dcdddb8c8df420089f731c20bd1efd8": {
          "model_module": "@jupyter-widgets/controls",
          "model_name": "HTMLModel",
          "model_module_version": "1.5.0",
          "state": {
            "_dom_classes": [],
            "_model_module": "@jupyter-widgets/controls",
            "_model_module_version": "1.5.0",
            "_model_name": "HTMLModel",
            "_view_count": null,
            "_view_module": "@jupyter-widgets/controls",
            "_view_module_version": "1.5.0",
            "_view_name": "HTMLView",
            "description": "",
            "description_tooltip": null,
            "layout": "IPY_MODEL_82df78d06769418fa92e6cfd76194c56",
            "placeholder": "​",
            "style": "IPY_MODEL_6df37bdacdf0420593ef038d6c4b58dd",
            "value": " 996k/996k [00:00&lt;00:00, 6.19MB/s]"
          }
        },
        "f5afa82d91244f9abf0b30f3650b753c": {
          "model_module": "@jupyter-widgets/base",
          "model_name": "LayoutModel",
          "model_module_version": "1.2.0",
          "state": {
            "_model_module": "@jupyter-widgets/base",
            "_model_module_version": "1.2.0",
            "_model_name": "LayoutModel",
            "_view_count": null,
            "_view_module": "@jupyter-widgets/base",
            "_view_module_version": "1.2.0",
            "_view_name": "LayoutView",
            "align_content": null,
            "align_items": null,
            "align_self": null,
            "border": null,
            "bottom": null,
            "display": null,
            "flex": null,
            "flex_flow": null,
            "grid_area": null,
            "grid_auto_columns": null,
            "grid_auto_flow": null,
            "grid_auto_rows": null,
            "grid_column": null,
            "grid_gap": null,
            "grid_row": null,
            "grid_template_areas": null,
            "grid_template_columns": null,
            "grid_template_rows": null,
            "height": null,
            "justify_content": null,
            "justify_items": null,
            "left": null,
            "margin": null,
            "max_height": null,
            "max_width": null,
            "min_height": null,
            "min_width": null,
            "object_fit": null,
            "object_position": null,
            "order": null,
            "overflow": null,
            "overflow_x": null,
            "overflow_y": null,
            "padding": null,
            "right": null,
            "top": null,
            "visibility": null,
            "width": null
          }
        },
        "5a1c38a5d47b4c3995a04f3ac6a003c4": {
          "model_module": "@jupyter-widgets/base",
          "model_name": "LayoutModel",
          "model_module_version": "1.2.0",
          "state": {
            "_model_module": "@jupyter-widgets/base",
            "_model_module_version": "1.2.0",
            "_model_name": "LayoutModel",
            "_view_count": null,
            "_view_module": "@jupyter-widgets/base",
            "_view_module_version": "1.2.0",
            "_view_name": "LayoutView",
            "align_content": null,
            "align_items": null,
            "align_self": null,
            "border": null,
            "bottom": null,
            "display": null,
            "flex": null,
            "flex_flow": null,
            "grid_area": null,
            "grid_auto_columns": null,
            "grid_auto_flow": null,
            "grid_auto_rows": null,
            "grid_column": null,
            "grid_gap": null,
            "grid_row": null,
            "grid_template_areas": null,
            "grid_template_columns": null,
            "grid_template_rows": null,
            "height": null,
            "justify_content": null,
            "justify_items": null,
            "left": null,
            "margin": null,
            "max_height": null,
            "max_width": null,
            "min_height": null,
            "min_width": null,
            "object_fit": null,
            "object_position": null,
            "order": null,
            "overflow": null,
            "overflow_x": null,
            "overflow_y": null,
            "padding": null,
            "right": null,
            "top": null,
            "visibility": null,
            "width": null
          }
        },
        "97c286cd7d224782a9fbc0e42527a171": {
          "model_module": "@jupyter-widgets/controls",
          "model_name": "DescriptionStyleModel",
          "model_module_version": "1.5.0",
          "state": {
            "_model_module": "@jupyter-widgets/controls",
            "_model_module_version": "1.5.0",
            "_model_name": "DescriptionStyleModel",
            "_view_count": null,
            "_view_module": "@jupyter-widgets/base",
            "_view_module_version": "1.2.0",
            "_view_name": "StyleView",
            "description_width": ""
          }
        },
        "a0cd4db96709470ea3ade8f2d2096983": {
          "model_module": "@jupyter-widgets/base",
          "model_name": "LayoutModel",
          "model_module_version": "1.2.0",
          "state": {
            "_model_module": "@jupyter-widgets/base",
            "_model_module_version": "1.2.0",
            "_model_name": "LayoutModel",
            "_view_count": null,
            "_view_module": "@jupyter-widgets/base",
            "_view_module_version": "1.2.0",
            "_view_name": "LayoutView",
            "align_content": null,
            "align_items": null,
            "align_self": null,
            "border": null,
            "bottom": null,
            "display": null,
            "flex": null,
            "flex_flow": null,
            "grid_area": null,
            "grid_auto_columns": null,
            "grid_auto_flow": null,
            "grid_auto_rows": null,
            "grid_column": null,
            "grid_gap": null,
            "grid_row": null,
            "grid_template_areas": null,
            "grid_template_columns": null,
            "grid_template_rows": null,
            "height": null,
            "justify_content": null,
            "justify_items": null,
            "left": null,
            "margin": null,
            "max_height": null,
            "max_width": null,
            "min_height": null,
            "min_width": null,
            "object_fit": null,
            "object_position": null,
            "order": null,
            "overflow": null,
            "overflow_x": null,
            "overflow_y": null,
            "padding": null,
            "right": null,
            "top": null,
            "visibility": null,
            "width": null
          }
        },
        "a7a0a343865842bda45b4625c3bf1a9c": {
          "model_module": "@jupyter-widgets/controls",
          "model_name": "ProgressStyleModel",
          "model_module_version": "1.5.0",
          "state": {
            "_model_module": "@jupyter-widgets/controls",
            "_model_module_version": "1.5.0",
            "_model_name": "ProgressStyleModel",
            "_view_count": null,
            "_view_module": "@jupyter-widgets/base",
            "_view_module_version": "1.2.0",
            "_view_name": "StyleView",
            "bar_color": null,
            "description_width": ""
          }
        },
        "82df78d06769418fa92e6cfd76194c56": {
          "model_module": "@jupyter-widgets/base",
          "model_name": "LayoutModel",
          "model_module_version": "1.2.0",
          "state": {
            "_model_module": "@jupyter-widgets/base",
            "_model_module_version": "1.2.0",
            "_model_name": "LayoutModel",
            "_view_count": null,
            "_view_module": "@jupyter-widgets/base",
            "_view_module_version": "1.2.0",
            "_view_name": "LayoutView",
            "align_content": null,
            "align_items": null,
            "align_self": null,
            "border": null,
            "bottom": null,
            "display": null,
            "flex": null,
            "flex_flow": null,
            "grid_area": null,
            "grid_auto_columns": null,
            "grid_auto_flow": null,
            "grid_auto_rows": null,
            "grid_column": null,
            "grid_gap": null,
            "grid_row": null,
            "grid_template_areas": null,
            "grid_template_columns": null,
            "grid_template_rows": null,
            "height": null,
            "justify_content": null,
            "justify_items": null,
            "left": null,
            "margin": null,
            "max_height": null,
            "max_width": null,
            "min_height": null,
            "min_width": null,
            "object_fit": null,
            "object_position": null,
            "order": null,
            "overflow": null,
            "overflow_x": null,
            "overflow_y": null,
            "padding": null,
            "right": null,
            "top": null,
            "visibility": null,
            "width": null
          }
        },
        "6df37bdacdf0420593ef038d6c4b58dd": {
          "model_module": "@jupyter-widgets/controls",
          "model_name": "DescriptionStyleModel",
          "model_module_version": "1.5.0",
          "state": {
            "_model_module": "@jupyter-widgets/controls",
            "_model_module_version": "1.5.0",
            "_model_name": "DescriptionStyleModel",
            "_view_count": null,
            "_view_module": "@jupyter-widgets/base",
            "_view_module_version": "1.2.0",
            "_view_name": "StyleView",
            "description_width": ""
          }
        },
        "cdd05965a27a4348b1c3a7d668b7694f": {
          "model_module": "@jupyter-widgets/controls",
          "model_name": "HBoxModel",
          "model_module_version": "1.5.0",
          "state": {
            "_dom_classes": [],
            "_model_module": "@jupyter-widgets/controls",
            "_model_module_version": "1.5.0",
            "_model_name": "HBoxModel",
            "_view_count": null,
            "_view_module": "@jupyter-widgets/controls",
            "_view_module_version": "1.5.0",
            "_view_name": "HBoxView",
            "box_style": "",
            "children": [
              "IPY_MODEL_74531117e4b140a89aedcd7402338960",
              "IPY_MODEL_71a5a45f48ba472b95a0ee07d702fb1e",
              "IPY_MODEL_d94a2de770b346e683676e8a77afb702"
            ],
            "layout": "IPY_MODEL_95cdf1f38ff64812bf45db5cded90ebf"
          }
        },
        "74531117e4b140a89aedcd7402338960": {
          "model_module": "@jupyter-widgets/controls",
          "model_name": "HTMLModel",
          "model_module_version": "1.5.0",
          "state": {
            "_dom_classes": [],
            "_model_module": "@jupyter-widgets/controls",
            "_model_module_version": "1.5.0",
            "_model_name": "HTMLModel",
            "_view_count": null,
            "_view_module": "@jupyter-widgets/controls",
            "_view_module_version": "1.5.0",
            "_view_name": "HTMLView",
            "description": "",
            "description_tooltip": null,
            "layout": "IPY_MODEL_04ea47aec9dc4a0e85afaf916c304050",
            "placeholder": "​",
            "style": "IPY_MODEL_5bd1e2be4b934291a22fdb210798021f",
            "value": "tokenizer.json: 100%"
          }
        },
        "71a5a45f48ba472b95a0ee07d702fb1e": {
          "model_module": "@jupyter-widgets/controls",
          "model_name": "FloatProgressModel",
          "model_module_version": "1.5.0",
          "state": {
            "_dom_classes": [],
            "_model_module": "@jupyter-widgets/controls",
            "_model_module_version": "1.5.0",
            "_model_name": "FloatProgressModel",
            "_view_count": null,
            "_view_module": "@jupyter-widgets/controls",
            "_view_module_version": "1.5.0",
            "_view_name": "ProgressView",
            "bar_style": "success",
            "description": "",
            "description_tooltip": null,
            "layout": "IPY_MODEL_5c358cd3907b41db8d37ddd15e634873",
            "max": 1961847,
            "min": 0,
            "orientation": "horizontal",
            "style": "IPY_MODEL_c418e95fd7d24b9f9f4fa3a7c29f41f6",
            "value": 1961847
          }
        },
        "d94a2de770b346e683676e8a77afb702": {
          "model_module": "@jupyter-widgets/controls",
          "model_name": "HTMLModel",
          "model_module_version": "1.5.0",
          "state": {
            "_dom_classes": [],
            "_model_module": "@jupyter-widgets/controls",
            "_model_module_version": "1.5.0",
            "_model_name": "HTMLModel",
            "_view_count": null,
            "_view_module": "@jupyter-widgets/controls",
            "_view_module_version": "1.5.0",
            "_view_name": "HTMLView",
            "description": "",
            "description_tooltip": null,
            "layout": "IPY_MODEL_f34989d2e3c646228abbc197fe107fa8",
            "placeholder": "​",
            "style": "IPY_MODEL_4f0e7acaa5ce43c6ac0357052878becf",
            "value": " 1.96M/1.96M [00:00&lt;00:00, 13.7MB/s]"
          }
        },
        "95cdf1f38ff64812bf45db5cded90ebf": {
          "model_module": "@jupyter-widgets/base",
          "model_name": "LayoutModel",
          "model_module_version": "1.2.0",
          "state": {
            "_model_module": "@jupyter-widgets/base",
            "_model_module_version": "1.2.0",
            "_model_name": "LayoutModel",
            "_view_count": null,
            "_view_module": "@jupyter-widgets/base",
            "_view_module_version": "1.2.0",
            "_view_name": "LayoutView",
            "align_content": null,
            "align_items": null,
            "align_self": null,
            "border": null,
            "bottom": null,
            "display": null,
            "flex": null,
            "flex_flow": null,
            "grid_area": null,
            "grid_auto_columns": null,
            "grid_auto_flow": null,
            "grid_auto_rows": null,
            "grid_column": null,
            "grid_gap": null,
            "grid_row": null,
            "grid_template_areas": null,
            "grid_template_columns": null,
            "grid_template_rows": null,
            "height": null,
            "justify_content": null,
            "justify_items": null,
            "left": null,
            "margin": null,
            "max_height": null,
            "max_width": null,
            "min_height": null,
            "min_width": null,
            "object_fit": null,
            "object_position": null,
            "order": null,
            "overflow": null,
            "overflow_x": null,
            "overflow_y": null,
            "padding": null,
            "right": null,
            "top": null,
            "visibility": null,
            "width": null
          }
        },
        "04ea47aec9dc4a0e85afaf916c304050": {
          "model_module": "@jupyter-widgets/base",
          "model_name": "LayoutModel",
          "model_module_version": "1.2.0",
          "state": {
            "_model_module": "@jupyter-widgets/base",
            "_model_module_version": "1.2.0",
            "_model_name": "LayoutModel",
            "_view_count": null,
            "_view_module": "@jupyter-widgets/base",
            "_view_module_version": "1.2.0",
            "_view_name": "LayoutView",
            "align_content": null,
            "align_items": null,
            "align_self": null,
            "border": null,
            "bottom": null,
            "display": null,
            "flex": null,
            "flex_flow": null,
            "grid_area": null,
            "grid_auto_columns": null,
            "grid_auto_flow": null,
            "grid_auto_rows": null,
            "grid_column": null,
            "grid_gap": null,
            "grid_row": null,
            "grid_template_areas": null,
            "grid_template_columns": null,
            "grid_template_rows": null,
            "height": null,
            "justify_content": null,
            "justify_items": null,
            "left": null,
            "margin": null,
            "max_height": null,
            "max_width": null,
            "min_height": null,
            "min_width": null,
            "object_fit": null,
            "object_position": null,
            "order": null,
            "overflow": null,
            "overflow_x": null,
            "overflow_y": null,
            "padding": null,
            "right": null,
            "top": null,
            "visibility": null,
            "width": null
          }
        },
        "5bd1e2be4b934291a22fdb210798021f": {
          "model_module": "@jupyter-widgets/controls",
          "model_name": "DescriptionStyleModel",
          "model_module_version": "1.5.0",
          "state": {
            "_model_module": "@jupyter-widgets/controls",
            "_model_module_version": "1.5.0",
            "_model_name": "DescriptionStyleModel",
            "_view_count": null,
            "_view_module": "@jupyter-widgets/base",
            "_view_module_version": "1.2.0",
            "_view_name": "StyleView",
            "description_width": ""
          }
        },
        "5c358cd3907b41db8d37ddd15e634873": {
          "model_module": "@jupyter-widgets/base",
          "model_name": "LayoutModel",
          "model_module_version": "1.2.0",
          "state": {
            "_model_module": "@jupyter-widgets/base",
            "_model_module_version": "1.2.0",
            "_model_name": "LayoutModel",
            "_view_count": null,
            "_view_module": "@jupyter-widgets/base",
            "_view_module_version": "1.2.0",
            "_view_name": "LayoutView",
            "align_content": null,
            "align_items": null,
            "align_self": null,
            "border": null,
            "bottom": null,
            "display": null,
            "flex": null,
            "flex_flow": null,
            "grid_area": null,
            "grid_auto_columns": null,
            "grid_auto_flow": null,
            "grid_auto_rows": null,
            "grid_column": null,
            "grid_gap": null,
            "grid_row": null,
            "grid_template_areas": null,
            "grid_template_columns": null,
            "grid_template_rows": null,
            "height": null,
            "justify_content": null,
            "justify_items": null,
            "left": null,
            "margin": null,
            "max_height": null,
            "max_width": null,
            "min_height": null,
            "min_width": null,
            "object_fit": null,
            "object_position": null,
            "order": null,
            "overflow": null,
            "overflow_x": null,
            "overflow_y": null,
            "padding": null,
            "right": null,
            "top": null,
            "visibility": null,
            "width": null
          }
        },
        "c418e95fd7d24b9f9f4fa3a7c29f41f6": {
          "model_module": "@jupyter-widgets/controls",
          "model_name": "ProgressStyleModel",
          "model_module_version": "1.5.0",
          "state": {
            "_model_module": "@jupyter-widgets/controls",
            "_model_module_version": "1.5.0",
            "_model_name": "ProgressStyleModel",
            "_view_count": null,
            "_view_module": "@jupyter-widgets/base",
            "_view_module_version": "1.2.0",
            "_view_name": "StyleView",
            "bar_color": null,
            "description_width": ""
          }
        },
        "f34989d2e3c646228abbc197fe107fa8": {
          "model_module": "@jupyter-widgets/base",
          "model_name": "LayoutModel",
          "model_module_version": "1.2.0",
          "state": {
            "_model_module": "@jupyter-widgets/base",
            "_model_module_version": "1.2.0",
            "_model_name": "LayoutModel",
            "_view_count": null,
            "_view_module": "@jupyter-widgets/base",
            "_view_module_version": "1.2.0",
            "_view_name": "LayoutView",
            "align_content": null,
            "align_items": null,
            "align_self": null,
            "border": null,
            "bottom": null,
            "display": null,
            "flex": null,
            "flex_flow": null,
            "grid_area": null,
            "grid_auto_columns": null,
            "grid_auto_flow": null,
            "grid_auto_rows": null,
            "grid_column": null,
            "grid_gap": null,
            "grid_row": null,
            "grid_template_areas": null,
            "grid_template_columns": null,
            "grid_template_rows": null,
            "height": null,
            "justify_content": null,
            "justify_items": null,
            "left": null,
            "margin": null,
            "max_height": null,
            "max_width": null,
            "min_height": null,
            "min_width": null,
            "object_fit": null,
            "object_position": null,
            "order": null,
            "overflow": null,
            "overflow_x": null,
            "overflow_y": null,
            "padding": null,
            "right": null,
            "top": null,
            "visibility": null,
            "width": null
          }
        },
        "4f0e7acaa5ce43c6ac0357052878becf": {
          "model_module": "@jupyter-widgets/controls",
          "model_name": "DescriptionStyleModel",
          "model_module_version": "1.5.0",
          "state": {
            "_model_module": "@jupyter-widgets/controls",
            "_model_module_version": "1.5.0",
            "_model_name": "DescriptionStyleModel",
            "_view_count": null,
            "_view_module": "@jupyter-widgets/base",
            "_view_module_version": "1.2.0",
            "_view_name": "StyleView",
            "description_width": ""
          }
        },
        "3e1f7628bce048e3ad188f10dd3140dd": {
          "model_module": "@jupyter-widgets/controls",
          "model_name": "HBoxModel",
          "model_module_version": "1.5.0",
          "state": {
            "_dom_classes": [],
            "_model_module": "@jupyter-widgets/controls",
            "_model_module_version": "1.5.0",
            "_model_name": "HBoxModel",
            "_view_count": null,
            "_view_module": "@jupyter-widgets/controls",
            "_view_module_version": "1.5.0",
            "_view_name": "HBoxView",
            "box_style": "",
            "children": [
              "IPY_MODEL_1fbebec91b494b089d1c890770a1ccc0",
              "IPY_MODEL_c9e29c090cdf402cae2dd6bc535dba20",
              "IPY_MODEL_eab8840d4ae14ca8bb6f338b3636c7cd"
            ],
            "layout": "IPY_MODEL_d9a20e6be4b347188cd33aadb105f61e"
          }
        },
        "1fbebec91b494b089d1c890770a1ccc0": {
          "model_module": "@jupyter-widgets/controls",
          "model_name": "HTMLModel",
          "model_module_version": "1.5.0",
          "state": {
            "_dom_classes": [],
            "_model_module": "@jupyter-widgets/controls",
            "_model_module_version": "1.5.0",
            "_model_name": "HTMLModel",
            "_view_count": null,
            "_view_module": "@jupyter-widgets/controls",
            "_view_module_version": "1.5.0",
            "_view_name": "HTMLView",
            "description": "",
            "description_tooltip": null,
            "layout": "IPY_MODEL_96d9f61b39554bca8fd416a1f8374334",
            "placeholder": "​",
            "style": "IPY_MODEL_c9c8e84e9e904003adbd918416a6b0d8",
            "value": "special_tokens_map.json: 100%"
          }
        },
        "c9e29c090cdf402cae2dd6bc535dba20": {
          "model_module": "@jupyter-widgets/controls",
          "model_name": "FloatProgressModel",
          "model_module_version": "1.5.0",
          "state": {
            "_dom_classes": [],
            "_model_module": "@jupyter-widgets/controls",
            "_model_module_version": "1.5.0",
            "_model_name": "FloatProgressModel",
            "_view_count": null,
            "_view_module": "@jupyter-widgets/controls",
            "_view_module_version": "1.5.0",
            "_view_name": "ProgressView",
            "bar_style": "success",
            "description": "",
            "description_tooltip": null,
            "layout": "IPY_MODEL_dcf0780a40fd4d778473999167d3900f",
            "max": 112,
            "min": 0,
            "orientation": "horizontal",
            "style": "IPY_MODEL_5f1a5f5433ec4538ae4c6c8e7f861e43",
            "value": 112
          }
        },
        "eab8840d4ae14ca8bb6f338b3636c7cd": {
          "model_module": "@jupyter-widgets/controls",
          "model_name": "HTMLModel",
          "model_module_version": "1.5.0",
          "state": {
            "_dom_classes": [],
            "_model_module": "@jupyter-widgets/controls",
            "_model_module_version": "1.5.0",
            "_model_name": "HTMLModel",
            "_view_count": null,
            "_view_module": "@jupyter-widgets/controls",
            "_view_module_version": "1.5.0",
            "_view_name": "HTMLView",
            "description": "",
            "description_tooltip": null,
            "layout": "IPY_MODEL_c523e4f56d484ce298d1953fabdf5c6c",
            "placeholder": "​",
            "style": "IPY_MODEL_8def672f1c8549dba6e6416d3cf741df",
            "value": " 112/112 [00:00&lt;00:00, 1.48kB/s]"
          }
        },
        "d9a20e6be4b347188cd33aadb105f61e": {
          "model_module": "@jupyter-widgets/base",
          "model_name": "LayoutModel",
          "model_module_version": "1.2.0",
          "state": {
            "_model_module": "@jupyter-widgets/base",
            "_model_module_version": "1.2.0",
            "_model_name": "LayoutModel",
            "_view_count": null,
            "_view_module": "@jupyter-widgets/base",
            "_view_module_version": "1.2.0",
            "_view_name": "LayoutView",
            "align_content": null,
            "align_items": null,
            "align_self": null,
            "border": null,
            "bottom": null,
            "display": null,
            "flex": null,
            "flex_flow": null,
            "grid_area": null,
            "grid_auto_columns": null,
            "grid_auto_flow": null,
            "grid_auto_rows": null,
            "grid_column": null,
            "grid_gap": null,
            "grid_row": null,
            "grid_template_areas": null,
            "grid_template_columns": null,
            "grid_template_rows": null,
            "height": null,
            "justify_content": null,
            "justify_items": null,
            "left": null,
            "margin": null,
            "max_height": null,
            "max_width": null,
            "min_height": null,
            "min_width": null,
            "object_fit": null,
            "object_position": null,
            "order": null,
            "overflow": null,
            "overflow_x": null,
            "overflow_y": null,
            "padding": null,
            "right": null,
            "top": null,
            "visibility": null,
            "width": null
          }
        },
        "96d9f61b39554bca8fd416a1f8374334": {
          "model_module": "@jupyter-widgets/base",
          "model_name": "LayoutModel",
          "model_module_version": "1.2.0",
          "state": {
            "_model_module": "@jupyter-widgets/base",
            "_model_module_version": "1.2.0",
            "_model_name": "LayoutModel",
            "_view_count": null,
            "_view_module": "@jupyter-widgets/base",
            "_view_module_version": "1.2.0",
            "_view_name": "LayoutView",
            "align_content": null,
            "align_items": null,
            "align_self": null,
            "border": null,
            "bottom": null,
            "display": null,
            "flex": null,
            "flex_flow": null,
            "grid_area": null,
            "grid_auto_columns": null,
            "grid_auto_flow": null,
            "grid_auto_rows": null,
            "grid_column": null,
            "grid_gap": null,
            "grid_row": null,
            "grid_template_areas": null,
            "grid_template_columns": null,
            "grid_template_rows": null,
            "height": null,
            "justify_content": null,
            "justify_items": null,
            "left": null,
            "margin": null,
            "max_height": null,
            "max_width": null,
            "min_height": null,
            "min_width": null,
            "object_fit": null,
            "object_position": null,
            "order": null,
            "overflow": null,
            "overflow_x": null,
            "overflow_y": null,
            "padding": null,
            "right": null,
            "top": null,
            "visibility": null,
            "width": null
          }
        },
        "c9c8e84e9e904003adbd918416a6b0d8": {
          "model_module": "@jupyter-widgets/controls",
          "model_name": "DescriptionStyleModel",
          "model_module_version": "1.5.0",
          "state": {
            "_model_module": "@jupyter-widgets/controls",
            "_model_module_version": "1.5.0",
            "_model_name": "DescriptionStyleModel",
            "_view_count": null,
            "_view_module": "@jupyter-widgets/base",
            "_view_module_version": "1.2.0",
            "_view_name": "StyleView",
            "description_width": ""
          }
        },
        "dcf0780a40fd4d778473999167d3900f": {
          "model_module": "@jupyter-widgets/base",
          "model_name": "LayoutModel",
          "model_module_version": "1.2.0",
          "state": {
            "_model_module": "@jupyter-widgets/base",
            "_model_module_version": "1.2.0",
            "_model_name": "LayoutModel",
            "_view_count": null,
            "_view_module": "@jupyter-widgets/base",
            "_view_module_version": "1.2.0",
            "_view_name": "LayoutView",
            "align_content": null,
            "align_items": null,
            "align_self": null,
            "border": null,
            "bottom": null,
            "display": null,
            "flex": null,
            "flex_flow": null,
            "grid_area": null,
            "grid_auto_columns": null,
            "grid_auto_flow": null,
            "grid_auto_rows": null,
            "grid_column": null,
            "grid_gap": null,
            "grid_row": null,
            "grid_template_areas": null,
            "grid_template_columns": null,
            "grid_template_rows": null,
            "height": null,
            "justify_content": null,
            "justify_items": null,
            "left": null,
            "margin": null,
            "max_height": null,
            "max_width": null,
            "min_height": null,
            "min_width": null,
            "object_fit": null,
            "object_position": null,
            "order": null,
            "overflow": null,
            "overflow_x": null,
            "overflow_y": null,
            "padding": null,
            "right": null,
            "top": null,
            "visibility": null,
            "width": null
          }
        },
        "5f1a5f5433ec4538ae4c6c8e7f861e43": {
          "model_module": "@jupyter-widgets/controls",
          "model_name": "ProgressStyleModel",
          "model_module_version": "1.5.0",
          "state": {
            "_model_module": "@jupyter-widgets/controls",
            "_model_module_version": "1.5.0",
            "_model_name": "ProgressStyleModel",
            "_view_count": null,
            "_view_module": "@jupyter-widgets/base",
            "_view_module_version": "1.2.0",
            "_view_name": "StyleView",
            "bar_color": null,
            "description_width": ""
          }
        },
        "c523e4f56d484ce298d1953fabdf5c6c": {
          "model_module": "@jupyter-widgets/base",
          "model_name": "LayoutModel",
          "model_module_version": "1.2.0",
          "state": {
            "_model_module": "@jupyter-widgets/base",
            "_model_module_version": "1.2.0",
            "_model_name": "LayoutModel",
            "_view_count": null,
            "_view_module": "@jupyter-widgets/base",
            "_view_module_version": "1.2.0",
            "_view_name": "LayoutView",
            "align_content": null,
            "align_items": null,
            "align_self": null,
            "border": null,
            "bottom": null,
            "display": null,
            "flex": null,
            "flex_flow": null,
            "grid_area": null,
            "grid_auto_columns": null,
            "grid_auto_flow": null,
            "grid_auto_rows": null,
            "grid_column": null,
            "grid_gap": null,
            "grid_row": null,
            "grid_template_areas": null,
            "grid_template_columns": null,
            "grid_template_rows": null,
            "height": null,
            "justify_content": null,
            "justify_items": null,
            "left": null,
            "margin": null,
            "max_height": null,
            "max_width": null,
            "min_height": null,
            "min_width": null,
            "object_fit": null,
            "object_position": null,
            "order": null,
            "overflow": null,
            "overflow_x": null,
            "overflow_y": null,
            "padding": null,
            "right": null,
            "top": null,
            "visibility": null,
            "width": null
          }
        },
        "8def672f1c8549dba6e6416d3cf741df": {
          "model_module": "@jupyter-widgets/controls",
          "model_name": "DescriptionStyleModel",
          "model_module_version": "1.5.0",
          "state": {
            "_model_module": "@jupyter-widgets/controls",
            "_model_module_version": "1.5.0",
            "_model_name": "DescriptionStyleModel",
            "_view_count": null,
            "_view_module": "@jupyter-widgets/base",
            "_view_module_version": "1.2.0",
            "_view_name": "StyleView",
            "description_width": ""
          }
        },
        "cf0c18b5b67a4c53b48d825ec7552b12": {
          "model_module": "@jupyter-widgets/controls",
          "model_name": "HBoxModel",
          "model_module_version": "1.5.0",
          "state": {
            "_dom_classes": [],
            "_model_module": "@jupyter-widgets/controls",
            "_model_module_version": "1.5.0",
            "_model_name": "HBoxModel",
            "_view_count": null,
            "_view_module": "@jupyter-widgets/controls",
            "_view_module_version": "1.5.0",
            "_view_name": "HBoxView",
            "box_style": "",
            "children": [
              "IPY_MODEL_e88c183618474110a4a23c7669cfb10a",
              "IPY_MODEL_6c4e204352b74955bbc291ac02355eb1",
              "IPY_MODEL_201ef2bd6efe4471a6e1cab9eb321b20"
            ],
            "layout": "IPY_MODEL_b48475d7de9742bcbad1d2d54bb09683"
          }
        },
        "e88c183618474110a4a23c7669cfb10a": {
          "model_module": "@jupyter-widgets/controls",
          "model_name": "HTMLModel",
          "model_module_version": "1.5.0",
          "state": {
            "_dom_classes": [],
            "_model_module": "@jupyter-widgets/controls",
            "_model_module_version": "1.5.0",
            "_model_name": "HTMLModel",
            "_view_count": null,
            "_view_module": "@jupyter-widgets/controls",
            "_view_module_version": "1.5.0",
            "_view_name": "HTMLView",
            "description": "",
            "description_tooltip": null,
            "layout": "IPY_MODEL_8ca3547ccbfd4eee8b3dbf10edc195bd",
            "placeholder": "​",
            "style": "IPY_MODEL_c1ffa9b18afc4366b8bc1a8793a38b7c",
            "value": "1_Pooling/config.json: 100%"
          }
        },
        "6c4e204352b74955bbc291ac02355eb1": {
          "model_module": "@jupyter-widgets/controls",
          "model_name": "FloatProgressModel",
          "model_module_version": "1.5.0",
          "state": {
            "_dom_classes": [],
            "_model_module": "@jupyter-widgets/controls",
            "_model_module_version": "1.5.0",
            "_model_name": "FloatProgressModel",
            "_view_count": null,
            "_view_module": "@jupyter-widgets/controls",
            "_view_module_version": "1.5.0",
            "_view_name": "ProgressView",
            "bar_style": "success",
            "description": "",
            "description_tooltip": null,
            "layout": "IPY_MODEL_99306fe87c0b481e98d7e80210cb2fee",
            "max": 190,
            "min": 0,
            "orientation": "horizontal",
            "style": "IPY_MODEL_03296395cc424298bf03aebf50719bb6",
            "value": 190
          }
        },
        "201ef2bd6efe4471a6e1cab9eb321b20": {
          "model_module": "@jupyter-widgets/controls",
          "model_name": "HTMLModel",
          "model_module_version": "1.5.0",
          "state": {
            "_dom_classes": [],
            "_model_module": "@jupyter-widgets/controls",
            "_model_module_version": "1.5.0",
            "_model_name": "HTMLModel",
            "_view_count": null,
            "_view_module": "@jupyter-widgets/controls",
            "_view_module_version": "1.5.0",
            "_view_name": "HTMLView",
            "description": "",
            "description_tooltip": null,
            "layout": "IPY_MODEL_27afe704dda04f5782f2267dcc96817d",
            "placeholder": "​",
            "style": "IPY_MODEL_efb34fe698764814adef05fea5f6949c",
            "value": " 190/190 [00:00&lt;00:00, 2.74kB/s]"
          }
        },
        "b48475d7de9742bcbad1d2d54bb09683": {
          "model_module": "@jupyter-widgets/base",
          "model_name": "LayoutModel",
          "model_module_version": "1.2.0",
          "state": {
            "_model_module": "@jupyter-widgets/base",
            "_model_module_version": "1.2.0",
            "_model_name": "LayoutModel",
            "_view_count": null,
            "_view_module": "@jupyter-widgets/base",
            "_view_module_version": "1.2.0",
            "_view_name": "LayoutView",
            "align_content": null,
            "align_items": null,
            "align_self": null,
            "border": null,
            "bottom": null,
            "display": null,
            "flex": null,
            "flex_flow": null,
            "grid_area": null,
            "grid_auto_columns": null,
            "grid_auto_flow": null,
            "grid_auto_rows": null,
            "grid_column": null,
            "grid_gap": null,
            "grid_row": null,
            "grid_template_areas": null,
            "grid_template_columns": null,
            "grid_template_rows": null,
            "height": null,
            "justify_content": null,
            "justify_items": null,
            "left": null,
            "margin": null,
            "max_height": null,
            "max_width": null,
            "min_height": null,
            "min_width": null,
            "object_fit": null,
            "object_position": null,
            "order": null,
            "overflow": null,
            "overflow_x": null,
            "overflow_y": null,
            "padding": null,
            "right": null,
            "top": null,
            "visibility": null,
            "width": null
          }
        },
        "8ca3547ccbfd4eee8b3dbf10edc195bd": {
          "model_module": "@jupyter-widgets/base",
          "model_name": "LayoutModel",
          "model_module_version": "1.2.0",
          "state": {
            "_model_module": "@jupyter-widgets/base",
            "_model_module_version": "1.2.0",
            "_model_name": "LayoutModel",
            "_view_count": null,
            "_view_module": "@jupyter-widgets/base",
            "_view_module_version": "1.2.0",
            "_view_name": "LayoutView",
            "align_content": null,
            "align_items": null,
            "align_self": null,
            "border": null,
            "bottom": null,
            "display": null,
            "flex": null,
            "flex_flow": null,
            "grid_area": null,
            "grid_auto_columns": null,
            "grid_auto_flow": null,
            "grid_auto_rows": null,
            "grid_column": null,
            "grid_gap": null,
            "grid_row": null,
            "grid_template_areas": null,
            "grid_template_columns": null,
            "grid_template_rows": null,
            "height": null,
            "justify_content": null,
            "justify_items": null,
            "left": null,
            "margin": null,
            "max_height": null,
            "max_width": null,
            "min_height": null,
            "min_width": null,
            "object_fit": null,
            "object_position": null,
            "order": null,
            "overflow": null,
            "overflow_x": null,
            "overflow_y": null,
            "padding": null,
            "right": null,
            "top": null,
            "visibility": null,
            "width": null
          }
        },
        "c1ffa9b18afc4366b8bc1a8793a38b7c": {
          "model_module": "@jupyter-widgets/controls",
          "model_name": "DescriptionStyleModel",
          "model_module_version": "1.5.0",
          "state": {
            "_model_module": "@jupyter-widgets/controls",
            "_model_module_version": "1.5.0",
            "_model_name": "DescriptionStyleModel",
            "_view_count": null,
            "_view_module": "@jupyter-widgets/base",
            "_view_module_version": "1.2.0",
            "_view_name": "StyleView",
            "description_width": ""
          }
        },
        "99306fe87c0b481e98d7e80210cb2fee": {
          "model_module": "@jupyter-widgets/base",
          "model_name": "LayoutModel",
          "model_module_version": "1.2.0",
          "state": {
            "_model_module": "@jupyter-widgets/base",
            "_model_module_version": "1.2.0",
            "_model_name": "LayoutModel",
            "_view_count": null,
            "_view_module": "@jupyter-widgets/base",
            "_view_module_version": "1.2.0",
            "_view_name": "LayoutView",
            "align_content": null,
            "align_items": null,
            "align_self": null,
            "border": null,
            "bottom": null,
            "display": null,
            "flex": null,
            "flex_flow": null,
            "grid_area": null,
            "grid_auto_columns": null,
            "grid_auto_flow": null,
            "grid_auto_rows": null,
            "grid_column": null,
            "grid_gap": null,
            "grid_row": null,
            "grid_template_areas": null,
            "grid_template_columns": null,
            "grid_template_rows": null,
            "height": null,
            "justify_content": null,
            "justify_items": null,
            "left": null,
            "margin": null,
            "max_height": null,
            "max_width": null,
            "min_height": null,
            "min_width": null,
            "object_fit": null,
            "object_position": null,
            "order": null,
            "overflow": null,
            "overflow_x": null,
            "overflow_y": null,
            "padding": null,
            "right": null,
            "top": null,
            "visibility": null,
            "width": null
          }
        },
        "03296395cc424298bf03aebf50719bb6": {
          "model_module": "@jupyter-widgets/controls",
          "model_name": "ProgressStyleModel",
          "model_module_version": "1.5.0",
          "state": {
            "_model_module": "@jupyter-widgets/controls",
            "_model_module_version": "1.5.0",
            "_model_name": "ProgressStyleModel",
            "_view_count": null,
            "_view_module": "@jupyter-widgets/base",
            "_view_module_version": "1.2.0",
            "_view_name": "StyleView",
            "bar_color": null,
            "description_width": ""
          }
        },
        "27afe704dda04f5782f2267dcc96817d": {
          "model_module": "@jupyter-widgets/base",
          "model_name": "LayoutModel",
          "model_module_version": "1.2.0",
          "state": {
            "_model_module": "@jupyter-widgets/base",
            "_model_module_version": "1.2.0",
            "_model_name": "LayoutModel",
            "_view_count": null,
            "_view_module": "@jupyter-widgets/base",
            "_view_module_version": "1.2.0",
            "_view_name": "LayoutView",
            "align_content": null,
            "align_items": null,
            "align_self": null,
            "border": null,
            "bottom": null,
            "display": null,
            "flex": null,
            "flex_flow": null,
            "grid_area": null,
            "grid_auto_columns": null,
            "grid_auto_flow": null,
            "grid_auto_rows": null,
            "grid_column": null,
            "grid_gap": null,
            "grid_row": null,
            "grid_template_areas": null,
            "grid_template_columns": null,
            "grid_template_rows": null,
            "height": null,
            "justify_content": null,
            "justify_items": null,
            "left": null,
            "margin": null,
            "max_height": null,
            "max_width": null,
            "min_height": null,
            "min_width": null,
            "object_fit": null,
            "object_position": null,
            "order": null,
            "overflow": null,
            "overflow_x": null,
            "overflow_y": null,
            "padding": null,
            "right": null,
            "top": null,
            "visibility": null,
            "width": null
          }
        },
        "efb34fe698764814adef05fea5f6949c": {
          "model_module": "@jupyter-widgets/controls",
          "model_name": "DescriptionStyleModel",
          "model_module_version": "1.5.0",
          "state": {
            "_model_module": "@jupyter-widgets/controls",
            "_model_module_version": "1.5.0",
            "_model_name": "DescriptionStyleModel",
            "_view_count": null,
            "_view_module": "@jupyter-widgets/base",
            "_view_module_version": "1.2.0",
            "_view_name": "StyleView",
            "description_width": ""
          }
        },
        "4cca015ed24a42f7a81be0fd9f5fddda": {
          "model_module": "@jupyter-widgets/controls",
          "model_name": "HBoxModel",
          "model_module_version": "1.5.0",
          "state": {
            "_dom_classes": [],
            "_model_module": "@jupyter-widgets/controls",
            "_model_module_version": "1.5.0",
            "_model_name": "HBoxModel",
            "_view_count": null,
            "_view_module": "@jupyter-widgets/controls",
            "_view_module_version": "1.5.0",
            "_view_name": "HBoxView",
            "box_style": "",
            "children": [
              "IPY_MODEL_18709e5d7c8d4d9ba99f831a6195d9a3",
              "IPY_MODEL_27c25be4a92e4a8884eb3ec943754e8b",
              "IPY_MODEL_de20902d55f04604912db9495ce701fc"
            ],
            "layout": "IPY_MODEL_22089057c1e34dc4a6731d399a42f72c"
          }
        },
        "18709e5d7c8d4d9ba99f831a6195d9a3": {
          "model_module": "@jupyter-widgets/controls",
          "model_name": "HTMLModel",
          "model_module_version": "1.5.0",
          "state": {
            "_dom_classes": [],
            "_model_module": "@jupyter-widgets/controls",
            "_model_module_version": "1.5.0",
            "_model_name": "HTMLModel",
            "_view_count": null,
            "_view_module": "@jupyter-widgets/controls",
            "_view_module_version": "1.5.0",
            "_view_name": "HTMLView",
            "description": "",
            "description_tooltip": null,
            "layout": "IPY_MODEL_6f1b2b2afdb449089a2ee9e9fe8e443d",
            "placeholder": "​",
            "style": "IPY_MODEL_e408db9fba104ba09273fe8d7bf8e6f2",
            "value": "2_Dense/config.json: 100%"
          }
        },
        "27c25be4a92e4a8884eb3ec943754e8b": {
          "model_module": "@jupyter-widgets/controls",
          "model_name": "FloatProgressModel",
          "model_module_version": "1.5.0",
          "state": {
            "_dom_classes": [],
            "_model_module": "@jupyter-widgets/controls",
            "_model_module_version": "1.5.0",
            "_model_name": "FloatProgressModel",
            "_view_count": null,
            "_view_module": "@jupyter-widgets/controls",
            "_view_module_version": "1.5.0",
            "_view_name": "ProgressView",
            "bar_style": "success",
            "description": "",
            "description_tooltip": null,
            "layout": "IPY_MODEL_38c6b87ae57240dba5453fff540ebc6b",
            "max": 114,
            "min": 0,
            "orientation": "horizontal",
            "style": "IPY_MODEL_124efebeb0284205b105eef498e8d436",
            "value": 114
          }
        },
        "de20902d55f04604912db9495ce701fc": {
          "model_module": "@jupyter-widgets/controls",
          "model_name": "HTMLModel",
          "model_module_version": "1.5.0",
          "state": {
            "_dom_classes": [],
            "_model_module": "@jupyter-widgets/controls",
            "_model_module_version": "1.5.0",
            "_model_name": "HTMLModel",
            "_view_count": null,
            "_view_module": "@jupyter-widgets/controls",
            "_view_module_version": "1.5.0",
            "_view_name": "HTMLView",
            "description": "",
            "description_tooltip": null,
            "layout": "IPY_MODEL_9264a42954ba4609ba915dcdd85070e0",
            "placeholder": "​",
            "style": "IPY_MODEL_9d9aff895e8d49b0baef1e002ee4622a",
            "value": " 114/114 [00:00&lt;00:00, 954B/s]"
          }
        },
        "22089057c1e34dc4a6731d399a42f72c": {
          "model_module": "@jupyter-widgets/base",
          "model_name": "LayoutModel",
          "model_module_version": "1.2.0",
          "state": {
            "_model_module": "@jupyter-widgets/base",
            "_model_module_version": "1.2.0",
            "_model_name": "LayoutModel",
            "_view_count": null,
            "_view_module": "@jupyter-widgets/base",
            "_view_module_version": "1.2.0",
            "_view_name": "LayoutView",
            "align_content": null,
            "align_items": null,
            "align_self": null,
            "border": null,
            "bottom": null,
            "display": null,
            "flex": null,
            "flex_flow": null,
            "grid_area": null,
            "grid_auto_columns": null,
            "grid_auto_flow": null,
            "grid_auto_rows": null,
            "grid_column": null,
            "grid_gap": null,
            "grid_row": null,
            "grid_template_areas": null,
            "grid_template_columns": null,
            "grid_template_rows": null,
            "height": null,
            "justify_content": null,
            "justify_items": null,
            "left": null,
            "margin": null,
            "max_height": null,
            "max_width": null,
            "min_height": null,
            "min_width": null,
            "object_fit": null,
            "object_position": null,
            "order": null,
            "overflow": null,
            "overflow_x": null,
            "overflow_y": null,
            "padding": null,
            "right": null,
            "top": null,
            "visibility": null,
            "width": null
          }
        },
        "6f1b2b2afdb449089a2ee9e9fe8e443d": {
          "model_module": "@jupyter-widgets/base",
          "model_name": "LayoutModel",
          "model_module_version": "1.2.0",
          "state": {
            "_model_module": "@jupyter-widgets/base",
            "_model_module_version": "1.2.0",
            "_model_name": "LayoutModel",
            "_view_count": null,
            "_view_module": "@jupyter-widgets/base",
            "_view_module_version": "1.2.0",
            "_view_name": "LayoutView",
            "align_content": null,
            "align_items": null,
            "align_self": null,
            "border": null,
            "bottom": null,
            "display": null,
            "flex": null,
            "flex_flow": null,
            "grid_area": null,
            "grid_auto_columns": null,
            "grid_auto_flow": null,
            "grid_auto_rows": null,
            "grid_column": null,
            "grid_gap": null,
            "grid_row": null,
            "grid_template_areas": null,
            "grid_template_columns": null,
            "grid_template_rows": null,
            "height": null,
            "justify_content": null,
            "justify_items": null,
            "left": null,
            "margin": null,
            "max_height": null,
            "max_width": null,
            "min_height": null,
            "min_width": null,
            "object_fit": null,
            "object_position": null,
            "order": null,
            "overflow": null,
            "overflow_x": null,
            "overflow_y": null,
            "padding": null,
            "right": null,
            "top": null,
            "visibility": null,
            "width": null
          }
        },
        "e408db9fba104ba09273fe8d7bf8e6f2": {
          "model_module": "@jupyter-widgets/controls",
          "model_name": "DescriptionStyleModel",
          "model_module_version": "1.5.0",
          "state": {
            "_model_module": "@jupyter-widgets/controls",
            "_model_module_version": "1.5.0",
            "_model_name": "DescriptionStyleModel",
            "_view_count": null,
            "_view_module": "@jupyter-widgets/base",
            "_view_module_version": "1.2.0",
            "_view_name": "StyleView",
            "description_width": ""
          }
        },
        "38c6b87ae57240dba5453fff540ebc6b": {
          "model_module": "@jupyter-widgets/base",
          "model_name": "LayoutModel",
          "model_module_version": "1.2.0",
          "state": {
            "_model_module": "@jupyter-widgets/base",
            "_model_module_version": "1.2.0",
            "_model_name": "LayoutModel",
            "_view_count": null,
            "_view_module": "@jupyter-widgets/base",
            "_view_module_version": "1.2.0",
            "_view_name": "LayoutView",
            "align_content": null,
            "align_items": null,
            "align_self": null,
            "border": null,
            "bottom": null,
            "display": null,
            "flex": null,
            "flex_flow": null,
            "grid_area": null,
            "grid_auto_columns": null,
            "grid_auto_flow": null,
            "grid_auto_rows": null,
            "grid_column": null,
            "grid_gap": null,
            "grid_row": null,
            "grid_template_areas": null,
            "grid_template_columns": null,
            "grid_template_rows": null,
            "height": null,
            "justify_content": null,
            "justify_items": null,
            "left": null,
            "margin": null,
            "max_height": null,
            "max_width": null,
            "min_height": null,
            "min_width": null,
            "object_fit": null,
            "object_position": null,
            "order": null,
            "overflow": null,
            "overflow_x": null,
            "overflow_y": null,
            "padding": null,
            "right": null,
            "top": null,
            "visibility": null,
            "width": null
          }
        },
        "124efebeb0284205b105eef498e8d436": {
          "model_module": "@jupyter-widgets/controls",
          "model_name": "ProgressStyleModel",
          "model_module_version": "1.5.0",
          "state": {
            "_model_module": "@jupyter-widgets/controls",
            "_model_module_version": "1.5.0",
            "_model_name": "ProgressStyleModel",
            "_view_count": null,
            "_view_module": "@jupyter-widgets/base",
            "_view_module_version": "1.2.0",
            "_view_name": "StyleView",
            "bar_color": null,
            "description_width": ""
          }
        },
        "9264a42954ba4609ba915dcdd85070e0": {
          "model_module": "@jupyter-widgets/base",
          "model_name": "LayoutModel",
          "model_module_version": "1.2.0",
          "state": {
            "_model_module": "@jupyter-widgets/base",
            "_model_module_version": "1.2.0",
            "_model_name": "LayoutModel",
            "_view_count": null,
            "_view_module": "@jupyter-widgets/base",
            "_view_module_version": "1.2.0",
            "_view_name": "LayoutView",
            "align_content": null,
            "align_items": null,
            "align_self": null,
            "border": null,
            "bottom": null,
            "display": null,
            "flex": null,
            "flex_flow": null,
            "grid_area": null,
            "grid_auto_columns": null,
            "grid_auto_flow": null,
            "grid_auto_rows": null,
            "grid_column": null,
            "grid_gap": null,
            "grid_row": null,
            "grid_template_areas": null,
            "grid_template_columns": null,
            "grid_template_rows": null,
            "height": null,
            "justify_content": null,
            "justify_items": null,
            "left": null,
            "margin": null,
            "max_height": null,
            "max_width": null,
            "min_height": null,
            "min_width": null,
            "object_fit": null,
            "object_position": null,
            "order": null,
            "overflow": null,
            "overflow_x": null,
            "overflow_y": null,
            "padding": null,
            "right": null,
            "top": null,
            "visibility": null,
            "width": null
          }
        },
        "9d9aff895e8d49b0baef1e002ee4622a": {
          "model_module": "@jupyter-widgets/controls",
          "model_name": "DescriptionStyleModel",
          "model_module_version": "1.5.0",
          "state": {
            "_model_module": "@jupyter-widgets/controls",
            "_model_module_version": "1.5.0",
            "_model_name": "DescriptionStyleModel",
            "_view_count": null,
            "_view_module": "@jupyter-widgets/base",
            "_view_module_version": "1.2.0",
            "_view_name": "StyleView",
            "description_width": ""
          }
        },
        "dcb8ebe572f7415aa107a89573e53794": {
          "model_module": "@jupyter-widgets/controls",
          "model_name": "HBoxModel",
          "model_module_version": "1.5.0",
          "state": {
            "_dom_classes": [],
            "_model_module": "@jupyter-widgets/controls",
            "_model_module_version": "1.5.0",
            "_model_name": "HBoxModel",
            "_view_count": null,
            "_view_module": "@jupyter-widgets/controls",
            "_view_module_version": "1.5.0",
            "_view_name": "HBoxView",
            "box_style": "",
            "children": [
              "IPY_MODEL_ad178902425e4e828a83ba73623124f8",
              "IPY_MODEL_5f9acd1c6090418eb2ca2bb3b7a20987",
              "IPY_MODEL_359855a8cea44d37bfe4886683a2f173"
            ],
            "layout": "IPY_MODEL_cee31dfb53d34f3c934a8c96f04ea10e"
          }
        },
        "ad178902425e4e828a83ba73623124f8": {
          "model_module": "@jupyter-widgets/controls",
          "model_name": "HTMLModel",
          "model_module_version": "1.5.0",
          "state": {
            "_dom_classes": [],
            "_model_module": "@jupyter-widgets/controls",
            "_model_module_version": "1.5.0",
            "_model_name": "HTMLModel",
            "_view_count": null,
            "_view_module": "@jupyter-widgets/controls",
            "_view_module_version": "1.5.0",
            "_view_name": "HTMLView",
            "description": "",
            "description_tooltip": null,
            "layout": "IPY_MODEL_33afe9ece04c449e8eebd1f52ba5ff38",
            "placeholder": "​",
            "style": "IPY_MODEL_254a71b98e324159ab627675af464931",
            "value": "model.safetensors: 100%"
          }
        },
        "5f9acd1c6090418eb2ca2bb3b7a20987": {
          "model_module": "@jupyter-widgets/controls",
          "model_name": "FloatProgressModel",
          "model_module_version": "1.5.0",
          "state": {
            "_dom_classes": [],
            "_model_module": "@jupyter-widgets/controls",
            "_model_module_version": "1.5.0",
            "_model_name": "FloatProgressModel",
            "_view_count": null,
            "_view_module": "@jupyter-widgets/controls",
            "_view_module_version": "1.5.0",
            "_view_name": "ProgressView",
            "bar_style": "success",
            "description": "",
            "description_tooltip": null,
            "layout": "IPY_MODEL_db511ec6b7cb4411ac0c56e8c15d45b7",
            "max": 1575104,
            "min": 0,
            "orientation": "horizontal",
            "style": "IPY_MODEL_1f5e1b9a915b4f3ea5cc1be8f381320f",
            "value": 1575104
          }
        },
        "359855a8cea44d37bfe4886683a2f173": {
          "model_module": "@jupyter-widgets/controls",
          "model_name": "HTMLModel",
          "model_module_version": "1.5.0",
          "state": {
            "_dom_classes": [],
            "_model_module": "@jupyter-widgets/controls",
            "_model_module_version": "1.5.0",
            "_model_name": "HTMLModel",
            "_view_count": null,
            "_view_module": "@jupyter-widgets/controls",
            "_view_module_version": "1.5.0",
            "_view_name": "HTMLView",
            "description": "",
            "description_tooltip": null,
            "layout": "IPY_MODEL_52118194599f42eea130967e51c6bb55",
            "placeholder": "​",
            "style": "IPY_MODEL_08989c98eb1c45de88741e4259343c94",
            "value": " 1.58M/1.58M [00:00&lt;00:00, 10.3MB/s]"
          }
        },
        "cee31dfb53d34f3c934a8c96f04ea10e": {
          "model_module": "@jupyter-widgets/base",
          "model_name": "LayoutModel",
          "model_module_version": "1.2.0",
          "state": {
            "_model_module": "@jupyter-widgets/base",
            "_model_module_version": "1.2.0",
            "_model_name": "LayoutModel",
            "_view_count": null,
            "_view_module": "@jupyter-widgets/base",
            "_view_module_version": "1.2.0",
            "_view_name": "LayoutView",
            "align_content": null,
            "align_items": null,
            "align_self": null,
            "border": null,
            "bottom": null,
            "display": null,
            "flex": null,
            "flex_flow": null,
            "grid_area": null,
            "grid_auto_columns": null,
            "grid_auto_flow": null,
            "grid_auto_rows": null,
            "grid_column": null,
            "grid_gap": null,
            "grid_row": null,
            "grid_template_areas": null,
            "grid_template_columns": null,
            "grid_template_rows": null,
            "height": null,
            "justify_content": null,
            "justify_items": null,
            "left": null,
            "margin": null,
            "max_height": null,
            "max_width": null,
            "min_height": null,
            "min_width": null,
            "object_fit": null,
            "object_position": null,
            "order": null,
            "overflow": null,
            "overflow_x": null,
            "overflow_y": null,
            "padding": null,
            "right": null,
            "top": null,
            "visibility": null,
            "width": null
          }
        },
        "33afe9ece04c449e8eebd1f52ba5ff38": {
          "model_module": "@jupyter-widgets/base",
          "model_name": "LayoutModel",
          "model_module_version": "1.2.0",
          "state": {
            "_model_module": "@jupyter-widgets/base",
            "_model_module_version": "1.2.0",
            "_model_name": "LayoutModel",
            "_view_count": null,
            "_view_module": "@jupyter-widgets/base",
            "_view_module_version": "1.2.0",
            "_view_name": "LayoutView",
            "align_content": null,
            "align_items": null,
            "align_self": null,
            "border": null,
            "bottom": null,
            "display": null,
            "flex": null,
            "flex_flow": null,
            "grid_area": null,
            "grid_auto_columns": null,
            "grid_auto_flow": null,
            "grid_auto_rows": null,
            "grid_column": null,
            "grid_gap": null,
            "grid_row": null,
            "grid_template_areas": null,
            "grid_template_columns": null,
            "grid_template_rows": null,
            "height": null,
            "justify_content": null,
            "justify_items": null,
            "left": null,
            "margin": null,
            "max_height": null,
            "max_width": null,
            "min_height": null,
            "min_width": null,
            "object_fit": null,
            "object_position": null,
            "order": null,
            "overflow": null,
            "overflow_x": null,
            "overflow_y": null,
            "padding": null,
            "right": null,
            "top": null,
            "visibility": null,
            "width": null
          }
        },
        "254a71b98e324159ab627675af464931": {
          "model_module": "@jupyter-widgets/controls",
          "model_name": "DescriptionStyleModel",
          "model_module_version": "1.5.0",
          "state": {
            "_model_module": "@jupyter-widgets/controls",
            "_model_module_version": "1.5.0",
            "_model_name": "DescriptionStyleModel",
            "_view_count": null,
            "_view_module": "@jupyter-widgets/base",
            "_view_module_version": "1.2.0",
            "_view_name": "StyleView",
            "description_width": ""
          }
        },
        "db511ec6b7cb4411ac0c56e8c15d45b7": {
          "model_module": "@jupyter-widgets/base",
          "model_name": "LayoutModel",
          "model_module_version": "1.2.0",
          "state": {
            "_model_module": "@jupyter-widgets/base",
            "_model_module_version": "1.2.0",
            "_model_name": "LayoutModel",
            "_view_count": null,
            "_view_module": "@jupyter-widgets/base",
            "_view_module_version": "1.2.0",
            "_view_name": "LayoutView",
            "align_content": null,
            "align_items": null,
            "align_self": null,
            "border": null,
            "bottom": null,
            "display": null,
            "flex": null,
            "flex_flow": null,
            "grid_area": null,
            "grid_auto_columns": null,
            "grid_auto_flow": null,
            "grid_auto_rows": null,
            "grid_column": null,
            "grid_gap": null,
            "grid_row": null,
            "grid_template_areas": null,
            "grid_template_columns": null,
            "grid_template_rows": null,
            "height": null,
            "justify_content": null,
            "justify_items": null,
            "left": null,
            "margin": null,
            "max_height": null,
            "max_width": null,
            "min_height": null,
            "min_width": null,
            "object_fit": null,
            "object_position": null,
            "order": null,
            "overflow": null,
            "overflow_x": null,
            "overflow_y": null,
            "padding": null,
            "right": null,
            "top": null,
            "visibility": null,
            "width": null
          }
        },
        "1f5e1b9a915b4f3ea5cc1be8f381320f": {
          "model_module": "@jupyter-widgets/controls",
          "model_name": "ProgressStyleModel",
          "model_module_version": "1.5.0",
          "state": {
            "_model_module": "@jupyter-widgets/controls",
            "_model_module_version": "1.5.0",
            "_model_name": "ProgressStyleModel",
            "_view_count": null,
            "_view_module": "@jupyter-widgets/base",
            "_view_module_version": "1.2.0",
            "_view_name": "StyleView",
            "bar_color": null,
            "description_width": ""
          }
        },
        "52118194599f42eea130967e51c6bb55": {
          "model_module": "@jupyter-widgets/base",
          "model_name": "LayoutModel",
          "model_module_version": "1.2.0",
          "state": {
            "_model_module": "@jupyter-widgets/base",
            "_model_module_version": "1.2.0",
            "_model_name": "LayoutModel",
            "_view_count": null,
            "_view_module": "@jupyter-widgets/base",
            "_view_module_version": "1.2.0",
            "_view_name": "LayoutView",
            "align_content": null,
            "align_items": null,
            "align_self": null,
            "border": null,
            "bottom": null,
            "display": null,
            "flex": null,
            "flex_flow": null,
            "grid_area": null,
            "grid_auto_columns": null,
            "grid_auto_flow": null,
            "grid_auto_rows": null,
            "grid_column": null,
            "grid_gap": null,
            "grid_row": null,
            "grid_template_areas": null,
            "grid_template_columns": null,
            "grid_template_rows": null,
            "height": null,
            "justify_content": null,
            "justify_items": null,
            "left": null,
            "margin": null,
            "max_height": null,
            "max_width": null,
            "min_height": null,
            "min_width": null,
            "object_fit": null,
            "object_position": null,
            "order": null,
            "overflow": null,
            "overflow_x": null,
            "overflow_y": null,
            "padding": null,
            "right": null,
            "top": null,
            "visibility": null,
            "width": null
          }
        },
        "08989c98eb1c45de88741e4259343c94": {
          "model_module": "@jupyter-widgets/controls",
          "model_name": "DescriptionStyleModel",
          "model_module_version": "1.5.0",
          "state": {
            "_model_module": "@jupyter-widgets/controls",
            "_model_module_version": "1.5.0",
            "_model_name": "DescriptionStyleModel",
            "_view_count": null,
            "_view_module": "@jupyter-widgets/base",
            "_view_module_version": "1.2.0",
            "_view_name": "StyleView",
            "description_width": ""
          }
        },
        "e5a6d5942e4b42b6a2df7abadbedbceb": {
          "model_module": "@jupyter-widgets/controls",
          "model_name": "HBoxModel",
          "model_module_version": "1.5.0",
          "state": {
            "_dom_classes": [],
            "_model_module": "@jupyter-widgets/controls",
            "_model_module_version": "1.5.0",
            "_model_name": "HBoxModel",
            "_view_count": null,
            "_view_module": "@jupyter-widgets/controls",
            "_view_module_version": "1.5.0",
            "_view_name": "HBoxView",
            "box_style": "",
            "children": [
              "IPY_MODEL_b3c4d08ec943456e8cc99cd7df3cc32f",
              "IPY_MODEL_b595ff0f1a324c109a45c5715d178308",
              "IPY_MODEL_2ef4111b30f444618f5eaaf37c947a2b"
            ],
            "layout": "IPY_MODEL_9c2300dfe12b49868e834e95d142c41d"
          }
        },
        "b3c4d08ec943456e8cc99cd7df3cc32f": {
          "model_module": "@jupyter-widgets/controls",
          "model_name": "HTMLModel",
          "model_module_version": "1.5.0",
          "state": {
            "_dom_classes": [],
            "_model_module": "@jupyter-widgets/controls",
            "_model_module_version": "1.5.0",
            "_model_name": "HTMLModel",
            "_view_count": null,
            "_view_module": "@jupyter-widgets/controls",
            "_view_module_version": "1.5.0",
            "_view_name": "HTMLView",
            "description": "",
            "description_tooltip": null,
            "layout": "IPY_MODEL_e3911e3db99444a59cc3e4b28c584257",
            "placeholder": "​",
            "style": "IPY_MODEL_0fd95c605d4f459ca1ce9a7110daded6",
            "value": "pytorch_model.bin: 100%"
          }
        },
        "b595ff0f1a324c109a45c5715d178308": {
          "model_module": "@jupyter-widgets/controls",
          "model_name": "FloatProgressModel",
          "model_module_version": "1.5.0",
          "state": {
            "_dom_classes": [],
            "_model_module": "@jupyter-widgets/controls",
            "_model_module_version": "1.5.0",
            "_model_name": "FloatProgressModel",
            "_view_count": null,
            "_view_module": "@jupyter-widgets/controls",
            "_view_module_version": "1.5.0",
            "_view_name": "ProgressView",
            "bar_style": "success",
            "description": "",
            "description_tooltip": null,
            "layout": "IPY_MODEL_3a6a61953c6c4008a9abc59e8c380579",
            "max": 1575975,
            "min": 0,
            "orientation": "horizontal",
            "style": "IPY_MODEL_fcc186c10d124f64b8847b3b990d5335",
            "value": 1575975
          }
        },
        "2ef4111b30f444618f5eaaf37c947a2b": {
          "model_module": "@jupyter-widgets/controls",
          "model_name": "HTMLModel",
          "model_module_version": "1.5.0",
          "state": {
            "_dom_classes": [],
            "_model_module": "@jupyter-widgets/controls",
            "_model_module_version": "1.5.0",
            "_model_name": "HTMLModel",
            "_view_count": null,
            "_view_module": "@jupyter-widgets/controls",
            "_view_module_version": "1.5.0",
            "_view_name": "HTMLView",
            "description": "",
            "description_tooltip": null,
            "layout": "IPY_MODEL_7b4a1fde791b44309e3cf8b9e2158de1",
            "placeholder": "​",
            "style": "IPY_MODEL_3c07000ca4ae458b80bda61b81b91db3",
            "value": " 1.58M/1.58M [00:00&lt;00:00, 9.81MB/s]"
          }
        },
        "9c2300dfe12b49868e834e95d142c41d": {
          "model_module": "@jupyter-widgets/base",
          "model_name": "LayoutModel",
          "model_module_version": "1.2.0",
          "state": {
            "_model_module": "@jupyter-widgets/base",
            "_model_module_version": "1.2.0",
            "_model_name": "LayoutModel",
            "_view_count": null,
            "_view_module": "@jupyter-widgets/base",
            "_view_module_version": "1.2.0",
            "_view_name": "LayoutView",
            "align_content": null,
            "align_items": null,
            "align_self": null,
            "border": null,
            "bottom": null,
            "display": null,
            "flex": null,
            "flex_flow": null,
            "grid_area": null,
            "grid_auto_columns": null,
            "grid_auto_flow": null,
            "grid_auto_rows": null,
            "grid_column": null,
            "grid_gap": null,
            "grid_row": null,
            "grid_template_areas": null,
            "grid_template_columns": null,
            "grid_template_rows": null,
            "height": null,
            "justify_content": null,
            "justify_items": null,
            "left": null,
            "margin": null,
            "max_height": null,
            "max_width": null,
            "min_height": null,
            "min_width": null,
            "object_fit": null,
            "object_position": null,
            "order": null,
            "overflow": null,
            "overflow_x": null,
            "overflow_y": null,
            "padding": null,
            "right": null,
            "top": null,
            "visibility": null,
            "width": null
          }
        },
        "e3911e3db99444a59cc3e4b28c584257": {
          "model_module": "@jupyter-widgets/base",
          "model_name": "LayoutModel",
          "model_module_version": "1.2.0",
          "state": {
            "_model_module": "@jupyter-widgets/base",
            "_model_module_version": "1.2.0",
            "_model_name": "LayoutModel",
            "_view_count": null,
            "_view_module": "@jupyter-widgets/base",
            "_view_module_version": "1.2.0",
            "_view_name": "LayoutView",
            "align_content": null,
            "align_items": null,
            "align_self": null,
            "border": null,
            "bottom": null,
            "display": null,
            "flex": null,
            "flex_flow": null,
            "grid_area": null,
            "grid_auto_columns": null,
            "grid_auto_flow": null,
            "grid_auto_rows": null,
            "grid_column": null,
            "grid_gap": null,
            "grid_row": null,
            "grid_template_areas": null,
            "grid_template_columns": null,
            "grid_template_rows": null,
            "height": null,
            "justify_content": null,
            "justify_items": null,
            "left": null,
            "margin": null,
            "max_height": null,
            "max_width": null,
            "min_height": null,
            "min_width": null,
            "object_fit": null,
            "object_position": null,
            "order": null,
            "overflow": null,
            "overflow_x": null,
            "overflow_y": null,
            "padding": null,
            "right": null,
            "top": null,
            "visibility": null,
            "width": null
          }
        },
        "0fd95c605d4f459ca1ce9a7110daded6": {
          "model_module": "@jupyter-widgets/controls",
          "model_name": "DescriptionStyleModel",
          "model_module_version": "1.5.0",
          "state": {
            "_model_module": "@jupyter-widgets/controls",
            "_model_module_version": "1.5.0",
            "_model_name": "DescriptionStyleModel",
            "_view_count": null,
            "_view_module": "@jupyter-widgets/base",
            "_view_module_version": "1.2.0",
            "_view_name": "StyleView",
            "description_width": ""
          }
        },
        "3a6a61953c6c4008a9abc59e8c380579": {
          "model_module": "@jupyter-widgets/base",
          "model_name": "LayoutModel",
          "model_module_version": "1.2.0",
          "state": {
            "_model_module": "@jupyter-widgets/base",
            "_model_module_version": "1.2.0",
            "_model_name": "LayoutModel",
            "_view_count": null,
            "_view_module": "@jupyter-widgets/base",
            "_view_module_version": "1.2.0",
            "_view_name": "LayoutView",
            "align_content": null,
            "align_items": null,
            "align_self": null,
            "border": null,
            "bottom": null,
            "display": null,
            "flex": null,
            "flex_flow": null,
            "grid_area": null,
            "grid_auto_columns": null,
            "grid_auto_flow": null,
            "grid_auto_rows": null,
            "grid_column": null,
            "grid_gap": null,
            "grid_row": null,
            "grid_template_areas": null,
            "grid_template_columns": null,
            "grid_template_rows": null,
            "height": null,
            "justify_content": null,
            "justify_items": null,
            "left": null,
            "margin": null,
            "max_height": null,
            "max_width": null,
            "min_height": null,
            "min_width": null,
            "object_fit": null,
            "object_position": null,
            "order": null,
            "overflow": null,
            "overflow_x": null,
            "overflow_y": null,
            "padding": null,
            "right": null,
            "top": null,
            "visibility": null,
            "width": null
          }
        },
        "fcc186c10d124f64b8847b3b990d5335": {
          "model_module": "@jupyter-widgets/controls",
          "model_name": "ProgressStyleModel",
          "model_module_version": "1.5.0",
          "state": {
            "_model_module": "@jupyter-widgets/controls",
            "_model_module_version": "1.5.0",
            "_model_name": "ProgressStyleModel",
            "_view_count": null,
            "_view_module": "@jupyter-widgets/base",
            "_view_module_version": "1.2.0",
            "_view_name": "StyleView",
            "bar_color": null,
            "description_width": ""
          }
        },
        "7b4a1fde791b44309e3cf8b9e2158de1": {
          "model_module": "@jupyter-widgets/base",
          "model_name": "LayoutModel",
          "model_module_version": "1.2.0",
          "state": {
            "_model_module": "@jupyter-widgets/base",
            "_model_module_version": "1.2.0",
            "_model_name": "LayoutModel",
            "_view_count": null,
            "_view_module": "@jupyter-widgets/base",
            "_view_module_version": "1.2.0",
            "_view_name": "LayoutView",
            "align_content": null,
            "align_items": null,
            "align_self": null,
            "border": null,
            "bottom": null,
            "display": null,
            "flex": null,
            "flex_flow": null,
            "grid_area": null,
            "grid_auto_columns": null,
            "grid_auto_flow": null,
            "grid_auto_rows": null,
            "grid_column": null,
            "grid_gap": null,
            "grid_row": null,
            "grid_template_areas": null,
            "grid_template_columns": null,
            "grid_template_rows": null,
            "height": null,
            "justify_content": null,
            "justify_items": null,
            "left": null,
            "margin": null,
            "max_height": null,
            "max_width": null,
            "min_height": null,
            "min_width": null,
            "object_fit": null,
            "object_position": null,
            "order": null,
            "overflow": null,
            "overflow_x": null,
            "overflow_y": null,
            "padding": null,
            "right": null,
            "top": null,
            "visibility": null,
            "width": null
          }
        },
        "3c07000ca4ae458b80bda61b81b91db3": {
          "model_module": "@jupyter-widgets/controls",
          "model_name": "DescriptionStyleModel",
          "model_module_version": "1.5.0",
          "state": {
            "_model_module": "@jupyter-widgets/controls",
            "_model_module_version": "1.5.0",
            "_model_name": "DescriptionStyleModel",
            "_view_count": null,
            "_view_module": "@jupyter-widgets/base",
            "_view_module_version": "1.2.0",
            "_view_name": "StyleView",
            "description_width": ""
          }
        }
      }
    }
  },
  "cells": [
    {
      "cell_type": "markdown",
      "source": [
        "# Дистрибутивная семантика\n",
        "\n"
      ],
      "metadata": {
        "id": "_UNeHdHLv_nw"
      }
    },
    {
      "cell_type": "markdown",
      "source": [
        "На этом занятии мы:\n",
        "\n",
        "\n",
        "1.   Попробуем предобученные модели Word2Vec;\n",
        "2.   Обучим свою собственную модель словарных эмбеддингов;\n",
        "3.   Визуализируем полученные эмбеддинги;\n",
        "4.   Обучим модель эмбеддингов Doc2Vec;\n",
        "5.   (*) Посмотрим на модели SentenceTransformers и начнем делать параллельный корпус.\n",
        "\n"
      ],
      "metadata": {
        "id": "dsEzwLotwLVw"
      }
    },
    {
      "cell_type": "markdown",
      "source": [
        "Мы снова поработаем с корпусом русской литературы, но слегка по-другому предобработанным."
      ],
      "metadata": {
        "id": "_wKW4x8hxRXP"
      }
    },
    {
      "cell_type": "code",
      "source": [
        "import numpy as np"
      ],
      "metadata": {
        "id": "rknI7JDhnDi4"
      },
      "execution_count": 2,
      "outputs": []
    },
    {
      "cell_type": "code",
      "execution_count": 3,
      "metadata": {
        "id": "9LHn9JX695Rh"
      },
      "outputs": [],
      "source": [
        "from zipfile import ZipFile\n",
        "\n",
        "path_to_archive = '/content/drive/MyDrive/ML_training_data/ruslit_sentence_lemmas.zip'\n",
        "\n",
        "def texts_from_zip(path_to_archive):\n",
        "    texts = []\n",
        "    with ZipFile(path_to_archive) as zip_archive:\n",
        "        for name in zip_archive.namelist():\n",
        "            if '.txt' in name:\n",
        "                text = zip_archive.read(name)\n",
        "                text = text.decode('utf-8')\n",
        "                texts.append(text)\n",
        "    return texts\n",
        "\n",
        "def get_filenames(path_to_archive):\n",
        "\n",
        "    names = []\n",
        "\n",
        "    with ZipFile(path_to_archive) as zip_archive:\n",
        "        for name in zip_archive.namelist():\n",
        "            if '.txt' in name:\n",
        "                names.append(name.split('/')[1])\n",
        "\n",
        "    return names"
      ]
    },
    {
      "cell_type": "code",
      "source": [
        "names = get_filenames(path_to_archive)"
      ],
      "metadata": {
        "id": "X30c7NrM_JHJ"
      },
      "execution_count": 4,
      "outputs": []
    },
    {
      "cell_type": "code",
      "source": [
        "names[:10]"
      ],
      "metadata": {
        "colab": {
          "base_uri": "https://localhost:8080/"
        },
        "id": "Kw28yBT1_POJ",
        "outputId": "edf652ee-bfed-4aa4-f60a-43e7546aa3df"
      },
      "execution_count": null,
      "outputs": [
        {
          "output_type": "execute_result",
          "data": {
            "text/plain": [
              "['Chekhov_Тоска.txt',\n",
              " 'Chekhov_Крыжовник.txt',\n",
              " 'Chekhov_Дорогая собака.txt',\n",
              " 'Chekhov_Два скандала.txt',\n",
              " 'Chekhov_Детвора.txt',\n",
              " 'Chekhov_Дома.txt',\n",
              " 'Chekhov_Драма на охоте.txt',\n",
              " 'Chekhov_Дипломат.txt',\n",
              " 'Chekhov_Бумажник.txt',\n",
              " 'Chekhov_Архиерей.txt']"
            ]
          },
          "metadata": {},
          "execution_count": 4
        }
      ]
    },
    {
      "cell_type": "code",
      "source": [
        "texts = texts_from_zip(path_to_archive)"
      ],
      "metadata": {
        "id": "qEEZDCf-_RQR"
      },
      "execution_count": 5,
      "outputs": []
    },
    {
      "cell_type": "markdown",
      "source": [
        "Тексты в корпусе лемматизированы, пунктуация сохранена, каждое предложение начинается с новой строки. Абзацы разделены двумя знаками абзаца."
      ],
      "metadata": {
        "id": "f_R_Z3dIx_kL"
      }
    },
    {
      "cell_type": "code",
      "source": [
        "print(texts[0][:500])"
      ],
      "metadata": {
        "colab": {
          "base_uri": "https://localhost:8080/"
        },
        "id": "2nWeHHY1_YUN",
        "outputId": "bd06a2f5-a1b1-4cfb-f94e-53c516710bc5"
      },
      "execution_count": null,
      "outputs": [
        {
          "output_type": "stream",
          "name": "stdout",
          "text": [
            "антон чехов\n",
            " \n",
            " тоска\n",
            " \n",
            " кто повем печаль мой ? ..\n",
            " \n",
            " \n",
            " \n",
            " вечерний сумерки .\n",
            " крупный мокрый снег лениво кружиться около только что зажженных фонарь и тонкий мягкий пласт ложиться на крыша , лошадиный спина , плечо , шапка .\n",
            " извозчик иона потапов весь бел , как привидение .\n",
            " он согнуться , насколько только возможный согнуться живой тело , сидеть на козёл и не шевельнется .\n",
            " упади на него целый сугроб , то и тогда бы , казаться , он не найти нужный стряхивать с себя снег ...\n",
            " его лошадёнка тоже б\n"
          ]
        }
      ]
    },
    {
      "cell_type": "markdown",
      "source": [
        "## Предобученные эмбеддинги"
      ],
      "metadata": {
        "id": "3iJFIN_fyS3N"
      }
    },
    {
      "cell_type": "markdown",
      "source": [
        "Мы будем работать с библиотекой gensim, с которой вы, возможно, уже знакомы:"
      ],
      "metadata": {
        "id": "bi0JIoJMysV2"
      }
    },
    {
      "cell_type": "code",
      "source": [
        "import multiprocessing\n",
        "import gensim\n",
        "from gensim.models import Word2Vec"
      ],
      "metadata": {
        "id": "aCdtB9_f_bQk"
      },
      "execution_count": 6,
      "outputs": []
    },
    {
      "cell_type": "code",
      "source": [
        "import gensim.downloader"
      ],
      "metadata": {
        "id": "zVue1ZtdFxNM"
      },
      "execution_count": 7,
      "outputs": []
    },
    {
      "cell_type": "code",
      "source": [
        "import re"
      ],
      "metadata": {
        "id": "zq8Ac_yw7A5S"
      },
      "execution_count": 8,
      "outputs": []
    },
    {
      "cell_type": "code",
      "source": [
        "print(list(gensim.downloader.info()['models'].keys()))"
      ],
      "metadata": {
        "colab": {
          "base_uri": "https://localhost:8080/"
        },
        "id": "T5S8yXywFy6i",
        "outputId": "002b1a5e-e54e-4900-ba3b-7fc25d7b9016"
      },
      "execution_count": null,
      "outputs": [
        {
          "output_type": "stream",
          "name": "stdout",
          "text": [
            "['fasttext-wiki-news-subwords-300', 'conceptnet-numberbatch-17-06-300', 'word2vec-ruscorpora-300', 'word2vec-google-news-300', 'glove-wiki-gigaword-50', 'glove-wiki-gigaword-100', 'glove-wiki-gigaword-200', 'glove-wiki-gigaword-300', 'glove-twitter-25', 'glove-twitter-50', 'glove-twitter-100', 'glove-twitter-200', '__testing_word2vec-matrix-synopsis']\n"
          ]
        }
      ]
    },
    {
      "cell_type": "markdown",
      "source": [
        "Выберем эмбеддинги русскоязычных текстов из НКРЯ:"
      ],
      "metadata": {
        "id": "juqCVYZtyyPK"
      }
    },
    {
      "cell_type": "code",
      "source": [
        "rus_vectors = gensim.downloader.load('word2vec-ruscorpora-300')"
      ],
      "metadata": {
        "colab": {
          "base_uri": "https://localhost:8080/"
        },
        "id": "zoQjrDUIF6u6",
        "outputId": "ac58c346-1bae-41de-fbcd-84ee37d33ecb"
      },
      "execution_count": null,
      "outputs": [
        {
          "output_type": "stream",
          "name": "stdout",
          "text": [
            "[==================================================] 100.0% 198.8/198.8MB downloaded\n"
          ]
        }
      ]
    },
    {
      "cell_type": "markdown",
      "source": [
        "Данные эмбеддинги были обучены не только на словах, но и на частях речи. Авторы использовали тагсет Universal Dependencies: https://universaldependencies.org/u/pos/all.html. Поэтому для использования этих эмбеддингов всякий раз необходимо указывать части речи для слов."
      ],
      "metadata": {
        "id": "Rg2jOx86Huyv"
      }
    },
    {
      "cell_type": "markdown",
      "source": [
        "Цифры, которые вы видите - это значение [косинусного подобия](https://en.wikipedia.org/wiki/Cosine_similarity) векторов, т.е. их близости в гиперпространстве."
      ],
      "metadata": {
        "id": "zsj596MtIPv2"
      }
    },
    {
      "cell_type": "markdown",
      "source": [
        "Больше про метод most_similar здесь: https://radimrehurek.com/gensim_3.8.3/models/keyedvectors.html#gensim.models.keyedvectors.WordEmbeddingsKeyedVectors.most_similar"
      ],
      "metadata": {
        "id": "wkKZF1kYHlZ0"
      }
    },
    {
      "cell_type": "code",
      "source": [
        "rus_vectors.most_similar('тоска_NOUN')"
      ],
      "metadata": {
        "colab": {
          "base_uri": "https://localhost:8080/"
        },
        "id": "pUpNvDVgCaXW",
        "outputId": "63c09652-f15b-47ec-c907-0f98b2eefbe5"
      },
      "execution_count": null,
      "outputs": [
        {
          "output_type": "execute_result",
          "data": {
            "text/plain": [
              "[('грусть_NOUN', 0.7532758116722107),\n",
              " ('тоскливый_ADJ', 0.7276431322097778),\n",
              " ('скука_NOUN', 0.70046067237854),\n",
              " ('отчаяние_NOUN', 0.6835792064666748),\n",
              " ('печаль_NOUN', 0.6749533414840698),\n",
              " ('томление_NOUN', 0.6522095799446106),\n",
              " ('щемить_VERB', 0.6411985158920288),\n",
              " ('одиночество_NOUN', 0.6314155459403992),\n",
              " ('безысходный_ADJ', 0.6304125785827637),\n",
              " ('сиротливость_NOUN', 0.6237829327583313)]"
            ]
          },
          "metadata": {},
          "execution_count": 14
        }
      ]
    },
    {
      "cell_type": "code",
      "source": [
        "rus_vectors.similarity('тоска_NOUN', 'тосковать_VERB')"
      ],
      "metadata": {
        "colab": {
          "base_uri": "https://localhost:8080/"
        },
        "id": "ujtrxhFEH878",
        "outputId": "0d359557-f2ae-4a62-8b89-315e8f775892"
      },
      "execution_count": null,
      "outputs": [
        {
          "output_type": "execute_result",
          "data": {
            "text/plain": [
              "0.6213922"
            ]
          },
          "metadata": {},
          "execution_count": 15
        }
      ]
    },
    {
      "cell_type": "code",
      "source": [
        "rus_vectors.similarity('тоска_NOUN', 'грусть_NOUN')"
      ],
      "metadata": {
        "colab": {
          "base_uri": "https://localhost:8080/"
        },
        "id": "mYnXvmI-Caaw",
        "outputId": "909f46c3-a079-4408-86cd-d0aab4310c71"
      },
      "execution_count": null,
      "outputs": [
        {
          "output_type": "execute_result",
          "data": {
            "text/plain": [
              "0.75327575"
            ]
          },
          "metadata": {},
          "execution_count": 16
        }
      ]
    },
    {
      "cell_type": "code",
      "source": [
        "rus_vectors.similarity('тоска_NOUN', 'радость_NOUN')"
      ],
      "metadata": {
        "colab": {
          "base_uri": "https://localhost:8080/"
        },
        "id": "ZzLyqhPHCaer",
        "outputId": "430ff5e4-95e4-44c1-a6a3-2478db8f2f2c"
      },
      "execution_count": null,
      "outputs": [
        {
          "output_type": "execute_result",
          "data": {
            "text/plain": [
              "0.5180429"
            ]
          },
          "metadata": {},
          "execution_count": 17
        }
      ]
    },
    {
      "cell_type": "code",
      "source": [
        "rus_vectors.doesnt_match(['тоска_NOUN', 'радость_NOUN', 'отчаяние_NOUN'])"
      ],
      "metadata": {
        "colab": {
          "base_uri": "https://localhost:8080/",
          "height": 38
        },
        "id": "vc8vb_GAIlyZ",
        "outputId": "df2bc5c1-c403-4d28-a9ff-91dd1747c101"
      },
      "execution_count": null,
      "outputs": [
        {
          "output_type": "execute_result",
          "data": {
            "text/plain": [
              "'радость_NOUN'"
            ],
            "application/vnd.google.colaboratory.intrinsic+json": {
              "type": "string"
            }
          },
          "metadata": {},
          "execution_count": 18
        }
      ]
    },
    {
      "cell_type": "code",
      "source": [
        "rus_vectors.most_similar('лень_NOUN')"
      ],
      "metadata": {
        "colab": {
          "base_uri": "https://localhost:8080/"
        },
        "id": "CE6ynwzzIlsg",
        "outputId": "08cccc56-bcd7-41f9-d84d-10337588661a"
      },
      "execution_count": null,
      "outputs": [
        {
          "output_type": "execute_result",
          "data": {
            "text/plain": [
              "[('леность_NOUN', 0.6878393292427063),\n",
              " ('лень_ADV', 0.5810495615005493),\n",
              " ('ленивый_ADJ', 0.5645227432250977),\n",
              " ('бездельничанье_NOUN', 0.5599988102912903),\n",
              " ('беспечность_NOUN', 0.552087128162384),\n",
              " ('праздность_NOUN', 0.5447825193405151),\n",
              " ('вялость_NOUN', 0.544233500957489),\n",
              " ('апатия_NOUN', 0.5218923091888428),\n",
              " ('лениться_VERB', 0.5218523740768433),\n",
              " ('тупость_NOUN', 0.5195971727371216)]"
            ]
          },
          "metadata": {},
          "execution_count": 19
        }
      ]
    },
    {
      "cell_type": "code",
      "source": [
        "rus_vectors.most_similar(positive=['лень_NOUN'], negative=['скука_NOUN'])"
      ],
      "metadata": {
        "colab": {
          "base_uri": "https://localhost:8080/"
        },
        "id": "gJKU_YG4IlvW",
        "outputId": "0c7df010-b7cc-4419-d74f-fe43211dbb6e"
      },
      "execution_count": null,
      "outputs": [
        {
          "output_type": "execute_result",
          "data": {
            "text/plain": [
              "[('леность_NOUN', 0.263216108083725),\n",
              " ('вороватость_NOUN', 0.2622070908546448),\n",
              " ('разгильдяйство_NOUN', 0.2539580166339874),\n",
              " ('лень_ADV', 0.24934443831443787),\n",
              " ('рендель_NOUN', 0.23809291422367096),\n",
              " ('медлительность_NOUN', 0.2233199179172516),\n",
              " ('даровитость_NOUN', 0.2212759107351303),\n",
              " ('одаренность_NOUN', 0.21651142835617065),\n",
              " ('афонина_NOUN', 0.21571074426174164),\n",
              " ('негибкость_NOUN', 0.21570219099521637)]"
            ]
          },
          "metadata": {},
          "execution_count": 20
        }
      ]
    },
    {
      "cell_type": "code",
      "source": [
        "rus_vectors.most_similar(positive=['осень_NOUN', 'листва_NOUN'])"
      ],
      "metadata": {
        "colab": {
          "base_uri": "https://localhost:8080/"
        },
        "id": "yfOJHtPfIlpn",
        "outputId": "4989a2ea-91e5-40ed-daea-e7e98a2a2f0d"
      },
      "execution_count": null,
      "outputs": [
        {
          "output_type": "execute_result",
          "data": {
            "text/plain": [
              "[('весна_NOUN', 0.7488692998886108),\n",
              " ('осенний_ADJ', 0.7415097951889038),\n",
              " ('весенний_ADJ', 0.6742664575576782),\n",
              " ('зима_NOUN', 0.6607397794723511),\n",
              " ('лето_NOUN', 0.6604876518249512),\n",
              " ('клен_NOUN', 0.6305406093597412),\n",
              " ('сокодвижение_NOUN', 0.6193812489509583),\n",
              " ('береза_NOUN', 0.6152108311653137),\n",
              " ('раннеосенний_ADJ', 0.6058405637741089),\n",
              " ('форзиция_NOUN', 0.6045244336128235)]"
            ]
          },
          "metadata": {},
          "execution_count": 21
        }
      ]
    },
    {
      "cell_type": "code",
      "source": [
        "rus_vectors.most_similar(positive=['осень_NOUN', 'листва_NOUN'], negative=['зеленый_ADJ'])"
      ],
      "metadata": {
        "colab": {
          "base_uri": "https://localhost:8080/"
        },
        "id": "iSiGil02Ilmu",
        "outputId": "a76e81d3-3144-4809-81d8-eb70296affec"
      },
      "execution_count": null,
      "outputs": [
        {
          "output_type": "execute_result",
          "data": {
            "text/plain": [
              "[('весна_NOUN', 0.6418746709823608),\n",
              " ('зима_NOUN', 0.5667860507965088),\n",
              " ('лето_NOUN', 0.5569875240325928),\n",
              " ('осенний_ADJ', 0.5528203248977661),\n",
              " ('весенний_ADJ', 0.4916786551475525),\n",
              " ('предзимье_NOUN', 0.48045268654823303),\n",
              " ('заморозок_NOUN', 0.47773516178131104),\n",
              " ('сокодвижение_NOUN', 0.47724783420562744),\n",
              " ('малоснежный_ADJ', 0.45434558391571045),\n",
              " ('ненастье_NOUN', 0.4524815082550049)]"
            ]
          },
          "metadata": {},
          "execution_count": 22
        }
      ]
    },
    {
      "cell_type": "markdown",
      "source": [
        "Тесты \"king - man + woman\":"
      ],
      "metadata": {
        "id": "_K_m_aP8zuNY"
      }
    },
    {
      "cell_type": "code",
      "source": [
        "rus_vectors.most_similar(positive=['король_NOUN', 'женщина_NOUN'], negative=['мужчина_NOUN'])"
      ],
      "metadata": {
        "colab": {
          "base_uri": "https://localhost:8080/"
        },
        "id": "nnzr6MZpIle4",
        "outputId": "41f94fe9-bb80-4169-e2fd-5c20e05d275a"
      },
      "execution_count": null,
      "outputs": [
        {
          "output_type": "execute_result",
          "data": {
            "text/plain": [
              "[('королева_NOUN', 0.7313904762268066),\n",
              " ('герцог_NOUN', 0.6502388715744019),\n",
              " ('принцесса_NOUN', 0.6266285181045532),\n",
              " ('герцогиня_NOUN', 0.6240381598472595),\n",
              " ('королевство_NOUN', 0.6094207167625427),\n",
              " ('зюдерманландский_ADJ', 0.6084389686584473),\n",
              " ('дурлахский_ADJ', 0.608166515827179),\n",
              " ('ульрик::элеонора_NOUN', 0.6073107123374939),\n",
              " ('максимилианов_NOUN', 0.6057004332542419),\n",
              " ('принц_NOUN', 0.5984029173851013)]"
            ]
          },
          "metadata": {},
          "execution_count": 23
        }
      ]
    },
    {
      "cell_type": "code",
      "source": [
        "rus_vectors.most_similar(positive=['князь_NOUN', 'женщина_NOUN'], negative=['мужчина_NOUN'])"
      ],
      "metadata": {
        "colab": {
          "base_uri": "https://localhost:8080/"
        },
        "id": "zS3rsl-VIj_2",
        "outputId": "43f1edd9-f482-4beb-f1bd-bb3de83f6353"
      },
      "execution_count": null,
      "outputs": [
        {
          "output_type": "execute_result",
          "data": {
            "text/plain": [
              "[('княгиня_NOUN', 0.7481854557991028),\n",
              " ('княжна_NOUN', 0.670515775680542),\n",
              " ('государь_NOUN', 0.6269280314445496),\n",
              " ('мстиславский::воротынский_NOUN', 0.5931291580200195),\n",
              " ('овчинин_NOUN', 0.5918590426445007),\n",
              " ('боярин_NOUN', 0.5866243839263916),\n",
              " ('долгорукий_ADJ', 0.5839124321937561),\n",
              " ('черторижский_ADJ', 0.579303503036499),\n",
              " ('долгоруков_NOUN', 0.5769927501678467),\n",
              " ('щенятев_NOUN', 0.5751998424530029)]"
            ]
          },
          "metadata": {},
          "execution_count": 24
        }
      ]
    },
    {
      "cell_type": "markdown",
      "source": [
        "## Обучение собственной модели Word2Vec"
      ],
      "metadata": {
        "id": "jP8_2o1Y0dfc"
      }
    },
    {
      "cell_type": "markdown",
      "source": [
        "Используем наши тексты для того, чтобы обучить собственные эмбеддинги."
      ],
      "metadata": {
        "id": "gn_T_H1K1CoS"
      }
    },
    {
      "cell_type": "markdown",
      "source": [
        "Документация: https://radimrehurek.com/gensim/models/word2vec.html#gensim.models.word2vec.Word2Vec"
      ],
      "metadata": {
        "id": "LpbeGXuoTnte"
      }
    },
    {
      "cell_type": "markdown",
      "source": [
        "Сначала нам необходимо поделить тексты на предложения:"
      ],
      "metadata": {
        "id": "kF7r2k9C1y_J"
      }
    },
    {
      "cell_type": "code",
      "source": [
        "ruslit_sentences = []\n",
        "\n",
        "for text in texts:\n",
        "  sents = text.split('\\n')\n",
        "  for sent in sents:\n",
        "    if len(sent) > 5:\n",
        "      ruslit_sentences.append(sent)"
      ],
      "metadata": {
        "id": "_XlReo18Vqve"
      },
      "execution_count": null,
      "outputs": []
    },
    {
      "cell_type": "code",
      "source": [
        "len(ruslit_sentences)"
      ],
      "metadata": {
        "colab": {
          "base_uri": "https://localhost:8080/"
        },
        "id": "VZSYsRbPV-a8",
        "outputId": "b7729993-a01d-42c5-a166-dc898b544266"
      },
      "execution_count": null,
      "outputs": [
        {
          "output_type": "execute_result",
          "data": {
            "text/plain": [
              "460905"
            ]
          },
          "metadata": {},
          "execution_count": 26
        }
      ]
    },
    {
      "cell_type": "code",
      "source": [
        "ruslit_sentences[:10]"
      ],
      "metadata": {
        "colab": {
          "base_uri": "https://localhost:8080/"
        },
        "id": "Gqz7JTFeWAfq",
        "outputId": "5041f805-7419-40e1-b3d1-b6de1011ae31"
      },
      "execution_count": null,
      "outputs": [
        {
          "output_type": "execute_result",
          "data": {
            "text/plain": [
              "['антон чехов',\n",
              " ' тоска',\n",
              " ' кто повем печаль мой ? ..',\n",
              " ' вечерний сумерки .',\n",
              " ' крупный мокрый снег лениво кружиться около только что зажженных фонарь и тонкий мягкий пласт ложиться на крыша , лошадиный спина , плечо , шапка .',\n",
              " ' извозчик иона потапов весь бел , как привидение .',\n",
              " ' он согнуться , насколько только возможный согнуться живой тело , сидеть на козёл и не шевельнется .',\n",
              " ' упади на него целый сугроб , то и тогда бы , казаться , он не найти нужный стряхивать с себя снег ...',\n",
              " ' его лошадёнка тоже бел и неподвижный .',\n",
              " ' своею неподвижность , угловатость форма и палкообразной прямизною нога она даже вблизи похожий на копеечный пряничный лошадка .']"
            ]
          },
          "metadata": {},
          "execution_count": 27
        }
      ]
    },
    {
      "cell_type": "code",
      "source": [
        "tokenized_sentences = [re.findall('\\w+', s) for s in ruslit_sentences]"
      ],
      "metadata": {
        "id": "25Yc2lN2UryE"
      },
      "execution_count": null,
      "outputs": []
    },
    {
      "cell_type": "code",
      "source": [
        "tokenized_sentences[10]"
      ],
      "metadata": {
        "colab": {
          "base_uri": "https://localhost:8080/"
        },
        "id": "U_1QTd6Z7MES",
        "outputId": "695c78f8-32f0-4a6a-ee76-7a868fcc22b9"
      },
      "execution_count": null,
      "outputs": [
        {
          "output_type": "execute_result",
          "data": {
            "text/plain": [
              "['она', 'по', 'весь', 'вероятность', 'погрузить', 'в', 'мысль']"
            ]
          },
          "metadata": {},
          "execution_count": 29
        }
      ]
    },
    {
      "cell_type": "markdown",
      "source": [
        "Теперь можно собирать модель."
      ],
      "metadata": {
        "id": "NYUO_jTv12KE"
      }
    },
    {
      "cell_type": "code",
      "source": [
        "# техническая штука для распределения вычислений\n",
        "cores = multiprocessing.cpu_count()"
      ],
      "metadata": {
        "id": "n_z4zcac_r6L"
      },
      "execution_count": null,
      "outputs": []
    },
    {
      "cell_type": "code",
      "source": [
        "cores"
      ],
      "metadata": {
        "colab": {
          "base_uri": "https://localhost:8080/"
        },
        "id": "x_iwVhyhGP1I",
        "outputId": "f8e5a999-162e-4f39-a45f-01597e30862f"
      },
      "execution_count": null,
      "outputs": [
        {
          "output_type": "execute_result",
          "data": {
            "text/plain": [
              "2"
            ]
          },
          "metadata": {},
          "execution_count": 31
        }
      ]
    },
    {
      "cell_type": "markdown",
      "source": [
        "\n",
        "\n",
        "*   min_count: игнорировать все слова, частота которых меньше, чем этот параметр;\n",
        "*   window: размер окна справа и слева;\n",
        "*   sample: параметр, занижающий встречаемость в датасете слишком часто повторяющихся слов;\n",
        "*   alpha, min_alpha: параметры, отвечающие за learning rate;\n",
        "*   negative: контроль negative sampling, определяющий, сколько негативных примеров брать на каждое слово;\n",
        "*   workers: параметр для распределения вычислений.\n",
        "\n",
        "\n",
        "Данная модель использует метод CBOW. Если хотите попробовать Skip-gram, выставьте параметр sg=1.\n",
        "\n"
      ],
      "metadata": {
        "id": "qSnbijQ918me"
      }
    },
    {
      "cell_type": "markdown",
      "source": [
        "**В gensim необходимо сначала определить модель со всеми параметрами, затем построить словарь модели, а уже потом тренировать ее.**"
      ],
      "metadata": {
        "id": "1YWydR9y3YKZ"
      }
    },
    {
      "cell_type": "code",
      "source": [
        "w2v_model = Word2Vec(min_count=5,\n",
        "                     window=2,\n",
        "                     sample=1e-5,\n",
        "                     alpha=0.03,\n",
        "                     min_alpha=0.0007,\n",
        "                     negative=20,\n",
        "                     #sg=1,\n",
        "                     workers=cores-1)"
      ],
      "metadata": {
        "id": "6MwLygyP_tVz"
      },
      "execution_count": null,
      "outputs": []
    },
    {
      "cell_type": "code",
      "source": [
        "w2v_model.build_vocab(tokenized_sentences)"
      ],
      "metadata": {
        "id": "3rRkAtNT7OJ5"
      },
      "execution_count": null,
      "outputs": []
    },
    {
      "cell_type": "code",
      "source": [
        "w2v_model.corpus_count"
      ],
      "metadata": {
        "colab": {
          "base_uri": "https://localhost:8080/"
        },
        "id": "cGR82SPtHQX0",
        "outputId": "3ce35a19-d450-4c17-ceef-160a6d683e2e"
      },
      "execution_count": null,
      "outputs": [
        {
          "output_type": "execute_result",
          "data": {
            "text/plain": [
              "460905"
            ]
          },
          "metadata": {},
          "execution_count": 34
        }
      ]
    },
    {
      "cell_type": "code",
      "source": [
        "%%time\n",
        "w2v_model.train(tokenized_sentences, total_examples=w2v_model.corpus_count, epochs=50)"
      ],
      "metadata": {
        "colab": {
          "base_uri": "https://localhost:8080/"
        },
        "id": "Dj6rgnfJ7YVF",
        "outputId": "c4888886-fb13-4068-dad1-053f92f30b18"
      },
      "execution_count": null,
      "outputs": [
        {
          "output_type": "stream",
          "name": "stdout",
          "text": [
            "CPU times: user 13min 9s, sys: 3.87 s, total: 13min 13s\n",
            "Wall time: 13min 1s\n"
          ]
        },
        {
          "output_type": "execute_result",
          "data": {
            "text/plain": [
              "(84533469, 290540700)"
            ]
          },
          "metadata": {},
          "execution_count": 35
        }
      ]
    },
    {
      "cell_type": "markdown",
      "source": [
        "Обратите внимание, что для вычисления близости мы используем не сам объект модели, а объект KeyedVectors, хранящийся в атрибуте .wv. Мы делаем это, поскольку после окончания тренировки нам уже не нужен весь объект модели, а нужны только ее веса."
      ],
      "metadata": {
        "id": "DxF6iAM55i_y"
      }
    },
    {
      "cell_type": "code",
      "source": [
        "w2v_model.wv.most_similar('извозчик')"
      ],
      "metadata": {
        "colab": {
          "base_uri": "https://localhost:8080/"
        },
        "id": "OhZdQ1RhBc_f",
        "outputId": "88082f72-b8c8-4fe3-8c64-0913dde9f198"
      },
      "execution_count": null,
      "outputs": [
        {
          "output_type": "execute_result",
          "data": {
            "text/plain": [
              "[('ломовой', 0.7180550694465637),\n",
              " ('кучер', 0.620125412940979),\n",
              " ('лошадь', 0.6064531803131104),\n",
              " ('форейтор', 0.6012964844703674),\n",
              " ('извозчичий', 0.5952063798904419),\n",
              " ('погонять', 0.5783917307853699),\n",
              " ('седок', 0.5779308080673218),\n",
              " ('тележка', 0.5595625042915344),\n",
              " ('мул', 0.5486466884613037),\n",
              " ('осетин', 0.542962908744812)]"
            ]
          },
          "metadata": {},
          "execution_count": 33
        }
      ]
    },
    {
      "cell_type": "code",
      "source": [
        "w2v_model.wv.most_similar(positive=['анна', 'шея'])"
      ],
      "metadata": {
        "colab": {
          "base_uri": "https://localhost:8080/"
        },
        "id": "lLJHqQ57H1MW",
        "outputId": "915edb2f-9ace-4a1a-f906-50f075c85517"
      },
      "execution_count": null,
      "outputs": [
        {
          "output_type": "execute_result",
          "data": {
            "text/plain": [
              "[('княгиню', 0.5667309761047363),\n",
              " ('плечи', 0.5617896914482117),\n",
              " ('она', 0.5502958297729492),\n",
              " ('четки', 0.5472614765167236),\n",
              " ('долли', 0.5448707342147827),\n",
              " ('обвить', 0.5430574417114258),\n",
              " ('марья', 0.5376743674278259),\n",
              " ('вытягивала', 0.5336405038833618),\n",
              " ('наташа', 0.5330254435539246),\n",
              " ('рука', 0.5283046960830688)]"
            ]
          },
          "metadata": {},
          "execution_count": 34
        }
      ]
    },
    {
      "cell_type": "markdown",
      "source": [
        "Очередной тест \"король - мужчина + женщина\":"
      ],
      "metadata": {
        "id": "T30_atGx3srI"
      }
    },
    {
      "cell_type": "code",
      "source": [
        "w2v_model.wv.most_similar(positive=['князь', 'женщина'], negative=['мужчина'])"
      ],
      "metadata": {
        "colab": {
          "base_uri": "https://localhost:8080/"
        },
        "id": "ZHn-DVFCX9rY",
        "outputId": "b876974d-89a5-440e-9b5d-100b5301976c"
      },
      "execution_count": null,
      "outputs": [
        {
          "output_type": "execute_result",
          "data": {
            "text/plain": [
              "[('княжна', 0.6063000559806824),\n",
              " ('наташа', 0.6015898585319519),\n",
              " ('андрей', 0.5954779982566833),\n",
              " ('анна', 0.5682858824729919),\n",
              " ('болконского', 0.5506341457366943),\n",
              " ('помолвка', 0.5464277863502502),\n",
              " ('князю', 0.5364720821380615),\n",
              " ('мышкин', 0.5294171571731567),\n",
              " ('александрович', 0.529383659362793),\n",
              " ('дмитриевич', 0.5249395370483398)]"
            ]
          },
          "metadata": {},
          "execution_count": 35
        }
      ]
    },
    {
      "cell_type": "markdown",
      "source": [
        "## Визуализация эмбеддингов"
      ],
      "metadata": {
        "id": "vTOcJZ3s3zrH"
      }
    },
    {
      "cell_type": "markdown",
      "source": [
        "Мы уже познакомились с техникой снижения размерности векторов. Таким образом можно сжать и эмбеддинги до двухмерных точек, чтобы отрисовать их на плоскости."
      ],
      "metadata": {
        "id": "BZWAI5zi32R5"
      }
    },
    {
      "cell_type": "markdown",
      "source": [
        "Давайте отрисуем 100 самых частотных слов для каждого автора в нашей коллекции."
      ],
      "metadata": {
        "id": "V7uZYEsj3_yK"
      }
    },
    {
      "cell_type": "code",
      "source": [
        "authors = [i.split('_')[0] for i in names]"
      ],
      "metadata": {
        "id": "1GacT36EIG9Y"
      },
      "execution_count": null,
      "outputs": []
    },
    {
      "cell_type": "code",
      "source": [
        "from collections import defaultdict, Counter"
      ],
      "metadata": {
        "id": "cvewLjkmMLd_"
      },
      "execution_count": null,
      "outputs": []
    },
    {
      "cell_type": "code",
      "source": [
        "author_to_text = defaultdict(list)\n",
        "\n",
        "for author, text in zip(authors, texts):\n",
        "    author_to_text[author].append(text)"
      ],
      "metadata": {
        "id": "7Dzg-zFZMM1W"
      },
      "execution_count": null,
      "outputs": []
    },
    {
      "cell_type": "code",
      "source": [
        "# стоп-слова не удалены из корпуса, поэтому нам надо удалить их сейчас\n",
        "import nltk\n",
        "nltk.download('stopwords')"
      ],
      "metadata": {
        "colab": {
          "base_uri": "https://localhost:8080/"
        },
        "id": "zywhHAmFN-gj",
        "outputId": "5c7ff04c-f4ca-49e1-e18a-dc0994b065a1"
      },
      "execution_count": null,
      "outputs": [
        {
          "output_type": "stream",
          "name": "stderr",
          "text": [
            "[nltk_data] Downloading package stopwords to /root/nltk_data...\n",
            "[nltk_data]   Unzipping corpora/stopwords.zip.\n"
          ]
        },
        {
          "output_type": "execute_result",
          "data": {
            "text/plain": [
              "True"
            ]
          },
          "metadata": {},
          "execution_count": 39
        }
      ]
    },
    {
      "cell_type": "code",
      "source": [
        "from nltk.corpus import stopwords\n",
        "ru_stop_words = stopwords.words('russian')"
      ],
      "metadata": {
        "id": "YkbCzPrMN1BF"
      },
      "execution_count": null,
      "outputs": []
    },
    {
      "cell_type": "markdown",
      "source": [
        "Построим вложенный словарь, который для каждого автора будет хранить полный список используемых автором слов и их частот:"
      ],
      "metadata": {
        "id": "Tc-RlwX74R-U"
      }
    },
    {
      "cell_type": "code",
      "source": [
        "popular_words_per_author = defaultdict(dict)\n",
        "\n",
        "for k, v in author_to_text.items():\n",
        "    for text in v:\n",
        "        c = Counter(text.split())\n",
        "        for stop_word in ru_stop_words:\n",
        "            c.pop(stop_word, None)\n",
        "        popular_words_per_author[k].update(c)"
      ],
      "metadata": {
        "id": "qWVluuGYMVYs"
      },
      "execution_count": null,
      "outputs": []
    },
    {
      "cell_type": "markdown",
      "source": [
        "Также вычислим количество уникальных слов в текстах каждого автора:"
      ],
      "metadata": {
        "id": "qCq-U-hB40Wx"
      }
    },
    {
      "cell_type": "code",
      "source": [
        "word_counts_per_author = {}\n",
        "\n",
        "for k, v in popular_words_per_author.items():\n",
        "    word_counts_per_author[k] = sum(v.values())"
      ],
      "metadata": {
        "id": "8zAX1zc0ODSE"
      },
      "execution_count": null,
      "outputs": []
    },
    {
      "cell_type": "code",
      "source": [
        "import itertools"
      ],
      "metadata": {
        "id": "W_b8m1nYOHpN"
      },
      "execution_count": null,
      "outputs": []
    },
    {
      "cell_type": "markdown",
      "source": [
        "Пришло время написать часть программы, которая бы упорядочивала частотные словари каждого автора, брала 100 самых частотных слов и возвращала эти слова и их векторы, полученные из нашей модели."
      ],
      "metadata": {
        "id": "L2hn9U1h47Z9"
      }
    },
    {
      "cell_type": "markdown",
      "source": [
        "Вектора можно получить при помощи метода .wv.get_vector():"
      ],
      "metadata": {
        "id": "HdmwO5kR5OJV"
      }
    },
    {
      "cell_type": "code",
      "source": [
        "w2v_model.wv.get_vector('кот')"
      ],
      "metadata": {
        "colab": {
          "base_uri": "https://localhost:8080/"
        },
        "id": "rXi2Q8T5OL2l",
        "outputId": "e7933743-0acd-42b9-ccb4-c9690330367e"
      },
      "execution_count": null,
      "outputs": [
        {
          "output_type": "execute_result",
          "data": {
            "text/plain": [
              "array([-0.6684656 ,  0.04867403, -0.16990532, -1.0773206 ,  0.65003204,\n",
              "       -0.8020956 , -1.1899983 , -2.0782886 ,  1.4321946 ,  0.46969002,\n",
              "        0.8985166 ,  0.35594493, -0.38959497, -1.0588053 ,  1.6463406 ,\n",
              "       -2.5644805 ,  1.0474372 , -0.60233647,  0.1260738 , -1.7452984 ,\n",
              "       -1.467869  , -0.7210566 ,  0.64089924,  1.9964855 ,  0.08734944,\n",
              "        0.12147375,  1.5937611 ,  0.0259615 ,  1.0697896 ,  1.9140452 ,\n",
              "        0.24715024, -0.69678974, -0.26122028,  0.7599993 , -0.8534116 ,\n",
              "       -1.0827851 , -0.3854869 ,  0.69267124,  0.47358805,  0.7370865 ,\n",
              "       -0.28900868,  0.5822441 ,  1.5345545 , -0.4430422 ,  0.354634  ,\n",
              "        0.06089058, -0.02378421,  1.0926455 , -1.8540634 ,  0.9959518 ,\n",
              "       -0.27026197,  0.5996235 ,  0.7623063 , -0.30180517,  1.4338719 ,\n",
              "       -2.5574658 ,  0.66285676, -0.2480016 , -0.6888634 ,  2.3262646 ,\n",
              "       -0.7192911 , -1.7948475 ,  0.337548  , -2.042201  ,  0.2813407 ,\n",
              "        0.5148967 ,  0.73432136, -0.3760342 ,  0.0560293 ,  1.1899339 ,\n",
              "        1.4020665 , -0.27606064,  1.8862445 ,  1.1465894 ,  1.3711766 ,\n",
              "       -0.44773817, -0.20541683, -0.70935947, -1.375862  , -0.07875168,\n",
              "       -0.39302993, -1.1289618 , -0.5955007 , -1.104185  , -0.954886  ,\n",
              "        0.28349635, -1.3013821 , -0.03503016,  0.31089258, -0.8924557 ,\n",
              "        0.9818824 , -0.37962756,  0.9365084 ,  0.26175684,  0.44800884,\n",
              "        0.86292416, -1.3900994 ,  0.608109  , -1.0166314 , -0.09673283],\n",
              "      dtype=float32)"
            ]
          },
          "metadata": {},
          "execution_count": 44
        }
      ]
    },
    {
      "cell_type": "markdown",
      "source": [
        "Однако необходимо предусмотреть, что мы не сможем вернуть вектора для слов, которых нет в словаре модели (хотя в данном примере у нас и не может быть таких случаев):"
      ],
      "metadata": {
        "id": "sRMzl8xt5T5I"
      }
    },
    {
      "cell_type": "code",
      "source": [
        "w2v_model.wv.get_vector('котичек')"
      ],
      "metadata": {
        "colab": {
          "base_uri": "https://localhost:8080/",
          "height": 332
        },
        "id": "oNw6xdmg5eEI",
        "outputId": "603d34d1-abd8-459e-db96-05c2433eaa69"
      },
      "execution_count": null,
      "outputs": [
        {
          "output_type": "error",
          "ename": "KeyError",
          "evalue": "\"Key 'котичек' not present\"",
          "traceback": [
            "\u001b[0;31m---------------------------------------------------------------------------\u001b[0m",
            "\u001b[0;31mKeyError\u001b[0m                                  Traceback (most recent call last)",
            "\u001b[0;32m<ipython-input-45-81b58e860cf5>\u001b[0m in \u001b[0;36m<cell line: 1>\u001b[0;34m()\u001b[0m\n\u001b[0;32m----> 1\u001b[0;31m \u001b[0mw2v_model\u001b[0m\u001b[0;34m.\u001b[0m\u001b[0mwv\u001b[0m\u001b[0;34m.\u001b[0m\u001b[0mget_vector\u001b[0m\u001b[0;34m(\u001b[0m\u001b[0;34m'котичек'\u001b[0m\u001b[0;34m)\u001b[0m\u001b[0;34m\u001b[0m\u001b[0;34m\u001b[0m\u001b[0m\n\u001b[0m",
            "\u001b[0;32m/usr/local/lib/python3.10/dist-packages/gensim/models/keyedvectors.py\u001b[0m in \u001b[0;36mget_vector\u001b[0;34m(self, key, norm)\u001b[0m\n\u001b[1;32m    444\u001b[0m \u001b[0;34m\u001b[0m\u001b[0m\n\u001b[1;32m    445\u001b[0m         \"\"\"\n\u001b[0;32m--> 446\u001b[0;31m         \u001b[0mindex\u001b[0m \u001b[0;34m=\u001b[0m \u001b[0mself\u001b[0m\u001b[0;34m.\u001b[0m\u001b[0mget_index\u001b[0m\u001b[0;34m(\u001b[0m\u001b[0mkey\u001b[0m\u001b[0;34m)\u001b[0m\u001b[0;34m\u001b[0m\u001b[0;34m\u001b[0m\u001b[0m\n\u001b[0m\u001b[1;32m    447\u001b[0m         \u001b[0;32mif\u001b[0m \u001b[0mnorm\u001b[0m\u001b[0;34m:\u001b[0m\u001b[0;34m\u001b[0m\u001b[0;34m\u001b[0m\u001b[0m\n\u001b[1;32m    448\u001b[0m             \u001b[0mself\u001b[0m\u001b[0;34m.\u001b[0m\u001b[0mfill_norms\u001b[0m\u001b[0;34m(\u001b[0m\u001b[0;34m)\u001b[0m\u001b[0;34m\u001b[0m\u001b[0;34m\u001b[0m\u001b[0m\n",
            "\u001b[0;32m/usr/local/lib/python3.10/dist-packages/gensim/models/keyedvectors.py\u001b[0m in \u001b[0;36mget_index\u001b[0;34m(self, key, default)\u001b[0m\n\u001b[1;32m    418\u001b[0m             \u001b[0;32mreturn\u001b[0m \u001b[0mdefault\u001b[0m\u001b[0;34m\u001b[0m\u001b[0;34m\u001b[0m\u001b[0m\n\u001b[1;32m    419\u001b[0m         \u001b[0;32melse\u001b[0m\u001b[0;34m:\u001b[0m\u001b[0;34m\u001b[0m\u001b[0;34m\u001b[0m\u001b[0m\n\u001b[0;32m--> 420\u001b[0;31m             \u001b[0;32mraise\u001b[0m \u001b[0mKeyError\u001b[0m\u001b[0;34m(\u001b[0m\u001b[0;34mf\"Key '{key}' not present\"\u001b[0m\u001b[0;34m)\u001b[0m\u001b[0;34m\u001b[0m\u001b[0;34m\u001b[0m\u001b[0m\n\u001b[0m\u001b[1;32m    421\u001b[0m \u001b[0;34m\u001b[0m\u001b[0m\n\u001b[1;32m    422\u001b[0m     \u001b[0;32mdef\u001b[0m \u001b[0mget_vector\u001b[0m\u001b[0;34m(\u001b[0m\u001b[0mself\u001b[0m\u001b[0;34m,\u001b[0m \u001b[0mkey\u001b[0m\u001b[0;34m,\u001b[0m \u001b[0mnorm\u001b[0m\u001b[0;34m=\u001b[0m\u001b[0;32mFalse\u001b[0m\u001b[0;34m)\u001b[0m\u001b[0;34m:\u001b[0m\u001b[0;34m\u001b[0m\u001b[0;34m\u001b[0m\u001b[0m\n",
            "\u001b[0;31mKeyError\u001b[0m: \"Key 'котичек' not present\""
          ]
        }
      ]
    },
    {
      "cell_type": "markdown",
      "source": [
        "Наш алгоритм будет выглядеть так:\n",
        "\n",
        "Для каждого автора:\n",
        "\n",
        "\n",
        "*   Сортируем частотный словарь от большего к меньшему;\n",
        "*   Идем по отсортированному словарю. Если слово есть в словаре модели - записываем его в список слов данного автора, пока длина данного списка не достигнет 100. Вектор слова кладем в список векторов.\n",
        "*   Вектора и слова кладем в специальные общие списки. Каждому из векторов и слов соответствует имя автора текста, которое пополняет список имен авторов.\n",
        "\n"
      ],
      "metadata": {
        "id": "YmFdGMzM5-Yh"
      }
    },
    {
      "cell_type": "code",
      "source": [
        "author_names = []\n",
        "vectors = []\n",
        "vector_words = []\n",
        "\n",
        "\n",
        "for author, words in popular_words_per_author.items():\n",
        "\n",
        "    sorted_words = sorted(words.items(), key=lambda item: item[1], reverse=True)\n",
        "    authors_vectors = []\n",
        "    authors_words = []\n",
        "\n",
        "\n",
        "    for word_pair in sorted_words:\n",
        "        if len(authors_vectors) < 100:\n",
        "\n",
        "            current_word = word_pair[0]\n",
        "\n",
        "            try:\n",
        "              current_vec = w2v_model.wv.get_vector(current_word)\n",
        "              authors_vectors.append(current_vec)\n",
        "              authors_words.append(current_word)\n",
        "\n",
        "            except:\n",
        "              pass\n",
        "\n",
        "        else:\n",
        "            break\n",
        "\n",
        "    for v, w in zip(authors_vectors, authors_words):\n",
        "        vectors.append(v)\n",
        "        vector_words.append(w)\n",
        "        author_names.append(author)"
      ],
      "metadata": {
        "id": "qaRJPCbPPIKL"
      },
      "execution_count": null,
      "outputs": []
    },
    {
      "cell_type": "markdown",
      "source": [
        "Проверяем, что всё правильно:"
      ],
      "metadata": {
        "id": "IYOT3uK67rjS"
      }
    },
    {
      "cell_type": "code",
      "source": [
        "len(vectors) == len(vector_words) == len(author_names)"
      ],
      "metadata": {
        "colab": {
          "base_uri": "https://localhost:8080/"
        },
        "id": "kYO0ByEJQWTL",
        "outputId": "b8e7ef40-6308-49b7-a475-c0427264e307"
      },
      "execution_count": null,
      "outputs": [
        {
          "output_type": "execute_result",
          "data": {
            "text/plain": [
              "True"
            ]
          },
          "metadata": {},
          "execution_count": 48
        }
      ]
    },
    {
      "cell_type": "code",
      "source": [
        "len(vector_words)"
      ],
      "metadata": {
        "colab": {
          "base_uri": "https://localhost:8080/"
        },
        "id": "CttBtdhWQeuJ",
        "outputId": "81052bb2-b8d3-4191-ed9e-10faf2c77bcd"
      },
      "execution_count": null,
      "outputs": [
        {
          "output_type": "execute_result",
          "data": {
            "text/plain": [
              "1100"
            ]
          },
          "metadata": {},
          "execution_count": 49
        }
      ]
    },
    {
      "cell_type": "markdown",
      "source": [
        "### t-SNE"
      ],
      "metadata": {
        "id": "BCUp1CoA7t7c"
      }
    },
    {
      "cell_type": "markdown",
      "source": [
        "В этом разделе много вспомогательного кода, который нужен для красоты графика."
      ],
      "metadata": {
        "id": "BIUeBgiA7xAB"
      }
    },
    {
      "cell_type": "code",
      "source": [
        "import numpy as np\n",
        "from sklearn.manifold import TSNE"
      ],
      "metadata": {
        "id": "ca0GE6jPQiB1"
      },
      "execution_count": null,
      "outputs": []
    },
    {
      "cell_type": "code",
      "source": [
        "import matplotlib.pyplot as plt\n",
        "from matplotlib import ticker\n",
        "from sklearn.preprocessing import LabelEncoder"
      ],
      "metadata": {
        "id": "JYNUq-bgQpgK"
      },
      "execution_count": null,
      "outputs": []
    },
    {
      "cell_type": "markdown",
      "source": [
        "Функция, которая помогает сделать точки более частотных слов побольше, а менее частотных - поменьше:"
      ],
      "metadata": {
        "id": "FUoMOxbM7wny"
      }
    },
    {
      "cell_type": "code",
      "source": [
        "point_sizes = []\n",
        "\n",
        "for key, val in zip(author_names, vector_words):\n",
        "    absolute_val = popular_words_per_author[key][val]\n",
        "    point_sizes.append(absolute_val/word_counts_per_author[key]*10000)"
      ],
      "metadata": {
        "id": "pI0pe8mlQggY"
      },
      "execution_count": null,
      "outputs": []
    },
    {
      "cell_type": "markdown",
      "source": [
        "Делаем матрицу из наших векторов и кодируем лейблы (это тоже нужно для отрисовки графика):"
      ],
      "metadata": {
        "id": "6zVcbJy78S5x"
      }
    },
    {
      "cell_type": "code",
      "source": [
        "vector_matrix = np.vstack(vectors)"
      ],
      "metadata": {
        "id": "f9Jr2IfXQkvQ"
      },
      "execution_count": null,
      "outputs": []
    },
    {
      "cell_type": "code",
      "source": [
        "vector_matrix.shape"
      ],
      "metadata": {
        "colab": {
          "base_uri": "https://localhost:8080/"
        },
        "id": "pemyGGg_QmFA",
        "outputId": "1be15eb4-070b-4c88-bb82-b2349ae86796"
      },
      "execution_count": null,
      "outputs": [
        {
          "output_type": "execute_result",
          "data": {
            "text/plain": [
              "(1100, 100)"
            ]
          },
          "metadata": {},
          "execution_count": 54
        }
      ]
    },
    {
      "cell_type": "code",
      "source": [
        "le = LabelEncoder()"
      ],
      "metadata": {
        "id": "F38M9EmsQosr"
      },
      "execution_count": null,
      "outputs": []
    },
    {
      "cell_type": "code",
      "source": [
        "labels = le.fit_transform(author_names)"
      ],
      "metadata": {
        "id": "0qKjzrlvQvXg"
      },
      "execution_count": null,
      "outputs": []
    },
    {
      "cell_type": "code",
      "source": [
        "print(list(le.classes_))"
      ],
      "metadata": {
        "colab": {
          "base_uri": "https://localhost:8080/"
        },
        "id": "0UQpMsQ-Qw1h",
        "outputId": "b2748cd6-45a8-4d7d-8077-ca86e6a48fdc"
      },
      "execution_count": null,
      "outputs": [
        {
          "output_type": "stream",
          "name": "stdout",
          "text": [
            "['Blok', 'Bryusov', 'Chekhov', 'Dostoevsky', 'Gogol', 'Gorky', 'Herzen', 'Lermontov', 'Pushkin', 'Tolstoy', 'Turgenev']\n"
          ]
        }
      ]
    },
    {
      "cell_type": "code",
      "source": [
        "embedded = TSNE(n_components=2,\n",
        "                learning_rate='auto',\n",
        "                init='random',\n",
        "                perplexity=45).fit_transform(vector_matrix)"
      ],
      "metadata": {
        "id": "FQxbDK8EREdf"
      },
      "execution_count": null,
      "outputs": []
    },
    {
      "cell_type": "code",
      "source": [
        "fig, ax = plt.subplots(figsize=(10,10))\n",
        "scatter = plt.scatter(embedded[:,0], embedded[:,1],\n",
        "                      c=labels,\n",
        "                      s=list(map(lambda x: x*5, point_sizes)))\n",
        "plt.legend(handles=scatter.legend_elements()[0],\n",
        "           labels=list(le.classes_),\n",
        "           prop={'size': 18},\n",
        "           loc='center right',\n",
        "           bbox_to_anchor=(1.35, 0.5))\n",
        "plt.title('Семантические кластеры самых частотных слов \\n в текстах каждого автора',\n",
        "          size=26,\n",
        "          loc='left',\n",
        "          pad=30)\n",
        "plt.show()"
      ],
      "metadata": {
        "colab": {
          "base_uri": "https://localhost:8080/",
          "height": 938
        },
        "id": "ZyJPjdwLRGMQ",
        "outputId": "63570fb6-2c28-4039-abd1-ca68b7d6b2af"
      },
      "execution_count": null,
      "outputs": [
        {
          "output_type": "display_data",
          "data": {
            "text/plain": [
              "<Figure size 1000x1000 with 1 Axes>"
            ],
            "image/png": "[encoded data removed]"
          },
          "metadata": {}
        }
      ]
    },
    {
      "cell_type": "markdown",
      "source": [
        "На таком графике не очень удобно смотреть на кластеры отдельного автора. Давайте напишем функционал, который позволит нам фокусировать график на отдельном авторе:"
      ],
      "metadata": {
        "id": "zBsnyPTb-PvB"
      }
    },
    {
      "cell_type": "code",
      "source": [
        "def fade_by_label(labels, label_to_accent):\n",
        "  faded = []\n",
        "  for i in labels:\n",
        "    if i == label_to_accent:\n",
        "      faded.append('darkblue')\n",
        "    else:\n",
        "      faded.append('lightgrey')\n",
        "  return faded"
      ],
      "metadata": {
        "id": "HTioK7JFSvQt"
      },
      "execution_count": null,
      "outputs": []
    },
    {
      "cell_type": "code",
      "source": [
        "selected_writer = fade_by_label(labels, le.transform(['Blok'])[0])"
      ],
      "metadata": {
        "id": "h9wOTb3vTkNx"
      },
      "execution_count": null,
      "outputs": []
    },
    {
      "cell_type": "code",
      "source": [
        "fig, ax = plt.subplots(figsize=(10,10))\n",
        "scatter = plt.scatter(embedded[:,0], embedded[:,1],\n",
        "                      c=selected_writer,\n",
        "                      s=list(map(lambda x: x*5, point_sizes)))\n",
        "plt.show()"
      ],
      "metadata": {
        "colab": {
          "base_uri": "https://localhost:8080/",
          "height": 830
        },
        "outputId": "13e824ca-86f2-4044-e046-753ba0a78e98",
        "id": "LqzCNCPxSJwu"
      },
      "execution_count": null,
      "outputs": [
        {
          "output_type": "display_data",
          "data": {
            "text/plain": [
              "<Figure size 1000x1000 with 1 Axes>"
            ],
            "image/png": "[encoded data removed]"
          },
          "metadata": {}
        }
      ]
    },
    {
      "cell_type": "markdown",
      "source": [
        "## Doc2Vec"
      ],
      "metadata": {
        "id": "ZGO1ax_x-a9m"
      }
    },
    {
      "cell_type": "markdown",
      "source": [
        "Doc2Vec обучает вектор id документа, поэтому в gensim есть специальный класс TaggedDocument, присваивающий документам уникальные значения:"
      ],
      "metadata": {
        "id": "VmeKPiDbGiPd"
      }
    },
    {
      "cell_type": "code",
      "source": [
        "from gensim.test.utils import common_texts\n",
        "from gensim.models.doc2vec import Doc2Vec, TaggedDocument\n",
        "\n",
        "documents = [TaggedDocument(doc, [i]) for i, doc in enumerate(common_texts)]"
      ],
      "metadata": {
        "id": "h51brILeT5mt"
      },
      "execution_count": 1,
      "outputs": []
    },
    {
      "cell_type": "code",
      "source": [
        "common_texts"
      ],
      "metadata": {
        "colab": {
          "base_uri": "https://localhost:8080/"
        },
        "id": "-WZ84ZBcWieN",
        "outputId": "82d895d6-f3fb-4782-f8dc-5003dfe38a30"
      },
      "execution_count": null,
      "outputs": [
        {
          "output_type": "execute_result",
          "data": {
            "text/plain": [
              "[['human', 'interface', 'computer'],\n",
              " ['survey', 'user', 'computer', 'system', 'response', 'time'],\n",
              " ['eps', 'user', 'interface', 'system'],\n",
              " ['system', 'human', 'system', 'eps'],\n",
              " ['user', 'response', 'time'],\n",
              " ['trees'],\n",
              " ['graph', 'trees'],\n",
              " ['graph', 'minors', 'trees'],\n",
              " ['graph', 'minors', 'survey']]"
            ]
          },
          "metadata": {},
          "execution_count": 66
        }
      ]
    },
    {
      "cell_type": "code",
      "source": [
        "documents"
      ],
      "metadata": {
        "colab": {
          "base_uri": "https://localhost:8080/"
        },
        "id": "lZ0hnCPHVOqD",
        "outputId": "ebc06c52-2474-4ed5-858c-ce0cbaa70432"
      },
      "execution_count": null,
      "outputs": [
        {
          "output_type": "execute_result",
          "data": {
            "text/plain": [
              "[TaggedDocument(words=['human', 'interface', 'computer'], tags=[0]),\n",
              " TaggedDocument(words=['survey', 'user', 'computer', 'system', 'response', 'time'], tags=[1]),\n",
              " TaggedDocument(words=['eps', 'user', 'interface', 'system'], tags=[2]),\n",
              " TaggedDocument(words=['system', 'human', 'system', 'eps'], tags=[3]),\n",
              " TaggedDocument(words=['user', 'response', 'time'], tags=[4]),\n",
              " TaggedDocument(words=['trees'], tags=[5]),\n",
              " TaggedDocument(words=['graph', 'trees'], tags=[6]),\n",
              " TaggedDocument(words=['graph', 'minors', 'trees'], tags=[7]),\n",
              " TaggedDocument(words=['graph', 'minors', 'survey'], tags=[8])]"
            ]
          },
          "metadata": {},
          "execution_count": 67
        }
      ]
    },
    {
      "cell_type": "markdown",
      "source": [
        "Токенизируем наши тексты, чтобы сделать вектора документов для каждого произведения. Разделение на предложения и параграфы в данном случае не играет роли."
      ],
      "metadata": {
        "id": "ejB_QoWYG3mB"
      }
    },
    {
      "cell_type": "code",
      "source": [
        "texts_for_doc2vec = [re.findall('\\w+', i) for i in texts]"
      ],
      "metadata": {
        "id": "xVnVZcIgVOtq"
      },
      "execution_count": 9,
      "outputs": []
    },
    {
      "cell_type": "code",
      "source": [
        "texts_for_doc2vec[0][:10]"
      ],
      "metadata": {
        "colab": {
          "base_uri": "https://localhost:8080/"
        },
        "id": "7Q3uXONLY7DZ",
        "outputId": "a07f7c5d-1624-4b21-ca2c-7c98b9eb0505"
      },
      "execution_count": null,
      "outputs": [
        {
          "output_type": "execute_result",
          "data": {
            "text/plain": [
              "['антон',\n",
              " 'чехов',\n",
              " 'тоска',\n",
              " 'кто',\n",
              " 'повем',\n",
              " 'печаль',\n",
              " 'мой',\n",
              " 'вечерний',\n",
              " 'сумерки',\n",
              " 'крупный']"
            ]
          },
          "metadata": {},
          "execution_count": 71
        }
      ]
    },
    {
      "cell_type": "code",
      "source": [
        "docs_for_doc2vec = [TaggedDocument(doc, [i]) for i, doc in enumerate(texts_for_doc2vec)]"
      ],
      "metadata": {
        "id": "6lXV34POVOxX"
      },
      "execution_count": 10,
      "outputs": []
    },
    {
      "cell_type": "code",
      "source": [
        "docs_for_doc2vec[0]"
      ],
      "metadata": {
        "colab": {
          "base_uri": "https://localhost:8080/"
        },
        "id": "MErmCk22VO02",
        "outputId": "ea22058d-dfd4-4efe-d104-65f8eeef8a40"
      },
      "execution_count": null,
      "outputs": [
        {
          "output_type": "execute_result",
          "data": {
            "text/plain": [
              "TaggedDocument(words=['антон', 'чехов', 'тоска', 'кто', 'повем', 'печаль', 'мой', 'вечерний', 'сумерки', 'крупный', 'мокрый', 'снег', 'лениво', 'кружиться', 'около', 'только', 'что', 'зажженных', 'фонарь', 'и', 'тонкий', 'мягкий', 'пласт', 'ложиться', 'на', 'крыша', 'лошадиный', 'спина', 'плечо', 'шапка', 'извозчик', 'иона', 'потапов', 'весь', 'бел', 'как', 'привидение', 'он', 'согнуться', 'насколько', 'только', 'возможный', 'согнуться', 'живой', 'тело', 'сидеть', 'на', 'козёл', 'и', 'не', 'шевельнется', 'упади', 'на', 'него', 'целый', 'сугроб', 'то', 'и', 'тогда', 'бы', 'казаться', 'он', 'не', 'найти', 'нужный', 'стряхивать', 'с', 'себя', 'снег', 'его', 'лошадёнка', 'тоже', 'бел', 'и', 'неподвижный', 'своею', 'неподвижность', 'угловатость', 'форма', 'и', 'палкообразной', 'прямизною', 'нога', 'она', 'даже', 'вблизи', 'похожий', 'на', 'копеечный', 'пряничный', 'лошадка', 'она', 'по', 'весь', 'вероятность', 'погрузить', 'в', 'мысль', 'кто', 'оторвать', 'от', 'плуг', 'от', 'привычный', 'серый', 'картина', 'и', 'бросить', 'сюда', 'в', 'этот', 'омут', 'полный', 'чудовищный', 'огонь', 'неугомонный', 'треск', 'и', 'бежать', 'человек', 'тому', 'нельзя', 'не', 'думать', 'ион', 'и', 'его', 'лошадёнка', 'не', 'двигаться', 'с', 'место', 'уже', 'давно', 'выехать', 'они', 'со', 'двор', 'еще', 'до', 'обед', 'а', 'почина', 'всё', 'нет', 'и', 'нет', 'но', 'вот', 'на', 'город', 'спускаться', 'вечерний', 'мгла', 'бледность', 'фонарный', 'огонь', 'уступать', 'свой', 'место', 'живой', 'краска', 'и', 'уличный', 'суматоха', 'становиться', 'шумный', 'извозчик', 'на', 'выборгский', 'слышать', 'ион', 'извозчик', 'иона', 'вздрагивать', 'и', 'сквозь', 'ресница', 'облепить', 'снег', 'видеть', 'военный', 'в', 'шинель', 'с', 'капюшон', 'на', 'выборгский', 'повторять', 'военный', 'да', 'ты', 'спать', 'что', 'ли', 'на', 'выборгский', 'в', 'знак', 'согласие', 'ион', 'дёргать', 'вожжи', 'отчего', 'со', 'спина', 'лошадь', 'и', 'с', 'его', 'плечо', 'сыплются', 'пласт', 'снег', 'военный', 'садиться', 'в', 'сани', 'извозчик', 'чмокать', 'губа', 'вытягивать', 'по', 'лебединому', 'шея', 'приподнимается', 'и', 'больше', 'по', 'привычка', 'чем', 'по', 'нужда', 'махать', 'кнут', 'лошадёнка', 'тоже', 'вытягивать', 'шея', 'кривит', 'свой', 'палкообразный', 'нога', 'и', 'нерешительно', 'двигаться', 'с', 'место', 'куда', 'переть', 'леший', 'на', 'первый', 'же', 'пора', 'слышать', 'ион', 'возглас', 'из', 'тёмный', 'двигаться', 'взад', 'и', 'вперед', 'масса', 'куда', 'чёрт', 'нести', 'пррава', 'держи', 'ты', 'ездить', 'не', 'уметь', 'право', 'держи', 'сердиться', 'военный', 'бранится', 'кучер', 'с', 'карета', 'злобно', 'глядеть', 'и', 'стряхивать', 'с', 'рукав', 'снег', 'прохожий', 'перебегать', 'дорога', 'и', 'налетевший', 'плечо', 'на', 'морда', 'лошадёнка', 'иона', 'ёрзать', 'на', 'козёл', 'как', 'на', 'иголка', 'тыкать', 'в', 'сторона', 'локоть', 'и', 'водить', 'глаз', 'как', 'угорелый', 'словно', 'не', 'понимать', 'где', 'он', 'и', 'зачем', 'он', 'здесь', 'какой', 'весь', 'подлец', 'острить', 'военный', 'так', 'и', 'норовят', 'столкнуться', 'с', 'тобой', 'или', 'под', 'лошадь', 'попасть', 'это', 'они', 'сговориться', 'иона', 'оглядываться', 'на', 'седока', 'и', 'шевелить', 'губа', 'хотеть', 'он', 'по', 'видимому', 'что', 'то', 'сказать', 'но', 'из', 'горло', 'не', 'выходить', 'ничто', 'кроме', 'сипение', 'что', 'спрашивать', 'военный', 'иона', 'кривит', 'улыбкой', 'рот', 'напрягать', 'свой', 'горло', 'и', 'сипит', 'а', 'у', 'меня', 'барин', 'тово', 'сын', 'на', 'этот', 'неделя', 'помер', 'гм', 'отчего', 'же', 'он', 'умереть', 'иона', 'оборачиваться', 'весь', 'туловище', 'к', 'седок', 'и', 'говорить', 'а', 'кто', 'ж', 'его', 'знать', 'должный', 'от', 'горячка', 'три', 'день', 'полежать', 'в', 'больница', 'и', 'помер', 'божий', 'воля', 'сворачивай', 'дьявол', 'раздается', 'в', 'потемках', 'повылазило', 'что', 'ли', 'старый', 'пёс', 'гляди', 'глаз', 'поезжай', 'поезжай', 'говорить', 'седок', 'этак', 'мы', 'и', 'до', 'завтра', 'не', 'доедем', 'подгони', 'ка', 'извозчик', 'опять', 'вытягивать', 'шея', 'приподнимается', 'и', 'с', 'тяжёлый', 'грация', 'взмахивать', 'кнут', 'несколько', 'раз', 'потом', 'оглядываться', 'он', 'на', 'седок', 'но', 'тот', 'закрыть', 'глаз', 'и', 'по', 'видимому', 'не', 'расположен', 'слушать', 'высадить', 'его', 'на', 'выборгский', 'он', 'останавливаться', 'у', 'трактир', 'сгибается', 'на', 'козёл', 'и', 'опять', 'не', 'шевельнется', 'мокрый', 'снег', 'опять', 'красить', 'набело', 'его', 'и', 'лошадёнка', 'проходить', 'час', 'другой', 'по', 'тротуар', 'громко', 'стучать', 'калошами', 'и', 'перебраниваться', 'проходить', 'трое', 'молодой', 'человек', 'двое', 'из', 'них', 'высокий', 'и', 'тонки', 'третий', 'мал', 'и', 'горбат', 'извозчик', 'к', 'полицейский', 'мост', 'кричать', 'дребезжащим', 'голос', 'горбач', 'трое', 'двугривенный', 'иона', 'дёргать', 'вожжами', 'и', 'чмокать', 'двугривенный', 'цена', 'не', 'сходный', 'но', 'ему', 'не', 'до', 'цена', 'что', 'рубль', 'что', 'пятак', 'для', 'него', 'теперь', 'всё', 'равный', 'были', 'бы', 'только', 'седок', 'молодой', 'человек', 'толкаться', 'и', 'сквернословя', 'подходить', 'к', 'саням', 'и', 'весь', 'трое', 'сразу', 'лезть', 'на', 'сидение', 'начинаться', 'решение', 'вопрос', 'кто', 'два', 'сидеть', 'а', 'кто', 'третьему', 'стоять', 'после', 'долгий', 'перебранка', 'капризничанья', 'и', 'попрёк', 'приходить', 'к', 'решение', 'что', 'стоять', 'должный', 'горбач', 'как', 'самый', 'маленький', 'ну', 'погоняй', 'дребезжать', 'горбач', 'устанавливаться', 'и', 'дыша', 'в', 'затылок', 'иона', 'лупи', 'да', 'и', 'шапка', 'же', 'у', 'тебя', 'братец', 'хуже', 'во', 'весь', 'петербург', 'не', 'найти', 'гы', 'ы', 'гы', 'ы', 'хохочет', 'иона', 'какой', 'быть', 'ну', 'ты', 'какой', 'быть', 'погоняй', 'этак', 'ты', 'весь', 'дорога', 'будешь', 'ехать', 'да', 'а', 'по', 'шея', 'голова', 'трещит', 'говорить', 'один', 'из', 'длинный', 'вчера', 'у', 'дукмасовых', 'мы', 'вдвоем', 'с', 'васькой', 'четыре', 'бутылка', 'коньяку', 'выпить', 'не', 'понимать', 'зачем', 'врать', 'сердиться', 'другой', 'длинный', 'врет', 'как', 'скотина', 'накажи', 'меня', 'бог', 'правда', 'это', 'такой', 'же', 'правда', 'как', 'то', 'что', 'вошь', 'кашлять', 'гы', 'ы', 'ухмыляться', 'иона', 'ве', 'еселые', 'господин', 'тьфу', 'чтоб', 'тебя', 'черти', 'возмущаться', 'горбач', 'поедешь', 'ты', 'старый', 'холера', 'или', 'нет', 'разве', 'так', 'ездить', 'хлобысни', 'ка', 'её', 'кнут', 'но', 'чёрт', 'но', 'хорошенько', 'ее', 'ион', 'чувствовать', 'за', 'свой', 'спина', 'вертящееся', 'тело', 'и', 'голосовой', 'дрожь', 'горбача', 'он', 'слышать', 'обратить', 'к', 'нему', 'ругань', 'видеть', 'человек', 'и', 'чувство', 'одиночество', 'начинать', 'мало', 'помалу', 'отлегать', 'от', 'грудь', 'горбач', 'браниться', 'до', 'тот', 'пора', 'пока', 'не', 'давиться', 'вычурный', 'шестиэтажным', 'ругательство', 'и', 'не', 'разражается', 'кашель', 'длинный', 'начинать', 'говорить', 'о', 'какой', 'то', 'надежда', 'петровне', 'иона', 'оглядываться', 'на', 'них', 'дождаться', 'короткий', 'пауза', 'он', 'оглядываться', 'еще', 'раз', 'и', 'бормочет', 'а', 'у', 'меня', 'на', 'этот', 'неделя', 'тово', 'сын', 'помер', 'все', 'помрем', 'вздыхать', 'горбач', 'вытирать', 'после', 'кашель', 'губа', 'ну', 'погоняй', 'погоняй', 'господин', 'я', 'решительно', 'не', 'мочь', 'дальше', 'так', 'ехать', 'когда', 'он', 'нас', 'довезти', 'а', 'ты', 'его', 'легонечко', 'подбодри', 'в', 'шея', 'старый', 'холера', 'слышать', 'ведь', 'шея', 'накостыляю', 'с', 'ваш', 'брат', 'церемониться', 'так', 'пешком', 'ходить', 'ты', 'слышать', 'змей', 'горыныч', 'или', 'тебе', 'плевать', 'на', 'наш', 'слово', 'и', 'иона', 'больше', 'слышать', 'что', 'чувствовать', 'звук', 'подзатыльник', 'гы', 'ы', 'смеяться', 'он', 'весёлый', 'господин', 'дать', 'бог', 'здоровье', 'извозчик', 'ты', 'женатый', 'спрашивать', 'длинный', 'я', 'то', 'гы', 'ы', 'ве', 'еселые', 'господин', 'таперя', 'у', 'меля', 'одна', 'жена', 'сырой', 'земля', 'хи', 'хо', 'хо', 'могила', 'то', 'быть', 'сын', 'то', 'вот', 'помер', 'а', 'я', 'живой', 'чудной', 'дело', 'смерть', 'дверь', 'обознаться', 'заместо', 'того', 'чтоб', 'ко', 'мне', 'идтить', 'она', 'к', 'сын', 'и', 'иона', 'оборачиваться', 'чтобы', 'рассказать', 'как', 'умереть', 'его', 'сын', 'но', 'тут', 'горбач', 'легко', 'вздыхать', 'и', 'заявлять', 'что', 'слава', 'бог', 'они', 'наконец', 'приехать', 'получить', 'двугривенный', 'ион', 'долго', 'глядеть', 'вслед', 'гуляка', 'исчезать', 'в', 'тёмный', 'подъезд', 'опять', 'он', 'одинокий', 'и', 'опять', 'наступать', 'для', 'него', 'тишина', 'утихнуть', 'ненадолго', 'тоска', 'появляться', 'вновь', 'и', 'распирать', 'грудь', 'еще', 'с', 'больший', 'сила', 'глаз', 'иона', 'тревожно', 'и', 'мученически', 'бегать', 'по', 'толпам', 'сновать', 'по', 'оба', 'сторона', 'улица', 'не', 'найтись', 'ли', 'из', 'этот', 'тысяча', 'человек', 'хоть', 'один', 'который', 'выслушать', 'бы', 'его', 'но', 'толпа', 'бежать', 'не', 'замечать', 'ни', 'его', 'ни', 'тоски', 'тоска', 'громадный', 'не', 'знать', 'граница', 'лопни', 'грудь', 'иона', 'и', 'вылейся', 'из', 'нее', 'тоска', 'так', 'она', 'бы', 'казаться', 'весь', 'свет', 'залить', 'но', 'тем', 'не', 'менее', 'ее', 'не', 'видно', 'она', 'суметь', 'поместиться', 'в', 'такой', 'ничтожный', 'скорлупа', 'что', 'ее', 'не', 'увидеть', 'день', 'с', 'огонь', 'иона', 'видеть', 'дворник', 'с', 'кулёк', 'и', 'решать', 'заговорить', 'с', 'ним', 'милый', 'который', 'теперь', 'час', 'будет', 'спрашивать', 'он', 'десятый', 'что', 'же', 'стать', 'здесь', 'проезжать', 'иона', 'отъезжать', 'на', 'несколько', 'шаг', 'изгибается', 'и', 'отдаваться', 'тоска', 'обращаться', 'к', 'человек', 'он', 'считать', 'уже', 'бесполезный', 'но', 'не', 'проходить', 'и', 'пять', 'минута', 'как', 'он', 'выпрямляться', 'встряхивать', 'голова', 'словно', 'почувствовать', 'острый', 'боль', 'и', 'дёргать', 'вожжи', 'ему', 'невмоготу', 'ко', 'двор', 'думать', 'он', 'ко', 'двор', 'и', 'лошадёнка', 'точно', 'понять', 'его', 'мысль', 'начинать', 'бежать', 'рысцой', 'спустя', 'час', 'полтора', 'ион', 'сидеть', 'уже', 'около', 'большой', 'грязный', 'печь', 'на', 'печь', 'на', 'пол', 'на', 'скамьях', 'храпеть', 'народ', 'в', 'воздух', 'спираль', 'и', 'духота', 'иона', 'глядеть', 'на', 'спать', 'почесывается', 'и', 'жалеть', 'что', 'так', 'рано', 'вернуться', 'домой', 'и', 'на', 'овёс', 'не', 'выездить', 'думать', 'он', 'оттого', 'то', 'вот', 'и', 'тоска', 'человек', 'который', 'знать', 'свой', 'дело', 'который', 'и', 'сам', 'сыт', 'и', 'лошадь', 'сытый', 'завсегда', 'покоен', 'в', 'одном', 'из', 'угол', 'подниматься', 'молодой', 'извозчик', 'сонно', 'крякать', 'и', 'тянуться', 'к', 'ведру', 'с', 'вода', 'пить', 'захотеть', 'спрашивать', 'иона', 'стать', 'быть', 'пить', 'так', 'на', 'здоровье', 'а', 'у', 'меня', 'брат', 'сын', 'помер', 'слыхал', 'на', 'этот', 'неделя', 'в', 'больница', 'история', 'иона', 'смотреть', 'какой', 'эффект', 'произвести', 'его', 'слово', 'но', 'не', 'видеть', 'ничто', 'молодой', 'укрыться', 'с', 'голова', 'и', 'уже', 'спать', 'старик', 'вздыхать', 'и', 'чешется', 'как', 'молодой', 'хотеться', 'пить', 'так', 'ему', 'хотеться', 'говорить', 'скоро', 'будет', 'неделя', 'как', 'умереть', 'сын', 'а', 'он', 'еще', 'путем', 'не', 'говорить', 'ни', 'с', 'кто', 'нужный', 'поговорить', 'с', 'толк', 'с', 'расстановка', 'надо', 'рассказать', 'как', 'заболеть', 'сын', 'как', 'он', 'мучиться', 'что', 'говорить', 'перед', 'смерть', 'как', 'умереть', 'нужный', 'описать', 'похороны', 'и', 'поездка', 'в', 'больница', 'за', 'одежда', 'покойник', 'в', 'деревня', 'остаться', 'дочка', 'анисья', 'и', 'про', 'нее', 'нужный', 'поговорить', 'да', 'мало', 'ли', 'о', 'что', 'он', 'мочь', 'теперь', 'поговорить', 'слушатель', 'должный', 'охать', 'вздыхать', 'причитывать', 'а', 'с', 'бабами', 'говорить', 'еще', 'лучше', 'тот', 'хоть', 'и', 'дура', 'но', 'ревут', 'от', 'два', 'слово', 'пойти', 'лошадь', 'поглядеть', 'думать', 'иона', 'спать', 'всегда', 'успеешь', 'небось', 'выспишься', 'он', 'одеваться', 'и', 'идти', 'в', 'конюшня', 'где', 'стоить', 'его', 'лошадь', 'думать', 'он', 'об', 'овсе', 'сена', 'о', 'погода', 'про', 'сын', 'когда', 'один', 'думать', 'он', 'не', 'мочь', 'поговорить', 'с', 'кто', 'нибудь', 'о', 'нем', 'можно', 'но', 'самому', 'думать', 'и', 'рисовать', 'себя', 'его', 'образ', 'невыносимо', 'жутко', 'жевать', 'спрашивать', 'ион', 'свой', 'лошадь', 'видеть', 'её', 'блестеть', 'глаз', 'ну', 'жуй', 'жуй', 'коли', 'на', 'овёс', 'не', 'выездили', 'сено', 'есть', 'будем', 'да', 'стар', 'уж', 'стать', 'я', 'ездить', 'сын', 'бы', 'ездить', 'а', 'не', 'мне', 'то', 'настоящий', 'извозчик', 'был', 'жить', 'бы', 'только', 'иона', 'молчать', 'некоторый', 'время', 'и', 'продолжать', 'так', 'то', 'брат', 'кобылочка', 'нету', 'кузьмы', 'ионыча', 'приказать', 'долго', 'жить', 'взять', 'и', 'помер', 'зря', 'таперя', 'сказать', 'у', 'тебя', 'жеребеночек', 'и', 'ты', 'этот', 'жеребеночку', 'родный', 'мать', 'и', 'вдруг', 'сказать', 'этот', 'самый', 'жеребёночек', 'приказать', 'долго', 'жить', 'ведь', 'жалко', 'лошадёнка', 'жевать', 'слушать', 'и', 'дышать', 'на', 'рука', 'свой', 'хозяин', 'иона', 'увлекаться', 'и', 'рассказывать', 'ей', 'всё'], tags=[0])"
            ]
          },
          "metadata": {},
          "execution_count": 73
        }
      ]
    },
    {
      "cell_type": "markdown",
      "source": [
        "Обучим простую модель Doc2Vec:"
      ],
      "metadata": {
        "id": "QVf4OCMaHATA"
      }
    },
    {
      "cell_type": "code",
      "source": [
        "d2v_model = gensim.models.doc2vec.Doc2Vec(vector_size=50, min_count=2, epochs=5)"
      ],
      "metadata": {
        "id": "r_Fht7v-ZCHL"
      },
      "execution_count": 11,
      "outputs": []
    },
    {
      "cell_type": "code",
      "source": [
        "d2v_model.build_vocab(docs_for_doc2vec)"
      ],
      "metadata": {
        "id": "Bt9jvO_VbyJT"
      },
      "execution_count": 12,
      "outputs": []
    },
    {
      "cell_type": "code",
      "source": [
        "%%time\n",
        "d2v_model.train(docs_for_doc2vec, total_examples=d2v_model.corpus_count, epochs=50)"
      ],
      "metadata": {
        "colab": {
          "base_uri": "https://localhost:8080/"
        },
        "id": "6KufuBhfb24e",
        "outputId": "043623ce-4d55-4da6-f042-2d418521361e"
      },
      "execution_count": 13,
      "outputs": [
        {
          "output_type": "stream",
          "name": "stdout",
          "text": [
            "CPU times: user 5min 29s, sys: 1.53 s, total: 5min 30s\n",
            "Wall time: 3min 42s\n"
          ]
        }
      ]
    },
    {
      "cell_type": "markdown",
      "source": [
        "Возьмем тестовый текст (это фрагмент из \"Скучной истории\" Чехова) и посмотрим, на какое из наших произведений его вектор будет похож."
      ],
      "metadata": {
        "id": "YFbZHaFDHEVf"
      }
    },
    {
      "cell_type": "code",
      "source": [
        "test_doc = \"\"\"\n",
        "Вот и наш сад. С тех пор, как я был студентом, он, кажется, не стал ни лучше, ни хуже. Я его не люблю. Было бы гораздо умнее, если бы вместо чахоточных лип, желтой акации и редкой, стриженой сирени росли тут высокие сосны и хорошие дубы. Студент, настроение которого в большинстве создается обстановкой, на каждом шагу, там, где он учится, должен видеть перед собою только высокое, сильное и изящное… Храни его бог от тощих деревьев, разбитых окон, серых стен и дверей, обитых рваной клеенкой.\n",
        "\"\"\""
      ],
      "metadata": {
        "id": "wruAzn8xcvwe"
      },
      "execution_count": 25,
      "outputs": []
    },
    {
      "cell_type": "markdown",
      "source": [
        "Тестовый текст надо лемматизировать:"
      ],
      "metadata": {
        "id": "ncjZS0SJHPNN"
      }
    },
    {
      "cell_type": "code",
      "source": [
        "! pip install pymystem3"
      ],
      "metadata": {
        "colab": {
          "base_uri": "https://localhost:8080/"
        },
        "id": "JZlukII8fdK1",
        "outputId": "cb0b1883-f41b-424a-907a-85b647107876"
      },
      "execution_count": 15,
      "outputs": [
        {
          "output_type": "stream",
          "name": "stdout",
          "text": [
            "Requirement already satisfied: pymystem3 in /usr/local/lib/python3.10/dist-packages (0.2.0)\n",
            "Requirement already satisfied: requests in /usr/local/lib/python3.10/dist-packages (from pymystem3) (2.31.0)\n",
            "Requirement already satisfied: charset-normalizer<4,>=2 in /usr/local/lib/python3.10/dist-packages (from requests->pymystem3) (3.3.2)\n",
            "Requirement already satisfied: idna<4,>=2.5 in /usr/local/lib/python3.10/dist-packages (from requests->pymystem3) (3.7)\n",
            "Requirement already satisfied: urllib3<3,>=1.21.1 in /usr/local/lib/python3.10/dist-packages (from requests->pymystem3) (2.0.7)\n",
            "Requirement already satisfied: certifi>=2017.4.17 in /usr/local/lib/python3.10/dist-packages (from requests->pymystem3) (2024.2.2)\n"
          ]
        }
      ]
    },
    {
      "cell_type": "code",
      "source": [
        "from pymystem3 import Mystem"
      ],
      "metadata": {
        "id": "-f_KVbdYf6et"
      },
      "execution_count": 16,
      "outputs": []
    },
    {
      "cell_type": "code",
      "source": [
        "m = Mystem()"
      ],
      "metadata": {
        "colab": {
          "base_uri": "https://localhost:8080/"
        },
        "id": "jbaWH2bef-5-",
        "outputId": "75316adf-d958-44e9-87bc-a7b83119a2ba"
      },
      "execution_count": 17,
      "outputs": [
        {
          "output_type": "stream",
          "name": "stderr",
          "text": [
            "Installing mystem to /root/.local/bin/mystem from http://download.cdn.yandex.net/mystem/mystem-3.1-linux-64bit.tar.gz\n"
          ]
        }
      ]
    },
    {
      "cell_type": "code",
      "source": [
        "test_lemmas = m.lemmatize(test_doc)"
      ],
      "metadata": {
        "id": "97PdQveNgANo"
      },
      "execution_count": 26,
      "outputs": []
    },
    {
      "cell_type": "code",
      "source": [
        "test_lemmas = [i for i in test_lemmas if i.isalpha()]"
      ],
      "metadata": {
        "id": "9gFmPrkYgGIR"
      },
      "execution_count": 27,
      "outputs": []
    },
    {
      "cell_type": "markdown",
      "source": [
        "Чтобы получить вектор документа из готовой модели, можно применить метод infer_vector(). Id документа на этой стадии вам не понадобится."
      ],
      "metadata": {
        "id": "14IGMntyHSm_"
      }
    },
    {
      "cell_type": "code",
      "source": [
        "test_vector = d2v_model.infer_vector(test_lemmas)"
      ],
      "metadata": {
        "id": "Vl5bq_rAgMFT"
      },
      "execution_count": 28,
      "outputs": []
    },
    {
      "cell_type": "code",
      "source": [
        "test_vector"
      ],
      "metadata": {
        "colab": {
          "base_uri": "https://localhost:8080/"
        },
        "id": "6PK146cNgSZi",
        "outputId": "ae8c1b8f-c7be-49e6-ff33-6dd6eeb5cf2d"
      },
      "execution_count": 29,
      "outputs": [
        {
          "output_type": "execute_result",
          "data": {
            "text/plain": [
              "array([-1.3310335 , -0.21795206, -0.69799495, -1.0095578 , -0.94034535,\n",
              "       -0.4021478 , -0.6935558 ,  2.6694689 ,  0.84861946, -0.7856466 ,\n",
              "       -1.0211197 ,  2.1683784 , -0.83101636, -1.569089  , -0.20902401,\n",
              "        0.49023533,  0.48627436, -0.12807809,  0.72070086, -0.929833  ,\n",
              "       -1.0037152 ,  1.1512077 ,  0.38518855,  0.7415029 ,  0.65208787,\n",
              "       -0.18400109, -2.7174363 , -0.5097654 , -0.8149122 , -1.578188  ,\n",
              "        0.36163527,  0.68333995, -0.5681986 , -1.2599425 , -0.95095223,\n",
              "       -0.5488346 , -1.364843  , -2.9239075 ,  0.61053884, -1.2901713 ,\n",
              "        1.4677056 ,  0.01817998, -1.3095523 , -1.409093  , -0.09697715,\n",
              "       -0.87277645, -0.9410818 ,  0.2021325 ,  3.7081783 , -1.365073  ],\n",
              "      dtype=float32)"
            ]
          },
          "metadata": {},
          "execution_count": 29
        }
      ]
    },
    {
      "cell_type": "markdown",
      "source": [
        "Doc2Vec возвращает id документов из выборки, на которой его тренировали, наиболее похожих на входной вектор, и косинусное подобие:"
      ],
      "metadata": {
        "id": "RjfUNNugHtBL"
      }
    },
    {
      "cell_type": "code",
      "source": [
        "d2v_model.dv.most_similar([test_vector], topn=10)"
      ],
      "metadata": {
        "colab": {
          "base_uri": "https://localhost:8080/"
        },
        "id": "nID0TdPdg6uv",
        "outputId": "c44f5cba-b20c-467f-9bda-72bfef28d380"
      },
      "execution_count": 30,
      "outputs": [
        {
          "output_type": "execute_result",
          "data": {
            "text/plain": [
              "[(5, 0.647546648979187),\n",
              " (33, 0.6097089052200317),\n",
              " (14, 0.6031703948974609),\n",
              " (1, 0.5999594926834106),\n",
              " (40, 0.5945473313331604),\n",
              " (38, 0.5744350552558899),\n",
              " (216, 0.5633032321929932),\n",
              " (8, 0.5589048862457275),\n",
              " (28, 0.5536614060401917),\n",
              " (18, 0.5501618385314941)]"
            ]
          },
          "metadata": {},
          "execution_count": 30
        }
      ]
    },
    {
      "cell_type": "code",
      "source": [
        "names[1]"
      ],
      "metadata": {
        "colab": {
          "base_uri": "https://localhost:8080/",
          "height": 38
        },
        "id": "MMPJlyVRg-_V",
        "outputId": "874e4cd4-7127-4709-de12-21b91d771125"
      },
      "execution_count": 31,
      "outputs": [
        {
          "output_type": "execute_result",
          "data": {
            "text/plain": [
              "'Chekhov_Крыжовник.txt'"
            ],
            "application/vnd.google.colaboratory.intrinsic+json": {
              "type": "string"
            }
          },
          "metadata": {},
          "execution_count": 31
        }
      ]
    },
    {
      "cell_type": "markdown",
      "source": [
        "Посмотрим, какие документы больше всего похожи на входной:"
      ],
      "metadata": {
        "id": "kGjBaUXSH2Dh"
      }
    },
    {
      "cell_type": "code",
      "source": [
        "for doc_id, sim in d2v_model.dv.most_similar([test_vector], topn=10):\n",
        "  print(names[doc_id])"
      ],
      "metadata": {
        "colab": {
          "base_uri": "https://localhost:8080/"
        },
        "id": "dA7JO9n4hPP1",
        "outputId": "03b1b73c-e773-4fee-fb26-1dc191797e0b"
      },
      "execution_count": 32,
      "outputs": [
        {
          "output_type": "stream",
          "name": "stdout",
          "text": [
            "Chekhov_Дома.txt\n",
            "Chekhov_Дачница.txt\n",
            "Chekhov_Дорогие уроки.txt\n",
            "Chekhov_Крыжовник.txt\n",
            "Chekhov_Дом с мезонином.txt\n",
            "Chekhov_Налим.txt\n",
            "Blok_Девушка розовой калитки и муравьиный царь.txt\n",
            "Chekhov_Бумажник.txt\n",
            "Chekhov_Верочка.txt\n",
            "Chekhov_Толстый и тонкий.txt\n"
          ]
        }
      ]
    },
    {
      "cell_type": "markdown",
      "source": [
        "## SentenceTransformers (*)"
      ],
      "metadata": {
        "id": "JdnVHBHOK9m1"
      }
    },
    {
      "cell_type": "markdown",
      "source": [
        "В заключение попробуем библиотеку SentenceTransformers, создающую эмбеддинги предложений."
      ],
      "metadata": {
        "id": "qv9COckYL-V5"
      }
    },
    {
      "cell_type": "code",
      "source": [
        "! pip install -U sentence-transformers"
      ],
      "metadata": {
        "colab": {
          "base_uri": "https://localhost:8080/"
        },
        "id": "neqoeqibkEpY",
        "outputId": "323823b3-4f3c-438f-dfbf-5c5d37b9498b"
      },
      "execution_count": null,
      "outputs": [
        {
          "output_type": "stream",
          "name": "stdout",
          "text": [
            "Collecting sentence-transformers\n",
            "  Downloading sentence_transformers-2.7.0-py3-none-any.whl (171 kB)\n",
            "\u001b[2K     \u001b[90m━━━━━━━━━━━━━━━━━━━━━━━━━━━━━━━━━━━━━━━━\u001b[0m \u001b[32m171.5/171.5 kB\u001b[0m \u001b[31m3.6 MB/s\u001b[0m eta \u001b[36m0:00:00\u001b[0m\n",
            "\u001b[?25hRequirement already satisfied: transformers<5.0.0,>=4.34.0 in /usr/local/lib/python3.10/dist-packages (from sentence-transformers) (4.40.2)\n",
            "Requirement already satisfied: tqdm in /usr/local/lib/python3.10/dist-packages (from sentence-transformers) (4.66.4)\n",
            "Requirement already satisfied: torch>=1.11.0 in /usr/local/lib/python3.10/dist-packages (from sentence-transformers) (2.2.1+cu121)\n",
            "Requirement already satisfied: numpy in /usr/local/lib/python3.10/dist-packages (from sentence-transformers) (1.25.2)\n",
            "Requirement already satisfied: scikit-learn in /usr/local/lib/python3.10/dist-packages (from sentence-transformers) (1.2.2)\n",
            "Requirement already satisfied: scipy in /usr/local/lib/python3.10/dist-packages (from sentence-transformers) (1.11.4)\n",
            "Requirement already satisfied: huggingface-hub>=0.15.1 in /usr/local/lib/python3.10/dist-packages (from sentence-transformers) (0.20.3)\n",
            "Requirement already satisfied: Pillow in /usr/local/lib/python3.10/dist-packages (from sentence-transformers) (9.4.0)\n",
            "Requirement already satisfied: filelock in /usr/local/lib/python3.10/dist-packages (from huggingface-hub>=0.15.1->sentence-transformers) (3.14.0)\n",
            "Requirement already satisfied: fsspec>=2023.5.0 in /usr/local/lib/python3.10/dist-packages (from huggingface-hub>=0.15.1->sentence-transformers) (2023.6.0)\n",
            "Requirement already satisfied: requests in /usr/local/lib/python3.10/dist-packages (from huggingface-hub>=0.15.1->sentence-transformers) (2.31.0)\n",
            "Requirement already satisfied: pyyaml>=5.1 in /usr/local/lib/python3.10/dist-packages (from huggingface-hub>=0.15.1->sentence-transformers) (6.0.1)\n",
            "Requirement already satisfied: typing-extensions>=3.7.4.3 in /usr/local/lib/python3.10/dist-packages (from huggingface-hub>=0.15.1->sentence-transformers) (4.11.0)\n",
            "Requirement already satisfied: packaging>=20.9 in /usr/local/lib/python3.10/dist-packages (from huggingface-hub>=0.15.1->sentence-transformers) (24.0)\n",
            "Requirement already satisfied: sympy in /usr/local/lib/python3.10/dist-packages (from torch>=1.11.0->sentence-transformers) (1.12)\n",
            "Requirement already satisfied: networkx in /usr/local/lib/python3.10/dist-packages (from torch>=1.11.0->sentence-transformers) (3.3)\n",
            "Requirement already satisfied: jinja2 in /usr/local/lib/python3.10/dist-packages (from torch>=1.11.0->sentence-transformers) (3.1.4)\n",
            "Collecting nvidia-cuda-nvrtc-cu12==12.1.105 (from torch>=1.11.0->sentence-transformers)\n",
            "  Using cached nvidia_cuda_nvrtc_cu12-12.1.105-py3-none-manylinux1_x86_64.whl (23.7 MB)\n",
            "Collecting nvidia-cuda-runtime-cu12==12.1.105 (from torch>=1.11.0->sentence-transformers)\n",
            "  Using cached nvidia_cuda_runtime_cu12-12.1.105-py3-none-manylinux1_x86_64.whl (823 kB)\n",
            "Collecting nvidia-cuda-cupti-cu12==12.1.105 (from torch>=1.11.0->sentence-transformers)\n",
            "  Using cached nvidia_cuda_cupti_cu12-12.1.105-py3-none-manylinux1_x86_64.whl (14.1 MB)\n",
            "Collecting nvidia-cudnn-cu12==8.9.2.26 (from torch>=1.11.0->sentence-transformers)\n",
            "  Using cached nvidia_cudnn_cu12-8.9.2.26-py3-none-manylinux1_x86_64.whl (731.7 MB)\n",
            "Collecting nvidia-cublas-cu12==12.1.3.1 (from torch>=1.11.0->sentence-transformers)\n",
            "  Using cached nvidia_cublas_cu12-12.1.3.1-py3-none-manylinux1_x86_64.whl (410.6 MB)\n",
            "Collecting nvidia-cufft-cu12==11.0.2.54 (from torch>=1.11.0->sentence-transformers)\n",
            "  Using cached nvidia_cufft_cu12-11.0.2.54-py3-none-manylinux1_x86_64.whl (121.6 MB)\n",
            "Collecting nvidia-curand-cu12==10.3.2.106 (from torch>=1.11.0->sentence-transformers)\n",
            "  Using cached nvidia_curand_cu12-10.3.2.106-py3-none-manylinux1_x86_64.whl (56.5 MB)\n",
            "Collecting nvidia-cusolver-cu12==11.4.5.107 (from torch>=1.11.0->sentence-transformers)\n",
            "  Using cached nvidia_cusolver_cu12-11.4.5.107-py3-none-manylinux1_x86_64.whl (124.2 MB)\n",
            "Collecting nvidia-cusparse-cu12==12.1.0.106 (from torch>=1.11.0->sentence-transformers)\n",
            "  Using cached nvidia_cusparse_cu12-12.1.0.106-py3-none-manylinux1_x86_64.whl (196.0 MB)\n",
            "Collecting nvidia-nccl-cu12==2.19.3 (from torch>=1.11.0->sentence-transformers)\n",
            "  Using cached nvidia_nccl_cu12-2.19.3-py3-none-manylinux1_x86_64.whl (166.0 MB)\n",
            "Collecting nvidia-nvtx-cu12==12.1.105 (from torch>=1.11.0->sentence-transformers)\n",
            "  Using cached nvidia_nvtx_cu12-12.1.105-py3-none-manylinux1_x86_64.whl (99 kB)\n",
            "Requirement already satisfied: triton==2.2.0 in /usr/local/lib/python3.10/dist-packages (from torch>=1.11.0->sentence-transformers) (2.2.0)\n",
            "Collecting nvidia-nvjitlink-cu12 (from nvidia-cusolver-cu12==11.4.5.107->torch>=1.11.0->sentence-transformers)\n",
            "  Using cached nvidia_nvjitlink_cu12-12.4.127-py3-none-manylinux2014_x86_64.whl (21.1 MB)\n",
            "Requirement already satisfied: regex!=2019.12.17 in /usr/local/lib/python3.10/dist-packages (from transformers<5.0.0,>=4.34.0->sentence-transformers) (2023.12.25)\n",
            "Requirement already satisfied: tokenizers<0.20,>=0.19 in /usr/local/lib/python3.10/dist-packages (from transformers<5.0.0,>=4.34.0->sentence-transformers) (0.19.1)\n",
            "Requirement already satisfied: safetensors>=0.4.1 in /usr/local/lib/python3.10/dist-packages (from transformers<5.0.0,>=4.34.0->sentence-transformers) (0.4.3)\n",
            "Requirement already satisfied: joblib>=1.1.1 in /usr/local/lib/python3.10/dist-packages (from scikit-learn->sentence-transformers) (1.4.2)\n",
            "Requirement already satisfied: threadpoolctl>=2.0.0 in /usr/local/lib/python3.10/dist-packages (from scikit-learn->sentence-transformers) (3.5.0)\n",
            "Requirement already satisfied: MarkupSafe>=2.0 in /usr/local/lib/python3.10/dist-packages (from jinja2->torch>=1.11.0->sentence-transformers) (2.1.5)\n",
            "Requirement already satisfied: charset-normalizer<4,>=2 in /usr/local/lib/python3.10/dist-packages (from requests->huggingface-hub>=0.15.1->sentence-transformers) (3.3.2)\n",
            "Requirement already satisfied: idna<4,>=2.5 in /usr/local/lib/python3.10/dist-packages (from requests->huggingface-hub>=0.15.1->sentence-transformers) (3.7)\n",
            "Requirement already satisfied: urllib3<3,>=1.21.1 in /usr/local/lib/python3.10/dist-packages (from requests->huggingface-hub>=0.15.1->sentence-transformers) (2.0.7)\n",
            "Requirement already satisfied: certifi>=2017.4.17 in /usr/local/lib/python3.10/dist-packages (from requests->huggingface-hub>=0.15.1->sentence-transformers) (2024.2.2)\n",
            "Requirement already satisfied: mpmath>=0.19 in /usr/local/lib/python3.10/dist-packages (from sympy->torch>=1.11.0->sentence-transformers) (1.3.0)\n",
            "Installing collected packages: nvidia-nvtx-cu12, nvidia-nvjitlink-cu12, nvidia-nccl-cu12, nvidia-curand-cu12, nvidia-cufft-cu12, nvidia-cuda-runtime-cu12, nvidia-cuda-nvrtc-cu12, nvidia-cuda-cupti-cu12, nvidia-cublas-cu12, nvidia-cusparse-cu12, nvidia-cudnn-cu12, nvidia-cusolver-cu12, sentence-transformers\n",
            "Successfully installed nvidia-cublas-cu12-12.1.3.1 nvidia-cuda-cupti-cu12-12.1.105 nvidia-cuda-nvrtc-cu12-12.1.105 nvidia-cuda-runtime-cu12-12.1.105 nvidia-cudnn-cu12-8.9.2.26 nvidia-cufft-cu12-11.0.2.54 nvidia-curand-cu12-10.3.2.106 nvidia-cusolver-cu12-11.4.5.107 nvidia-cusparse-cu12-12.1.0.106 nvidia-nccl-cu12-2.19.3 nvidia-nvjitlink-cu12-12.4.127 nvidia-nvtx-cu12-12.1.105 sentence-transformers-2.7.0\n"
          ]
        }
      ]
    },
    {
      "cell_type": "code",
      "source": [
        "from sentence_transformers import SentenceTransformer, util"
      ],
      "metadata": {
        "id": "EB5FX5nnmQ7I"
      },
      "execution_count": null,
      "outputs": []
    },
    {
      "cell_type": "markdown",
      "source": [
        "Документация и примеры: https://sbert.net/docs/pretrained_models.html"
      ],
      "metadata": {
        "id": "UJuSwOomRkmN"
      }
    },
    {
      "cell_type": "markdown",
      "source": [
        "Мы возьмем предобученную мультиязычную модель:"
      ],
      "metadata": {
        "id": "rvHOJjfUMrHA"
      }
    },
    {
      "cell_type": "code",
      "source": [
        "st_model = SentenceTransformer(\"distiluse-base-multilingual-cased-v2\")"
      ],
      "metadata": {
        "id": "ZhGahya5hZjU",
        "colab": {
          "base_uri": "https://localhost:8080/",
          "height": 688,
          "referenced_widgets": [
            "3cd19c77f9b249d698b2d54c77da57d8",
            "2362cc9c061e4a408f7c2f63c6795b1b",
            "903b34cbe0da4b579e2f56133c65aa3a",
            "ab62a9270d1c4760a3ae49f783ba36bb",
            "5b2f6b8d8689428186264985ff068d6d",
            "db8d6d68921b4588b331bde3bc84d82e",
            "470a52c19c3c4220a152f820ac9b3871",
            "c666d6ee5cfa49bd8eaa36f789c89166",
            "aeaa85d55cc84000b716b9b0706cc148",
            "b051b611549b4b4dae12806213e429d2",
            "1bafa0b64a4f4338bbcb2cd22b04f2f1",
            "f876a448c8174b08a235e8361defbb0e",
            "14128061bcbe40229a0bfa775cdd9ca8",
            "00ba71ba6b364f7f9f45debb2cd75832",
            "66de61b4d1064875a8ab04badee94c31",
            "18ef783dcbe042c0a48e02c46818c05c",
            "81139deb25f3483d9b0063840e59b969",
            "6ac79b25c95844fabd619c240af7df9d",
            "ca94e10b8e774b9ba3d1e5042a376623",
            "1614ac2b086848edb954aee21417f2d6",
            "7805b4eba52c44a187c9f3a8f9965a6a",
            "c108ffd1f4d6427fa26359cb124bc7e4",
            "c5c5c6f9cc664272a3930899adeeeca0",
            "8a12647e52e24ab1b5358be82aafd54f",
            "c07970db0b734fad9f038de1e7e86745",
            "6d51bc61e3cf43d68ab1a93462636d6c",
            "6470891324404017beecff2504b5083d",
            "f8900f812a8c47fca24d3fb43bce7a93",
            "7f807ec5f6b74664af1ee081538fe1e8",
            "68cb31ca5bbd4d33a3d23a3fb3b63579",
            "1c09cf8ae6864f71b33e046d97b91c09",
            "40954dcd5a544ef0a1059cb0357331ce",
            "6da8cd4211b84df9a13774377893e480",
            "d401c1b8368d46769d9943fa7f5c7f20",
            "54420bf6bc584913a8c741d56f686cb6",
            "d4eaf3a0415a4cfa89e08bdc9567b79f",
            "6d4ea724ca564914873ba1bf004b2679",
            "fe3d6cad5f6d44d0816bfb54c2ea2e2d",
            "2d0a8b3514fe48998de440eb9e51693a",
            "67f450d412b84094bb25135fec3d965b",
            "13c164d0ece64776a4315d7bbb3ab123",
            "9ae28dcb82484836a5a941980a7dae8d",
            "c4f6dd43e71043849da1841a3889cd24",
            "612395f52fd9466190eda86cbfa13d67",
            "2c64cde86965461ab729a8c441e7f432",
            "259f4855810b4b91a76b861de53024a1",
            "34f3780161324c6280118796e52cc908",
            "ba74454843e64ddf903bb0e8abd87194",
            "9351b46da19043d387cf6ccbccc9326c",
            "3b9deb744707493182e6aa112c775ce5",
            "db73d42c81e54f7296450ea49c3bd1d7",
            "51712795a8784588803ba40fe4d19249",
            "bbb41a1f537f42fe933b3a16dbfc783c",
            "78a90b0770034ca5ab358ef0b07681a1",
            "09ca2039476f4d348362da25b4f91c6d",
            "9642db24b5ac43408049ee3ea7a7a1fe",
            "f05d767fa1be4e42bee5e839c92a7dc9",
            "e0dea9642ecc42408733876b88959716",
            "a3542402af0a4c989b69d54bdd3653a7",
            "40572d3871f8462d90f04891d0070d38",
            "ca5f229f7bda4947b01207f078608f73",
            "1dd010bea022492fac40adbec5d0f48b",
            "50eaa7e06f3d4b358d9240a933405058",
            "7bf7b2862aa247979b322c0b6bc8fe0e",
            "956baae5ecf044f69440c526ff6b0aa0",
            "c552bc7248c04854b307eb80f8d3c262",
            "69dad2ef4fbb4677b2632239f32004ad",
            "9f07fd6f60064753916dc128920b76e1",
            "a1cb04b5a6514e73bce14bbfeb328fb4",
            "5b2c9d58914e43d3aaed896242ac388a",
            "251990583e6142018dfc7cc75beda547",
            "bffd35ce8858493996d84bdddb570d67",
            "2313ccddada949008b636410ea3a8244",
            "a2942a65895544bfb22bd7001ffefff3",
            "a3e6984f6865493dbb01f1b22ecbbac1",
            "6f757f369ef6484aa07627c150dc129c",
            "67916ccfc1344f15a5569cd20ddd0b89",
            "ceaf45197852410caabc6b73245055be",
            "5678861478fd41dea92fb5ef683cf81b",
            "6769b0b5cf3a45d0b2196ae7ebeb0da8",
            "2dcdddb8c8df420089f731c20bd1efd8",
            "f5afa82d91244f9abf0b30f3650b753c",
            "5a1c38a5d47b4c3995a04f3ac6a003c4",
            "97c286cd7d224782a9fbc0e42527a171",
            "a0cd4db96709470ea3ade8f2d2096983",
            "a7a0a343865842bda45b4625c3bf1a9c",
            "82df78d06769418fa92e6cfd76194c56",
            "6df37bdacdf0420593ef038d6c4b58dd",
            "cdd05965a27a4348b1c3a7d668b7694f",
            "74531117e4b140a89aedcd7402338960",
            "71a5a45f48ba472b95a0ee07d702fb1e",
            "d94a2de770b346e683676e8a77afb702",
            "95cdf1f38ff64812bf45db5cded90ebf",
            "04ea47aec9dc4a0e85afaf916c304050",
            "5bd1e2be4b934291a22fdb210798021f",
            "5c358cd3907b41db8d37ddd15e634873",
            "c418e95fd7d24b9f9f4fa3a7c29f41f6",
            "f34989d2e3c646228abbc197fe107fa8",
            "4f0e7acaa5ce43c6ac0357052878becf",
            "3e1f7628bce048e3ad188f10dd3140dd",
            "1fbebec91b494b089d1c890770a1ccc0",
            "c9e29c090cdf402cae2dd6bc535dba20",
            "eab8840d4ae14ca8bb6f338b3636c7cd",
            "d9a20e6be4b347188cd33aadb105f61e",
            "96d9f61b39554bca8fd416a1f8374334",
            "c9c8e84e9e904003adbd918416a6b0d8",
            "dcf0780a40fd4d778473999167d3900f",
            "5f1a5f5433ec4538ae4c6c8e7f861e43",
            "c523e4f56d484ce298d1953fabdf5c6c",
            "8def672f1c8549dba6e6416d3cf741df",
            "cf0c18b5b67a4c53b48d825ec7552b12",
            "e88c183618474110a4a23c7669cfb10a",
            "6c4e204352b74955bbc291ac02355eb1",
            "201ef2bd6efe4471a6e1cab9eb321b20",
            "b48475d7de9742bcbad1d2d54bb09683",
            "8ca3547ccbfd4eee8b3dbf10edc195bd",
            "c1ffa9b18afc4366b8bc1a8793a38b7c",
            "99306fe87c0b481e98d7e80210cb2fee",
            "03296395cc424298bf03aebf50719bb6",
            "27afe704dda04f5782f2267dcc96817d",
            "efb34fe698764814adef05fea5f6949c",
            "4cca015ed24a42f7a81be0fd9f5fddda",
            "18709e5d7c8d4d9ba99f831a6195d9a3",
            "27c25be4a92e4a8884eb3ec943754e8b",
            "de20902d55f04604912db9495ce701fc",
            "22089057c1e34dc4a6731d399a42f72c",
            "6f1b2b2afdb449089a2ee9e9fe8e443d",
            "e408db9fba104ba09273fe8d7bf8e6f2",
            "38c6b87ae57240dba5453fff540ebc6b",
            "124efebeb0284205b105eef498e8d436",
            "9264a42954ba4609ba915dcdd85070e0",
            "9d9aff895e8d49b0baef1e002ee4622a",
            "dcb8ebe572f7415aa107a89573e53794",
            "ad178902425e4e828a83ba73623124f8",
            "5f9acd1c6090418eb2ca2bb3b7a20987",
            "359855a8cea44d37bfe4886683a2f173",
            "cee31dfb53d34f3c934a8c96f04ea10e",
            "33afe9ece04c449e8eebd1f52ba5ff38",
            "254a71b98e324159ab627675af464931",
            "db511ec6b7cb4411ac0c56e8c15d45b7",
            "1f5e1b9a915b4f3ea5cc1be8f381320f",
            "52118194599f42eea130967e51c6bb55",
            "08989c98eb1c45de88741e4259343c94",
            "e5a6d5942e4b42b6a2df7abadbedbceb",
            "b3c4d08ec943456e8cc99cd7df3cc32f",
            "b595ff0f1a324c109a45c5715d178308",
            "2ef4111b30f444618f5eaaf37c947a2b",
            "9c2300dfe12b49868e834e95d142c41d",
            "e3911e3db99444a59cc3e4b28c584257",
            "0fd95c605d4f459ca1ce9a7110daded6",
            "3a6a61953c6c4008a9abc59e8c380579",
            "fcc186c10d124f64b8847b3b990d5335",
            "7b4a1fde791b44309e3cf8b9e2158de1",
            "3c07000ca4ae458b80bda61b81b91db3"
          ]
        },
        "outputId": "89c80c11-5b1a-40a8-cbc8-a2f3c565c1df"
      },
      "execution_count": null,
      "outputs": [
        {
          "output_type": "stream",
          "name": "stderr",
          "text": [
            "/usr/local/lib/python3.10/dist-packages/huggingface_hub/utils/_token.py:88: UserWarning: \n",
            "The secret `HF_TOKEN` does not exist in your Colab secrets.\n",
            "To authenticate with the Hugging Face Hub, create a token in your settings tab (https://huggingface.co/settings/tokens), set it as secret in your Google Colab and restart your session.\n",
            "You will be able to reuse this secret in all of your notebooks.\n",
            "Please note that authentication is recommended but still optional to access public models or datasets.\n",
            "  warnings.warn(\n"
          ]
        },
        {
          "output_type": "display_data",
          "data": {
            "text/plain": [
              "modules.json:   0%|          | 0.00/341 [00:00<?, ?B/s]"
            ],
            "application/vnd.jupyter.widget-view+json": {
              "version_major": 2,
              "version_minor": 0,
              "model_id": "3cd19c77f9b249d698b2d54c77da57d8"
            }
          },
          "metadata": {}
        },
        {
          "output_type": "display_data",
          "data": {
            "text/plain": [
              "config_sentence_transformers.json:   0%|          | 0.00/122 [00:00<?, ?B/s]"
            ],
            "application/vnd.jupyter.widget-view+json": {
              "version_major": 2,
              "version_minor": 0,
              "model_id": "f876a448c8174b08a235e8361defbb0e"
            }
          },
          "metadata": {}
        },
        {
          "output_type": "display_data",
          "data": {
            "text/plain": [
              "README.md:   0%|          | 0.00/2.69k [00:00<?, ?B/s]"
            ],
            "application/vnd.jupyter.widget-view+json": {
              "version_major": 2,
              "version_minor": 0,
              "model_id": "c5c5c6f9cc664272a3930899adeeeca0"
            }
          },
          "metadata": {}
        },
        {
          "output_type": "display_data",
          "data": {
            "text/plain": [
              "sentence_bert_config.json:   0%|          | 0.00/53.0 [00:00<?, ?B/s]"
            ],
            "application/vnd.jupyter.widget-view+json": {
              "version_major": 2,
              "version_minor": 0,
              "model_id": "d401c1b8368d46769d9943fa7f5c7f20"
            }
          },
          "metadata": {}
        },
        {
          "output_type": "display_data",
          "data": {
            "text/plain": [
              "config.json:   0%|          | 0.00/610 [00:00<?, ?B/s]"
            ],
            "application/vnd.jupyter.widget-view+json": {
              "version_major": 2,
              "version_minor": 0,
              "model_id": "2c64cde86965461ab729a8c441e7f432"
            }
          },
          "metadata": {}
        },
        {
          "output_type": "display_data",
          "data": {
            "text/plain": [
              "model.safetensors:   0%|          | 0.00/539M [00:00<?, ?B/s]"
            ],
            "application/vnd.jupyter.widget-view+json": {
              "version_major": 2,
              "version_minor": 0,
              "model_id": "9642db24b5ac43408049ee3ea7a7a1fe"
            }
          },
          "metadata": {}
        },
        {
          "output_type": "display_data",
          "data": {
            "text/plain": [
              "tokenizer_config.json:   0%|          | 0.00/531 [00:00<?, ?B/s]"
            ],
            "application/vnd.jupyter.widget-view+json": {
              "version_major": 2,
              "version_minor": 0,
              "model_id": "69dad2ef4fbb4677b2632239f32004ad"
            }
          },
          "metadata": {}
        },
        {
          "output_type": "display_data",
          "data": {
            "text/plain": [
              "vocab.txt:   0%|          | 0.00/996k [00:00<?, ?B/s]"
            ],
            "application/vnd.jupyter.widget-view+json": {
              "version_major": 2,
              "version_minor": 0,
              "model_id": "ceaf45197852410caabc6b73245055be"
            }
          },
          "metadata": {}
        },
        {
          "output_type": "display_data",
          "data": {
            "text/plain": [
              "tokenizer.json:   0%|          | 0.00/1.96M [00:00<?, ?B/s]"
            ],
            "application/vnd.jupyter.widget-view+json": {
              "version_major": 2,
              "version_minor": 0,
              "model_id": "cdd05965a27a4348b1c3a7d668b7694f"
            }
          },
          "metadata": {}
        },
        {
          "output_type": "display_data",
          "data": {
            "text/plain": [
              "special_tokens_map.json:   0%|          | 0.00/112 [00:00<?, ?B/s]"
            ],
            "application/vnd.jupyter.widget-view+json": {
              "version_major": 2,
              "version_minor": 0,
              "model_id": "3e1f7628bce048e3ad188f10dd3140dd"
            }
          },
          "metadata": {}
        },
        {
          "output_type": "display_data",
          "data": {
            "text/plain": [
              "1_Pooling/config.json:   0%|          | 0.00/190 [00:00<?, ?B/s]"
            ],
            "application/vnd.jupyter.widget-view+json": {
              "version_major": 2,
              "version_minor": 0,
              "model_id": "cf0c18b5b67a4c53b48d825ec7552b12"
            }
          },
          "metadata": {}
        },
        {
          "output_type": "display_data",
          "data": {
            "text/plain": [
              "2_Dense/config.json:   0%|          | 0.00/114 [00:00<?, ?B/s]"
            ],
            "application/vnd.jupyter.widget-view+json": {
              "version_major": 2,
              "version_minor": 0,
              "model_id": "4cca015ed24a42f7a81be0fd9f5fddda"
            }
          },
          "metadata": {}
        },
        {
          "output_type": "display_data",
          "data": {
            "text/plain": [
              "model.safetensors:   0%|          | 0.00/1.58M [00:00<?, ?B/s]"
            ],
            "application/vnd.jupyter.widget-view+json": {
              "version_major": 2,
              "version_minor": 0,
              "model_id": "dcb8ebe572f7415aa107a89573e53794"
            }
          },
          "metadata": {}
        },
        {
          "output_type": "display_data",
          "data": {
            "text/plain": [
              "pytorch_model.bin:   0%|          | 0.00/1.58M [00:00<?, ?B/s]"
            ],
            "application/vnd.jupyter.widget-view+json": {
              "version_major": 2,
              "version_minor": 0,
              "model_id": "e5a6d5942e4b42b6a2df7abadbedbceb"
            }
          },
          "metadata": {}
        }
      ]
    },
    {
      "cell_type": "markdown",
      "source": [
        "Возьмем пару текстов отсюда: https://ls.pushkininstitute.ru/lsslovar/?title=%D0%95%D0%B2%D0%B3%D0%B5%D0%BD%D0%B8%D0%B9_%D0%9E%D0%BD%D0%B5%D0%B3%D0%B8%D0%BD/A1-A2. Мы возьмем две версии одной и той же статьи, но адаптированные для разных уровней освоения русского как иностранного. Одна версия будет для читателей с уровнем С1-С2, вторая - А1-А2."
      ],
      "metadata": {
        "id": "NNBGmfjHle_j"
      }
    },
    {
      "cell_type": "code",
      "source": [
        "text_c = \"\"\"\n",
        "\n",
        "\n",
        "Онегин – представитель дворянской молодёжи 20-х годов ХIХ в. с характерным для неё критическим отношением к высшему свету, равнодушием к карьере, чувством личной независимости. Онегин получил домашнее неглубокое образование, зато в совершенстве знал французский язык и светский этикет. Но главным увлечением молодых лет героя была любовь – «наука страсти нежной».\n",
        "\n",
        "Читатель встречается с Онегиным, когда тому уже «наскучил жизни шум», ни чтение, ни сочинительство его тоже не увлекали – «как женщин, он оставил книги». Устав от светской жизни и получив в наследство поместье, Евгений переезжает в деревню, вначале радуясь переменам в жизни, но вскоре снова заскучав. Там он встречает Татьяну Ларину, любовь которой не находит ответа в его сердце; пытается подружиться с поэтом-романтиком Владимиром Ленским, но вскоре убивает его на дуэли после нелепой ссоры. В состоянии глубокого душевного кризиса и пытаясь ещё раз изменить свою жизнь, найти в ней интерес, Онегин отправляется в путешествие по России. Но ничего, кроме тоски, невозможности реализовать себя в общественной жизни, Онегин из путешествия не привозит. Через три года он возвращается в Петербург и, сразу же попав на бал, встречает Татьяну, уже светскую даму, жену генерала. В душе героя вспыхивает любовь, которую теперь отвергает Татьяна, покорившись судьбе, но любя по-прежнему только Евгения.\n",
        "\n",
        "На этом обрывается история Евгения Онегина – разочарованного героя, невостребованной личности.\n",
        "\n",
        "\"\"\""
      ],
      "metadata": {
        "id": "oWBvx7dvkuW2"
      },
      "execution_count": null,
      "outputs": []
    },
    {
      "cell_type": "code",
      "source": [
        "text_a = \"\"\"\n",
        "Он получил домашнее образование, отлично знает французский язык и этикет.\n",
        "Главное его увлечение – любовные романы.\n",
        "Читатель встречает Онегина в деревне.\n",
        "Там он знакомится с Татьяной Лариной.\n",
        "Она полюбила Онегина, но он не ответил на её любовь.\n",
        "В деревне Онегин знакомится и с поэтом Владимиром Ленским.\n",
        "После глупой ссоры он убивает Ленского на дуэли.\n",
        "Онегин хочет изменить свою жизнь, найти в ней смысл, но не может.\n",
        "Он уезжает путешествовать по России. Через три года возвращается в Петербург и на балу встречает Татьяну.\n",
        "Теперь и он полюбил её, но Татьяна – жена другого.\n",
        "Она любит Евгения, но не может уйти от мужа.\n",
        "\"\"\""
      ],
      "metadata": {
        "id": "Zp8pabgylKX5"
      },
      "execution_count": null,
      "outputs": []
    },
    {
      "cell_type": "markdown",
      "source": [
        "Для начала нужно разделить тексты на предложения."
      ],
      "metadata": {
        "id": "BkBsO_1fMd5e"
      }
    },
    {
      "cell_type": "code",
      "source": [
        "import nltk"
      ],
      "metadata": {
        "id": "m4Qlle7Mlm_L"
      },
      "execution_count": null,
      "outputs": []
    },
    {
      "cell_type": "code",
      "source": [
        "nltk.download('punkt')"
      ],
      "metadata": {
        "colab": {
          "base_uri": "https://localhost:8080/"
        },
        "id": "PAlhjpsXl1Wv",
        "outputId": "de5bffc8-ab05-4954-db48-d92a4e7ca1cb"
      },
      "execution_count": null,
      "outputs": [
        {
          "output_type": "stream",
          "name": "stderr",
          "text": [
            "[nltk_data] Downloading package punkt to /root/nltk_data...\n",
            "[nltk_data]   Unzipping tokenizers/punkt.zip.\n"
          ]
        },
        {
          "output_type": "execute_result",
          "data": {
            "text/plain": [
              "True"
            ]
          },
          "metadata": {},
          "execution_count": 104
        }
      ]
    },
    {
      "cell_type": "code",
      "source": [
        "c_sents = nltk.sent_tokenize(text_c)"
      ],
      "metadata": {
        "id": "jJxELKj2lw3T"
      },
      "execution_count": null,
      "outputs": []
    },
    {
      "cell_type": "code",
      "source": [
        "a_sents = nltk.sent_tokenize(text_a)"
      ],
      "metadata": {
        "id": "SYzLOspdlzyb"
      },
      "execution_count": null,
      "outputs": []
    },
    {
      "cell_type": "code",
      "source": [
        "c_sents"
      ],
      "metadata": {
        "colab": {
          "base_uri": "https://localhost:8080/"
        },
        "id": "MV8gjyx-l5We",
        "outputId": "7c0fa4bd-8c1d-4579-eee2-fdc18aea7658"
      },
      "execution_count": null,
      "outputs": [
        {
          "output_type": "execute_result",
          "data": {
            "text/plain": [
              "['\\n\\n\\nОнегин – представитель дворянской молодёжи 20-х годов ХIХ в. с характерным для неё критическим отношением к высшему свету, равнодушием к карьере, чувством личной независимости.',\n",
              " 'Онегин получил домашнее неглубокое образование, зато в совершенстве знал французский язык и светский этикет.',\n",
              " 'Но главным увлечением молодых лет героя была любовь – «наука страсти нежной».',\n",
              " 'Читатель встречается с Онегиным, когда тому уже «наскучил жизни шум», ни чтение, ни сочинительство его тоже не увлекали – «как женщин, он оставил книги».',\n",
              " 'Устав от светской жизни и получив в наследство поместье, Евгений переезжает в деревню, вначале радуясь переменам в жизни, но вскоре снова заскучав.',\n",
              " 'Там он встречает Татьяну Ларину, любовь которой не находит ответа в его сердце; пытается подружиться с поэтом-романтиком Владимиром Ленским, но вскоре убивает его на дуэли после нелепой ссоры.',\n",
              " 'В состоянии глубокого душевного кризиса и пытаясь ещё раз изменить свою жизнь, найти в ней интерес, Онегин отправляется в путешествие по России.',\n",
              " 'Но ничего, кроме тоски, невозможности реализовать себя в общественной жизни, Онегин из путешествия не привозит.',\n",
              " 'Через три года он возвращается в Петербург и, сразу же попав на бал, встречает Татьяну, уже светскую даму, жену генерала.',\n",
              " 'В душе героя вспыхивает любовь, которую теперь отвергает Татьяна, покорившись судьбе, но любя по-прежнему только Евгения.',\n",
              " 'На этом обрывается история Евгения Онегина – разочарованного героя, невостребованной личности.']"
            ]
          },
          "metadata": {},
          "execution_count": 107
        }
      ]
    },
    {
      "cell_type": "code",
      "source": [
        "len(c_sents)"
      ],
      "metadata": {
        "colab": {
          "base_uri": "https://localhost:8080/"
        },
        "id": "G7VEYSn9l6Iq",
        "outputId": "7942d2c4-c25a-4f9a-e11f-07b607c84284"
      },
      "execution_count": null,
      "outputs": [
        {
          "output_type": "execute_result",
          "data": {
            "text/plain": [
              "11"
            ]
          },
          "metadata": {},
          "execution_count": 108
        }
      ]
    },
    {
      "cell_type": "code",
      "source": [
        "len(a_sents)"
      ],
      "metadata": {
        "colab": {
          "base_uri": "https://localhost:8080/"
        },
        "id": "jkqNLmWRmA-w",
        "outputId": "c5a208d5-2e9e-4429-82e1-0c308163dddb"
      },
      "execution_count": null,
      "outputs": [
        {
          "output_type": "execute_result",
          "data": {
            "text/plain": [
              "12"
            ]
          },
          "metadata": {},
          "execution_count": 109
        }
      ]
    },
    {
      "cell_type": "markdown",
      "source": [
        "SentenceTransformers не требует никакой специальной предобработки текстов, поэтому списки предложений можно подавать на вход модели в том виде, в котором они сейчас есть:"
      ],
      "metadata": {
        "id": "i70jUn1UMhy1"
      }
    },
    {
      "cell_type": "code",
      "source": [
        "c_embeddings = st_model.encode(c_sents)"
      ],
      "metadata": {
        "id": "796U5_jamB3p"
      },
      "execution_count": null,
      "outputs": []
    },
    {
      "cell_type": "code",
      "source": [
        "a_embeddings = st_model.encode(a_sents)"
      ],
      "metadata": {
        "id": "zJ-bVmjSmbkB"
      },
      "execution_count": null,
      "outputs": []
    },
    {
      "cell_type": "code",
      "source": [
        "c_embeddings.shape"
      ],
      "metadata": {
        "colab": {
          "base_uri": "https://localhost:8080/"
        },
        "id": "5v4oezMMmd1j",
        "outputId": "3dd97fd0-72e2-4be8-ef9d-32c84dc7a101"
      },
      "execution_count": null,
      "outputs": [
        {
          "output_type": "execute_result",
          "data": {
            "text/plain": [
              "(11, 512)"
            ]
          },
          "metadata": {},
          "execution_count": 112
        }
      ]
    },
    {
      "cell_type": "code",
      "source": [
        "a_embeddings.shape"
      ],
      "metadata": {
        "colab": {
          "base_uri": "https://localhost:8080/"
        },
        "id": "2QdHPLDgm8oW",
        "outputId": "b8141b24-e8fd-45a9-c87f-861848e25798"
      },
      "execution_count": null,
      "outputs": [
        {
          "output_type": "execute_result",
          "data": {
            "text/plain": [
              "(12, 512)"
            ]
          },
          "metadata": {},
          "execution_count": 113
        }
      ]
    },
    {
      "cell_type": "markdown",
      "source": [
        "Давайте сначала сравним, насколько похожи два наших текста. Это можно сделать, создав из эмбеддингов предложений эмбеддинги текстов. Для этого мы можем просто усреднить эмбеддинги отдельных предложений:"
      ],
      "metadata": {
        "id": "OrsFpLKoNBxN"
      }
    },
    {
      "cell_type": "code",
      "source": [
        "c_mean = np.mean(c_embeddings, axis=0)"
      ],
      "metadata": {
        "id": "3QullWdNm8JV"
      },
      "execution_count": null,
      "outputs": []
    },
    {
      "cell_type": "code",
      "source": [
        "a_mean = np.mean(a_embeddings, axis=0)"
      ],
      "metadata": {
        "id": "azxjbisTnKtr"
      },
      "execution_count": null,
      "outputs": []
    },
    {
      "cell_type": "code",
      "source": [
        "c_mean.shape"
      ],
      "metadata": {
        "colab": {
          "base_uri": "https://localhost:8080/"
        },
        "id": "YrA29vmInPrN",
        "outputId": "dca6f4ad-bdbb-43d8-fe3f-e8cf8bd145f1"
      },
      "execution_count": null,
      "outputs": [
        {
          "output_type": "execute_result",
          "data": {
            "text/plain": [
              "(512,)"
            ]
          },
          "metadata": {},
          "execution_count": 116
        }
      ]
    },
    {
      "cell_type": "code",
      "source": [
        "a_mean.shape"
      ],
      "metadata": {
        "colab": {
          "base_uri": "https://localhost:8080/"
        },
        "id": "IInDgcnCnQuS",
        "outputId": "481c861f-02e9-40fd-d121-98a6d8a564aa"
      },
      "execution_count": null,
      "outputs": [
        {
          "output_type": "execute_result",
          "data": {
            "text/plain": [
              "(512,)"
            ]
          },
          "metadata": {},
          "execution_count": 117
        }
      ]
    },
    {
      "cell_type": "markdown",
      "source": [
        "Напишем функцию для подсчета косинусного подобия:"
      ],
      "metadata": {
        "id": "thgQhIVJNPBM"
      }
    },
    {
      "cell_type": "code",
      "source": [
        "def cos_sim(a, b):\n",
        "  return np.dot(a, b)/(np.linalg.norm(a)*np.linalg.norm(b))"
      ],
      "metadata": {
        "id": "CUMWGyEynRpz"
      },
      "execution_count": null,
      "outputs": []
    },
    {
      "cell_type": "code",
      "source": [
        "cos_sim(c_mean, a_mean)"
      ],
      "metadata": {
        "colab": {
          "base_uri": "https://localhost:8080/"
        },
        "id": "1g5RqiUFnrCO",
        "outputId": "14051a31-314b-47f0-a379-8a64c0707d2a"
      },
      "execution_count": null,
      "outputs": [
        {
          "output_type": "execute_result",
          "data": {
            "text/plain": [
              "0.6359727"
            ]
          },
          "metadata": {},
          "execution_count": 119
        }
      ]
    },
    {
      "cell_type": "markdown",
      "source": [
        "Теперь мы выровняем наши тексты по предложениям, т.е. для каждого из предложений одного текста найдем максимально подходящее предложение из другого. Алгоритм будет следующий:\n",
        "\n",
        "\n",
        "\n",
        "1.   Берём предложение из простого текста;\n",
        "2.   Сравниваем его с каждым предложением из сложного текста;\n",
        "3.   Наиболее похожее по косинусной близости сложное предложение и будет эквивалентом данного простого предложения. Выведем пару предложений на экран.\n",
        "\n"
      ],
      "metadata": {
        "id": "UnHClBYeNZHF"
      }
    },
    {
      "cell_type": "code",
      "source": [
        "import operator"
      ],
      "metadata": {
        "id": "h2Fi-WCIoDLs"
      },
      "execution_count": null,
      "outputs": []
    },
    {
      "cell_type": "code",
      "source": [
        "for i in range(a_embeddings.shape[0]):\n",
        "\n",
        "  a_emb = a_embeddings[i]\n",
        "  candidates = {}\n",
        "\n",
        "  for j in range(c_embeddings.shape[0]):\n",
        "    sim = cos_sim(a_emb, c_embeddings[j])\n",
        "    candidates[j] = sim\n",
        "\n",
        "  max_id = max(candidates.items(), key=operator.itemgetter(1))[0]\n",
        "\n",
        "  print('C-level sentence: ', c_sents[max_id])\n",
        "  print('A-level sentence: ', a_sents[i])\n",
        "  print('*'*10)"
      ],
      "metadata": {
        "colab": {
          "base_uri": "https://localhost:8080/"
        },
        "id": "eto9c7Nhn0zY",
        "outputId": "f12c2b86-f0ec-4e5b-dda1-5616cd6b117b"
      },
      "execution_count": null,
      "outputs": [
        {
          "output_type": "stream",
          "name": "stdout",
          "text": [
            "C-level sentence:  Онегин получил домашнее неглубокое образование, зато в совершенстве знал французский язык и светский этикет.\n",
            "A-level sentence:  \n",
            "Он получил домашнее образование, отлично знает французский язык и этикет.\n",
            "**********\n",
            "C-level sentence:  Но главным увлечением молодых лет героя была любовь – «наука страсти нежной».\n",
            "A-level sentence:  Главное его увлечение – любовные романы.\n",
            "**********\n",
            "C-level sentence:  Устав от светской жизни и получив в наследство поместье, Евгений переезжает в деревню, вначале радуясь переменам в жизни, но вскоре снова заскучав.\n",
            "A-level sentence:  Читатель встречает Онегина в деревне.\n",
            "**********\n",
            "C-level sentence:  Там он встречает Татьяну Ларину, любовь которой не находит ответа в его сердце; пытается подружиться с поэтом-романтиком Владимиром Ленским, но вскоре убивает его на дуэли после нелепой ссоры.\n",
            "A-level sentence:  Там он знакомится с Татьяной Лариной.\n",
            "**********\n",
            "C-level sentence:  В душе героя вспыхивает любовь, которую теперь отвергает Татьяна, покорившись судьбе, но любя по-прежнему только Евгения.\n",
            "A-level sentence:  Она полюбила Онегина, но он не ответил на её любовь.\n",
            "**********\n",
            "C-level sentence:  Там он встречает Татьяну Ларину, любовь которой не находит ответа в его сердце; пытается подружиться с поэтом-романтиком Владимиром Ленским, но вскоре убивает его на дуэли после нелепой ссоры.\n",
            "A-level sentence:  В деревне Онегин знакомится и с поэтом Владимиром Ленским.\n",
            "**********\n",
            "C-level sentence:  Там он встречает Татьяну Ларину, любовь которой не находит ответа в его сердце; пытается подружиться с поэтом-романтиком Владимиром Ленским, но вскоре убивает его на дуэли после нелепой ссоры.\n",
            "A-level sentence:  После глупой ссоры он убивает Ленского на дуэли.\n",
            "**********\n",
            "C-level sentence:  В состоянии глубокого душевного кризиса и пытаясь ещё раз изменить свою жизнь, найти в ней интерес, Онегин отправляется в путешествие по России.\n",
            "A-level sentence:  Онегин хочет изменить свою жизнь, найти в ней смысл, но не может.\n",
            "**********\n",
            "C-level sentence:  В состоянии глубокого душевного кризиса и пытаясь ещё раз изменить свою жизнь, найти в ней интерес, Онегин отправляется в путешествие по России.\n",
            "A-level sentence:  Он уезжает путешествовать по России.\n",
            "**********\n",
            "C-level sentence:  Через три года он возвращается в Петербург и, сразу же попав на бал, встречает Татьяну, уже светскую даму, жену генерала.\n",
            "A-level sentence:  Через три года возвращается в Петербург и на балу встречает Татьяну.\n",
            "**********\n",
            "C-level sentence:  В душе героя вспыхивает любовь, которую теперь отвергает Татьяна, покорившись судьбе, но любя по-прежнему только Евгения.\n",
            "A-level sentence:  Теперь и он полюбил её, но Татьяна – жена другого.\n",
            "**********\n",
            "C-level sentence:  В душе героя вспыхивает любовь, которую теперь отвергает Татьяна, покорившись судьбе, но любя по-прежнему только Евгения.\n",
            "A-level sentence:  Она любит Евгения, но не может уйти от мужа.\n",
            "**********\n"
          ]
        }
      ]
    },
    {
      "cell_type": "code",
      "source": [],
      "metadata": {
        "id": "qAlT7uoRpCMF"
      },
      "execution_count": null,
      "outputs": []
    }
  ]
}