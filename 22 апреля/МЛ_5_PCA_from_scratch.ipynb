{
  "nbformat": 4,
  "nbformat_minor": 0,
  "metadata": {
    "colab": {
      "provenance": []
    },
    "kernelspec": {
      "name": "python3",
      "display_name": "Python 3"
    },
    "language_info": {
      "name": "python"
    }
  },
  "cells": [
    {
      "cell_type": "markdown",
      "source": [
        "# PCA from scratch"
      ],
      "metadata": {
        "id": "P4viPVOO_sfZ"
      }
    },
    {
      "cell_type": "markdown",
      "source": [
        "По этой статье: https://habr.com/ru/articles/304214/"
      ],
      "metadata": {
        "id": "M-XZs5YZ_Ly1"
      }
    },
    {
      "cell_type": "code",
      "source": [
        "import numpy as np"
      ],
      "metadata": {
        "id": "G2DJtl3Tait7"
      },
      "execution_count": null,
      "outputs": []
    },
    {
      "cell_type": "code",
      "source": [
        "import matplotlib.pyplot as plt"
      ],
      "metadata": {
        "id": "AUjfbXmAbh4R"
      },
      "execution_count": null,
      "outputs": []
    },
    {
      "cell_type": "code",
      "execution_count": null,
      "metadata": {
        "id": "FL6CIQbyaI2K"
      },
      "outputs": [],
      "source": [
        "x = np.arange(1,11)\n",
        "y = 2 * x + np.random.randn(10)*2\n",
        "X = np.vstack((x,y))"
      ]
    },
    {
      "cell_type": "code",
      "source": [
        "x"
      ],
      "metadata": {
        "colab": {
          "base_uri": "https://localhost:8080/"
        },
        "id": "bR4LhEOiakX5",
        "outputId": "16deb848-6c80-4162-a305-6080fd2e1a2a"
      },
      "execution_count": null,
      "outputs": [
        {
          "output_type": "execute_result",
          "data": {
            "text/plain": [
              "array([ 1,  2,  3,  4,  5,  6,  7,  8,  9, 10])"
            ]
          },
          "metadata": {},
          "execution_count": 4
        }
      ]
    },
    {
      "cell_type": "code",
      "source": [
        "y"
      ],
      "metadata": {
        "colab": {
          "base_uri": "https://localhost:8080/"
        },
        "id": "h3OLAeHoaqma",
        "outputId": "7fa0217a-ea3f-4f6f-cdf0-e5300f6a13fa"
      },
      "execution_count": null,
      "outputs": [
        {
          "output_type": "execute_result",
          "data": {
            "text/plain": [
              "array([-1.2258313 ,  0.02561864,  1.64931359,  8.88128723,  7.99963642,\n",
              "       11.42761235, 15.84564653, 12.343184  , 16.62570489, 20.69980184])"
            ]
          },
          "metadata": {},
          "execution_count": 5
        }
      ]
    },
    {
      "cell_type": "code",
      "source": [
        "plt.scatter(x, y)\n",
        "plt.axhline(y=0.0, color='black')\n",
        "plt.axvline(x=0.0, color='black')"
      ],
      "metadata": {
        "colab": {
          "base_uri": "https://localhost:8080/",
          "height": 451
        },
        "id": "jS90BzYBbma-",
        "outputId": "85efa1d6-a1be-46fc-aa20-bcba7fb6f939"
      },
      "execution_count": null,
      "outputs": [
        {
          "output_type": "execute_result",
          "data": {
            "text/plain": [
              "<matplotlib.lines.Line2D at 0x7f88e7305f00>"
            ]
          },
          "metadata": {},
          "execution_count": 6
        },
        {
          "output_type": "display_data",
          "data": {
            "text/plain": [
              "<Figure size 640x480 with 1 Axes>"
            ],
            "image/png": "[encoded data removed]"
          },
          "metadata": {}
        }
      ]
    },
    {
      "cell_type": "markdown",
      "source": [
        "В данной выборке у нас имеются два признака, сильно коррелирующие друг с другом. С помощью алгоритма PCA мы сможем легко найти признак-комбинацию и, ценой части информации, выразить оба этих признака одним новым."
      ],
      "metadata": {
        "id": "6PVkWIu9azOW"
      }
    },
    {
      "cell_type": "markdown",
      "source": [
        "Отцентрируем нашу выборку: линейно сдвинем ее так, чтобы средние значения признаков были равны 0"
      ],
      "metadata": {
        "id": "4tXzQvAybCIW"
      }
    },
    {
      "cell_type": "code",
      "source": [
        "Xcentered = (X[0] - x.mean(), X[1] - y.mean())"
      ],
      "metadata": {
        "id": "ozy_PM2katfN"
      },
      "execution_count": null,
      "outputs": []
    },
    {
      "cell_type": "code",
      "source": [
        "plt.scatter(Xcentered[0], Xcentered[1])\n",
        "plt.axhline(y=0.0, color='black')\n",
        "plt.axvline(x=0.0, color='black')"
      ],
      "metadata": {
        "colab": {
          "base_uri": "https://localhost:8080/",
          "height": 451
        },
        "id": "Idot1YWybeUm",
        "outputId": "9e0517fb-945e-40de-a7ab-cd9b2848ba72"
      },
      "execution_count": null,
      "outputs": [
        {
          "output_type": "execute_result",
          "data": {
            "text/plain": [
              "<matplotlib.lines.Line2D at 0x7d3bb02aa980>"
            ]
          },
          "metadata": {},
          "execution_count": 9
        },
        {
          "output_type": "display_data",
          "data": {
            "text/plain": [
              "<Figure size 640x480 with 1 Axes>"
            ],
            "image/png": "[encoded data removed]"
          },
          "metadata": {}
        }
      ]
    },
    {
      "cell_type": "markdown",
      "source": [
        "Построим ковариационную матрицу -т.е. матрицу корреляций между признаками:"
      ],
      "metadata": {
        "id": "7lWJQybVdMna"
      }
    },
    {
      "cell_type": "code",
      "source": [
        "covmat = np.cov(Xcentered)"
      ],
      "metadata": {
        "id": "jt1K2ovebxx5"
      },
      "execution_count": null,
      "outputs": []
    },
    {
      "cell_type": "markdown",
      "source": [
        "В матрице по диагонали будут дисперсии признаков, а в остальных ячейках – ковариации соответствующих пар признаков:\n"
      ],
      "metadata": {
        "id": "sDJW_AA3eAKP"
      }
    },
    {
      "cell_type": "code",
      "source": [
        "covmat"
      ],
      "metadata": {
        "colab": {
          "base_uri": "https://localhost:8080/"
        },
        "id": "U3yDcxxRdyEe",
        "outputId": "6bcc0708-001a-45ba-e121-b5551c2e9360"
      },
      "execution_count": null,
      "outputs": [
        {
          "output_type": "execute_result",
          "data": {
            "text/plain": [
              "array([[ 9.16666667, 17.15154241],\n",
              "       [17.15154241, 42.11845799]])"
            ]
          },
          "metadata": {},
          "execution_count": 11
        }
      ]
    },
    {
      "cell_type": "code",
      "source": [
        "print(\"Variance of X: \", np.cov(Xcentered)[0,0])\n",
        "print(\"Variance of Y: \", np.cov(Xcentered)[1,1])\n",
        "print(\"Covariance X and Y: \", np.cov(Xcentered)[0,1])"
      ],
      "metadata": {
        "colab": {
          "base_uri": "https://localhost:8080/"
        },
        "id": "j15aYEh9dy3J",
        "outputId": "a38d8c6b-2477-4afa-a051-c268024e28d1"
      },
      "execution_count": null,
      "outputs": [
        {
          "output_type": "stream",
          "name": "stdout",
          "text": [
            "Variance of X:  9.166666666666666\n",
            "Variance of Y:  42.11845799465856\n",
            "Covariance X and Y:  17.15154240826167\n"
          ]
        }
      ]
    },
    {
      "cell_type": "markdown",
      "source": [
        "Найдем собственные вектора и значения:"
      ],
      "metadata": {
        "id": "jTIfIt1Je03K"
      }
    },
    {
      "cell_type": "code",
      "source": [
        "eigenvals, eigenvecs = np.linalg.eig(covmat)"
      ],
      "metadata": {
        "id": "TAFwJMoFd5Mq"
      },
      "execution_count": null,
      "outputs": []
    },
    {
      "cell_type": "code",
      "source": [
        "eigenvals"
      ],
      "metadata": {
        "colab": {
          "base_uri": "https://localhost:8080/"
        },
        "id": "VnfYvIm8xxOR",
        "outputId": "5d0a35c4-7da8-456f-9db9-f030322e3de6"
      },
      "execution_count": null,
      "outputs": [
        {
          "output_type": "execute_result",
          "data": {
            "text/plain": [
              "array([ 1.85957377, 49.42555089])"
            ]
          },
          "metadata": {},
          "execution_count": 14
        }
      ]
    },
    {
      "cell_type": "code",
      "source": [
        "eigenvecs"
      ],
      "metadata": {
        "colab": {
          "base_uri": "https://localhost:8080/"
        },
        "id": "KQw_L6FCxydU",
        "outputId": "8a4400e6-4093-49d2-d5d4-94b16a74b102"
      },
      "execution_count": null,
      "outputs": [
        {
          "output_type": "execute_result",
          "data": {
            "text/plain": [
              "array([[-0.91998904, -0.39194407],\n",
              "       [ 0.39194407, -0.91998904]])"
            ]
          },
          "metadata": {},
          "execution_count": 15
        }
      ]
    },
    {
      "cell_type": "markdown",
      "source": [
        "Отсортируем собственные значения по убыванию:"
      ],
      "metadata": {
        "id": "TyKeVTZKxu3b"
      }
    },
    {
      "cell_type": "code",
      "source": [
        "sorted_index = np.argsort(eigenvals)[::-1]\n",
        "sorted_eigenvalues = eigenvals[sorted_index]\n",
        "sorted_eigenvectors = eigenvecs[:,sorted_index]"
      ],
      "metadata": {
        "id": "acsYBQUSh9sv"
      },
      "execution_count": null,
      "outputs": []
    },
    {
      "cell_type": "code",
      "source": [
        "sorted_eigenvectors"
      ],
      "metadata": {
        "colab": {
          "base_uri": "https://localhost:8080/"
        },
        "id": "_CnviD2fe7p5",
        "outputId": "d51686db-5759-427f-b0db-77ee42c611ce"
      },
      "execution_count": null,
      "outputs": [
        {
          "output_type": "execute_result",
          "data": {
            "text/plain": [
              "array([[-0.39194407, -0.91998904],\n",
              "       [-0.91998904,  0.39194407]])"
            ]
          },
          "metadata": {},
          "execution_count": 17
        }
      ]
    },
    {
      "cell_type": "markdown",
      "source": [
        "Посмотрим, сколько дисперсии объясняет каждое значение:"
      ],
      "metadata": {
        "id": "w4FWVRaCyx40"
      }
    },
    {
      "cell_type": "code",
      "source": [
        "eig_vals_total = sum(sorted_eigenvalues)\n",
        "explained_variance = [(i / eig_vals_total)*100 for i in sorted_eigenvalues]\n",
        "explained_variance = np.round(explained_variance, 2)\n",
        "cum_explained_variance = np.cumsum(explained_variance)"
      ],
      "metadata": {
        "id": "fHmYADPae-4B"
      },
      "execution_count": null,
      "outputs": []
    },
    {
      "cell_type": "code",
      "source": [
        "print('Explained variance: {}'.format(explained_variance))\n",
        "print('Cumulative explained variance: {}'.format(cum_explained_variance))"
      ],
      "metadata": {
        "colab": {
          "base_uri": "https://localhost:8080/"
        },
        "id": "8gQ5UkHWzOXy",
        "outputId": "fb65e7bc-7d26-4211-ceb0-d94dd0401596"
      },
      "execution_count": null,
      "outputs": [
        {
          "output_type": "stream",
          "name": "stdout",
          "text": [
            "Explained variance: [96.37  3.63]\n",
            "Cumulative explained variance: [ 96.37 100.  ]\n"
          ]
        }
      ]
    },
    {
      "cell_type": "markdown",
      "source": [
        "Снизим размерность до 1:"
      ],
      "metadata": {
        "id": "GBMQbUehzoqu"
      }
    },
    {
      "cell_type": "code",
      "source": [
        "n_components = 1\n",
        "W = sorted_eigenvectors[:n_components, :] # Projection matrix\n",
        "\n",
        "print(W.shape)"
      ],
      "metadata": {
        "colab": {
          "base_uri": "https://localhost:8080/"
        },
        "id": "RYTgwxgIzRtA",
        "outputId": "a5e80884-f0ab-4dbf-8cb7-f9b0a4a28a85"
      },
      "execution_count": null,
      "outputs": [
        {
          "output_type": "stream",
          "name": "stdout",
          "text": [
            "(1, 2)\n"
          ]
        }
      ]
    },
    {
      "cell_type": "code",
      "source": [
        "W"
      ],
      "metadata": {
        "colab": {
          "base_uri": "https://localhost:8080/"
        },
        "id": "Cl-WF2U52Ibo",
        "outputId": "2e588ef2-fffe-4ea1-cb70-d39e53b90720"
      },
      "execution_count": null,
      "outputs": [
        {
          "output_type": "execute_result",
          "data": {
            "text/plain": [
              "array([[-0.39194407, -0.91998904]])"
            ]
          },
          "metadata": {},
          "execution_count": 21
        }
      ]
    },
    {
      "cell_type": "markdown",
      "source": [
        "Трансформируем данные:"
      ],
      "metadata": {
        "id": "dXfemOQ7zwdq"
      }
    },
    {
      "cell_type": "code",
      "source": [
        "X_reduced = np.dot(W, np.array(Xcentered))"
      ],
      "metadata": {
        "id": "NU6hAfPXznuF"
      },
      "execution_count": null,
      "outputs": []
    },
    {
      "cell_type": "code",
      "source": [
        "X_reduced"
      ],
      "metadata": {
        "colab": {
          "base_uri": "https://localhost:8080/"
        },
        "id": "6warLq3k3IZb",
        "outputId": "5a56c53b-bc98-470e-89df-898f35401ebe"
      },
      "execution_count": null,
      "outputs": [
        {
          "output_type": "execute_result",
          "data": {
            "text/plain": [
              "array([[  6.19454582,  11.80926851,   6.12987205,  -1.91608644,\n",
              "          4.35008019,  -2.08483895,  -1.93097242,  -3.72396128,\n",
              "         -7.4593853 , -11.36852218]])"
            ]
          },
          "metadata": {},
          "execution_count": 23
        }
      ]
    },
    {
      "cell_type": "markdown",
      "source": [
        "Сравним с PCA из sklearn:"
      ],
      "metadata": {
        "id": "i0B-D7wD9dGY"
      }
    },
    {
      "cell_type": "code",
      "source": [
        "from sklearn.decomposition import PCA\n",
        "pca = PCA(n_components = 1)\n",
        "XPCAreduced = pca.fit_transform(X.transpose())"
      ],
      "metadata": {
        "id": "LJOUCPct3SA0"
      },
      "execution_count": null,
      "outputs": []
    },
    {
      "cell_type": "code",
      "source": [
        "XPCAreduced"
      ],
      "metadata": {
        "colab": {
          "base_uri": "https://localhost:8080/"
        },
        "id": "1FKMEaNe3XxN",
        "outputId": "1c6914ba-46f1-4739-ceef-ad1d6cf6cea0"
      },
      "execution_count": null,
      "outputs": [
        {
          "output_type": "execute_result",
          "data": {
            "text/plain": [
              "array([[  6.19454582],\n",
              "       [ 11.80926851],\n",
              "       [  6.12987205],\n",
              "       [ -1.91608644],\n",
              "       [  4.35008019],\n",
              "       [ -2.08483895],\n",
              "       [ -1.93097242],\n",
              "       [ -3.72396128],\n",
              "       [ -7.4593853 ],\n",
              "       [-11.36852218]])"
            ]
          },
          "metadata": {},
          "execution_count": 25
        }
      ]
    },
    {
      "cell_type": "code",
      "source": [
        "print('Projection: ', pca.components_, W)\n",
        "print('Explained variance ratio: ', pca.explained_variance_ratio_, explained_variance)"
      ],
      "metadata": {
        "colab": {
          "base_uri": "https://localhost:8080/"
        },
        "id": "Q92qN1Vo3e00",
        "outputId": "88265513-41f6-40fa-8cfb-fecae1c0c805"
      },
      "execution_count": null,
      "outputs": [
        {
          "output_type": "stream",
          "name": "stdout",
          "text": [
            "Projection:  [[-0.39194407 -0.91998904]] [[-0.39194407 -0.91998904]]\n",
            "Explained variance ratio:  [0.96374048] [96.37  3.63]\n"
          ]
        }
      ]
    },
    {
      "cell_type": "code",
      "source": [],
      "metadata": {
        "id": "Km6psjRSmMt7"
      },
      "execution_count": null,
      "outputs": []
    }
  ]
}