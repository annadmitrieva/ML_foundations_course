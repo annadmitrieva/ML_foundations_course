{
  "nbformat": 4,
  "nbformat_minor": 0,
  "metadata": {
    "colab": {
      "provenance": []
    },
    "kernelspec": {
      "name": "python3",
      "display_name": "Python 3"
    },
    "language_info": {
      "name": "python"
    },
    "accelerator": "GPU",
    "widgets": {
      "application/vnd.jupyter.widget-state+json": {
        "a40d294019f447a9acf0c2261fe20b0b": {
          "model_module": "@jupyter-widgets/controls",
          "model_name": "HBoxModel",
          "model_module_version": "1.5.0",
          "state": {
            "_dom_classes": [],
            "_model_module": "@jupyter-widgets/controls",
            "_model_module_version": "1.5.0",
            "_model_name": "HBoxModel",
            "_view_count": null,
            "_view_module": "@jupyter-widgets/controls",
            "_view_module_version": "1.5.0",
            "_view_name": "HBoxView",
            "box_style": "",
            "children": [
              "IPY_MODEL_6b7c3dadd7244a54b7c4dbf65680de9c",
              "IPY_MODEL_71d14eefc8c44e18bb65be6e7d233ae7",
              "IPY_MODEL_d97b563a979d46ceade0b3d35f89c2fc"
            ],
            "layout": "IPY_MODEL_b0e22ba483414303b3502a9246043ff1"
          }
        },
        "6b7c3dadd7244a54b7c4dbf65680de9c": {
          "model_module": "@jupyter-widgets/controls",
          "model_name": "HTMLModel",
          "model_module_version": "1.5.0",
          "state": {
            "_dom_classes": [],
            "_model_module": "@jupyter-widgets/controls",
            "_model_module_version": "1.5.0",
            "_model_name": "HTMLModel",
            "_view_count": null,
            "_view_module": "@jupyter-widgets/controls",
            "_view_module_version": "1.5.0",
            "_view_name": "HTMLView",
            "description": "",
            "description_tooltip": null,
            "layout": "IPY_MODEL_e723de0442b843a196fd58ef2a80ff5d",
            "placeholder": "​",
            "style": "IPY_MODEL_3387a20d09284a1fa4a18f1d8dba51f2",
            "value": "Downloading builder script: "
          }
        },
        "71d14eefc8c44e18bb65be6e7d233ae7": {
          "model_module": "@jupyter-widgets/controls",
          "model_name": "FloatProgressModel",
          "model_module_version": "1.5.0",
          "state": {
            "_dom_classes": [],
            "_model_module": "@jupyter-widgets/controls",
            "_model_module_version": "1.5.0",
            "_model_name": "FloatProgressModel",
            "_view_count": null,
            "_view_module": "@jupyter-widgets/controls",
            "_view_module_version": "1.5.0",
            "_view_name": "ProgressView",
            "bar_style": "success",
            "description": "",
            "description_tooltip": null,
            "layout": "IPY_MODEL_9c1f543cd2104c1285bb2a8a4a1a6af9",
            "max": 2471,
            "min": 0,
            "orientation": "horizontal",
            "style": "IPY_MODEL_417cec7b4395462ca288e0b6bfbdc441",
            "value": 2471
          }
        },
        "d97b563a979d46ceade0b3d35f89c2fc": {
          "model_module": "@jupyter-widgets/controls",
          "model_name": "HTMLModel",
          "model_module_version": "1.5.0",
          "state": {
            "_dom_classes": [],
            "_model_module": "@jupyter-widgets/controls",
            "_model_module_version": "1.5.0",
            "_model_name": "HTMLModel",
            "_view_count": null,
            "_view_module": "@jupyter-widgets/controls",
            "_view_module_version": "1.5.0",
            "_view_name": "HTMLView",
            "description": "",
            "description_tooltip": null,
            "layout": "IPY_MODEL_0e2d21c41f2048e9a84202505f8e7e9d",
            "placeholder": "​",
            "style": "IPY_MODEL_1f3282df258644c288ed1c94799481fc",
            "value": " 6.33k/? [00:00&lt;00:00, 158kB/s]"
          }
        },
        "b0e22ba483414303b3502a9246043ff1": {
          "model_module": "@jupyter-widgets/base",
          "model_name": "LayoutModel",
          "model_module_version": "1.2.0",
          "state": {
            "_model_module": "@jupyter-widgets/base",
            "_model_module_version": "1.2.0",
            "_model_name": "LayoutModel",
            "_view_count": null,
            "_view_module": "@jupyter-widgets/base",
            "_view_module_version": "1.2.0",
            "_view_name": "LayoutView",
            "align_content": null,
            "align_items": null,
            "align_self": null,
            "border": null,
            "bottom": null,
            "display": null,
            "flex": null,
            "flex_flow": null,
            "grid_area": null,
            "grid_auto_columns": null,
            "grid_auto_flow": null,
            "grid_auto_rows": null,
            "grid_column": null,
            "grid_gap": null,
            "grid_row": null,
            "grid_template_areas": null,
            "grid_template_columns": null,
            "grid_template_rows": null,
            "height": null,
            "justify_content": null,
            "justify_items": null,
            "left": null,
            "margin": null,
            "max_height": null,
            "max_width": null,
            "min_height": null,
            "min_width": null,
            "object_fit": null,
            "object_position": null,
            "order": null,
            "overflow": null,
            "overflow_x": null,
            "overflow_y": null,
            "padding": null,
            "right": null,
            "top": null,
            "visibility": null,
            "width": null
          }
        },
        "e723de0442b843a196fd58ef2a80ff5d": {
          "model_module": "@jupyter-widgets/base",
          "model_name": "LayoutModel",
          "model_module_version": "1.2.0",
          "state": {
            "_model_module": "@jupyter-widgets/base",
            "_model_module_version": "1.2.0",
            "_model_name": "LayoutModel",
            "_view_count": null,
            "_view_module": "@jupyter-widgets/base",
            "_view_module_version": "1.2.0",
            "_view_name": "LayoutView",
            "align_content": null,
            "align_items": null,
            "align_self": null,
            "border": null,
            "bottom": null,
            "display": null,
            "flex": null,
            "flex_flow": null,
            "grid_area": null,
            "grid_auto_columns": null,
            "grid_auto_flow": null,
            "grid_auto_rows": null,
            "grid_column": null,
            "grid_gap": null,
            "grid_row": null,
            "grid_template_areas": null,
            "grid_template_columns": null,
            "grid_template_rows": null,
            "height": null,
            "justify_content": null,
            "justify_items": null,
            "left": null,
            "margin": null,
            "max_height": null,
            "max_width": null,
            "min_height": null,
            "min_width": null,
            "object_fit": null,
            "object_position": null,
            "order": null,
            "overflow": null,
            "overflow_x": null,
            "overflow_y": null,
            "padding": null,
            "right": null,
            "top": null,
            "visibility": null,
            "width": null
          }
        },
        "3387a20d09284a1fa4a18f1d8dba51f2": {
          "model_module": "@jupyter-widgets/controls",
          "model_name": "DescriptionStyleModel",
          "model_module_version": "1.5.0",
          "state": {
            "_model_module": "@jupyter-widgets/controls",
            "_model_module_version": "1.5.0",
            "_model_name": "DescriptionStyleModel",
            "_view_count": null,
            "_view_module": "@jupyter-widgets/base",
            "_view_module_version": "1.2.0",
            "_view_name": "StyleView",
            "description_width": ""
          }
        },
        "9c1f543cd2104c1285bb2a8a4a1a6af9": {
          "model_module": "@jupyter-widgets/base",
          "model_name": "LayoutModel",
          "model_module_version": "1.2.0",
          "state": {
            "_model_module": "@jupyter-widgets/base",
            "_model_module_version": "1.2.0",
            "_model_name": "LayoutModel",
            "_view_count": null,
            "_view_module": "@jupyter-widgets/base",
            "_view_module_version": "1.2.0",
            "_view_name": "LayoutView",
            "align_content": null,
            "align_items": null,
            "align_self": null,
            "border": null,
            "bottom": null,
            "display": null,
            "flex": null,
            "flex_flow": null,
            "grid_area": null,
            "grid_auto_columns": null,
            "grid_auto_flow": null,
            "grid_auto_rows": null,
            "grid_column": null,
            "grid_gap": null,
            "grid_row": null,
            "grid_template_areas": null,
            "grid_template_columns": null,
            "grid_template_rows": null,
            "height": null,
            "justify_content": null,
            "justify_items": null,
            "left": null,
            "margin": null,
            "max_height": null,
            "max_width": null,
            "min_height": null,
            "min_width": null,
            "object_fit": null,
            "object_position": null,
            "order": null,
            "overflow": null,
            "overflow_x": null,
            "overflow_y": null,
            "padding": null,
            "right": null,
            "top": null,
            "visibility": null,
            "width": null
          }
        },
        "417cec7b4395462ca288e0b6bfbdc441": {
          "model_module": "@jupyter-widgets/controls",
          "model_name": "ProgressStyleModel",
          "model_module_version": "1.5.0",
          "state": {
            "_model_module": "@jupyter-widgets/controls",
            "_model_module_version": "1.5.0",
            "_model_name": "ProgressStyleModel",
            "_view_count": null,
            "_view_module": "@jupyter-widgets/base",
            "_view_module_version": "1.2.0",
            "_view_name": "StyleView",
            "bar_color": null,
            "description_width": ""
          }
        },
        "0e2d21c41f2048e9a84202505f8e7e9d": {
          "model_module": "@jupyter-widgets/base",
          "model_name": "LayoutModel",
          "model_module_version": "1.2.0",
          "state": {
            "_model_module": "@jupyter-widgets/base",
            "_model_module_version": "1.2.0",
            "_model_name": "LayoutModel",
            "_view_count": null,
            "_view_module": "@jupyter-widgets/base",
            "_view_module_version": "1.2.0",
            "_view_name": "LayoutView",
            "align_content": null,
            "align_items": null,
            "align_self": null,
            "border": null,
            "bottom": null,
            "display": null,
            "flex": null,
            "flex_flow": null,
            "grid_area": null,
            "grid_auto_columns": null,
            "grid_auto_flow": null,
            "grid_auto_rows": null,
            "grid_column": null,
            "grid_gap": null,
            "grid_row": null,
            "grid_template_areas": null,
            "grid_template_columns": null,
            "grid_template_rows": null,
            "height": null,
            "justify_content": null,
            "justify_items": null,
            "left": null,
            "margin": null,
            "max_height": null,
            "max_width": null,
            "min_height": null,
            "min_width": null,
            "object_fit": null,
            "object_position": null,
            "order": null,
            "overflow": null,
            "overflow_x": null,
            "overflow_y": null,
            "padding": null,
            "right": null,
            "top": null,
            "visibility": null,
            "width": null
          }
        },
        "1f3282df258644c288ed1c94799481fc": {
          "model_module": "@jupyter-widgets/controls",
          "model_name": "DescriptionStyleModel",
          "model_module_version": "1.5.0",
          "state": {
            "_model_module": "@jupyter-widgets/controls",
            "_model_module_version": "1.5.0",
            "_model_name": "DescriptionStyleModel",
            "_view_count": null,
            "_view_module": "@jupyter-widgets/base",
            "_view_module_version": "1.2.0",
            "_view_name": "StyleView",
            "description_width": ""
          }
        }
      }
    }
  },
  "cells": [
    {
      "cell_type": "markdown",
      "source": [
        "# Морфологический разбор старославянского языка при помощи DistilBERT\n",
        "\n",
        "Задача: сделать pos-теггер для старославянского.\n",
        "\n",
        "Данные: старославянский treebank от Universal Dependencies."
      ],
      "metadata": {
        "id": "PVjRP50SsN0O"
      }
    },
    {
      "cell_type": "markdown",
      "source": [
        "Наши данные находятся в формате CONLLU:"
      ],
      "metadata": {
        "id": "PHMO5EzRsi_Z"
      }
    },
    {
      "cell_type": "code",
      "source": [
        "with open('/content/drive/MyDrive/ML_training_data/chu_all.conllu', 'r') as f:\n",
        "  chu_lines = f.readlines()"
      ],
      "metadata": {
        "id": "j2mhPSHLslVr"
      },
      "execution_count": 1,
      "outputs": []
    },
    {
      "cell_type": "code",
      "source": [
        "for line in chu_lines[:10]:\n",
        "  print(line)"
      ],
      "metadata": {
        "colab": {
          "base_uri": "https://localhost:8080/"
        },
        "id": "dBnaa584s7dO",
        "outputId": "0f39b571-0f8b-49ff-9052-47a5bbb25912"
      },
      "execution_count": 2,
      "outputs": [
        {
          "output_type": "stream",
          "name": "stdout",
          "text": [
            "# source = Codex Marianus, Matthew 9\n",
            "\n",
            "# text = ꙇ вьлѣзъ въ корабь и҃съ прѣѣде ꙇ приде въ свои градъ\n",
            "\n",
            "# sent_id = 38541\n",
            "\n",
            "1\tꙇ\tи\tCCONJ\tC-\t_\t6\tcc\t_\tref=MATT_9.1\n",
            "\n",
            "2\tвьлѣзъ\tвълѣсти\tVERB\tV-\tCase=Nom|Gender=Masc|Number=Sing|Strength=Strong|Tense=Past|VerbForm=Part|Voice=Act\t6\tadvcl\t_\tref=MATT_9.1\n",
            "\n",
            "3\tвъ\tвъ\tADP\tR-\t_\t4\tcase\t_\tref=MATT_9.1\n",
            "\n",
            "4\tкорабь\tкорабль\tNOUN\tNb\tCase=Acc|Gender=Masc|Number=Sing\t2\tobl\t_\tref=MATT_9.1\n",
            "\n",
            "5\tи҃съ\tисоусъ\tPROPN\tNe\tCase=Nom|Gender=Masc|Number=Sing\t6\tnsubj\t_\tref=MATT_9.1\n",
            "\n",
            "6\tпрѣѣде\tпрѣꙗхати\tVERB\tV-\tAspect=Perf|Mood=Ind|Number=Sing|Person=3|Tense=Past|VerbForm=Fin|Voice=Act\t0\troot\t_\tref=MATT_9.1\n",
            "\n",
            "7\tꙇ\tи\tCCONJ\tC-\t_\t6\tcc\t_\tref=MATT_9.1\n",
            "\n"
          ]
        }
      ]
    },
    {
      "cell_type": "markdown",
      "source": [
        "Поэтому для начала надо их предобработать и достать из них только слова и частеречные теги."
      ],
      "metadata": {
        "id": "vhq1lGbMtFT0"
      }
    },
    {
      "cell_type": "code",
      "metadata": {
        "id": "TVxdGohJ0TYG"
      },
      "source": [
        "import re"
      ],
      "execution_count": 3,
      "outputs": []
    },
    {
      "cell_type": "code",
      "metadata": {
        "id": "nNN5euqN1qdK"
      },
      "source": [
        "def read_corp(file_path):\n",
        "\n",
        "  with open(file_path, 'r') as f:\n",
        "    raw_text = f.read()\n",
        "\n",
        "  raw_docs = re.split(r'\\n\\t?\\n', raw_text)\n",
        "  token_docs = []\n",
        "  tag_docs = []\n",
        "  for doc in raw_docs:\n",
        "      tokens = []\n",
        "      tags = []\n",
        "      for line in doc.split('\\n'):\n",
        "        if line:\n",
        "          if line.split()[0] != '#':\n",
        "            info = line.split('\\t')\n",
        "            tokens.append(info[1])\n",
        "            tags.append(info[3])\n",
        "      token_docs.append(tokens)\n",
        "      tag_docs.append(tags)\n",
        "\n",
        "  return token_docs, tag_docs\n",
        "\n",
        "texts, tags = read_corp('/content/drive/MyDrive/ML_training_data/chu_all.conllu')"
      ],
      "execution_count": 4,
      "outputs": []
    },
    {
      "cell_type": "code",
      "metadata": {
        "colab": {
          "base_uri": "https://localhost:8080/"
        },
        "id": "QpgCfSsW5IKO",
        "outputId": "242d4508-57c0-4037-b4c1-9be661485c08"
      },
      "source": [
        "len(texts)"
      ],
      "execution_count": 5,
      "outputs": [
        {
          "output_type": "execute_result",
          "data": {
            "text/plain": [
              "6339"
            ]
          },
          "metadata": {},
          "execution_count": 5
        }
      ]
    },
    {
      "cell_type": "code",
      "source": [
        "texts[0]"
      ],
      "metadata": {
        "colab": {
          "base_uri": "https://localhost:8080/"
        },
        "id": "F1I4_VkDtQ3Y",
        "outputId": "c64508f7-72b1-47f4-d5bb-123cc9ea8d75"
      },
      "execution_count": 6,
      "outputs": [
        {
          "output_type": "execute_result",
          "data": {
            "text/plain": [
              "['ꙇ',\n",
              " 'вьлѣзъ',\n",
              " 'въ',\n",
              " 'корабь',\n",
              " 'и҃съ',\n",
              " 'прѣѣде',\n",
              " 'ꙇ',\n",
              " 'приде',\n",
              " 'въ',\n",
              " 'свои',\n",
              " 'градъ']"
            ]
          },
          "metadata": {},
          "execution_count": 6
        }
      ]
    },
    {
      "cell_type": "code",
      "source": [
        "tags[0]"
      ],
      "metadata": {
        "colab": {
          "base_uri": "https://localhost:8080/"
        },
        "id": "Ts1KMW2WtUTL",
        "outputId": "6d25d18e-dbb8-4632-c6a7-55fb10f51a25"
      },
      "execution_count": 7,
      "outputs": [
        {
          "output_type": "execute_result",
          "data": {
            "text/plain": [
              "['CCONJ',\n",
              " 'VERB',\n",
              " 'ADP',\n",
              " 'NOUN',\n",
              " 'PROPN',\n",
              " 'VERB',\n",
              " 'CCONJ',\n",
              " 'VERB',\n",
              " 'ADP',\n",
              " 'ADJ',\n",
              " 'NOUN']"
            ]
          },
          "metadata": {},
          "execution_count": 7
        }
      ]
    },
    {
      "cell_type": "code",
      "metadata": {
        "id": "XcYuD46y5NCz"
      },
      "source": [
        "train_texts = texts[:5071]\n",
        "train_tags = tags[:5071]\n",
        "val_texts = texts[5071:]\n",
        "val_tags = tags[5071:]"
      ],
      "execution_count": 8,
      "outputs": []
    },
    {
      "cell_type": "markdown",
      "source": [
        "Сделаем словарь всех уникальных тегов и каждому из них присвоим номер, чтобы можно было легко кодировать и декодировать теги:"
      ],
      "metadata": {
        "id": "hoITIZuRt6lX"
      }
    },
    {
      "cell_type": "code",
      "metadata": {
        "id": "anD-bz8j3zzI"
      },
      "source": [
        "unique_tags = set(tag for doc in tags for tag in doc)\n",
        "tag2id = {tag: id for id, tag in enumerate(unique_tags)}\n",
        "id2tag = {id: tag for tag, id in tag2id.items()}"
      ],
      "execution_count": 9,
      "outputs": []
    },
    {
      "cell_type": "code",
      "metadata": {
        "id": "Bp5raW3UqTmK",
        "colab": {
          "base_uri": "https://localhost:8080/"
        },
        "outputId": "7d58c782-e6dd-4d0e-9a10-85e5809fdd4f"
      },
      "source": [
        "tag2id"
      ],
      "execution_count": 10,
      "outputs": [
        {
          "output_type": "execute_result",
          "data": {
            "text/plain": [
              "{'CCONJ': 0,\n",
              " 'ADJ': 1,\n",
              " 'VERB': 2,\n",
              " 'AUX': 3,\n",
              " 'X': 4,\n",
              " 'INTJ': 5,\n",
              " 'NUM': 6,\n",
              " 'PROPN': 7,\n",
              " 'SCONJ': 8,\n",
              " 'ADV': 9,\n",
              " 'DET': 10,\n",
              " 'PRON': 11,\n",
              " 'NOUN': 12,\n",
              " 'ADP': 13}"
            ]
          },
          "metadata": {},
          "execution_count": 10
        }
      ]
    },
    {
      "cell_type": "code",
      "metadata": {
        "colab": {
          "base_uri": "https://localhost:8080/"
        },
        "id": "Orc4JwUYIYja",
        "outputId": "93e86aa7-8664-4d8c-f889-53d6833b4e44"
      },
      "source": [
        "! pip install datasets transformers[torch] seqeval accelerate -U"
      ],
      "execution_count": 11,
      "outputs": [
        {
          "output_type": "stream",
          "name": "stdout",
          "text": [
            "Requirement already satisfied: datasets in /usr/local/lib/python3.10/dist-packages (2.19.1)\n",
            "Requirement already satisfied: transformers[torch] in /usr/local/lib/python3.10/dist-packages (4.40.2)\n",
            "Requirement already satisfied: seqeval in /usr/local/lib/python3.10/dist-packages (1.2.2)\n",
            "Requirement already satisfied: accelerate in /usr/local/lib/python3.10/dist-packages (0.30.1)\n",
            "Requirement already satisfied: filelock in /usr/local/lib/python3.10/dist-packages (from datasets) (3.14.0)\n",
            "Requirement already satisfied: numpy>=1.17 in /usr/local/lib/python3.10/dist-packages (from datasets) (1.25.2)\n",
            "Requirement already satisfied: pyarrow>=12.0.0 in /usr/local/lib/python3.10/dist-packages (from datasets) (14.0.2)\n",
            "Requirement already satisfied: pyarrow-hotfix in /usr/local/lib/python3.10/dist-packages (from datasets) (0.6)\n",
            "Requirement already satisfied: dill<0.3.9,>=0.3.0 in /usr/local/lib/python3.10/dist-packages (from datasets) (0.3.8)\n",
            "Requirement already satisfied: pandas in /usr/local/lib/python3.10/dist-packages (from datasets) (2.0.3)\n",
            "Requirement already satisfied: requests>=2.19.0 in /usr/local/lib/python3.10/dist-packages (from datasets) (2.31.0)\n",
            "Requirement already satisfied: tqdm>=4.62.1 in /usr/local/lib/python3.10/dist-packages (from datasets) (4.66.4)\n",
            "Requirement already satisfied: xxhash in /usr/local/lib/python3.10/dist-packages (from datasets) (3.4.1)\n",
            "Requirement already satisfied: multiprocess in /usr/local/lib/python3.10/dist-packages (from datasets) (0.70.16)\n",
            "Requirement already satisfied: fsspec[http]<=2024.3.1,>=2023.1.0 in /usr/local/lib/python3.10/dist-packages (from datasets) (2023.6.0)\n",
            "Requirement already satisfied: aiohttp in /usr/local/lib/python3.10/dist-packages (from datasets) (3.9.5)\n",
            "Requirement already satisfied: huggingface-hub>=0.21.2 in /usr/local/lib/python3.10/dist-packages (from datasets) (0.23.0)\n",
            "Requirement already satisfied: packaging in /usr/local/lib/python3.10/dist-packages (from datasets) (24.0)\n",
            "Requirement already satisfied: pyyaml>=5.1 in /usr/local/lib/python3.10/dist-packages (from datasets) (6.0.1)\n",
            "Requirement already satisfied: regex!=2019.12.17 in /usr/local/lib/python3.10/dist-packages (from transformers[torch]) (2023.12.25)\n",
            "Requirement already satisfied: tokenizers<0.20,>=0.19 in /usr/local/lib/python3.10/dist-packages (from transformers[torch]) (0.19.1)\n",
            "Requirement already satisfied: safetensors>=0.4.1 in /usr/local/lib/python3.10/dist-packages (from transformers[torch]) (0.4.3)\n",
            "Requirement already satisfied: torch in /usr/local/lib/python3.10/dist-packages (from transformers[torch]) (2.2.1+cu121)\n",
            "Requirement already satisfied: scikit-learn>=0.21.3 in /usr/local/lib/python3.10/dist-packages (from seqeval) (1.2.2)\n",
            "Requirement already satisfied: psutil in /usr/local/lib/python3.10/dist-packages (from accelerate) (5.9.5)\n",
            "Requirement already satisfied: aiosignal>=1.1.2 in /usr/local/lib/python3.10/dist-packages (from aiohttp->datasets) (1.3.1)\n",
            "Requirement already satisfied: attrs>=17.3.0 in /usr/local/lib/python3.10/dist-packages (from aiohttp->datasets) (23.2.0)\n",
            "Requirement already satisfied: frozenlist>=1.1.1 in /usr/local/lib/python3.10/dist-packages (from aiohttp->datasets) (1.4.1)\n",
            "Requirement already satisfied: multidict<7.0,>=4.5 in /usr/local/lib/python3.10/dist-packages (from aiohttp->datasets) (6.0.5)\n",
            "Requirement already satisfied: yarl<2.0,>=1.0 in /usr/local/lib/python3.10/dist-packages (from aiohttp->datasets) (1.9.4)\n",
            "Requirement already satisfied: async-timeout<5.0,>=4.0 in /usr/local/lib/python3.10/dist-packages (from aiohttp->datasets) (4.0.3)\n",
            "Requirement already satisfied: typing-extensions>=3.7.4.3 in /usr/local/lib/python3.10/dist-packages (from huggingface-hub>=0.21.2->datasets) (4.11.0)\n",
            "Requirement already satisfied: charset-normalizer<4,>=2 in /usr/local/lib/python3.10/dist-packages (from requests>=2.19.0->datasets) (3.3.2)\n",
            "Requirement already satisfied: idna<4,>=2.5 in /usr/local/lib/python3.10/dist-packages (from requests>=2.19.0->datasets) (3.7)\n",
            "Requirement already satisfied: urllib3<3,>=1.21.1 in /usr/local/lib/python3.10/dist-packages (from requests>=2.19.0->datasets) (2.0.7)\n",
            "Requirement already satisfied: certifi>=2017.4.17 in /usr/local/lib/python3.10/dist-packages (from requests>=2.19.0->datasets) (2024.2.2)\n",
            "Requirement already satisfied: scipy>=1.3.2 in /usr/local/lib/python3.10/dist-packages (from scikit-learn>=0.21.3->seqeval) (1.11.4)\n",
            "Requirement already satisfied: joblib>=1.1.1 in /usr/local/lib/python3.10/dist-packages (from scikit-learn>=0.21.3->seqeval) (1.4.2)\n",
            "Requirement already satisfied: threadpoolctl>=2.0.0 in /usr/local/lib/python3.10/dist-packages (from scikit-learn>=0.21.3->seqeval) (3.5.0)\n",
            "Requirement already satisfied: sympy in /usr/local/lib/python3.10/dist-packages (from torch->transformers[torch]) (1.12)\n",
            "Requirement already satisfied: networkx in /usr/local/lib/python3.10/dist-packages (from torch->transformers[torch]) (3.3)\n",
            "Requirement already satisfied: jinja2 in /usr/local/lib/python3.10/dist-packages (from torch->transformers[torch]) (3.1.4)\n",
            "Requirement already satisfied: nvidia-cuda-nvrtc-cu12==12.1.105 in /usr/local/lib/python3.10/dist-packages (from torch->transformers[torch]) (12.1.105)\n",
            "Requirement already satisfied: nvidia-cuda-runtime-cu12==12.1.105 in /usr/local/lib/python3.10/dist-packages (from torch->transformers[torch]) (12.1.105)\n",
            "Requirement already satisfied: nvidia-cuda-cupti-cu12==12.1.105 in /usr/local/lib/python3.10/dist-packages (from torch->transformers[torch]) (12.1.105)\n",
            "Requirement already satisfied: nvidia-cudnn-cu12==8.9.2.26 in /usr/local/lib/python3.10/dist-packages (from torch->transformers[torch]) (8.9.2.26)\n",
            "Requirement already satisfied: nvidia-cublas-cu12==12.1.3.1 in /usr/local/lib/python3.10/dist-packages (from torch->transformers[torch]) (12.1.3.1)\n",
            "Requirement already satisfied: nvidia-cufft-cu12==11.0.2.54 in /usr/local/lib/python3.10/dist-packages (from torch->transformers[torch]) (11.0.2.54)\n",
            "Requirement already satisfied: nvidia-curand-cu12==10.3.2.106 in /usr/local/lib/python3.10/dist-packages (from torch->transformers[torch]) (10.3.2.106)\n",
            "Requirement already satisfied: nvidia-cusolver-cu12==11.4.5.107 in /usr/local/lib/python3.10/dist-packages (from torch->transformers[torch]) (11.4.5.107)\n",
            "Requirement already satisfied: nvidia-cusparse-cu12==12.1.0.106 in /usr/local/lib/python3.10/dist-packages (from torch->transformers[torch]) (12.1.0.106)\n",
            "Requirement already satisfied: nvidia-nccl-cu12==2.19.3 in /usr/local/lib/python3.10/dist-packages (from torch->transformers[torch]) (2.19.3)\n",
            "Requirement already satisfied: nvidia-nvtx-cu12==12.1.105 in /usr/local/lib/python3.10/dist-packages (from torch->transformers[torch]) (12.1.105)\n",
            "Requirement already satisfied: triton==2.2.0 in /usr/local/lib/python3.10/dist-packages (from torch->transformers[torch]) (2.2.0)\n",
            "Requirement already satisfied: nvidia-nvjitlink-cu12 in /usr/local/lib/python3.10/dist-packages (from nvidia-cusolver-cu12==11.4.5.107->torch->transformers[torch]) (12.4.127)\n",
            "Requirement already satisfied: python-dateutil>=2.8.2 in /usr/local/lib/python3.10/dist-packages (from pandas->datasets) (2.8.2)\n",
            "Requirement already satisfied: pytz>=2020.1 in /usr/local/lib/python3.10/dist-packages (from pandas->datasets) (2023.4)\n",
            "Requirement already satisfied: tzdata>=2022.1 in /usr/local/lib/python3.10/dist-packages (from pandas->datasets) (2024.1)\n",
            "Requirement already satisfied: six>=1.5 in /usr/local/lib/python3.10/dist-packages (from python-dateutil>=2.8.2->pandas->datasets) (1.16.0)\n",
            "Requirement already satisfied: MarkupSafe>=2.0 in /usr/local/lib/python3.10/dist-packages (from jinja2->torch->transformers[torch]) (2.1.5)\n",
            "Requirement already satisfied: mpmath>=0.19 in /usr/local/lib/python3.10/dist-packages (from sympy->torch->transformers[torch]) (1.3.0)\n"
          ]
        }
      ]
    },
    {
      "cell_type": "markdown",
      "source": [
        "Мы будем работать с DistilBERT - более легковесной версией BERT. Также мы постараемся побольше использовать функционал библиотеки transformers."
      ],
      "metadata": {
        "id": "l0W0mbvYubJ-"
      }
    },
    {
      "cell_type": "code",
      "metadata": {
        "id": "zCySDV4r5Iv_"
      },
      "source": [
        "model_checkpoint = \"distilbert-base-uncased\"\n",
        "batch_size = 4"
      ],
      "execution_count": 12,
      "outputs": []
    },
    {
      "cell_type": "code",
      "metadata": {
        "id": "PO7XAXiK5Vq2",
        "colab": {
          "base_uri": "https://localhost:8080/"
        },
        "outputId": "f6f0eeac-fa80-4788-d6ad-736bf0839d88"
      },
      "source": [
        "# AutoTokenizer сам определяет, какой токенайзер взять\n",
        "from transformers import AutoTokenizer\n",
        "\n",
        "tokenizer = AutoTokenizer.from_pretrained(model_checkpoint)"
      ],
      "execution_count": 13,
      "outputs": [
        {
          "output_type": "stream",
          "name": "stderr",
          "text": [
            "/usr/local/lib/python3.10/dist-packages/huggingface_hub/file_download.py:1132: FutureWarning: `resume_download` is deprecated and will be removed in version 1.0.0. Downloads always resume when possible. If you want to force a new download, use `force_download=True`.\n",
            "  warnings.warn(\n",
            "/usr/local/lib/python3.10/dist-packages/huggingface_hub/utils/_token.py:89: UserWarning: \n",
            "The secret `HF_TOKEN` does not exist in your Colab secrets.\n",
            "To authenticate with the Hugging Face Hub, create a token in your settings tab (https://huggingface.co/settings/tokens), set it as secret in your Google Colab and restart your session.\n",
            "You will be able to reuse this secret in all of your notebooks.\n",
            "Please note that authentication is recommended but still optional to access public models or datasets.\n",
            "  warnings.warn(\n"
          ]
        }
      ]
    },
    {
      "cell_type": "markdown",
      "source": [
        "Кодируем теги частей речи перед подачей в модель:"
      ],
      "metadata": {
        "id": "SiLKhZshvCjb"
      }
    },
    {
      "cell_type": "code",
      "metadata": {
        "id": "XsNKM43cFFMw"
      },
      "source": [
        "encoded_tags_train = [[tag2id[tag] for tag in doc] for doc in train_tags]"
      ],
      "execution_count": 14,
      "outputs": []
    },
    {
      "cell_type": "code",
      "metadata": {
        "id": "ZhuKfRrVFZ84"
      },
      "source": [
        "encoded_tags_val = [[tag2id[tag] for tag in doc] for doc in val_tags]"
      ],
      "execution_count": 15,
      "outputs": []
    },
    {
      "cell_type": "markdown",
      "source": [
        "Нам нужно, чтобы количество лейблов соответствовало количеству токенов в закодированном предложении (т.е. с уже добавленным паддингом)."
      ],
      "metadata": {
        "id": "3fnmX4G3vpoV"
      }
    },
    {
      "cell_type": "code",
      "metadata": {
        "id": "MdQwD8tRCPuL"
      },
      "source": [
        "label_all_tokens = True\n",
        "\n",
        "def tokenize_and_align_labels(texts, tags):\n",
        "\n",
        "    tokenized_inputs = tokenizer(texts,\n",
        "                                 truncation=True, # обрезка слишком длинных последовательностей\n",
        "                                 padding=True,\n",
        "                                 is_split_into_words=True # предупреждаем, что вход поступит в виде списков токенов\n",
        "                                 )\n",
        "\n",
        "    labels = []\n",
        "    for i, label in enumerate(tags):\n",
        "\n",
        "        # достаем 1 текст\n",
        "        word_ids = tokenized_inputs.word_ids(batch_index=i)\n",
        "        previous_word_idx = None\n",
        "        label_ids = []\n",
        "\n",
        "        # идем по всем словам\n",
        "        for word_idx in word_ids:\n",
        "\n",
        "            # Некоторые специальные токены имеют id None. Мы даем им лейбл -100, чтобы модель их игнорировала\n",
        "            if word_idx is None:\n",
        "                label_ids.append(-100)\n",
        "\n",
        "            # Логично, что если слово разделилось на subword-токены, их лейблы в пределах слова должны быть одинаковыми.\n",
        "            # Если мы перешли на новое слово, добавляем его лейбл в список\n",
        "            elif word_idx != previous_word_idx:\n",
        "                label_ids.append(label[word_idx])\n",
        "\n",
        "            # Всем следующим частям одного и того же слова мы даем или тот же лейбл, или -100, если label_all_tokens=False\n",
        "            else:\n",
        "                label_ids.append(label[word_idx] if label_all_tokens else -100)\n",
        "\n",
        "            previous_word_idx = word_idx\n",
        "\n",
        "        labels.append(label_ids)\n",
        "\n",
        "    return tokenized_inputs, labels"
      ],
      "execution_count": 16,
      "outputs": []
    },
    {
      "cell_type": "code",
      "metadata": {
        "id": "XsUl9vXpC44_"
      },
      "source": [
        "tokenized_train, train_labels = tokenize_and_align_labels(train_texts, encoded_tags_train)"
      ],
      "execution_count": 17,
      "outputs": []
    },
    {
      "cell_type": "code",
      "source": [
        "print(train_labels[10])"
      ],
      "metadata": {
        "colab": {
          "base_uri": "https://localhost:8080/"
        },
        "id": "XpL6MxOxxh36",
        "outputId": "b74abd97-fe66-49ef-c540-fb0f2f154411"
      },
      "execution_count": 18,
      "outputs": [
        {
          "output_type": "stream",
          "name": "stdout",
          "text": [
            "[-100, 2, 2, 2, 2, 2, 2, 2, 2, 2, 2, 2, -100, -100, -100, -100, -100, -100, -100, -100, -100, -100, -100, -100, -100, -100, -100, -100, -100, -100, -100, -100, -100, -100, -100, -100, -100, -100, -100, -100, -100, -100, -100, -100, -100, -100, -100, -100, -100, -100, -100, -100, -100, -100, -100, -100, -100, -100, -100, -100, -100, -100, -100, -100, -100, -100, -100, -100, -100, -100, -100, -100, -100, -100, -100, -100, -100, -100, -100, -100, -100, -100, -100, -100, -100, -100, -100, -100, -100, -100, -100, -100, -100, -100, -100, -100, -100, -100, -100, -100, -100, -100, -100, -100, -100, -100, -100, -100, -100, -100, -100, -100, -100, -100, -100, -100, -100, -100, -100, -100, -100, -100, -100, -100, -100, -100, -100, -100, -100, -100, -100, -100, -100, -100, -100, -100, -100, -100, -100, -100, -100, -100, -100, -100, -100, -100, -100, -100, -100, -100, -100, -100, -100, -100, -100, -100, -100, -100, -100, -100, -100, -100, -100, -100, -100, -100, -100, -100, -100, -100, -100, -100, -100, -100, -100, -100, -100, -100, -100, -100, -100, -100, -100, -100, -100, -100, -100, -100, -100, -100, -100, -100, -100, -100, -100, -100, -100, -100, -100, -100, -100, -100, -100, -100, -100, -100, -100, -100, -100, -100, -100, -100, -100, -100, -100, -100, -100, -100, -100, -100, -100, -100, -100, -100, -100, -100, -100, -100, -100, -100, -100, -100, -100, -100, -100, -100, -100, -100, -100, -100, -100, -100, -100, -100, -100, -100, -100, -100, -100, -100, -100, -100, -100, -100, -100, -100, -100, -100, -100, -100, -100, -100, -100, -100, -100, -100, -100, -100, -100, -100, -100, -100, -100, -100, -100, -100, -100, -100, -100, -100, -100, -100, -100, -100, -100, -100, -100, -100, -100, -100, -100, -100, -100, -100, -100, -100, -100, -100, -100, -100, -100, -100, -100, -100, -100, -100, -100, -100, -100, -100, -100, -100, -100, -100, -100, -100, -100, -100, -100, -100, -100, -100, -100, -100, -100, -100, -100, -100, -100, -100, -100, -100, -100, -100, -100, -100, -100, -100, -100, -100, -100, -100, -100, -100, -100, -100, -100, -100, -100, -100, -100, -100, -100, -100, -100, -100, -100, -100, -100, -100, -100, -100, -100, -100, -100, -100, -100, -100, -100, -100, -100, -100, -100, -100, -100, -100, -100, -100, -100, -100, -100, -100, -100, -100, -100, -100, -100, -100, -100, -100, -100, -100, -100, -100, -100, -100, -100, -100, -100, -100, -100, -100, -100, -100, -100, -100, -100, -100, -100, -100, -100, -100, -100, -100, -100, -100, -100, -100, -100, -100, -100, -100, -100, -100, -100, -100, -100, -100, -100, -100, -100, -100, -100, -100, -100, -100, -100, -100, -100, -100, -100, -100, -100, -100, -100, -100, -100, -100, -100, -100, -100, -100, -100, -100, -100, -100, -100, -100]\n"
          ]
        }
      ]
    },
    {
      "cell_type": "code",
      "metadata": {
        "id": "6yIH0yYSDGz9"
      },
      "source": [
        "tokenized_val, val_labels = tokenize_and_align_labels(val_texts, encoded_tags_val)"
      ],
      "execution_count": 19,
      "outputs": []
    },
    {
      "cell_type": "code",
      "metadata": {
        "id": "xuAKy-SAKFob"
      },
      "source": [
        "import torch"
      ],
      "execution_count": 20,
      "outputs": []
    },
    {
      "cell_type": "markdown",
      "source": [
        "Как и pytorch, transformers может оперировать сущностями класса Dataset. Напишем такой класс, который не будет ничего делать, кроме хранения токенизированных текстов и их лейблов и подачи их в модель."
      ],
      "metadata": {
        "id": "jEXmkigMyCTo"
      }
    },
    {
      "cell_type": "code",
      "metadata": {
        "id": "Wq5WYK7qKgAg"
      },
      "source": [
        "class CHUDataset(torch.utils.data.Dataset):\n",
        "    def __init__(self, encodings, labels):\n",
        "        self.encodings = encodings\n",
        "        self.labels = labels\n",
        "\n",
        "    def __getitem__(self, idx):\n",
        "      # этот метод вызывается моделью, когда она учится\n",
        "      # он определяет, в каком виде данные подаются в модель\n",
        "        item = {key: torch.tensor(val[idx]) for key, val in self.encodings.items()}\n",
        "        item['labels'] = torch.tensor(self.labels[idx])\n",
        "        return item\n",
        "\n",
        "    def __len__(self):\n",
        "        return len(self.labels)"
      ],
      "execution_count": 21,
      "outputs": []
    },
    {
      "cell_type": "code",
      "metadata": {
        "id": "UN1DpqSTKwOK"
      },
      "source": [
        "train_dataset = CHUDataset(tokenized_train, train_labels)\n",
        "val_dataset = CHUDataset(tokenized_val, val_labels)"
      ],
      "execution_count": 22,
      "outputs": []
    },
    {
      "cell_type": "code",
      "metadata": {
        "colab": {
          "base_uri": "https://localhost:8080/"
        },
        "id": "mQZTPWe4GZf-",
        "outputId": "621164d0-a7c4-42c3-8c99-59ca3c6fdb73"
      },
      "source": [
        "from transformers import AutoModelForTokenClassification, TrainingArguments, Trainer\n",
        "\n",
        "model = AutoModelForTokenClassification.from_pretrained(model_checkpoint, num_labels=len(unique_tags))"
      ],
      "execution_count": 23,
      "outputs": [
        {
          "output_type": "stream",
          "name": "stderr",
          "text": [
            "/usr/local/lib/python3.10/dist-packages/huggingface_hub/file_download.py:1132: FutureWarning: `resume_download` is deprecated and will be removed in version 1.0.0. Downloads always resume when possible. If you want to force a new download, use `force_download=True`.\n",
            "  warnings.warn(\n",
            "Some weights of DistilBertForTokenClassification were not initialized from the model checkpoint at distilbert-base-uncased and are newly initialized: ['classifier.bias', 'classifier.weight']\n",
            "You should probably TRAIN this model on a down-stream task to be able to use it for predictions and inference.\n"
          ]
        }
      ]
    },
    {
      "cell_type": "markdown",
      "source": [
        "Сначала объявим аргументы, которые будет использовать модель при тренировке:"
      ],
      "metadata": {
        "id": "HnFhAaUB0jlt"
      }
    },
    {
      "cell_type": "code",
      "metadata": {
        "id": "Fi8n8oJDG54N"
      },
      "source": [
        "model_name = model_checkpoint.split(\"/\")[-1]\n",
        "args = TrainingArguments(\n",
        "    f\"//content/sample_data/{model_name}-finetuned-1-pos-chu\",\n",
        "    overwrite_output_dir=True, # записываем каждый раз в один и тот же файл\n",
        "    evaluation_strategy = \"epoch\", # оцениваем каждую эпоху\n",
        "    learning_rate=2e-5,\n",
        "    per_device_train_batch_size=batch_size, # размер тренировочного батча на каждый процессор\n",
        "    per_device_eval_batch_size=batch_size,\n",
        "    num_train_epochs=5,\n",
        "    weight_decay=0.01, # регуляризация функции потерь\n",
        "    push_to_hub=False, # не публиковать на Huggingface\n",
        ")"
      ],
      "execution_count": 24,
      "outputs": []
    },
    {
      "cell_type": "markdown",
      "source": [
        "Коллаторы данных - это технические классы, формирующие батчи для подачи в модель:"
      ],
      "metadata": {
        "id": "bMwU5Qrf4eyO"
      }
    },
    {
      "cell_type": "code",
      "metadata": {
        "id": "R7_C5oODHHYV"
      },
      "source": [
        "from transformers import DataCollatorForTokenClassification\n",
        "\n",
        "data_collator = DataCollatorForTokenClassification(tokenizer)"
      ],
      "execution_count": 25,
      "outputs": []
    },
    {
      "cell_type": "code",
      "metadata": {
        "id": "UaSGZUuvIDHh"
      },
      "source": [
        "from datasets import load_metric"
      ],
      "execution_count": 26,
      "outputs": []
    },
    {
      "cell_type": "code",
      "metadata": {
        "id": "ehEWz9iYHKeK",
        "colab": {
          "base_uri": "https://localhost:8080/",
          "height": 200,
          "referenced_widgets": [
            "a40d294019f447a9acf0c2261fe20b0b",
            "6b7c3dadd7244a54b7c4dbf65680de9c",
            "71d14eefc8c44e18bb65be6e7d233ae7",
            "d97b563a979d46ceade0b3d35f89c2fc",
            "b0e22ba483414303b3502a9246043ff1",
            "e723de0442b843a196fd58ef2a80ff5d",
            "3387a20d09284a1fa4a18f1d8dba51f2",
            "9c1f543cd2104c1285bb2a8a4a1a6af9",
            "417cec7b4395462ca288e0b6bfbdc441",
            "0e2d21c41f2048e9a84202505f8e7e9d",
            "1f3282df258644c288ed1c94799481fc"
          ]
        },
        "outputId": "adbbddf1-6fab-436c-f7cb-d90102f03cd4"
      },
      "source": [
        "metric = load_metric(\"seqeval\")"
      ],
      "execution_count": 27,
      "outputs": [
        {
          "output_type": "stream",
          "name": "stderr",
          "text": [
            "<ipython-input-27-e20ba34f8cc7>:1: FutureWarning: load_metric is deprecated and will be removed in the next major version of datasets. Use 'evaluate.load' instead, from the new library 🤗 Evaluate: https://huggingface.co/docs/evaluate\n",
            "  metric = load_metric(\"seqeval\")\n",
            "/usr/local/lib/python3.10/dist-packages/datasets/load.py:759: FutureWarning: The repository for seqeval contains custom code which must be executed to correctly load the metric. You can inspect the repository content at https://raw.githubusercontent.com/huggingface/datasets/2.19.1/metrics/seqeval/seqeval.py\n",
            "You can avoid this message in future by passing the argument `trust_remote_code=True`.\n",
            "Passing `trust_remote_code=True` will be mandatory to load this metric from the next major release of `datasets`.\n",
            "  warnings.warn(\n"
          ]
        },
        {
          "output_type": "display_data",
          "data": {
            "text/plain": [
              "Downloading builder script:   0%|          | 0.00/2.47k [00:00<?, ?B/s]"
            ],
            "application/vnd.jupyter.widget-view+json": {
              "version_major": 2,
              "version_minor": 0,
              "model_id": "a40d294019f447a9acf0c2261fe20b0b"
            }
          },
          "metadata": {}
        }
      ]
    },
    {
      "cell_type": "markdown",
      "source": [
        "Мы будем использовать метрику для оценки NER-моделей, которая возвращает precision, recall и f1-score для каждой сущности (в нашем случае - для каждого тега) и средние значения."
      ],
      "metadata": {
        "id": "QaVZd9f45Kuy"
      }
    },
    {
      "cell_type": "code",
      "metadata": {
        "id": "OkJ3bzJnJHFR"
      },
      "source": [
        "import numpy as np\n",
        "\n",
        "def compute_metrics(p):\n",
        "    predictions, labels = p\n",
        "    predictions = np.argmax(predictions, axis=2)\n",
        "\n",
        "    # Удаляем индексы специальных токенов\n",
        "    true_predictions = [\n",
        "        [id2tag[p] for (p, l) in zip(prediction, label) if l != -100]\n",
        "        for prediction, label in zip(predictions, labels)\n",
        "    ]\n",
        "    true_labels = [\n",
        "        [id2tag[l] for (p, l) in zip(prediction, label) if l != -100]\n",
        "        for prediction, label in zip(predictions, labels)\n",
        "    ]\n",
        "\n",
        "    results = metric.compute(predictions=true_predictions, references=true_labels)\n",
        "    return {\n",
        "        \"precision\": results[\"overall_precision\"],\n",
        "        \"recall\": results[\"overall_recall\"],\n",
        "        \"f1\": results[\"overall_f1\"],\n",
        "        \"accuracy\": results[\"overall_accuracy\"],\n",
        "    }"
      ],
      "execution_count": 28,
      "outputs": []
    },
    {
      "cell_type": "markdown",
      "source": [
        "Тренировка модели в transformers удобно осуществляется при помощи класса Trainer."
      ],
      "metadata": {
        "id": "wkNPz4t_5XPQ"
      }
    },
    {
      "cell_type": "code",
      "metadata": {
        "id": "6mWomk0SJYj9"
      },
      "source": [
        "trainer = Trainer(\n",
        "    model,\n",
        "    args,\n",
        "    train_dataset=train_dataset,\n",
        "    eval_dataset=val_dataset,\n",
        "    data_collator=data_collator,\n",
        "    tokenizer=tokenizer,\n",
        "    compute_metrics=compute_metrics\n",
        ")"
      ],
      "execution_count": 29,
      "outputs": []
    },
    {
      "cell_type": "code",
      "metadata": {
        "colab": {
          "base_uri": "https://localhost:8080/",
          "height": 1000
        },
        "id": "ScDjiKoqLAk-",
        "outputId": "de9643e0-87a0-475e-dc52-99094454bae6"
      },
      "source": [
        "trainer.train()"
      ],
      "execution_count": 30,
      "outputs": [
        {
          "output_type": "display_data",
          "data": {
            "text/plain": [
              "<IPython.core.display.HTML object>"
            ],
            "text/html": [
              "\n",
              "    <div>\n",
              "      \n",
              "      <progress value='3331' max='6340' style='width:300px; height:20px; vertical-align: middle;'></progress>\n",
              "      [3331/6340 11:15 < 10:10, 4.93 it/s, Epoch 2.63/5]\n",
              "    </div>\n",
              "    <table border=\"1\" class=\"dataframe\">\n",
              "  <thead>\n",
              " <tr style=\"text-align: left;\">\n",
              "      <th>Epoch</th>\n",
              "      <th>Training Loss</th>\n",
              "      <th>Validation Loss</th>\n",
              "      <th>Precision</th>\n",
              "      <th>Recall</th>\n",
              "      <th>F1</th>\n",
              "      <th>Accuracy</th>\n",
              "    </tr>\n",
              "  </thead>\n",
              "  <tbody>\n",
              "    <tr>\n",
              "      <td>1</td>\n",
              "      <td>0.736100</td>\n",
              "      <td>0.584016</td>\n",
              "      <td>0.659152</td>\n",
              "      <td>0.609794</td>\n",
              "      <td>0.633513</td>\n",
              "      <td>0.813834</td>\n",
              "    </tr>\n",
              "    <tr>\n",
              "      <td>2</td>\n",
              "      <td>0.460300</td>\n",
              "      <td>0.476431</td>\n",
              "      <td>0.696994</td>\n",
              "      <td>0.647556</td>\n",
              "      <td>0.671366</td>\n",
              "      <td>0.855249</td>\n",
              "    </tr>\n",
              "  </tbody>\n",
              "</table><p>"
            ]
          },
          "metadata": {}
        },
        {
          "output_type": "stream",
          "name": "stderr",
          "text": [
            "/usr/local/lib/python3.10/dist-packages/seqeval/metrics/sequence_labeling.py:171: UserWarning: ADJ seems not to be NE tag.\n",
            "  warnings.warn('{} seems not to be NE tag.'.format(chunk))\n",
            "/usr/local/lib/python3.10/dist-packages/seqeval/metrics/sequence_labeling.py:171: UserWarning: VERB seems not to be NE tag.\n",
            "  warnings.warn('{} seems not to be NE tag.'.format(chunk))\n",
            "/usr/local/lib/python3.10/dist-packages/seqeval/metrics/sequence_labeling.py:171: UserWarning: PROPN seems not to be NE tag.\n",
            "  warnings.warn('{} seems not to be NE tag.'.format(chunk))\n",
            "/usr/local/lib/python3.10/dist-packages/seqeval/metrics/sequence_labeling.py:171: UserWarning: CCONJ seems not to be NE tag.\n",
            "  warnings.warn('{} seems not to be NE tag.'.format(chunk))\n",
            "/usr/local/lib/python3.10/dist-packages/seqeval/metrics/sequence_labeling.py:171: UserWarning: NOUN seems not to be NE tag.\n",
            "  warnings.warn('{} seems not to be NE tag.'.format(chunk))\n",
            "/usr/local/lib/python3.10/dist-packages/seqeval/metrics/sequence_labeling.py:171: UserWarning: ADP seems not to be NE tag.\n",
            "  warnings.warn('{} seems not to be NE tag.'.format(chunk))\n",
            "/usr/local/lib/python3.10/dist-packages/seqeval/metrics/sequence_labeling.py:171: UserWarning: SCONJ seems not to be NE tag.\n",
            "  warnings.warn('{} seems not to be NE tag.'.format(chunk))\n",
            "/usr/local/lib/python3.10/dist-packages/seqeval/metrics/sequence_labeling.py:171: UserWarning: ADV seems not to be NE tag.\n",
            "  warnings.warn('{} seems not to be NE tag.'.format(chunk))\n",
            "/usr/local/lib/python3.10/dist-packages/seqeval/metrics/sequence_labeling.py:171: UserWarning: PRON seems not to be NE tag.\n",
            "  warnings.warn('{} seems not to be NE tag.'.format(chunk))\n",
            "/usr/local/lib/python3.10/dist-packages/seqeval/metrics/sequence_labeling.py:171: UserWarning: AUX seems not to be NE tag.\n",
            "  warnings.warn('{} seems not to be NE tag.'.format(chunk))\n",
            "/usr/local/lib/python3.10/dist-packages/seqeval/metrics/sequence_labeling.py:171: UserWarning: INTJ seems not to be NE tag.\n",
            "  warnings.warn('{} seems not to be NE tag.'.format(chunk))\n",
            "/usr/local/lib/python3.10/dist-packages/seqeval/metrics/sequence_labeling.py:171: UserWarning: NUM seems not to be NE tag.\n",
            "  warnings.warn('{} seems not to be NE tag.'.format(chunk))\n",
            "/usr/local/lib/python3.10/dist-packages/seqeval/metrics/sequence_labeling.py:171: UserWarning: DET seems not to be NE tag.\n",
            "  warnings.warn('{} seems not to be NE tag.'.format(chunk))\n",
            "/usr/local/lib/python3.10/dist-packages/seqeval/metrics/sequence_labeling.py:171: UserWarning: X seems not to be NE tag.\n",
            "  warnings.warn('{} seems not to be NE tag.'.format(chunk))\n",
            "/usr/local/lib/python3.10/dist-packages/seqeval/metrics/v1.py:57: UndefinedMetricWarning: Precision and F-score are ill-defined and being set to 0.0 in labels with no predicted samples. Use `zero_division` parameter to control this behavior.\n",
            "  _warn_prf(average, modifier, msg_start, len(result))\n",
            "/usr/local/lib/python3.10/dist-packages/seqeval/metrics/sequence_labeling.py:171: UserWarning: ADJ seems not to be NE tag.\n",
            "  warnings.warn('{} seems not to be NE tag.'.format(chunk))\n",
            "/usr/local/lib/python3.10/dist-packages/seqeval/metrics/sequence_labeling.py:171: UserWarning: VERB seems not to be NE tag.\n",
            "  warnings.warn('{} seems not to be NE tag.'.format(chunk))\n",
            "/usr/local/lib/python3.10/dist-packages/seqeval/metrics/sequence_labeling.py:171: UserWarning: PROPN seems not to be NE tag.\n",
            "  warnings.warn('{} seems not to be NE tag.'.format(chunk))\n",
            "/usr/local/lib/python3.10/dist-packages/seqeval/metrics/sequence_labeling.py:171: UserWarning: CCONJ seems not to be NE tag.\n",
            "  warnings.warn('{} seems not to be NE tag.'.format(chunk))\n",
            "/usr/local/lib/python3.10/dist-packages/seqeval/metrics/sequence_labeling.py:171: UserWarning: NOUN seems not to be NE tag.\n",
            "  warnings.warn('{} seems not to be NE tag.'.format(chunk))\n",
            "/usr/local/lib/python3.10/dist-packages/seqeval/metrics/sequence_labeling.py:171: UserWarning: ADP seems not to be NE tag.\n",
            "  warnings.warn('{} seems not to be NE tag.'.format(chunk))\n",
            "/usr/local/lib/python3.10/dist-packages/seqeval/metrics/sequence_labeling.py:171: UserWarning: SCONJ seems not to be NE tag.\n",
            "  warnings.warn('{} seems not to be NE tag.'.format(chunk))\n",
            "/usr/local/lib/python3.10/dist-packages/seqeval/metrics/sequence_labeling.py:171: UserWarning: ADV seems not to be NE tag.\n",
            "  warnings.warn('{} seems not to be NE tag.'.format(chunk))\n",
            "/usr/local/lib/python3.10/dist-packages/seqeval/metrics/sequence_labeling.py:171: UserWarning: PRON seems not to be NE tag.\n",
            "  warnings.warn('{} seems not to be NE tag.'.format(chunk))\n",
            "/usr/local/lib/python3.10/dist-packages/seqeval/metrics/sequence_labeling.py:171: UserWarning: AUX seems not to be NE tag.\n",
            "  warnings.warn('{} seems not to be NE tag.'.format(chunk))\n",
            "/usr/local/lib/python3.10/dist-packages/seqeval/metrics/sequence_labeling.py:171: UserWarning: INTJ seems not to be NE tag.\n",
            "  warnings.warn('{} seems not to be NE tag.'.format(chunk))\n",
            "/usr/local/lib/python3.10/dist-packages/seqeval/metrics/sequence_labeling.py:171: UserWarning: NUM seems not to be NE tag.\n",
            "  warnings.warn('{} seems not to be NE tag.'.format(chunk))\n",
            "/usr/local/lib/python3.10/dist-packages/seqeval/metrics/sequence_labeling.py:171: UserWarning: DET seems not to be NE tag.\n",
            "  warnings.warn('{} seems not to be NE tag.'.format(chunk))\n",
            "/usr/local/lib/python3.10/dist-packages/seqeval/metrics/sequence_labeling.py:171: UserWarning: X seems not to be NE tag.\n",
            "  warnings.warn('{} seems not to be NE tag.'.format(chunk))\n",
            "/usr/local/lib/python3.10/dist-packages/seqeval/metrics/v1.py:57: UndefinedMetricWarning: Precision and F-score are ill-defined and being set to 0.0 in labels with no predicted samples. Use `zero_division` parameter to control this behavior.\n",
            "  _warn_prf(average, modifier, msg_start, len(result))\n"
          ]
        },
        {
          "output_type": "error",
          "ename": "KeyboardInterrupt",
          "evalue": "",
          "traceback": [
            "\u001b[0;31m---------------------------------------------------------------------------\u001b[0m",
            "\u001b[0;31mKeyboardInterrupt\u001b[0m                         Traceback (most recent call last)",
            "\u001b[0;32m<ipython-input-30-3435b262f1ae>\u001b[0m in \u001b[0;36m<cell line: 1>\u001b[0;34m()\u001b[0m\n\u001b[0;32m----> 1\u001b[0;31m \u001b[0mtrainer\u001b[0m\u001b[0;34m.\u001b[0m\u001b[0mtrain\u001b[0m\u001b[0;34m(\u001b[0m\u001b[0;34m)\u001b[0m\u001b[0;34m\u001b[0m\u001b[0;34m\u001b[0m\u001b[0m\n\u001b[0m",
            "\u001b[0;32m/usr/local/lib/python3.10/dist-packages/transformers/trainer.py\u001b[0m in \u001b[0;36mtrain\u001b[0;34m(self, resume_from_checkpoint, trial, ignore_keys_for_eval, **kwargs)\u001b[0m\n\u001b[1;32m   1857\u001b[0m                 \u001b[0mhf_hub_utils\u001b[0m\u001b[0;34m.\u001b[0m\u001b[0menable_progress_bars\u001b[0m\u001b[0;34m(\u001b[0m\u001b[0;34m)\u001b[0m\u001b[0;34m\u001b[0m\u001b[0;34m\u001b[0m\u001b[0m\n\u001b[1;32m   1858\u001b[0m         \u001b[0;32melse\u001b[0m\u001b[0;34m:\u001b[0m\u001b[0;34m\u001b[0m\u001b[0;34m\u001b[0m\u001b[0m\n\u001b[0;32m-> 1859\u001b[0;31m             return inner_training_loop(\n\u001b[0m\u001b[1;32m   1860\u001b[0m                 \u001b[0margs\u001b[0m\u001b[0;34m=\u001b[0m\u001b[0margs\u001b[0m\u001b[0;34m,\u001b[0m\u001b[0;34m\u001b[0m\u001b[0;34m\u001b[0m\u001b[0m\n\u001b[1;32m   1861\u001b[0m                 \u001b[0mresume_from_checkpoint\u001b[0m\u001b[0;34m=\u001b[0m\u001b[0mresume_from_checkpoint\u001b[0m\u001b[0;34m,\u001b[0m\u001b[0;34m\u001b[0m\u001b[0;34m\u001b[0m\u001b[0m\n",
            "\u001b[0;32m/usr/local/lib/python3.10/dist-packages/transformers/trainer.py\u001b[0m in \u001b[0;36m_inner_training_loop\u001b[0;34m(self, batch_size, args, resume_from_checkpoint, trial, ignore_keys_for_eval)\u001b[0m\n\u001b[1;32m   2206\u001b[0m                     \u001b[0margs\u001b[0m\u001b[0;34m.\u001b[0m\u001b[0mlogging_nan_inf_filter\u001b[0m\u001b[0;34m\u001b[0m\u001b[0;34m\u001b[0m\u001b[0m\n\u001b[1;32m   2207\u001b[0m                     \u001b[0;32mand\u001b[0m \u001b[0;32mnot\u001b[0m \u001b[0mis_torch_xla_available\u001b[0m\u001b[0;34m(\u001b[0m\u001b[0;34m)\u001b[0m\u001b[0;34m\u001b[0m\u001b[0;34m\u001b[0m\u001b[0m\n\u001b[0;32m-> 2208\u001b[0;31m                     \u001b[0;32mand\u001b[0m \u001b[0;34m(\u001b[0m\u001b[0mtorch\u001b[0m\u001b[0;34m.\u001b[0m\u001b[0misnan\u001b[0m\u001b[0;34m(\u001b[0m\u001b[0mtr_loss_step\u001b[0m\u001b[0;34m)\u001b[0m \u001b[0;32mor\u001b[0m \u001b[0mtorch\u001b[0m\u001b[0;34m.\u001b[0m\u001b[0misinf\u001b[0m\u001b[0;34m(\u001b[0m\u001b[0mtr_loss_step\u001b[0m\u001b[0;34m)\u001b[0m\u001b[0;34m)\u001b[0m\u001b[0;34m\u001b[0m\u001b[0;34m\u001b[0m\u001b[0m\n\u001b[0m\u001b[1;32m   2209\u001b[0m                 ):\n\u001b[1;32m   2210\u001b[0m                     \u001b[0;31m# if loss is nan or inf simply add the average of previous logged losses\u001b[0m\u001b[0;34m\u001b[0m\u001b[0;34m\u001b[0m\u001b[0m\n",
            "\u001b[0;31mKeyboardInterrupt\u001b[0m: "
          ]
        }
      ]
    },
    {
      "cell_type": "markdown",
      "source": [
        "Оценка модели на валидационных данных:"
      ],
      "metadata": {
        "id": "J-zsDusf5kHf"
      }
    },
    {
      "cell_type": "code",
      "metadata": {
        "colab": {
          "base_uri": "https://localhost:8080/",
          "height": 1000
        },
        "id": "z7VUM-A9LFbM",
        "outputId": "b91a8b4e-0fe2-44db-aec1-5662be2c7bb7"
      },
      "source": [
        "predictions, labels, _ = trainer.predict(val_dataset)\n",
        "predictions = np.argmax(predictions, axis=2)\n",
        "\n",
        "# Уберем игнорируемые токены и декодируем предсказанные токены\n",
        "ids_predictions = [\n",
        "    [id2tag[p] for (p, l) in zip(prediction, label) if l != -100]\n",
        "    for prediction, label in zip(predictions, labels)\n",
        "]\n",
        "true_labels = [\n",
        "    [id2tag[l] for (p, l) in zip(prediction, label) if l != -100]\n",
        "    for prediction, label in zip(predictions, labels)\n",
        "]\n",
        "\n",
        "results = metric.compute(predictions=ids_predictions, references=true_labels)\n",
        "results"
      ],
      "execution_count": 31,
      "outputs": [
        {
          "output_type": "display_data",
          "data": {
            "text/plain": [
              "<IPython.core.display.HTML object>"
            ],
            "text/html": [
              "\n",
              "    <div>\n",
              "      \n",
              "      <progress value='3331' max='6340' style='width:300px; height:20px; vertical-align: middle;'></progress>\n",
              "      [3331/6340 11:15 < 10:10, 4.93 it/s, Epoch 2.63/5]\n",
              "    </div>\n",
              "    <table border=\"1\" class=\"dataframe\">\n",
              "  <thead>\n",
              " <tr style=\"text-align: left;\">\n",
              "      <th>Epoch</th>\n",
              "      <th>Training Loss</th>\n",
              "      <th>Validation Loss</th>\n",
              "      <th>Precision</th>\n",
              "      <th>Recall</th>\n",
              "      <th>F1</th>\n",
              "      <th>Accuracy</th>\n",
              "    </tr>\n",
              "  </thead>\n",
              "  <tbody>\n",
              "    <tr>\n",
              "      <td>1</td>\n",
              "      <td>0.736100</td>\n",
              "      <td>0.584016</td>\n",
              "      <td>0.659152</td>\n",
              "      <td>0.609794</td>\n",
              "      <td>0.633513</td>\n",
              "      <td>0.813834</td>\n",
              "    </tr>\n",
              "    <tr>\n",
              "      <td>2</td>\n",
              "      <td>0.460300</td>\n",
              "      <td>0.476431</td>\n",
              "      <td>0.696994</td>\n",
              "      <td>0.647556</td>\n",
              "      <td>0.671366</td>\n",
              "      <td>0.855249</td>\n",
              "    </tr>\n",
              "  </tbody>\n",
              "</table><p>\n",
              "    <div>\n",
              "      \n",
              "      <progress value='317' max='317' style='width:300px; height:20px; vertical-align: middle;'></progress>\n",
              "      [317/317 00:06]\n",
              "    </div>\n",
              "    "
            ]
          },
          "metadata": {}
        },
        {
          "output_type": "stream",
          "name": "stderr",
          "text": [
            "/usr/local/lib/python3.10/dist-packages/seqeval/metrics/sequence_labeling.py:171: UserWarning: ADJ seems not to be NE tag.\n",
            "  warnings.warn('{} seems not to be NE tag.'.format(chunk))\n",
            "/usr/local/lib/python3.10/dist-packages/seqeval/metrics/sequence_labeling.py:171: UserWarning: VERB seems not to be NE tag.\n",
            "  warnings.warn('{} seems not to be NE tag.'.format(chunk))\n",
            "/usr/local/lib/python3.10/dist-packages/seqeval/metrics/sequence_labeling.py:171: UserWarning: PROPN seems not to be NE tag.\n",
            "  warnings.warn('{} seems not to be NE tag.'.format(chunk))\n",
            "/usr/local/lib/python3.10/dist-packages/seqeval/metrics/sequence_labeling.py:171: UserWarning: CCONJ seems not to be NE tag.\n",
            "  warnings.warn('{} seems not to be NE tag.'.format(chunk))\n",
            "/usr/local/lib/python3.10/dist-packages/seqeval/metrics/sequence_labeling.py:171: UserWarning: NOUN seems not to be NE tag.\n",
            "  warnings.warn('{} seems not to be NE tag.'.format(chunk))\n",
            "/usr/local/lib/python3.10/dist-packages/seqeval/metrics/sequence_labeling.py:171: UserWarning: ADP seems not to be NE tag.\n",
            "  warnings.warn('{} seems not to be NE tag.'.format(chunk))\n",
            "/usr/local/lib/python3.10/dist-packages/seqeval/metrics/sequence_labeling.py:171: UserWarning: SCONJ seems not to be NE tag.\n",
            "  warnings.warn('{} seems not to be NE tag.'.format(chunk))\n",
            "/usr/local/lib/python3.10/dist-packages/seqeval/metrics/sequence_labeling.py:171: UserWarning: ADV seems not to be NE tag.\n",
            "  warnings.warn('{} seems not to be NE tag.'.format(chunk))\n",
            "/usr/local/lib/python3.10/dist-packages/seqeval/metrics/sequence_labeling.py:171: UserWarning: PRON seems not to be NE tag.\n",
            "  warnings.warn('{} seems not to be NE tag.'.format(chunk))\n",
            "/usr/local/lib/python3.10/dist-packages/seqeval/metrics/sequence_labeling.py:171: UserWarning: AUX seems not to be NE tag.\n",
            "  warnings.warn('{} seems not to be NE tag.'.format(chunk))\n",
            "/usr/local/lib/python3.10/dist-packages/seqeval/metrics/sequence_labeling.py:171: UserWarning: INTJ seems not to be NE tag.\n",
            "  warnings.warn('{} seems not to be NE tag.'.format(chunk))\n",
            "/usr/local/lib/python3.10/dist-packages/seqeval/metrics/sequence_labeling.py:171: UserWarning: NUM seems not to be NE tag.\n",
            "  warnings.warn('{} seems not to be NE tag.'.format(chunk))\n",
            "/usr/local/lib/python3.10/dist-packages/seqeval/metrics/sequence_labeling.py:171: UserWarning: DET seems not to be NE tag.\n",
            "  warnings.warn('{} seems not to be NE tag.'.format(chunk))\n",
            "/usr/local/lib/python3.10/dist-packages/seqeval/metrics/sequence_labeling.py:171: UserWarning: X seems not to be NE tag.\n",
            "  warnings.warn('{} seems not to be NE tag.'.format(chunk))\n",
            "/usr/local/lib/python3.10/dist-packages/seqeval/metrics/v1.py:57: UndefinedMetricWarning: Precision and F-score are ill-defined and being set to 0.0 in labels with no predicted samples. Use `zero_division` parameter to control this behavior.\n",
            "  _warn_prf(average, modifier, msg_start, len(result))\n"
          ]
        },
        {
          "output_type": "execute_result",
          "data": {
            "text/plain": [
              "{'CONJ': {'precision': 0.64258962011771,\n",
              "  'recall': 0.7875409836065573,\n",
              "  'f1': 0.7077195050088391,\n",
              "  'number': 1525},\n",
              " 'DJ': {'precision': 0.6553459119496855,\n",
              "  'recall': 0.5173783515392254,\n",
              "  'f1': 0.5782463928967815,\n",
              "  'number': 1007},\n",
              " 'DP': {'precision': 0.967020023557126,\n",
              "  'recall': 0.9535423925667829,\n",
              "  'f1': 0.960233918128655,\n",
              "  'number': 861},\n",
              " 'DV': {'precision': 0.87115165336374,\n",
              "  'recall': 0.7353224254090471,\n",
              "  'f1': 0.7974947807933194,\n",
              "  'number': 1039},\n",
              " 'ERB': {'precision': 0.5894090560245587,\n",
              "  'recall': 0.6626402070750647,\n",
              "  'f1': 0.6238830219333875,\n",
              "  'number': 2318},\n",
              " 'ET': {'precision': 0.4444444444444444,\n",
              "  'recall': 0.38620689655172413,\n",
              "  'f1': 0.4132841328413284,\n",
              "  'number': 145},\n",
              " 'NTJ': {'precision': 0.8363636363636363,\n",
              "  'recall': 0.7666666666666667,\n",
              "  'f1': 0.8,\n",
              "  'number': 60},\n",
              " 'OUN': {'precision': 0.6747603833865815,\n",
              "  'recall': 0.6200822078684675,\n",
              "  'f1': 0.6462668298653611,\n",
              "  'number': 1703},\n",
              " 'RON': {'precision': 0.7801998183469573,\n",
              "  'recall': 0.6109530583214794,\n",
              "  'f1': 0.6852812126047069,\n",
              "  'number': 1406},\n",
              " 'ROPN': {'precision': 0.7476038338658147,\n",
              "  'recall': 0.7381703470031545,\n",
              "  'f1': 0.7428571428571429,\n",
              "  'number': 317},\n",
              " 'UM': {'precision': 0.8089887640449438,\n",
              "  'recall': 0.5853658536585366,\n",
              "  'f1': 0.679245283018868,\n",
              "  'number': 123},\n",
              " 'UX': {'precision': 0.88268156424581,\n",
              "  'recall': 0.41688654353562005,\n",
              "  'f1': 0.5663082437275986,\n",
              "  'number': 379},\n",
              " '_': {'precision': 0.0, 'recall': 0.0, 'f1': 0.0, 'number': 1},\n",
              " 'overall_precision': 0.702609363008442,\n",
              " 'overall_recall': 0.6729143697170158,\n",
              " 'overall_f1': 0.6874413365871972,\n",
              " 'overall_accuracy': 0.8622494811510703}"
            ]
          },
          "metadata": {},
          "execution_count": 31
        }
      ]
    },
    {
      "cell_type": "markdown",
      "source": [
        "Попробуем загрузить и использовать модель с чекпойнта:"
      ],
      "metadata": {
        "id": "Wu42xpQw6T7k"
      }
    },
    {
      "cell_type": "code",
      "metadata": {
        "id": "y56d8CehdC3U"
      },
      "source": [
        "from transformers import TokenClassificationPipeline"
      ],
      "execution_count": 32,
      "outputs": []
    },
    {
      "cell_type": "code",
      "source": [
        "# здесь можно поставить путь к файлу чекпойнта или адрес модели на huggingface\n",
        "#checkpoint = 'annadmitrieva/old-church-slavonic-pos'\n",
        "checkpoint = '/content/sample_data/distilbert-base-uncased-finetuned-1-pos-chu/checkpoint-3000'"
      ],
      "metadata": {
        "id": "CFI1ZVzi6rqT"
      },
      "execution_count": 33,
      "outputs": []
    },
    {
      "cell_type": "code",
      "metadata": {
        "id": "b5h6JEo1g8zO",
        "colab": {
          "base_uri": "https://localhost:8080/"
        },
        "outputId": "6e9ee617-f242-4ad2-e57b-07834bb27ecb"
      },
      "source": [
        "tokenizer_chu = AutoTokenizer.from_pretrained(\"distilbert-base-uncased\")"
      ],
      "execution_count": 34,
      "outputs": [
        {
          "output_type": "stream",
          "name": "stderr",
          "text": [
            "/usr/local/lib/python3.10/dist-packages/huggingface_hub/file_download.py:1132: FutureWarning: `resume_download` is deprecated and will be removed in version 1.0.0. Downloads always resume when possible. If you want to force a new download, use `force_download=True`.\n",
            "  warnings.warn(\n"
          ]
        }
      ]
    },
    {
      "cell_type": "code",
      "metadata": {
        "id": "L_Az4Dq7gm-v"
      },
      "source": [
        "model_chu = AutoModelForTokenClassification.from_pretrained(checkpoint)"
      ],
      "execution_count": 35,
      "outputs": []
    },
    {
      "cell_type": "code",
      "metadata": {
        "id": "za1oGM4jgHav"
      },
      "source": [
        "chubert = TokenClassificationPipeline(model=model_chu, tokenizer=tokenizer_chu, task=\"pos\")"
      ],
      "execution_count": 36,
      "outputs": []
    },
    {
      "cell_type": "code",
      "metadata": {
        "id": "tE_mmOwmiFp3"
      },
      "source": [
        "def postprocess_output(output):\n",
        "\n",
        "  string = ''\n",
        "  tags = []\n",
        "  last_token_end = 0\n",
        "\n",
        "  for token in output:\n",
        "    # сначала обработаем pos-тег\n",
        "    if '_' in token['entity']:\n",
        "      pos = id2tag[int(token['entity'].split('_')[1])]\n",
        "    else:\n",
        "      pos = token['entity']\n",
        "\n",
        "    if token['word'][0] != '#':\n",
        "      # если токен - или начало слова, или полное слово\n",
        "      if last_token_end != token['start']:\n",
        "        string += ' '\n",
        "\n",
        "      string += token['word']\n",
        "      tags.append(pos)\n",
        "\n",
        "    else:\n",
        "      # если токен - середина слова или конец\n",
        "      string += token['word'].replace('#', '')\n",
        "\n",
        "    last_token_end = token['end']\n",
        "\n",
        "  return list(zip(string.split(), tags))"
      ],
      "execution_count": 40,
      "outputs": []
    },
    {
      "cell_type": "code",
      "source": [
        "chubert('нъ да оувѣсте ѣко власть иматъ с҃нъ ч҃лвчскꙑ на земи отъпоущати грѣхꙑ')"
      ],
      "metadata": {
        "colab": {
          "base_uri": "https://localhost:8080/"
        },
        "id": "TMQ-Dz2IZMht",
        "outputId": "f178d533-a0a0-4884-d0b1-2633b6fb908e"
      },
      "execution_count": 38,
      "outputs": [
        {
          "output_type": "execute_result",
          "data": {
            "text/plain": [
              "[{'entity': 'LABEL_0',\n",
              "  'score': 0.9890698,\n",
              "  'index': 1,\n",
              "  'word': 'н',\n",
              "  'start': 0,\n",
              "  'end': 1},\n",
              " {'entity': 'LABEL_0',\n",
              "  'score': 0.9897579,\n",
              "  'index': 2,\n",
              "  'word': '##ъ',\n",
              "  'start': 1,\n",
              "  'end': 2},\n",
              " {'entity': 'LABEL_8',\n",
              "  'score': 0.8944431,\n",
              "  'index': 3,\n",
              "  'word': 'д',\n",
              "  'start': 3,\n",
              "  'end': 4},\n",
              " {'entity': 'LABEL_8',\n",
              "  'score': 0.9214833,\n",
              "  'index': 4,\n",
              "  'word': '##а',\n",
              "  'start': 4,\n",
              "  'end': 5},\n",
              " {'entity': 'LABEL_2',\n",
              "  'score': 0.6475895,\n",
              "  'index': 5,\n",
              "  'word': 'оувѣсте',\n",
              "  'start': 6,\n",
              "  'end': 13},\n",
              " {'entity': 'LABEL_2',\n",
              "  'score': 0.23805733,\n",
              "  'index': 6,\n",
              "  'word': 'ѣко',\n",
              "  'start': 14,\n",
              "  'end': 17},\n",
              " {'entity': 'LABEL_12',\n",
              "  'score': 0.9962909,\n",
              "  'index': 7,\n",
              "  'word': 'в',\n",
              "  'start': 18,\n",
              "  'end': 19},\n",
              " {'entity': 'LABEL_12',\n",
              "  'score': 0.9967313,\n",
              "  'index': 8,\n",
              "  'word': '##л',\n",
              "  'start': 19,\n",
              "  'end': 20},\n",
              " {'entity': 'LABEL_12',\n",
              "  'score': 0.99668103,\n",
              "  'index': 9,\n",
              "  'word': '##а',\n",
              "  'start': 20,\n",
              "  'end': 21},\n",
              " {'entity': 'LABEL_12',\n",
              "  'score': 0.99639845,\n",
              "  'index': 10,\n",
              "  'word': '##с',\n",
              "  'start': 21,\n",
              "  'end': 22},\n",
              " {'entity': 'LABEL_12',\n",
              "  'score': 0.99648154,\n",
              "  'index': 11,\n",
              "  'word': '##т',\n",
              "  'start': 22,\n",
              "  'end': 23},\n",
              " {'entity': 'LABEL_12',\n",
              "  'score': 0.99631435,\n",
              "  'index': 12,\n",
              "  'word': '##ь',\n",
              "  'start': 23,\n",
              "  'end': 24},\n",
              " {'entity': 'LABEL_2',\n",
              "  'score': 0.9962935,\n",
              "  'index': 13,\n",
              "  'word': 'и',\n",
              "  'start': 25,\n",
              "  'end': 26},\n",
              " {'entity': 'LABEL_2',\n",
              "  'score': 0.996802,\n",
              "  'index': 14,\n",
              "  'word': '##м',\n",
              "  'start': 26,\n",
              "  'end': 27},\n",
              " {'entity': 'LABEL_2',\n",
              "  'score': 0.99659663,\n",
              "  'index': 15,\n",
              "  'word': '##а',\n",
              "  'start': 27,\n",
              "  'end': 28},\n",
              " {'entity': 'LABEL_2',\n",
              "  'score': 0.99696004,\n",
              "  'index': 16,\n",
              "  'word': '##т',\n",
              "  'start': 28,\n",
              "  'end': 29},\n",
              " {'entity': 'LABEL_2',\n",
              "  'score': 0.99709773,\n",
              "  'index': 17,\n",
              "  'word': '##ъ',\n",
              "  'start': 29,\n",
              "  'end': 30},\n",
              " {'entity': 'LABEL_12',\n",
              "  'score': 0.99769104,\n",
              "  'index': 18,\n",
              "  'word': 'с',\n",
              "  'start': 31,\n",
              "  'end': 32},\n",
              " {'entity': 'LABEL_12',\n",
              "  'score': 0.9980952,\n",
              "  'index': 19,\n",
              "  'word': '##н',\n",
              "  'start': 33,\n",
              "  'end': 34},\n",
              " {'entity': 'LABEL_12',\n",
              "  'score': 0.99782795,\n",
              "  'index': 20,\n",
              "  'word': '##ъ',\n",
              "  'start': 34,\n",
              "  'end': 35},\n",
              " {'entity': 'LABEL_1',\n",
              "  'score': 0.68475085,\n",
              "  'index': 21,\n",
              "  'word': 'ч҃лвчскꙑ',\n",
              "  'start': 36,\n",
              "  'end': 44},\n",
              " {'entity': 'LABEL_13',\n",
              "  'score': 0.9886875,\n",
              "  'index': 22,\n",
              "  'word': 'н',\n",
              "  'start': 45,\n",
              "  'end': 46},\n",
              " {'entity': 'LABEL_13',\n",
              "  'score': 0.9826879,\n",
              "  'index': 23,\n",
              "  'word': '##а',\n",
              "  'start': 46,\n",
              "  'end': 47},\n",
              " {'entity': 'LABEL_12',\n",
              "  'score': 0.9961993,\n",
              "  'index': 24,\n",
              "  'word': 'з',\n",
              "  'start': 48,\n",
              "  'end': 49},\n",
              " {'entity': 'LABEL_12',\n",
              "  'score': 0.99585813,\n",
              "  'index': 25,\n",
              "  'word': '##е',\n",
              "  'start': 49,\n",
              "  'end': 50},\n",
              " {'entity': 'LABEL_12',\n",
              "  'score': 0.9960692,\n",
              "  'index': 26,\n",
              "  'word': '##м',\n",
              "  'start': 50,\n",
              "  'end': 51},\n",
              " {'entity': 'LABEL_12',\n",
              "  'score': 0.99640334,\n",
              "  'index': 27,\n",
              "  'word': '##и',\n",
              "  'start': 51,\n",
              "  'end': 52},\n",
              " {'entity': 'LABEL_2',\n",
              "  'score': 0.996906,\n",
              "  'index': 28,\n",
              "  'word': 'о',\n",
              "  'start': 53,\n",
              "  'end': 54},\n",
              " {'entity': 'LABEL_2',\n",
              "  'score': 0.99700683,\n",
              "  'index': 29,\n",
              "  'word': '##т',\n",
              "  'start': 54,\n",
              "  'end': 55},\n",
              " {'entity': 'LABEL_2',\n",
              "  'score': 0.9967213,\n",
              "  'index': 30,\n",
              "  'word': '##ъ',\n",
              "  'start': 55,\n",
              "  'end': 56},\n",
              " {'entity': 'LABEL_2',\n",
              "  'score': 0.9971488,\n",
              "  'index': 31,\n",
              "  'word': '##п',\n",
              "  'start': 56,\n",
              "  'end': 57},\n",
              " {'entity': 'LABEL_2',\n",
              "  'score': 0.9971347,\n",
              "  'index': 32,\n",
              "  'word': '##о',\n",
              "  'start': 57,\n",
              "  'end': 58},\n",
              " {'entity': 'LABEL_2',\n",
              "  'score': 0.99694484,\n",
              "  'index': 33,\n",
              "  'word': '##у',\n",
              "  'start': 58,\n",
              "  'end': 59},\n",
              " {'entity': 'LABEL_2',\n",
              "  'score': 0.9972283,\n",
              "  'index': 34,\n",
              "  'word': '##щ',\n",
              "  'start': 59,\n",
              "  'end': 60},\n",
              " {'entity': 'LABEL_2',\n",
              "  'score': 0.99728227,\n",
              "  'index': 35,\n",
              "  'word': '##а',\n",
              "  'start': 60,\n",
              "  'end': 61},\n",
              " {'entity': 'LABEL_2',\n",
              "  'score': 0.99739254,\n",
              "  'index': 36,\n",
              "  'word': '##т',\n",
              "  'start': 61,\n",
              "  'end': 62},\n",
              " {'entity': 'LABEL_2',\n",
              "  'score': 0.9970688,\n",
              "  'index': 37,\n",
              "  'word': '##и',\n",
              "  'start': 62,\n",
              "  'end': 63},\n",
              " {'entity': 'LABEL_11',\n",
              "  'score': 0.45641732,\n",
              "  'index': 38,\n",
              "  'word': 'грѣхꙑ',\n",
              "  'start': 64,\n",
              "  'end': 69}]"
            ]
          },
          "metadata": {},
          "execution_count": 38
        }
      ]
    },
    {
      "cell_type": "code",
      "metadata": {
        "id": "80qrGa4DizhF",
        "colab": {
          "base_uri": "https://localhost:8080/"
        },
        "outputId": "e6057ebc-3131-4b48-e963-24b4289be232"
      },
      "source": [
        "postprocess_output(chubert('нъ да оувѣсте ѣко власть иматъ с҃нъ ч҃лвчскꙑ на земи отъпоущати грѣхꙑ'))"
      ],
      "execution_count": 41,
      "outputs": [
        {
          "output_type": "execute_result",
          "data": {
            "text/plain": [
              "[('нъ', 'CCONJ'),\n",
              " ('да', 'SCONJ'),\n",
              " ('оувѣсте', 'VERB'),\n",
              " ('ѣко', 'VERB'),\n",
              " ('власть', 'NOUN'),\n",
              " ('иматъ', 'VERB'),\n",
              " ('снъ', 'NOUN'),\n",
              " ('ч҃лвчскꙑ', 'ADJ'),\n",
              " ('на', 'ADP'),\n",
              " ('земи', 'NOUN'),\n",
              " ('отъпоущати', 'VERB'),\n",
              " ('грѣхꙑ', 'PRON')]"
            ]
          },
          "metadata": {},
          "execution_count": 41
        }
      ]
    },
    {
      "cell_type": "code",
      "source": [],
      "metadata": {
        "id": "Mss5-2VYYyGi"
      },
      "execution_count": null,
      "outputs": []
    }
  ]
}