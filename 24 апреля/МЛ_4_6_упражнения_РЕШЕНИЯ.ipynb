{
  "nbformat": 4,
  "nbformat_minor": 0,
  "metadata": {
    "colab": {
      "provenance": [],
      "toc_visible": true
    },
    "kernelspec": {
      "name": "python3",
      "display_name": "Python 3"
    },
    "language_info": {
      "name": "python"
    }
  },
  "cells": [
    {
      "cell_type": "markdown",
      "source": [
        "# ДПО МЛ 4-6 - решения упражнений"
      ],
      "metadata": {
        "id": "1c0ViazNy3ds"
      }
    },
    {
      "cell_type": "markdown",
      "source": [
        "## Задача 1: кластеризация запросов и снижение размерности данных"
      ],
      "metadata": {
        "id": "RH055wuuPmwP"
      }
    },
    {
      "cell_type": "markdown",
      "source": [
        "**Данные:** датасет amazon_queries.csv\n",
        "\n",
        "**Основное задание:**\n",
        "\n",
        "1.   Выполните предобработку датасета. Подумайте, нужно ли делить данные на тренировочные и тестовые;\n",
        "2.   Выполните кластеризациюю методом К средних (не применяйте другие методы на этом шаге, если только у вас нет мощного компьютера);\n",
        "3.   Посмотрите на запросы каждого кластера;\n",
        "4.   Снизьте размерность данных при помощи любого известного вам метода (подумайте, какой метод здесь будет наиболее подходящим);\n",
        "5.   Кластеризуйте данные сниженной размерности такой же моделью, как и в шаге 2 (подумайте, что значит \"такая же модель\");\n",
        "6.   При помощи метрик, не требующих наличия тестового множества, сравните качество кластеризации на исходных данных и данных сниженной размерности.\n",
        "\n",
        "**Дополнительно** можете найти оптимальное число кластеров методом локтя (осторожно, вычисления могут занять время).\n",
        "\n"
      ],
      "metadata": {
        "id": "cj9rfRx4icSY"
      }
    },
    {
      "cell_type": "code",
      "execution_count": null,
      "metadata": {
        "id": "mbRqRztH8lJb",
        "cellView": "form"
      },
      "outputs": [],
      "source": [
        "# @title\n",
        "import pandas as pd"
      ]
    },
    {
      "cell_type": "code",
      "source": [
        "# @title\n",
        "import numpy as np\n",
        "import matplotlib.pyplot as plt"
      ],
      "metadata": {
        "id": "PzbPOH0j_VSL",
        "cellView": "form"
      },
      "execution_count": null,
      "outputs": []
    },
    {
      "cell_type": "code",
      "source": [
        "# @title\n",
        "from collections import defaultdict"
      ],
      "metadata": {
        "id": "W-dZE-eoAOTE",
        "cellView": "form"
      },
      "execution_count": null,
      "outputs": []
    },
    {
      "cell_type": "code",
      "source": [
        "# @title\n",
        "query_df = pd.read_csv('/content/drive/MyDrive/ML_training_data/amazon_queries.csv')"
      ],
      "metadata": {
        "id": "iKhEL5Jm9ke2",
        "cellView": "form"
      },
      "execution_count": null,
      "outputs": []
    },
    {
      "cell_type": "code",
      "source": [
        "# @title\n",
        "query_df"
      ],
      "metadata": {
        "colab": {
          "base_uri": "https://localhost:8080/",
          "height": 502
        },
        "id": "LlxItaPY9yxb",
        "outputId": "5cda5db2-a8fc-435a-c186-77457816a79b",
        "cellView": "form",
        "collapsed": true
      },
      "execution_count": null,
      "outputs": [
        {
          "output_type": "execute_result",
          "data": {
            "text/plain": [
              "                                                   query\n",
              "0                                motorcycle camping tent\n",
              "1                      samson wireless microphone system\n",
              "2                         iphone xs max with ring holder\n",
              "3                                 justice league blu ray\n",
              "4                              funny golf shirts for men\n",
              "...                                                  ...\n",
              "97325                                       bat skeleton\n",
              "97326  jigsaw puzzles 500 pieces for adults famous pa...\n",
              "97327                               squidward nike shoes\n",
              "97328                      travis scott posters for room\n",
              "97329                                        ego trimmer\n",
              "\n",
              "[97330 rows x 1 columns]"
            ],
            "text/html": [
              "\n",
              "  <div id=\"df-6d096836-2d46-469d-98c9-5fedd7b979f4\" class=\"colab-df-container\">\n",
              "    <div>\n",
              "<style scoped>\n",
              "    .dataframe tbody tr th:only-of-type {\n",
              "        vertical-align: middle;\n",
              "    }\n",
              "\n",
              "    .dataframe tbody tr th {\n",
              "        vertical-align: top;\n",
              "    }\n",
              "\n",
              "    .dataframe thead th {\n",
              "        text-align: right;\n",
              "    }\n",
              "</style>\n",
              "<table border=\"1\" class=\"dataframe\">\n",
              "  <thead>\n",
              "    <tr style=\"text-align: right;\">\n",
              "      <th></th>\n",
              "      <th>query</th>\n",
              "    </tr>\n",
              "  </thead>\n",
              "  <tbody>\n",
              "    <tr>\n",
              "      <th>0</th>\n",
              "      <td>motorcycle camping tent</td>\n",
              "    </tr>\n",
              "    <tr>\n",
              "      <th>1</th>\n",
              "      <td>samson wireless microphone system</td>\n",
              "    </tr>\n",
              "    <tr>\n",
              "      <th>2</th>\n",
              "      <td>iphone xs max with ring holder</td>\n",
              "    </tr>\n",
              "    <tr>\n",
              "      <th>3</th>\n",
              "      <td>justice league blu ray</td>\n",
              "    </tr>\n",
              "    <tr>\n",
              "      <th>4</th>\n",
              "      <td>funny golf shirts for men</td>\n",
              "    </tr>\n",
              "    <tr>\n",
              "      <th>...</th>\n",
              "      <td>...</td>\n",
              "    </tr>\n",
              "    <tr>\n",
              "      <th>97325</th>\n",
              "      <td>bat skeleton</td>\n",
              "    </tr>\n",
              "    <tr>\n",
              "      <th>97326</th>\n",
              "      <td>jigsaw puzzles 500 pieces for adults famous pa...</td>\n",
              "    </tr>\n",
              "    <tr>\n",
              "      <th>97327</th>\n",
              "      <td>squidward nike shoes</td>\n",
              "    </tr>\n",
              "    <tr>\n",
              "      <th>97328</th>\n",
              "      <td>travis scott posters for room</td>\n",
              "    </tr>\n",
              "    <tr>\n",
              "      <th>97329</th>\n",
              "      <td>ego trimmer</td>\n",
              "    </tr>\n",
              "  </tbody>\n",
              "</table>\n",
              "<p>97330 rows × 1 columns</p>\n",
              "</div>\n",
              "    <div class=\"colab-df-buttons\">\n",
              "\n",
              "  <div class=\"colab-df-container\">\n",
              "    <button class=\"colab-df-convert\" onclick=\"convertToInteractive('df-6d096836-2d46-469d-98c9-5fedd7b979f4')\"\n",
              "            title=\"Convert this dataframe to an interactive table.\"\n",
              "            style=\"display:none;\">\n",
              "\n",
              "  <svg xmlns=\"http://www.w3.org/2000/svg\" height=\"24px\" viewBox=\"0 -960 960 960\">\n",
              "    <path d=\"M120-120v-720h720v720H120Zm60-500h600v-160H180v160Zm220 220h160v-160H400v160Zm0 220h160v-160H400v160ZM180-400h160v-160H180v160Zm440 0h160v-160H620v160ZM180-180h160v-160H180v160Zm440 0h160v-160H620v160Z\"/>\n",
              "  </svg>\n",
              "    </button>\n",
              "\n",
              "  <style>\n",
              "    .colab-df-container {\n",
              "      display:flex;\n",
              "      gap: 12px;\n",
              "    }\n",
              "\n",
              "    .colab-df-convert {\n",
              "      background-color: #E8F0FE;\n",
              "      border: none;\n",
              "      border-radius: 50%;\n",
              "      cursor: pointer;\n",
              "      display: none;\n",
              "      fill: #1967D2;\n",
              "      height: 32px;\n",
              "      padding: 0 0 0 0;\n",
              "      width: 32px;\n",
              "    }\n",
              "\n",
              "    .colab-df-convert:hover {\n",
              "      background-color: #E2EBFA;\n",
              "      box-shadow: 0px 1px 2px rgba(60, 64, 67, 0.3), 0px 1px 3px 1px rgba(60, 64, 67, 0.15);\n",
              "      fill: #174EA6;\n",
              "    }\n",
              "\n",
              "    .colab-df-buttons div {\n",
              "      margin-bottom: 4px;\n",
              "    }\n",
              "\n",
              "    [theme=dark] .colab-df-convert {\n",
              "      background-color: #3B4455;\n",
              "      fill: #D2E3FC;\n",
              "    }\n",
              "\n",
              "    [theme=dark] .colab-df-convert:hover {\n",
              "      background-color: #434B5C;\n",
              "      box-shadow: 0px 1px 3px 1px rgba(0, 0, 0, 0.15);\n",
              "      filter: drop-shadow(0px 1px 2px rgba(0, 0, 0, 0.3));\n",
              "      fill: #FFFFFF;\n",
              "    }\n",
              "  </style>\n",
              "\n",
              "    <script>\n",
              "      const buttonEl =\n",
              "        document.querySelector('#df-6d096836-2d46-469d-98c9-5fedd7b979f4 button.colab-df-convert');\n",
              "      buttonEl.style.display =\n",
              "        google.colab.kernel.accessAllowed ? 'block' : 'none';\n",
              "\n",
              "      async function convertToInteractive(key) {\n",
              "        const element = document.querySelector('#df-6d096836-2d46-469d-98c9-5fedd7b979f4');\n",
              "        const dataTable =\n",
              "          await google.colab.kernel.invokeFunction('convertToInteractive',\n",
              "                                                    [key], {});\n",
              "        if (!dataTable) return;\n",
              "\n",
              "        const docLinkHtml = 'Like what you see? Visit the ' +\n",
              "          '<a target=\"_blank\" href=https://colab.research.google.com/notebooks/data_table.ipynb>data table notebook</a>'\n",
              "          + ' to learn more about interactive tables.';\n",
              "        element.innerHTML = '';\n",
              "        dataTable['output_type'] = 'display_data';\n",
              "        await google.colab.output.renderOutput(dataTable, element);\n",
              "        const docLink = document.createElement('div');\n",
              "        docLink.innerHTML = docLinkHtml;\n",
              "        element.appendChild(docLink);\n",
              "      }\n",
              "    </script>\n",
              "  </div>\n",
              "\n",
              "\n",
              "<div id=\"df-06ffd00e-29b6-4bf9-a377-96e5d198182c\">\n",
              "  <button class=\"colab-df-quickchart\" onclick=\"quickchart('df-06ffd00e-29b6-4bf9-a377-96e5d198182c')\"\n",
              "            title=\"Suggest charts\"\n",
              "            style=\"display:none;\">\n",
              "\n",
              "<svg xmlns=\"http://www.w3.org/2000/svg\" height=\"24px\"viewBox=\"0 0 24 24\"\n",
              "     width=\"24px\">\n",
              "    <g>\n",
              "        <path d=\"M19 3H5c-1.1 0-2 .9-2 2v14c0 1.1.9 2 2 2h14c1.1 0 2-.9 2-2V5c0-1.1-.9-2-2-2zM9 17H7v-7h2v7zm4 0h-2V7h2v10zm4 0h-2v-4h2v4z\"/>\n",
              "    </g>\n",
              "</svg>\n",
              "  </button>\n",
              "\n",
              "<style>\n",
              "  .colab-df-quickchart {\n",
              "      --bg-color: #E8F0FE;\n",
              "      --fill-color: #1967D2;\n",
              "      --hover-bg-color: #E2EBFA;\n",
              "      --hover-fill-color: #174EA6;\n",
              "      --disabled-fill-color: #AAA;\n",
              "      --disabled-bg-color: #DDD;\n",
              "  }\n",
              "\n",
              "  [theme=dark] .colab-df-quickchart {\n",
              "      --bg-color: #3B4455;\n",
              "      --fill-color: #D2E3FC;\n",
              "      --hover-bg-color: #434B5C;\n",
              "      --hover-fill-color: #FFFFFF;\n",
              "      --disabled-bg-color: #3B4455;\n",
              "      --disabled-fill-color: #666;\n",
              "  }\n",
              "\n",
              "  .colab-df-quickchart {\n",
              "    background-color: var(--bg-color);\n",
              "    border: none;\n",
              "    border-radius: 50%;\n",
              "    cursor: pointer;\n",
              "    display: none;\n",
              "    fill: var(--fill-color);\n",
              "    height: 32px;\n",
              "    padding: 0;\n",
              "    width: 32px;\n",
              "  }\n",
              "\n",
              "  .colab-df-quickchart:hover {\n",
              "    background-color: var(--hover-bg-color);\n",
              "    box-shadow: 0 1px 2px rgba(60, 64, 67, 0.3), 0 1px 3px 1px rgba(60, 64, 67, 0.15);\n",
              "    fill: var(--button-hover-fill-color);\n",
              "  }\n",
              "\n",
              "  .colab-df-quickchart-complete:disabled,\n",
              "  .colab-df-quickchart-complete:disabled:hover {\n",
              "    background-color: var(--disabled-bg-color);\n",
              "    fill: var(--disabled-fill-color);\n",
              "    box-shadow: none;\n",
              "  }\n",
              "\n",
              "  .colab-df-spinner {\n",
              "    border: 2px solid var(--fill-color);\n",
              "    border-color: transparent;\n",
              "    border-bottom-color: var(--fill-color);\n",
              "    animation:\n",
              "      spin 1s steps(1) infinite;\n",
              "  }\n",
              "\n",
              "  @keyframes spin {\n",
              "    0% {\n",
              "      border-color: transparent;\n",
              "      border-bottom-color: var(--fill-color);\n",
              "      border-left-color: var(--fill-color);\n",
              "    }\n",
              "    20% {\n",
              "      border-color: transparent;\n",
              "      border-left-color: var(--fill-color);\n",
              "      border-top-color: var(--fill-color);\n",
              "    }\n",
              "    30% {\n",
              "      border-color: transparent;\n",
              "      border-left-color: var(--fill-color);\n",
              "      border-top-color: var(--fill-color);\n",
              "      border-right-color: var(--fill-color);\n",
              "    }\n",
              "    40% {\n",
              "      border-color: transparent;\n",
              "      border-right-color: var(--fill-color);\n",
              "      border-top-color: var(--fill-color);\n",
              "    }\n",
              "    60% {\n",
              "      border-color: transparent;\n",
              "      border-right-color: var(--fill-color);\n",
              "    }\n",
              "    80% {\n",
              "      border-color: transparent;\n",
              "      border-right-color: var(--fill-color);\n",
              "      border-bottom-color: var(--fill-color);\n",
              "    }\n",
              "    90% {\n",
              "      border-color: transparent;\n",
              "      border-bottom-color: var(--fill-color);\n",
              "    }\n",
              "  }\n",
              "</style>\n",
              "\n",
              "  <script>\n",
              "    async function quickchart(key) {\n",
              "      const quickchartButtonEl =\n",
              "        document.querySelector('#' + key + ' button');\n",
              "      quickchartButtonEl.disabled = true;  // To prevent multiple clicks.\n",
              "      quickchartButtonEl.classList.add('colab-df-spinner');\n",
              "      try {\n",
              "        const charts = await google.colab.kernel.invokeFunction(\n",
              "            'suggestCharts', [key], {});\n",
              "      } catch (error) {\n",
              "        console.error('Error during call to suggestCharts:', error);\n",
              "      }\n",
              "      quickchartButtonEl.classList.remove('colab-df-spinner');\n",
              "      quickchartButtonEl.classList.add('colab-df-quickchart-complete');\n",
              "    }\n",
              "    (() => {\n",
              "      let quickchartButtonEl =\n",
              "        document.querySelector('#df-06ffd00e-29b6-4bf9-a377-96e5d198182c button');\n",
              "      quickchartButtonEl.style.display =\n",
              "        google.colab.kernel.accessAllowed ? 'block' : 'none';\n",
              "    })();\n",
              "  </script>\n",
              "</div>\n",
              "    </div>\n",
              "  </div>\n"
            ],
            "application/vnd.google.colaboratory.intrinsic+json": {
              "type": "dataframe",
              "variable_name": "query_df",
              "summary": "{\n  \"name\": \"query_df\",\n  \"rows\": 97330,\n  \"fields\": [\n    {\n      \"column\": \"query\",\n      \"properties\": {\n        \"dtype\": \"string\",\n        \"num_unique_values\": 97330,\n        \"samples\": [\n          \"a day without wine is like just kidding\",\n          \"moralia plutarch\",\n          \"iphone 7 battery replacement\"\n        ],\n        \"semantic_type\": \"\",\n        \"description\": \"\"\n      }\n    }\n  ]\n}"
            }
          },
          "metadata": {},
          "execution_count": 5
        }
      ]
    },
    {
      "cell_type": "code",
      "source": [
        "# @title\n",
        "all_queries = list(set(query_df['query'].tolist()))"
      ],
      "metadata": {
        "id": "FC-mwK_q9z6J",
        "cellView": "form"
      },
      "execution_count": null,
      "outputs": []
    },
    {
      "cell_type": "code",
      "source": [
        "# @title\n",
        "len(all_queries)"
      ],
      "metadata": {
        "colab": {
          "base_uri": "https://localhost:8080/"
        },
        "id": "waDO-TeC-DD8",
        "outputId": "aa12f8db-a075-4bed-9ddc-18f86eff02f6",
        "cellView": "form",
        "collapsed": true
      },
      "execution_count": null,
      "outputs": [
        {
          "output_type": "execute_result",
          "data": {
            "text/plain": [
              "97330"
            ]
          },
          "metadata": {},
          "execution_count": 7
        }
      ]
    },
    {
      "cell_type": "code",
      "source": [
        "# @title\n",
        "from sklearn.cluster import KMeans"
      ],
      "metadata": {
        "id": "m6oInwQj-Eqn",
        "cellView": "form"
      },
      "execution_count": null,
      "outputs": []
    },
    {
      "cell_type": "code",
      "source": [
        "# @title\n",
        "from sklearn.metrics import silhouette_score, silhouette_samples"
      ],
      "metadata": {
        "id": "j_vDyS7P-o4p",
        "cellView": "form"
      },
      "execution_count": null,
      "outputs": []
    },
    {
      "cell_type": "code",
      "source": [
        "# @title\n",
        "from sklearn.feature_extraction.text import TfidfVectorizer"
      ],
      "metadata": {
        "id": "v12LBCyr-K0R",
        "cellView": "form"
      },
      "execution_count": null,
      "outputs": []
    },
    {
      "cell_type": "markdown",
      "source": [
        "### 1. Предобработка"
      ],
      "metadata": {
        "id": "pJj_qT47kGqH"
      }
    },
    {
      "cell_type": "markdown",
      "source": [
        "В этом датасете нет зависимой переменной, следовательно, деление на тренировочную и тестовую выборку не имеет смысла."
      ],
      "metadata": {
        "id": "K_q-Kef8lrDU"
      }
    },
    {
      "cell_type": "code",
      "source": [
        "# @title\n",
        "vectors = TfidfVectorizer().fit_transform(all_queries)"
      ],
      "metadata": {
        "id": "WvjLB4kh-TLN",
        "cellView": "form"
      },
      "execution_count": null,
      "outputs": []
    },
    {
      "cell_type": "markdown",
      "source": [
        "### 2. Кластеризация"
      ],
      "metadata": {
        "id": "lQpKI6C5l9CU"
      }
    },
    {
      "cell_type": "code",
      "source": [
        "# @title\n",
        "k_means_clusters = KMeans(n_clusters=10).fit(vectors)"
      ],
      "metadata": {
        "colab": {
          "base_uri": "https://localhost:8080/"
        },
        "id": "bTQwEGxc-hT_",
        "outputId": "6893fbfe-20f2-4314-885b-205123783e42",
        "cellView": "form",
        "collapsed": true
      },
      "execution_count": null,
      "outputs": [
        {
          "output_type": "stream",
          "name": "stderr",
          "text": [
            "/usr/local/lib/python3.10/dist-packages/sklearn/cluster/_kmeans.py:870: FutureWarning: The default value of `n_init` will change from 10 to 'auto' in 1.4. Set the value of `n_init` explicitly to suppress the warning\n",
            "  warnings.warn(\n"
          ]
        }
      ]
    },
    {
      "cell_type": "markdown",
      "source": [
        "### 3. Посмотрим на тексты каждого кластера:"
      ],
      "metadata": {
        "id": "GyFxjbcJGLw2"
      }
    },
    {
      "cell_type": "code",
      "source": [
        "# @title\n",
        "texts_per_cluster = defaultdict(list)\n",
        "\n",
        "for text, cluster in zip(all_queries, k_means_clusters.labels_):\n",
        "  texts_per_cluster[cluster].append(text)"
      ],
      "metadata": {
        "id": "0RN8CzgKAEgd",
        "cellView": "form"
      },
      "execution_count": null,
      "outputs": []
    },
    {
      "cell_type": "code",
      "source": [
        "# @title\n",
        "texts_per_cluster.keys()"
      ],
      "metadata": {
        "colab": {
          "base_uri": "https://localhost:8080/"
        },
        "id": "yovLg0MzAh2_",
        "outputId": "0a147a33-9b93-4189-c869-c119f9658c9a",
        "cellView": "form",
        "collapsed": true
      },
      "execution_count": null,
      "outputs": [
        {
          "output_type": "execute_result",
          "data": {
            "text/plain": [
              "dict_keys([8, 1, 6, 5, 4, 7, 9, 2, 3, 0])"
            ]
          },
          "metadata": {},
          "execution_count": 14
        }
      ]
    },
    {
      "cell_type": "code",
      "source": [
        "# @title\n",
        "texts_per_cluster[9][:10]"
      ],
      "metadata": {
        "colab": {
          "base_uri": "https://localhost:8080/"
        },
        "id": "czySqu3QAjT6",
        "outputId": "37eec817-058d-4f55-836f-1cbfeb4d4427",
        "cellView": "form",
        "collapsed": true
      },
      "execution_count": null,
      "outputs": [
        {
          "output_type": "execute_result",
          "data": {
            "text/plain": [
              "['iphone max hello kitty case',\n",
              " 'iphone unlocked cell phones new',\n",
              " 'iphone 11 case irridescent',\n",
              " 'iphone 11 case tech 21',\n",
              " '10ft iphone charger',\n",
              " 'portable phone chargers for iphone',\n",
              " 'portable phone charger iphone',\n",
              " 'safesleeve iphone x case with card holder',\n",
              " 'iphone headphones woreless',\n",
              " 'iphone refurbished']"
            ]
          },
          "metadata": {},
          "execution_count": 15
        }
      ]
    },
    {
      "cell_type": "markdown",
      "source": [
        "### Дополнительно: \"метод локтя\" для определения оптимального количества кластеров:"
      ],
      "metadata": {
        "id": "s59MlP1sGRVP"
      }
    },
    {
      "cell_type": "code",
      "source": [
        "# @title\n",
        "max_cluster = 36\n",
        "clusters = range(1, max_cluster, 5)\n",
        "intra_sum_of_square_list = []\n",
        "\n",
        "for k in clusters:\n",
        "    km = KMeans(n_clusters=k)\n",
        "    km.fit(vectors)\n",
        "    intra_sum_of_square_list.append(km.inertia_)"
      ],
      "metadata": {
        "id": "iHc8KHm_Ev7r",
        "cellView": "form"
      },
      "execution_count": null,
      "outputs": []
    },
    {
      "cell_type": "code",
      "source": [
        "# @title\n",
        "plt.plot(clusters, intra_sum_of_square_list)"
      ],
      "metadata": {
        "colab": {
          "base_uri": "https://localhost:8080/",
          "height": 451
        },
        "id": "q3FdxQrPFeaf",
        "outputId": "e211e3e7-d66d-4148-daf5-115ff20634ca",
        "cellView": "form",
        "collapsed": true
      },
      "execution_count": null,
      "outputs": [
        {
          "output_type": "execute_result",
          "data": {
            "text/plain": [
              "[<matplotlib.lines.Line2D at 0x7996f0c33070>]"
            ]
          },
          "metadata": {},
          "execution_count": 18
        },
        {
          "output_type": "display_data",
          "data": {
            "text/plain": [
              "<Figure size 640x480 with 1 Axes>"
            ],
            "image/png": "[encoded data removed]"
          },
          "metadata": {}
        }
      ]
    },
    {
      "cell_type": "markdown",
      "source": [
        "### 4. Снижение размерности"
      ],
      "metadata": {
        "id": "AGyCoyysME-g"
      }
    },
    {
      "cell_type": "markdown",
      "source": [
        "t-SNE больше подходит для визуализации, а латентное размещение Дирихле - для тематического моделирования, так что для обычного снижения размерности применим сингулярное разложение."
      ],
      "metadata": {
        "id": "OW1iC158mSEi"
      }
    },
    {
      "cell_type": "code",
      "source": [
        "# @title\n",
        "from sklearn.decomposition import TruncatedSVD"
      ],
      "metadata": {
        "id": "GvW_WeByMRxR",
        "cellView": "form"
      },
      "execution_count": null,
      "outputs": []
    },
    {
      "cell_type": "code",
      "source": [
        "# @title\n",
        "svd = TruncatedSVD(n_components=100)"
      ],
      "metadata": {
        "id": "iqhL9RR5MYiG",
        "cellView": "form"
      },
      "execution_count": null,
      "outputs": []
    },
    {
      "cell_type": "code",
      "source": [
        "# @title\n",
        "reduced_matrix = svd.fit_transform(vectors)"
      ],
      "metadata": {
        "id": "dHekO9J6MeIH",
        "cellView": "form"
      },
      "execution_count": null,
      "outputs": []
    },
    {
      "cell_type": "markdown",
      "source": [
        "### 5. Кластеризация на сжатых данных"
      ],
      "metadata": {
        "id": "rXdeZ_IFmhck"
      }
    },
    {
      "cell_type": "code",
      "source": [
        "# @title\n",
        "k_means_clusters_reduced = KMeans(n_clusters=10).fit(reduced_matrix)"
      ],
      "metadata": {
        "colab": {
          "base_uri": "https://localhost:8080/"
        },
        "id": "ujtafTRkMkX2",
        "outputId": "e554c71e-2924-413f-b47d-cc422e64690f",
        "cellView": "form",
        "collapsed": true
      },
      "execution_count": null,
      "outputs": [
        {
          "output_type": "stream",
          "name": "stderr",
          "text": [
            "/usr/local/lib/python3.10/dist-packages/sklearn/cluster/_kmeans.py:870: FutureWarning: The default value of `n_init` will change from 10 to 'auto' in 1.4. Set the value of `n_init` explicitly to suppress the warning\n",
            "  warnings.warn(\n"
          ]
        }
      ]
    },
    {
      "cell_type": "markdown",
      "source": [
        "### 6. Сравнение результатов"
      ],
      "metadata": {
        "id": "I_eEncPvml5U"
      }
    },
    {
      "cell_type": "markdown",
      "source": [
        "Для оценки кластеризации в условиях отсутствия размеченного тестового множества подойдет коэффициент силуэта."
      ],
      "metadata": {
        "id": "hTmzOGgYmqV9"
      }
    },
    {
      "cell_type": "code",
      "source": [
        "# @title\n",
        "silhouette_kmeans = silhouette_score(vectors, k_means_clusters.labels_)"
      ],
      "metadata": {
        "id": "mYNZTjG_I1d3",
        "cellView": "form"
      },
      "execution_count": null,
      "outputs": []
    },
    {
      "cell_type": "code",
      "source": [
        "# @title\n",
        "silhouette_kmeans_reduced = silhouette_score(vectors, k_means_clusters_reduced.labels_)"
      ],
      "metadata": {
        "id": "PzTbVZBNJcIA",
        "cellView": "form"
      },
      "execution_count": null,
      "outputs": []
    },
    {
      "cell_type": "code",
      "source": [
        "# @title\n",
        "silhouette_kmeans"
      ],
      "metadata": {
        "colab": {
          "base_uri": "https://localhost:8080/"
        },
        "id": "-qxjkEP5OhK9",
        "outputId": "8e172812-a5a4-4451-aecd-89b59e992f70",
        "cellView": "form",
        "collapsed": true
      },
      "execution_count": null,
      "outputs": [
        {
          "output_type": "execute_result",
          "data": {
            "text/plain": [
              "0.006148423640711617"
            ]
          },
          "metadata": {},
          "execution_count": 28
        }
      ]
    },
    {
      "cell_type": "code",
      "source": [
        "# @title\n",
        "silhouette_kmeans_reduced"
      ],
      "metadata": {
        "colab": {
          "base_uri": "https://localhost:8080/"
        },
        "id": "Otdsb9fmOiDJ",
        "outputId": "c13bc353-9c00-48b6-fd00-2b7f7656f017",
        "cellView": "form",
        "collapsed": true
      },
      "execution_count": null,
      "outputs": [
        {
          "output_type": "execute_result",
          "data": {
            "text/plain": [
              "0.008374200209779085"
            ]
          },
          "metadata": {},
          "execution_count": 30
        }
      ]
    },
    {
      "cell_type": "markdown",
      "source": [
        "## Задача 2: тематическое моделирование методом LDA"
      ],
      "metadata": {
        "id": "SSBXHtTDmw4y"
      }
    },
    {
      "cell_type": "markdown",
      "source": [
        "**Данные:** АРХИВ лемматизированных русских текстов ruslit_lemmas.zip\n",
        "\n",
        "**Основное задание:**\n",
        "\n",
        "1.   Достаньте тексты и (на всякий случай) их названия из архива так, как показано в коде;\n",
        "2.   Векторизуйте тексты. Ограничьте количество используемых признаков до 6000 и используйте стоп-слова;\n",
        "3.   Сделайте тематическое моделирование при помощи латентного размещения Дирихле. Число компонент выберите любое;\n",
        "4.   Выведите топовые слова каждой компоненты.\n",
        "\n"
      ],
      "metadata": {
        "id": "uHGpm-8qxNpS"
      }
    },
    {
      "cell_type": "markdown",
      "source": [
        "Источник текстов: https://www.kaggle.com/datasets/d0rj3228/russian-literature"
      ],
      "metadata": {
        "id": "uZPZMWhHN_fL"
      }
    },
    {
      "cell_type": "markdown",
      "source": [
        "### 1. Извлечение информации из архивов:"
      ],
      "metadata": {
        "id": "4KDCA0MMwaAJ"
      }
    },
    {
      "cell_type": "code",
      "source": [
        "from zipfile import ZipFile\n",
        "\n",
        "path_to_archive = '/content/drive/MyDrive/ML_training_data/ruslit_lemmas.zip'\n",
        "\n",
        "def texts_from_zip(path_to_archive):\n",
        "    texts = []\n",
        "    with ZipFile(path_to_archive) as zip_archive:\n",
        "        for name in zip_archive.namelist():\n",
        "            if '.txt' in name:\n",
        "                text = zip_archive.read(name)\n",
        "                text = text.decode('utf-8')\n",
        "                texts.append(text)\n",
        "    return texts\n",
        "\n",
        "def get_filenames(path_to_archive):\n",
        "\n",
        "    names = []\n",
        "\n",
        "    with ZipFile(path_to_archive) as zip_archive:\n",
        "        for name in zip_archive.namelist():\n",
        "            if '.txt' in name:\n",
        "                names.append(name.split('/')[1])\n",
        "\n",
        "    return names"
      ],
      "metadata": {
        "id": "YMK3211iwX5R"
      },
      "execution_count": null,
      "outputs": []
    },
    {
      "cell_type": "markdown",
      "source": [
        "### 2. Предобработка"
      ],
      "metadata": {
        "id": "yXwHscs9yBhX"
      }
    },
    {
      "cell_type": "code",
      "source": [
        "# @title\n",
        "names = get_filenames(path_to_archive)"
      ],
      "metadata": {
        "cellView": "form",
        "id": "3FAy8fGBwv3Z"
      },
      "execution_count": null,
      "outputs": []
    },
    {
      "cell_type": "code",
      "source": [
        "# @title\n",
        "#import nltk\n",
        "#nltk.download('stopwords')"
      ],
      "metadata": {
        "cellView": "form",
        "id": "v2epUm0swkvB"
      },
      "execution_count": null,
      "outputs": []
    },
    {
      "cell_type": "code",
      "source": [
        "# @title\n",
        "from nltk.corpus import stopwords\n",
        "\n",
        "ru_stop_words = stopwords.words('russian')"
      ],
      "metadata": {
        "cellView": "form",
        "id": "EGAww9k9oYK5"
      },
      "execution_count": null,
      "outputs": []
    },
    {
      "cell_type": "code",
      "source": [
        "# @title\n",
        "from sklearn.feature_extraction.text import TfidfVectorizer"
      ],
      "metadata": {
        "cellView": "form",
        "id": "sMC11JVRwz6P"
      },
      "execution_count": null,
      "outputs": []
    },
    {
      "cell_type": "code",
      "source": [
        "# @title\n",
        "vectorizer = TfidfVectorizer(max_features=6000, stop_words=ru_stop_words)"
      ],
      "metadata": {
        "cellView": "form",
        "id": "suaxAsK2w1on"
      },
      "execution_count": null,
      "outputs": []
    },
    {
      "cell_type": "code",
      "source": [
        "# @title\n",
        "texts = texts_from_zip(path_to_archive)"
      ],
      "metadata": {
        "cellView": "form",
        "id": "Ltb_rYKtw4IB"
      },
      "execution_count": null,
      "outputs": []
    },
    {
      "cell_type": "code",
      "source": [
        "# @title\n",
        "vectors = vectorizer.fit_transform(texts)"
      ],
      "metadata": {
        "cellView": "form",
        "id": "O7J0P2LPw6OG"
      },
      "execution_count": null,
      "outputs": []
    },
    {
      "cell_type": "markdown",
      "source": [
        "### 3. Тематическое моделирование"
      ],
      "metadata": {
        "id": "LwiCf6xzyF6x"
      }
    },
    {
      "cell_type": "code",
      "source": [
        "# @title\n",
        "from sklearn.decomposition import LatentDirichletAllocation\n",
        "\n",
        "lda = LatentDirichletAllocation(n_components=50, random_state=0)"
      ],
      "metadata": {
        "cellView": "form",
        "id": "8wtrIpqfw79z"
      },
      "execution_count": null,
      "outputs": []
    },
    {
      "cell_type": "code",
      "source": [
        "# @title\n",
        "doc_topic = lda.fit_transform(vectors)"
      ],
      "metadata": {
        "cellView": "form",
        "id": "JiXXB8zew95E"
      },
      "execution_count": null,
      "outputs": []
    },
    {
      "cell_type": "markdown",
      "source": [
        "### 4. Самые частотные слова в топиках"
      ],
      "metadata": {
        "id": "YWL9bDJcyKKj"
      }
    },
    {
      "cell_type": "code",
      "source": [
        "# @title\n",
        "from collections import defaultdict"
      ],
      "metadata": {
        "cellView": "form",
        "id": "pfEaqjoPxDW2"
      },
      "execution_count": null,
      "outputs": []
    },
    {
      "cell_type": "code",
      "source": [
        "# @title\n",
        "feature_names = vectorizer.get_feature_names_out()\n",
        "\n",
        "top_features_per_topic = defaultdict(list)\n",
        "n_top_words = 30\n",
        "\n",
        "for topic_idx, topic in enumerate(lda.components_):\n",
        "    top_features_ind = topic.argsort()[:-n_top_words - 1:-1]\n",
        "    top_features = [feature_names[i] for i in top_features_ind]\n",
        "    top_features_per_topic[topic_idx] = top_features"
      ],
      "metadata": {
        "cellView": "form",
        "id": "4gqWX-cjxEQc"
      },
      "execution_count": null,
      "outputs": []
    },
    {
      "cell_type": "markdown",
      "source": [
        "## Задача 3: ансамблевое обучение"
      ],
      "metadata": {
        "id": "vYTWjbsZPqyh"
      }
    },
    {
      "cell_type": "markdown",
      "source": [
        "**Датасет:** данные о качестве воды BKB_WaterQualityData_2020084.csv.\n",
        "\n",
        "**Основное задание:**\n",
        "\n",
        "\n",
        "1.   Выполните предобработку датасета. Ваша зависимая переменная - Site_Id. Ваши независимые переменные: Salinity (ppt), Dissolved Oxygen (mg/L), pH (standard units), Secchi Depth (m), Water Depth (m), Water Temp (?C), AirTemp (C). Подумайте, надо ли что-то кодировать и/или разделять выборку на тренировочное и тестовое множество.\n",
        "2.   Используйте модели ансамблевого обучения (как минимум, рандомный лес и градиентный бустинг), чтобы по данным о качестве воды предсказать место, откуда был взят образец. Оцените качество предсказаний.\n",
        "\n",
        "\n",
        "**Дополнительно:** примените GridSearchCV для подбора оптимальных параметров рандомного леса.\n",
        "\n",
        "**В этом задании можно попробовать:** другие методы ансамблирования, например, обычный бустинг и стекинг.\n"
      ],
      "metadata": {
        "id": "ilxHDU5Wo4DF"
      }
    },
    {
      "cell_type": "markdown",
      "source": [
        "Данные отсюда: https://www.kaggle.com/datasets/sahirmaharajj/water-quality-data"
      ],
      "metadata": {
        "id": "qMcxJOFNUBH-"
      }
    },
    {
      "cell_type": "markdown",
      "source": [
        "### 1. Предобработка"
      ],
      "metadata": {
        "id": "E3Arvp2BqaW6"
      }
    },
    {
      "cell_type": "code",
      "source": [
        "# @title\n",
        "from sklearn.preprocessing import OneHotEncoder, LabelEncoder"
      ],
      "metadata": {
        "id": "LY3y1gw-RQWG",
        "cellView": "form"
      },
      "execution_count": null,
      "outputs": []
    },
    {
      "cell_type": "code",
      "source": [
        "# @title\n",
        "water_df = pd.read_csv('/content/drive/MyDrive/ML_training_data/BKB_WaterQualityData_2020084.csv')"
      ],
      "metadata": {
        "id": "VWTD4UKFReZq",
        "cellView": "form"
      },
      "execution_count": null,
      "outputs": []
    },
    {
      "cell_type": "code",
      "source": [
        "# @title\n",
        "water_df"
      ],
      "metadata": {
        "colab": {
          "base_uri": "https://localhost:8080/",
          "height": 668
        },
        "id": "jKVRqDZwUF28",
        "outputId": "32d93438-53c7-4854-c0fb-a85c767a26e7",
        "cellView": "form",
        "collapsed": true
      },
      "execution_count": null,
      "outputs": [
        {
          "output_type": "execute_result",
          "data": {
            "text/plain": [
              "     Site_Id Unit_Id   Read_Date  Salinity (ppt)  Dissolved Oxygen (mg/L)  \\\n",
              "0        Bay     NaN    1/3/1994             1.3                     11.7   \n",
              "1        Bay     NaN   1/31/1994             1.5                     12.0   \n",
              "2        Bay     NaN    2/7/1994             1.0                     10.5   \n",
              "3        Bay     NaN   2/23/1994             1.0                     10.1   \n",
              "4        Bay     NaN   2/28/1994             1.0                     12.6   \n",
              "...      ...     ...         ...             ...                      ...   \n",
              "2366     Bay     NaN  10/11/2018             1.9                      5.0   \n",
              "2367     Bay     NaN  10/24/2018             0.0                      9.0   \n",
              "2368     Bay     NaN  10/28/2018             0.9                      2.9   \n",
              "2369     Bay     NaN   11/7/2018             1.7                      NaN   \n",
              "2370     Bay     NaN  12/11/2018             0.1                      NaN   \n",
              "\n",
              "      pH (standard units)  Secchi Depth (m)  Water Depth (m)  Water Temp (?C)  \\\n",
              "0                     7.3              0.40             0.40              5.9   \n",
              "1                     7.4              0.20             0.35              3.0   \n",
              "2                     7.2              0.25             0.60              5.9   \n",
              "3                     7.4              0.35             0.50             10.0   \n",
              "4                     7.2              0.20             0.40              1.6   \n",
              "...                   ...               ...              ...              ...   \n",
              "2366                  7.0              4.00             1.20             25.0   \n",
              "2367                  7.0              0.30             0.60             18.0   \n",
              "2368                  7.0              0.40             0.90             13.0   \n",
              "2369                  7.0              0.45             0.90             20.0   \n",
              "2370                  7.0              0.10             0.10             10.0   \n",
              "\n",
              "      Air Temp-Celsius  Air Temp (?F) Time (24:00) Field_Tech DateVerified  \\\n",
              "0                  8.0          46.40        11:00        NaN          NaN   \n",
              "1                  2.6          36.68        11:30        NaN          NaN   \n",
              "2                  7.6          45.68         9:45        NaN          NaN   \n",
              "3                  2.7          36.86          NaN        NaN          NaN   \n",
              "4                  0.0          32.00        10:30        NaN          NaN   \n",
              "...                ...            ...          ...        ...          ...   \n",
              "2366               NaN          78.00        09:30    Sue Poe   11/13/2019   \n",
              "2367               NaN          58.00        09:30    Sue Poe   11/13/2019   \n",
              "2368               NaN          49.00        09:20    Sue Poe   11/13/2019   \n",
              "2369               NaN          65.00        09:45    Sue Poe   11/13/2019   \n",
              "2370               NaN          42.00        09:40    Sue Poe   11/13/2019   \n",
              "\n",
              "          WhoVerified  AirTemp (C)  Year  \n",
              "0                 NaN     8.000000  1994  \n",
              "1                 NaN     2.600000  1994  \n",
              "2                 NaN     7.600000  1994  \n",
              "3                 NaN     2.700000  1994  \n",
              "4                 NaN     0.000000  1994  \n",
              "...               ...          ...   ...  \n",
              "2366  Christine Folks    25.555556  2018  \n",
              "2367  Christine Folks    14.444444  2018  \n",
              "2368  Christine Folks     9.444444  2018  \n",
              "2369  Christine Folks    18.333333  2018  \n",
              "2370  Christine Folks     5.555556  2018  \n",
              "\n",
              "[2371 rows x 17 columns]"
            ],
            "text/html": [
              "\n",
              "  <div id=\"df-3bc789df-dd62-46ad-92fb-22528002f663\" class=\"colab-df-container\">\n",
              "    <div>\n",
              "<style scoped>\n",
              "    .dataframe tbody tr th:only-of-type {\n",
              "        vertical-align: middle;\n",
              "    }\n",
              "\n",
              "    .dataframe tbody tr th {\n",
              "        vertical-align: top;\n",
              "    }\n",
              "\n",
              "    .dataframe thead th {\n",
              "        text-align: right;\n",
              "    }\n",
              "</style>\n",
              "<table border=\"1\" class=\"dataframe\">\n",
              "  <thead>\n",
              "    <tr style=\"text-align: right;\">\n",
              "      <th></th>\n",
              "      <th>Site_Id</th>\n",
              "      <th>Unit_Id</th>\n",
              "      <th>Read_Date</th>\n",
              "      <th>Salinity (ppt)</th>\n",
              "      <th>Dissolved Oxygen (mg/L)</th>\n",
              "      <th>pH (standard units)</th>\n",
              "      <th>Secchi Depth (m)</th>\n",
              "      <th>Water Depth (m)</th>\n",
              "      <th>Water Temp (?C)</th>\n",
              "      <th>Air Temp-Celsius</th>\n",
              "      <th>Air Temp (?F)</th>\n",
              "      <th>Time (24:00)</th>\n",
              "      <th>Field_Tech</th>\n",
              "      <th>DateVerified</th>\n",
              "      <th>WhoVerified</th>\n",
              "      <th>AirTemp (C)</th>\n",
              "      <th>Year</th>\n",
              "    </tr>\n",
              "  </thead>\n",
              "  <tbody>\n",
              "    <tr>\n",
              "      <th>0</th>\n",
              "      <td>Bay</td>\n",
              "      <td>NaN</td>\n",
              "      <td>1/3/1994</td>\n",
              "      <td>1.3</td>\n",
              "      <td>11.7</td>\n",
              "      <td>7.3</td>\n",
              "      <td>0.40</td>\n",
              "      <td>0.40</td>\n",
              "      <td>5.9</td>\n",
              "      <td>8.0</td>\n",
              "      <td>46.40</td>\n",
              "      <td>11:00</td>\n",
              "      <td>NaN</td>\n",
              "      <td>NaN</td>\n",
              "      <td>NaN</td>\n",
              "      <td>8.000000</td>\n",
              "      <td>1994</td>\n",
              "    </tr>\n",
              "    <tr>\n",
              "      <th>1</th>\n",
              "      <td>Bay</td>\n",
              "      <td>NaN</td>\n",
              "      <td>1/31/1994</td>\n",
              "      <td>1.5</td>\n",
              "      <td>12.0</td>\n",
              "      <td>7.4</td>\n",
              "      <td>0.20</td>\n",
              "      <td>0.35</td>\n",
              "      <td>3.0</td>\n",
              "      <td>2.6</td>\n",
              "      <td>36.68</td>\n",
              "      <td>11:30</td>\n",
              "      <td>NaN</td>\n",
              "      <td>NaN</td>\n",
              "      <td>NaN</td>\n",
              "      <td>2.600000</td>\n",
              "      <td>1994</td>\n",
              "    </tr>\n",
              "    <tr>\n",
              "      <th>2</th>\n",
              "      <td>Bay</td>\n",
              "      <td>NaN</td>\n",
              "      <td>2/7/1994</td>\n",
              "      <td>1.0</td>\n",
              "      <td>10.5</td>\n",
              "      <td>7.2</td>\n",
              "      <td>0.25</td>\n",
              "      <td>0.60</td>\n",
              "      <td>5.9</td>\n",
              "      <td>7.6</td>\n",
              "      <td>45.68</td>\n",
              "      <td>9:45</td>\n",
              "      <td>NaN</td>\n",
              "      <td>NaN</td>\n",
              "      <td>NaN</td>\n",
              "      <td>7.600000</td>\n",
              "      <td>1994</td>\n",
              "    </tr>\n",
              "    <tr>\n",
              "      <th>3</th>\n",
              "      <td>Bay</td>\n",
              "      <td>NaN</td>\n",
              "      <td>2/23/1994</td>\n",
              "      <td>1.0</td>\n",
              "      <td>10.1</td>\n",
              "      <td>7.4</td>\n",
              "      <td>0.35</td>\n",
              "      <td>0.50</td>\n",
              "      <td>10.0</td>\n",
              "      <td>2.7</td>\n",
              "      <td>36.86</td>\n",
              "      <td>NaN</td>\n",
              "      <td>NaN</td>\n",
              "      <td>NaN</td>\n",
              "      <td>NaN</td>\n",
              "      <td>2.700000</td>\n",
              "      <td>1994</td>\n",
              "    </tr>\n",
              "    <tr>\n",
              "      <th>4</th>\n",
              "      <td>Bay</td>\n",
              "      <td>NaN</td>\n",
              "      <td>2/28/1994</td>\n",
              "      <td>1.0</td>\n",
              "      <td>12.6</td>\n",
              "      <td>7.2</td>\n",
              "      <td>0.20</td>\n",
              "      <td>0.40</td>\n",
              "      <td>1.6</td>\n",
              "      <td>0.0</td>\n",
              "      <td>32.00</td>\n",
              "      <td>10:30</td>\n",
              "      <td>NaN</td>\n",
              "      <td>NaN</td>\n",
              "      <td>NaN</td>\n",
              "      <td>0.000000</td>\n",
              "      <td>1994</td>\n",
              "    </tr>\n",
              "    <tr>\n",
              "      <th>...</th>\n",
              "      <td>...</td>\n",
              "      <td>...</td>\n",
              "      <td>...</td>\n",
              "      <td>...</td>\n",
              "      <td>...</td>\n",
              "      <td>...</td>\n",
              "      <td>...</td>\n",
              "      <td>...</td>\n",
              "      <td>...</td>\n",
              "      <td>...</td>\n",
              "      <td>...</td>\n",
              "      <td>...</td>\n",
              "      <td>...</td>\n",
              "      <td>...</td>\n",
              "      <td>...</td>\n",
              "      <td>...</td>\n",
              "      <td>...</td>\n",
              "    </tr>\n",
              "    <tr>\n",
              "      <th>2366</th>\n",
              "      <td>Bay</td>\n",
              "      <td>NaN</td>\n",
              "      <td>10/11/2018</td>\n",
              "      <td>1.9</td>\n",
              "      <td>5.0</td>\n",
              "      <td>7.0</td>\n",
              "      <td>4.00</td>\n",
              "      <td>1.20</td>\n",
              "      <td>25.0</td>\n",
              "      <td>NaN</td>\n",
              "      <td>78.00</td>\n",
              "      <td>09:30</td>\n",
              "      <td>Sue Poe</td>\n",
              "      <td>11/13/2019</td>\n",
              "      <td>Christine Folks</td>\n",
              "      <td>25.555556</td>\n",
              "      <td>2018</td>\n",
              "    </tr>\n",
              "    <tr>\n",
              "      <th>2367</th>\n",
              "      <td>Bay</td>\n",
              "      <td>NaN</td>\n",
              "      <td>10/24/2018</td>\n",
              "      <td>0.0</td>\n",
              "      <td>9.0</td>\n",
              "      <td>7.0</td>\n",
              "      <td>0.30</td>\n",
              "      <td>0.60</td>\n",
              "      <td>18.0</td>\n",
              "      <td>NaN</td>\n",
              "      <td>58.00</td>\n",
              "      <td>09:30</td>\n",
              "      <td>Sue Poe</td>\n",
              "      <td>11/13/2019</td>\n",
              "      <td>Christine Folks</td>\n",
              "      <td>14.444444</td>\n",
              "      <td>2018</td>\n",
              "    </tr>\n",
              "    <tr>\n",
              "      <th>2368</th>\n",
              "      <td>Bay</td>\n",
              "      <td>NaN</td>\n",
              "      <td>10/28/2018</td>\n",
              "      <td>0.9</td>\n",
              "      <td>2.9</td>\n",
              "      <td>7.0</td>\n",
              "      <td>0.40</td>\n",
              "      <td>0.90</td>\n",
              "      <td>13.0</td>\n",
              "      <td>NaN</td>\n",
              "      <td>49.00</td>\n",
              "      <td>09:20</td>\n",
              "      <td>Sue Poe</td>\n",
              "      <td>11/13/2019</td>\n",
              "      <td>Christine Folks</td>\n",
              "      <td>9.444444</td>\n",
              "      <td>2018</td>\n",
              "    </tr>\n",
              "    <tr>\n",
              "      <th>2369</th>\n",
              "      <td>Bay</td>\n",
              "      <td>NaN</td>\n",
              "      <td>11/7/2018</td>\n",
              "      <td>1.7</td>\n",
              "      <td>NaN</td>\n",
              "      <td>7.0</td>\n",
              "      <td>0.45</td>\n",
              "      <td>0.90</td>\n",
              "      <td>20.0</td>\n",
              "      <td>NaN</td>\n",
              "      <td>65.00</td>\n",
              "      <td>09:45</td>\n",
              "      <td>Sue Poe</td>\n",
              "      <td>11/13/2019</td>\n",
              "      <td>Christine Folks</td>\n",
              "      <td>18.333333</td>\n",
              "      <td>2018</td>\n",
              "    </tr>\n",
              "    <tr>\n",
              "      <th>2370</th>\n",
              "      <td>Bay</td>\n",
              "      <td>NaN</td>\n",
              "      <td>12/11/2018</td>\n",
              "      <td>0.1</td>\n",
              "      <td>NaN</td>\n",
              "      <td>7.0</td>\n",
              "      <td>0.10</td>\n",
              "      <td>0.10</td>\n",
              "      <td>10.0</td>\n",
              "      <td>NaN</td>\n",
              "      <td>42.00</td>\n",
              "      <td>09:40</td>\n",
              "      <td>Sue Poe</td>\n",
              "      <td>11/13/2019</td>\n",
              "      <td>Christine Folks</td>\n",
              "      <td>5.555556</td>\n",
              "      <td>2018</td>\n",
              "    </tr>\n",
              "  </tbody>\n",
              "</table>\n",
              "<p>2371 rows × 17 columns</p>\n",
              "</div>\n",
              "    <div class=\"colab-df-buttons\">\n",
              "\n",
              "  <div class=\"colab-df-container\">\n",
              "    <button class=\"colab-df-convert\" onclick=\"convertToInteractive('df-3bc789df-dd62-46ad-92fb-22528002f663')\"\n",
              "            title=\"Convert this dataframe to an interactive table.\"\n",
              "            style=\"display:none;\">\n",
              "\n",
              "  <svg xmlns=\"http://www.w3.org/2000/svg\" height=\"24px\" viewBox=\"0 -960 960 960\">\n",
              "    <path d=\"M120-120v-720h720v720H120Zm60-500h600v-160H180v160Zm220 220h160v-160H400v160Zm0 220h160v-160H400v160ZM180-400h160v-160H180v160Zm440 0h160v-160H620v160ZM180-180h160v-160H180v160Zm440 0h160v-160H620v160Z\"/>\n",
              "  </svg>\n",
              "    </button>\n",
              "\n",
              "  <style>\n",
              "    .colab-df-container {\n",
              "      display:flex;\n",
              "      gap: 12px;\n",
              "    }\n",
              "\n",
              "    .colab-df-convert {\n",
              "      background-color: #E8F0FE;\n",
              "      border: none;\n",
              "      border-radius: 50%;\n",
              "      cursor: pointer;\n",
              "      display: none;\n",
              "      fill: #1967D2;\n",
              "      height: 32px;\n",
              "      padding: 0 0 0 0;\n",
              "      width: 32px;\n",
              "    }\n",
              "\n",
              "    .colab-df-convert:hover {\n",
              "      background-color: #E2EBFA;\n",
              "      box-shadow: 0px 1px 2px rgba(60, 64, 67, 0.3), 0px 1px 3px 1px rgba(60, 64, 67, 0.15);\n",
              "      fill: #174EA6;\n",
              "    }\n",
              "\n",
              "    .colab-df-buttons div {\n",
              "      margin-bottom: 4px;\n",
              "    }\n",
              "\n",
              "    [theme=dark] .colab-df-convert {\n",
              "      background-color: #3B4455;\n",
              "      fill: #D2E3FC;\n",
              "    }\n",
              "\n",
              "    [theme=dark] .colab-df-convert:hover {\n",
              "      background-color: #434B5C;\n",
              "      box-shadow: 0px 1px 3px 1px rgba(0, 0, 0, 0.15);\n",
              "      filter: drop-shadow(0px 1px 2px rgba(0, 0, 0, 0.3));\n",
              "      fill: #FFFFFF;\n",
              "    }\n",
              "  </style>\n",
              "\n",
              "    <script>\n",
              "      const buttonEl =\n",
              "        document.querySelector('#df-3bc789df-dd62-46ad-92fb-22528002f663 button.colab-df-convert');\n",
              "      buttonEl.style.display =\n",
              "        google.colab.kernel.accessAllowed ? 'block' : 'none';\n",
              "\n",
              "      async function convertToInteractive(key) {\n",
              "        const element = document.querySelector('#df-3bc789df-dd62-46ad-92fb-22528002f663');\n",
              "        const dataTable =\n",
              "          await google.colab.kernel.invokeFunction('convertToInteractive',\n",
              "                                                    [key], {});\n",
              "        if (!dataTable) return;\n",
              "\n",
              "        const docLinkHtml = 'Like what you see? Visit the ' +\n",
              "          '<a target=\"_blank\" href=https://colab.research.google.com/notebooks/data_table.ipynb>data table notebook</a>'\n",
              "          + ' to learn more about interactive tables.';\n",
              "        element.innerHTML = '';\n",
              "        dataTable['output_type'] = 'display_data';\n",
              "        await google.colab.output.renderOutput(dataTable, element);\n",
              "        const docLink = document.createElement('div');\n",
              "        docLink.innerHTML = docLinkHtml;\n",
              "        element.appendChild(docLink);\n",
              "      }\n",
              "    </script>\n",
              "  </div>\n",
              "\n",
              "\n",
              "<div id=\"df-2a0f2b71-d606-4fbf-bdb2-e3fc000ac0f6\">\n",
              "  <button class=\"colab-df-quickchart\" onclick=\"quickchart('df-2a0f2b71-d606-4fbf-bdb2-e3fc000ac0f6')\"\n",
              "            title=\"Suggest charts\"\n",
              "            style=\"display:none;\">\n",
              "\n",
              "<svg xmlns=\"http://www.w3.org/2000/svg\" height=\"24px\"viewBox=\"0 0 24 24\"\n",
              "     width=\"24px\">\n",
              "    <g>\n",
              "        <path d=\"M19 3H5c-1.1 0-2 .9-2 2v14c0 1.1.9 2 2 2h14c1.1 0 2-.9 2-2V5c0-1.1-.9-2-2-2zM9 17H7v-7h2v7zm4 0h-2V7h2v10zm4 0h-2v-4h2v4z\"/>\n",
              "    </g>\n",
              "</svg>\n",
              "  </button>\n",
              "\n",
              "<style>\n",
              "  .colab-df-quickchart {\n",
              "      --bg-color: #E8F0FE;\n",
              "      --fill-color: #1967D2;\n",
              "      --hover-bg-color: #E2EBFA;\n",
              "      --hover-fill-color: #174EA6;\n",
              "      --disabled-fill-color: #AAA;\n",
              "      --disabled-bg-color: #DDD;\n",
              "  }\n",
              "\n",
              "  [theme=dark] .colab-df-quickchart {\n",
              "      --bg-color: #3B4455;\n",
              "      --fill-color: #D2E3FC;\n",
              "      --hover-bg-color: #434B5C;\n",
              "      --hover-fill-color: #FFFFFF;\n",
              "      --disabled-bg-color: #3B4455;\n",
              "      --disabled-fill-color: #666;\n",
              "  }\n",
              "\n",
              "  .colab-df-quickchart {\n",
              "    background-color: var(--bg-color);\n",
              "    border: none;\n",
              "    border-radius: 50%;\n",
              "    cursor: pointer;\n",
              "    display: none;\n",
              "    fill: var(--fill-color);\n",
              "    height: 32px;\n",
              "    padding: 0;\n",
              "    width: 32px;\n",
              "  }\n",
              "\n",
              "  .colab-df-quickchart:hover {\n",
              "    background-color: var(--hover-bg-color);\n",
              "    box-shadow: 0 1px 2px rgba(60, 64, 67, 0.3), 0 1px 3px 1px rgba(60, 64, 67, 0.15);\n",
              "    fill: var(--button-hover-fill-color);\n",
              "  }\n",
              "\n",
              "  .colab-df-quickchart-complete:disabled,\n",
              "  .colab-df-quickchart-complete:disabled:hover {\n",
              "    background-color: var(--disabled-bg-color);\n",
              "    fill: var(--disabled-fill-color);\n",
              "    box-shadow: none;\n",
              "  }\n",
              "\n",
              "  .colab-df-spinner {\n",
              "    border: 2px solid var(--fill-color);\n",
              "    border-color: transparent;\n",
              "    border-bottom-color: var(--fill-color);\n",
              "    animation:\n",
              "      spin 1s steps(1) infinite;\n",
              "  }\n",
              "\n",
              "  @keyframes spin {\n",
              "    0% {\n",
              "      border-color: transparent;\n",
              "      border-bottom-color: var(--fill-color);\n",
              "      border-left-color: var(--fill-color);\n",
              "    }\n",
              "    20% {\n",
              "      border-color: transparent;\n",
              "      border-left-color: var(--fill-color);\n",
              "      border-top-color: var(--fill-color);\n",
              "    }\n",
              "    30% {\n",
              "      border-color: transparent;\n",
              "      border-left-color: var(--fill-color);\n",
              "      border-top-color: var(--fill-color);\n",
              "      border-right-color: var(--fill-color);\n",
              "    }\n",
              "    40% {\n",
              "      border-color: transparent;\n",
              "      border-right-color: var(--fill-color);\n",
              "      border-top-color: var(--fill-color);\n",
              "    }\n",
              "    60% {\n",
              "      border-color: transparent;\n",
              "      border-right-color: var(--fill-color);\n",
              "    }\n",
              "    80% {\n",
              "      border-color: transparent;\n",
              "      border-right-color: var(--fill-color);\n",
              "      border-bottom-color: var(--fill-color);\n",
              "    }\n",
              "    90% {\n",
              "      border-color: transparent;\n",
              "      border-bottom-color: var(--fill-color);\n",
              "    }\n",
              "  }\n",
              "</style>\n",
              "\n",
              "  <script>\n",
              "    async function quickchart(key) {\n",
              "      const quickchartButtonEl =\n",
              "        document.querySelector('#' + key + ' button');\n",
              "      quickchartButtonEl.disabled = true;  // To prevent multiple clicks.\n",
              "      quickchartButtonEl.classList.add('colab-df-spinner');\n",
              "      try {\n",
              "        const charts = await google.colab.kernel.invokeFunction(\n",
              "            'suggestCharts', [key], {});\n",
              "      } catch (error) {\n",
              "        console.error('Error during call to suggestCharts:', error);\n",
              "      }\n",
              "      quickchartButtonEl.classList.remove('colab-df-spinner');\n",
              "      quickchartButtonEl.classList.add('colab-df-quickchart-complete');\n",
              "    }\n",
              "    (() => {\n",
              "      let quickchartButtonEl =\n",
              "        document.querySelector('#df-2a0f2b71-d606-4fbf-bdb2-e3fc000ac0f6 button');\n",
              "      quickchartButtonEl.style.display =\n",
              "        google.colab.kernel.accessAllowed ? 'block' : 'none';\n",
              "    })();\n",
              "  </script>\n",
              "</div>\n",
              "    </div>\n",
              "  </div>\n"
            ],
            "application/vnd.google.colaboratory.intrinsic+json": {
              "type": "dataframe",
              "variable_name": "water_df",
              "summary": "{\n  \"name\": \"water_df\",\n  \"rows\": 2371,\n  \"fields\": [\n    {\n      \"column\": \"Site_Id\",\n      \"properties\": {\n        \"dtype\": \"category\",\n        \"num_unique_values\": 6,\n        \"samples\": [\n          \"Bay\",\n          \"A\",\n          \"d\"\n        ],\n        \"semantic_type\": \"\",\n        \"description\": \"\"\n      }\n    },\n    {\n      \"column\": \"Unit_Id\",\n      \"properties\": {\n        \"dtype\": \"category\",\n        \"num_unique_values\": 2,\n        \"samples\": [\n          \"01csv\",\n          \"01CSV\"\n        ],\n        \"semantic_type\": \"\",\n        \"description\": \"\"\n      }\n    },\n    {\n      \"column\": \"Read_Date\",\n      \"properties\": {\n        \"dtype\": \"object\",\n        \"num_unique_values\": 801,\n        \"samples\": [\n          \"10/7/2014\",\n          \"6/25/2013\"\n        ],\n        \"semantic_type\": \"\",\n        \"description\": \"\"\n      }\n    },\n    {\n      \"column\": \"Salinity (ppt)\",\n      \"properties\": {\n        \"dtype\": \"number\",\n        \"std\": 1.2308186950436066,\n        \"min\": 0.0,\n        \"max\": 9.0,\n        \"num_unique_values\": 61,\n        \"samples\": [\n          1.3,\n          2.0\n        ],\n        \"semantic_type\": \"\",\n        \"description\": \"\"\n      }\n    },\n    {\n      \"column\": \"Dissolved Oxygen (mg/L)\",\n      \"properties\": {\n        \"dtype\": \"number\",\n        \"std\": 2.5066075386247606,\n        \"min\": 0.0,\n        \"max\": 15.1,\n        \"num_unique_values\": 154,\n        \"samples\": [\n          9.4,\n          2.6\n        ],\n        \"semantic_type\": \"\",\n        \"description\": \"\"\n      }\n    },\n    {\n      \"column\": \"pH (standard units)\",\n      \"properties\": {\n        \"dtype\": \"number\",\n        \"std\": 0.7884851582635825,\n        \"min\": 0.3,\n        \"max\": 9.9,\n        \"num_unique_values\": 48,\n        \"samples\": [\n          8.2,\n          9.8\n        ],\n        \"semantic_type\": \"\",\n        \"description\": \"\"\n      }\n    },\n    {\n      \"column\": \"Secchi Depth (m)\",\n      \"properties\": {\n        \"dtype\": \"number\",\n        \"std\": 0.47366339267868307,\n        \"min\": 0.0,\n        \"max\": 9.0,\n        \"num_unique_values\": 77,\n        \"samples\": [\n          0.15,\n          0.95\n        ],\n        \"semantic_type\": \"\",\n        \"description\": \"\"\n      }\n    },\n    {\n      \"column\": \"Water Depth (m)\",\n      \"properties\": {\n        \"dtype\": \"number\",\n        \"std\": 0.6211403896690012,\n        \"min\": 0.01,\n        \"max\": 12.0,\n        \"num_unique_values\": 114,\n        \"samples\": [\n          0.23,\n          0.9\n        ],\n        \"semantic_type\": \"\",\n        \"description\": \"\"\n      }\n    },\n    {\n      \"column\": \"Water Temp (?C)\",\n      \"properties\": {\n        \"dtype\": \"number\",\n        \"std\": 8.298246066490835,\n        \"min\": 0.0,\n        \"max\": 74.0,\n        \"num_unique_values\": 114,\n        \"samples\": [\n          0.0,\n          9.7\n        ],\n        \"semantic_type\": \"\",\n        \"description\": \"\"\n      }\n    },\n    {\n      \"column\": \"Air Temp-Celsius\",\n      \"properties\": {\n        \"dtype\": \"number\",\n        \"std\": 11.754137837481787,\n        \"min\": 0.0,\n        \"max\": 74.0,\n        \"num_unique_values\": 45,\n        \"samples\": [\n          7.0,\n          27.0\n        ],\n        \"semantic_type\": \"\",\n        \"description\": \"\"\n      }\n    },\n    {\n      \"column\": \"Air Temp (?F)\",\n      \"properties\": {\n        \"dtype\": \"number\",\n        \"std\": 15.49223637158338,\n        \"min\": 10.5,\n        \"max\": 92.3,\n        \"num_unique_values\": 225,\n        \"samples\": [\n          55.4,\n          37.0\n        ],\n        \"semantic_type\": \"\",\n        \"description\": \"\"\n      }\n    },\n    {\n      \"column\": \"Time (24:00)\",\n      \"properties\": {\n        \"dtype\": \"category\",\n        \"num_unique_values\": 99,\n        \"samples\": [\n          \"10:25\",\n          \"3:21\"\n        ],\n        \"semantic_type\": \"\",\n        \"description\": \"\"\n      }\n    },\n    {\n      \"column\": \"Field_Tech\",\n      \"properties\": {\n        \"dtype\": \"category\",\n        \"num_unique_values\": 14,\n        \"samples\": [\n          \"Sue Poe\",\n          \"Susan Poe\"\n        ],\n        \"semantic_type\": \"\",\n        \"description\": \"\"\n      }\n    },\n    {\n      \"column\": \"DateVerified\",\n      \"properties\": {\n        \"dtype\": \"date\",\n        \"min\": \"2014-03-27 00:00:00\",\n        \"max\": \"2019-11-13 00:00:00\",\n        \"num_unique_values\": 44,\n        \"samples\": [\n          \"10/23/2019\",\n          \"1/15/2016\"\n        ],\n        \"semantic_type\": \"\",\n        \"description\": \"\"\n      }\n    },\n    {\n      \"column\": \"WhoVerified\",\n      \"properties\": {\n        \"dtype\": \"category\",\n        \"num_unique_values\": 12,\n        \"samples\": [\n          \"Carly Sibilia\",\n          \"Erin Bailey\"\n        ],\n        \"semantic_type\": \"\",\n        \"description\": \"\"\n      }\n    },\n    {\n      \"column\": \"AirTemp (C)\",\n      \"properties\": {\n        \"dtype\": \"number\",\n        \"std\": 10.314719945259773,\n        \"min\": -17.77777778,\n        \"max\": 33.5,\n        \"num_unique_values\": 226,\n        \"samples\": [\n          13.0,\n          8.777777778\n        ],\n        \"semantic_type\": \"\",\n        \"description\": \"\"\n      }\n    },\n    {\n      \"column\": \"Year\",\n      \"properties\": {\n        \"dtype\": \"number\",\n        \"std\": 9,\n        \"min\": 1899,\n        \"max\": 2019,\n        \"num_unique_values\": 32,\n        \"samples\": [\n          2017,\n          2004\n        ],\n        \"semantic_type\": \"\",\n        \"description\": \"\"\n      }\n    }\n  ]\n}"
            }
          },
          "metadata": {},
          "execution_count": 40
        }
      ]
    },
    {
      "cell_type": "code",
      "source": [
        "# @title\n",
        "water_df.info()"
      ],
      "metadata": {
        "colab": {
          "base_uri": "https://localhost:8080/"
        },
        "id": "XDPFvNgjUYn4",
        "outputId": "b19086a2-0606-4627-f5f8-6db459297db4",
        "cellView": "form",
        "collapsed": true
      },
      "execution_count": null,
      "outputs": [
        {
          "output_type": "stream",
          "name": "stdout",
          "text": [
            "<class 'pandas.core.frame.DataFrame'>\n",
            "RangeIndex: 2371 entries, 0 to 2370\n",
            "Data columns (total 17 columns):\n",
            " #   Column                   Non-Null Count  Dtype  \n",
            "---  ------                   --------------  -----  \n",
            " 0   Site_Id                  2370 non-null   object \n",
            " 1   Unit_Id                  32 non-null     object \n",
            " 2   Read_Date                2366 non-null   object \n",
            " 3   Salinity (ppt)           2241 non-null   float64\n",
            " 4   Dissolved Oxygen (mg/L)  1520 non-null   float64\n",
            " 5   pH (standard units)      2276 non-null   float64\n",
            " 6   Secchi Depth (m)         2298 non-null   float64\n",
            " 7   Water Depth (m)          2300 non-null   float64\n",
            " 8   Water Temp (?C)          2250 non-null   float64\n",
            " 9   Air Temp-Celsius         85 non-null     float64\n",
            " 10  Air Temp (?F)            2300 non-null   float64\n",
            " 11  Time (24:00)             2308 non-null   object \n",
            " 12  Field_Tech               2332 non-null   object \n",
            " 13  DateVerified             453 non-null    object \n",
            " 14  WhoVerified              453 non-null    object \n",
            " 15  AirTemp (C)              2371 non-null   float64\n",
            " 16  Year                     2371 non-null   int64  \n",
            "dtypes: float64(9), int64(1), object(7)\n",
            "memory usage: 315.0+ KB\n"
          ]
        }
      ]
    },
    {
      "cell_type": "code",
      "source": [
        "# @title\n",
        "water_df = water_df.drop(columns=['Unit_Id', 'Read_Date', 'Time (24:00)', 'Air Temp (?F)', 'Air Temp-Celsius', 'Year', 'Field_Tech', 'DateVerified', 'WhoVerified'])"
      ],
      "metadata": {
        "id": "0zC84IBHUJTq",
        "cellView": "form"
      },
      "execution_count": null,
      "outputs": []
    },
    {
      "cell_type": "code",
      "source": [
        "# @title\n",
        "water_df = water_df.dropna()"
      ],
      "metadata": {
        "id": "8EwW-jCQVsGA",
        "cellView": "form"
      },
      "execution_count": null,
      "outputs": []
    },
    {
      "cell_type": "code",
      "source": [
        "# @title\n",
        "water_df"
      ],
      "metadata": {
        "colab": {
          "base_uri": "https://localhost:8080/",
          "height": 523
        },
        "id": "75-QVlpKUxG1",
        "outputId": "a476fa04-91b8-4685-b9bd-afa26e8dbb70",
        "cellView": "form",
        "collapsed": true
      },
      "execution_count": null,
      "outputs": [
        {
          "output_type": "execute_result",
          "data": {
            "text/plain": [
              "     Site_Id  Salinity (ppt)  Dissolved Oxygen (mg/L)  pH (standard units)  \\\n",
              "0        Bay             1.3                     11.7                  7.3   \n",
              "1        Bay             1.5                     12.0                  7.4   \n",
              "2        Bay             1.0                     10.5                  7.2   \n",
              "3        Bay             1.0                     10.1                  7.4   \n",
              "4        Bay             1.0                     12.6                  7.2   \n",
              "...      ...             ...                      ...                  ...   \n",
              "2361       D             0.0                      6.0                  6.5   \n",
              "2364       D             0.0                      6.9                  6.5   \n",
              "2366     Bay             1.9                      5.0                  7.0   \n",
              "2367     Bay             0.0                      9.0                  7.0   \n",
              "2368     Bay             0.9                      2.9                  7.0   \n",
              "\n",
              "      Secchi Depth (m)  Water Depth (m)  Water Temp (?C)  AirTemp (C)  \n",
              "0                 0.40             0.40              5.9     8.000000  \n",
              "1                 0.20             0.35              3.0     2.600000  \n",
              "2                 0.25             0.60              5.9     7.600000  \n",
              "3                 0.35             0.50             10.0     2.700000  \n",
              "4                 0.20             0.40              1.6     0.000000  \n",
              "...                ...              ...              ...          ...  \n",
              "2361              0.70             1.20             26.0    25.555556  \n",
              "2364              0.90             1.30             20.0    18.333333  \n",
              "2366              4.00             1.20             25.0    25.555556  \n",
              "2367              0.30             0.60             18.0    14.444444  \n",
              "2368              0.40             0.90             13.0     9.444444  \n",
              "\n",
              "[1320 rows x 8 columns]"
            ],
            "text/html": [
              "\n",
              "  <div id=\"df-2341415e-3592-40a5-982b-e77a512a5f3b\" class=\"colab-df-container\">\n",
              "    <div>\n",
              "<style scoped>\n",
              "    .dataframe tbody tr th:only-of-type {\n",
              "        vertical-align: middle;\n",
              "    }\n",
              "\n",
              "    .dataframe tbody tr th {\n",
              "        vertical-align: top;\n",
              "    }\n",
              "\n",
              "    .dataframe thead th {\n",
              "        text-align: right;\n",
              "    }\n",
              "</style>\n",
              "<table border=\"1\" class=\"dataframe\">\n",
              "  <thead>\n",
              "    <tr style=\"text-align: right;\">\n",
              "      <th></th>\n",
              "      <th>Site_Id</th>\n",
              "      <th>Salinity (ppt)</th>\n",
              "      <th>Dissolved Oxygen (mg/L)</th>\n",
              "      <th>pH (standard units)</th>\n",
              "      <th>Secchi Depth (m)</th>\n",
              "      <th>Water Depth (m)</th>\n",
              "      <th>Water Temp (?C)</th>\n",
              "      <th>AirTemp (C)</th>\n",
              "    </tr>\n",
              "  </thead>\n",
              "  <tbody>\n",
              "    <tr>\n",
              "      <th>0</th>\n",
              "      <td>Bay</td>\n",
              "      <td>1.3</td>\n",
              "      <td>11.7</td>\n",
              "      <td>7.3</td>\n",
              "      <td>0.40</td>\n",
              "      <td>0.40</td>\n",
              "      <td>5.9</td>\n",
              "      <td>8.000000</td>\n",
              "    </tr>\n",
              "    <tr>\n",
              "      <th>1</th>\n",
              "      <td>Bay</td>\n",
              "      <td>1.5</td>\n",
              "      <td>12.0</td>\n",
              "      <td>7.4</td>\n",
              "      <td>0.20</td>\n",
              "      <td>0.35</td>\n",
              "      <td>3.0</td>\n",
              "      <td>2.600000</td>\n",
              "    </tr>\n",
              "    <tr>\n",
              "      <th>2</th>\n",
              "      <td>Bay</td>\n",
              "      <td>1.0</td>\n",
              "      <td>10.5</td>\n",
              "      <td>7.2</td>\n",
              "      <td>0.25</td>\n",
              "      <td>0.60</td>\n",
              "      <td>5.9</td>\n",
              "      <td>7.600000</td>\n",
              "    </tr>\n",
              "    <tr>\n",
              "      <th>3</th>\n",
              "      <td>Bay</td>\n",
              "      <td>1.0</td>\n",
              "      <td>10.1</td>\n",
              "      <td>7.4</td>\n",
              "      <td>0.35</td>\n",
              "      <td>0.50</td>\n",
              "      <td>10.0</td>\n",
              "      <td>2.700000</td>\n",
              "    </tr>\n",
              "    <tr>\n",
              "      <th>4</th>\n",
              "      <td>Bay</td>\n",
              "      <td>1.0</td>\n",
              "      <td>12.6</td>\n",
              "      <td>7.2</td>\n",
              "      <td>0.20</td>\n",
              "      <td>0.40</td>\n",
              "      <td>1.6</td>\n",
              "      <td>0.000000</td>\n",
              "    </tr>\n",
              "    <tr>\n",
              "      <th>...</th>\n",
              "      <td>...</td>\n",
              "      <td>...</td>\n",
              "      <td>...</td>\n",
              "      <td>...</td>\n",
              "      <td>...</td>\n",
              "      <td>...</td>\n",
              "      <td>...</td>\n",
              "      <td>...</td>\n",
              "    </tr>\n",
              "    <tr>\n",
              "      <th>2361</th>\n",
              "      <td>D</td>\n",
              "      <td>0.0</td>\n",
              "      <td>6.0</td>\n",
              "      <td>6.5</td>\n",
              "      <td>0.70</td>\n",
              "      <td>1.20</td>\n",
              "      <td>26.0</td>\n",
              "      <td>25.555556</td>\n",
              "    </tr>\n",
              "    <tr>\n",
              "      <th>2364</th>\n",
              "      <td>D</td>\n",
              "      <td>0.0</td>\n",
              "      <td>6.9</td>\n",
              "      <td>6.5</td>\n",
              "      <td>0.90</td>\n",
              "      <td>1.30</td>\n",
              "      <td>20.0</td>\n",
              "      <td>18.333333</td>\n",
              "    </tr>\n",
              "    <tr>\n",
              "      <th>2366</th>\n",
              "      <td>Bay</td>\n",
              "      <td>1.9</td>\n",
              "      <td>5.0</td>\n",
              "      <td>7.0</td>\n",
              "      <td>4.00</td>\n",
              "      <td>1.20</td>\n",
              "      <td>25.0</td>\n",
              "      <td>25.555556</td>\n",
              "    </tr>\n",
              "    <tr>\n",
              "      <th>2367</th>\n",
              "      <td>Bay</td>\n",
              "      <td>0.0</td>\n",
              "      <td>9.0</td>\n",
              "      <td>7.0</td>\n",
              "      <td>0.30</td>\n",
              "      <td>0.60</td>\n",
              "      <td>18.0</td>\n",
              "      <td>14.444444</td>\n",
              "    </tr>\n",
              "    <tr>\n",
              "      <th>2368</th>\n",
              "      <td>Bay</td>\n",
              "      <td>0.9</td>\n",
              "      <td>2.9</td>\n",
              "      <td>7.0</td>\n",
              "      <td>0.40</td>\n",
              "      <td>0.90</td>\n",
              "      <td>13.0</td>\n",
              "      <td>9.444444</td>\n",
              "    </tr>\n",
              "  </tbody>\n",
              "</table>\n",
              "<p>1320 rows × 8 columns</p>\n",
              "</div>\n",
              "    <div class=\"colab-df-buttons\">\n",
              "\n",
              "  <div class=\"colab-df-container\">\n",
              "    <button class=\"colab-df-convert\" onclick=\"convertToInteractive('df-2341415e-3592-40a5-982b-e77a512a5f3b')\"\n",
              "            title=\"Convert this dataframe to an interactive table.\"\n",
              "            style=\"display:none;\">\n",
              "\n",
              "  <svg xmlns=\"http://www.w3.org/2000/svg\" height=\"24px\" viewBox=\"0 -960 960 960\">\n",
              "    <path d=\"M120-120v-720h720v720H120Zm60-500h600v-160H180v160Zm220 220h160v-160H400v160Zm0 220h160v-160H400v160ZM180-400h160v-160H180v160Zm440 0h160v-160H620v160ZM180-180h160v-160H180v160Zm440 0h160v-160H620v160Z\"/>\n",
              "  </svg>\n",
              "    </button>\n",
              "\n",
              "  <style>\n",
              "    .colab-df-container {\n",
              "      display:flex;\n",
              "      gap: 12px;\n",
              "    }\n",
              "\n",
              "    .colab-df-convert {\n",
              "      background-color: #E8F0FE;\n",
              "      border: none;\n",
              "      border-radius: 50%;\n",
              "      cursor: pointer;\n",
              "      display: none;\n",
              "      fill: #1967D2;\n",
              "      height: 32px;\n",
              "      padding: 0 0 0 0;\n",
              "      width: 32px;\n",
              "    }\n",
              "\n",
              "    .colab-df-convert:hover {\n",
              "      background-color: #E2EBFA;\n",
              "      box-shadow: 0px 1px 2px rgba(60, 64, 67, 0.3), 0px 1px 3px 1px rgba(60, 64, 67, 0.15);\n",
              "      fill: #174EA6;\n",
              "    }\n",
              "\n",
              "    .colab-df-buttons div {\n",
              "      margin-bottom: 4px;\n",
              "    }\n",
              "\n",
              "    [theme=dark] .colab-df-convert {\n",
              "      background-color: #3B4455;\n",
              "      fill: #D2E3FC;\n",
              "    }\n",
              "\n",
              "    [theme=dark] .colab-df-convert:hover {\n",
              "      background-color: #434B5C;\n",
              "      box-shadow: 0px 1px 3px 1px rgba(0, 0, 0, 0.15);\n",
              "      filter: drop-shadow(0px 1px 2px rgba(0, 0, 0, 0.3));\n",
              "      fill: #FFFFFF;\n",
              "    }\n",
              "  </style>\n",
              "\n",
              "    <script>\n",
              "      const buttonEl =\n",
              "        document.querySelector('#df-2341415e-3592-40a5-982b-e77a512a5f3b button.colab-df-convert');\n",
              "      buttonEl.style.display =\n",
              "        google.colab.kernel.accessAllowed ? 'block' : 'none';\n",
              "\n",
              "      async function convertToInteractive(key) {\n",
              "        const element = document.querySelector('#df-2341415e-3592-40a5-982b-e77a512a5f3b');\n",
              "        const dataTable =\n",
              "          await google.colab.kernel.invokeFunction('convertToInteractive',\n",
              "                                                    [key], {});\n",
              "        if (!dataTable) return;\n",
              "\n",
              "        const docLinkHtml = 'Like what you see? Visit the ' +\n",
              "          '<a target=\"_blank\" href=https://colab.research.google.com/notebooks/data_table.ipynb>data table notebook</a>'\n",
              "          + ' to learn more about interactive tables.';\n",
              "        element.innerHTML = '';\n",
              "        dataTable['output_type'] = 'display_data';\n",
              "        await google.colab.output.renderOutput(dataTable, element);\n",
              "        const docLink = document.createElement('div');\n",
              "        docLink.innerHTML = docLinkHtml;\n",
              "        element.appendChild(docLink);\n",
              "      }\n",
              "    </script>\n",
              "  </div>\n",
              "\n",
              "\n",
              "<div id=\"df-8ec99d25-f901-4391-85d3-81dd7fc0ec04\">\n",
              "  <button class=\"colab-df-quickchart\" onclick=\"quickchart('df-8ec99d25-f901-4391-85d3-81dd7fc0ec04')\"\n",
              "            title=\"Suggest charts\"\n",
              "            style=\"display:none;\">\n",
              "\n",
              "<svg xmlns=\"http://www.w3.org/2000/svg\" height=\"24px\"viewBox=\"0 0 24 24\"\n",
              "     width=\"24px\">\n",
              "    <g>\n",
              "        <path d=\"M19 3H5c-1.1 0-2 .9-2 2v14c0 1.1.9 2 2 2h14c1.1 0 2-.9 2-2V5c0-1.1-.9-2-2-2zM9 17H7v-7h2v7zm4 0h-2V7h2v10zm4 0h-2v-4h2v4z\"/>\n",
              "    </g>\n",
              "</svg>\n",
              "  </button>\n",
              "\n",
              "<style>\n",
              "  .colab-df-quickchart {\n",
              "      --bg-color: #E8F0FE;\n",
              "      --fill-color: #1967D2;\n",
              "      --hover-bg-color: #E2EBFA;\n",
              "      --hover-fill-color: #174EA6;\n",
              "      --disabled-fill-color: #AAA;\n",
              "      --disabled-bg-color: #DDD;\n",
              "  }\n",
              "\n",
              "  [theme=dark] .colab-df-quickchart {\n",
              "      --bg-color: #3B4455;\n",
              "      --fill-color: #D2E3FC;\n",
              "      --hover-bg-color: #434B5C;\n",
              "      --hover-fill-color: #FFFFFF;\n",
              "      --disabled-bg-color: #3B4455;\n",
              "      --disabled-fill-color: #666;\n",
              "  }\n",
              "\n",
              "  .colab-df-quickchart {\n",
              "    background-color: var(--bg-color);\n",
              "    border: none;\n",
              "    border-radius: 50%;\n",
              "    cursor: pointer;\n",
              "    display: none;\n",
              "    fill: var(--fill-color);\n",
              "    height: 32px;\n",
              "    padding: 0;\n",
              "    width: 32px;\n",
              "  }\n",
              "\n",
              "  .colab-df-quickchart:hover {\n",
              "    background-color: var(--hover-bg-color);\n",
              "    box-shadow: 0 1px 2px rgba(60, 64, 67, 0.3), 0 1px 3px 1px rgba(60, 64, 67, 0.15);\n",
              "    fill: var(--button-hover-fill-color);\n",
              "  }\n",
              "\n",
              "  .colab-df-quickchart-complete:disabled,\n",
              "  .colab-df-quickchart-complete:disabled:hover {\n",
              "    background-color: var(--disabled-bg-color);\n",
              "    fill: var(--disabled-fill-color);\n",
              "    box-shadow: none;\n",
              "  }\n",
              "\n",
              "  .colab-df-spinner {\n",
              "    border: 2px solid var(--fill-color);\n",
              "    border-color: transparent;\n",
              "    border-bottom-color: var(--fill-color);\n",
              "    animation:\n",
              "      spin 1s steps(1) infinite;\n",
              "  }\n",
              "\n",
              "  @keyframes spin {\n",
              "    0% {\n",
              "      border-color: transparent;\n",
              "      border-bottom-color: var(--fill-color);\n",
              "      border-left-color: var(--fill-color);\n",
              "    }\n",
              "    20% {\n",
              "      border-color: transparent;\n",
              "      border-left-color: var(--fill-color);\n",
              "      border-top-color: var(--fill-color);\n",
              "    }\n",
              "    30% {\n",
              "      border-color: transparent;\n",
              "      border-left-color: var(--fill-color);\n",
              "      border-top-color: var(--fill-color);\n",
              "      border-right-color: var(--fill-color);\n",
              "    }\n",
              "    40% {\n",
              "      border-color: transparent;\n",
              "      border-right-color: var(--fill-color);\n",
              "      border-top-color: var(--fill-color);\n",
              "    }\n",
              "    60% {\n",
              "      border-color: transparent;\n",
              "      border-right-color: var(--fill-color);\n",
              "    }\n",
              "    80% {\n",
              "      border-color: transparent;\n",
              "      border-right-color: var(--fill-color);\n",
              "      border-bottom-color: var(--fill-color);\n",
              "    }\n",
              "    90% {\n",
              "      border-color: transparent;\n",
              "      border-bottom-color: var(--fill-color);\n",
              "    }\n",
              "  }\n",
              "</style>\n",
              "\n",
              "  <script>\n",
              "    async function quickchart(key) {\n",
              "      const quickchartButtonEl =\n",
              "        document.querySelector('#' + key + ' button');\n",
              "      quickchartButtonEl.disabled = true;  // To prevent multiple clicks.\n",
              "      quickchartButtonEl.classList.add('colab-df-spinner');\n",
              "      try {\n",
              "        const charts = await google.colab.kernel.invokeFunction(\n",
              "            'suggestCharts', [key], {});\n",
              "      } catch (error) {\n",
              "        console.error('Error during call to suggestCharts:', error);\n",
              "      }\n",
              "      quickchartButtonEl.classList.remove('colab-df-spinner');\n",
              "      quickchartButtonEl.classList.add('colab-df-quickchart-complete');\n",
              "    }\n",
              "    (() => {\n",
              "      let quickchartButtonEl =\n",
              "        document.querySelector('#df-8ec99d25-f901-4391-85d3-81dd7fc0ec04 button');\n",
              "      quickchartButtonEl.style.display =\n",
              "        google.colab.kernel.accessAllowed ? 'block' : 'none';\n",
              "    })();\n",
              "  </script>\n",
              "</div>\n",
              "    </div>\n",
              "  </div>\n"
            ],
            "application/vnd.google.colaboratory.intrinsic+json": {
              "type": "dataframe",
              "variable_name": "water_df",
              "summary": "{\n  \"name\": \"water_df\",\n  \"rows\": 1320,\n  \"fields\": [\n    {\n      \"column\": \"Site_Id\",\n      \"properties\": {\n        \"dtype\": \"category\",\n        \"num_unique_values\": 5,\n        \"samples\": [\n          \"A\",\n          \"D\",\n          \"B\"\n        ],\n        \"semantic_type\": \"\",\n        \"description\": \"\"\n      }\n    },\n    {\n      \"column\": \"Salinity (ppt)\",\n      \"properties\": {\n        \"dtype\": \"number\",\n        \"std\": 1.3736795960260983,\n        \"min\": 0.0,\n        \"max\": 9.0,\n        \"num_unique_values\": 60,\n        \"samples\": [\n          1.3,\n          2.0,\n          5.0\n        ],\n        \"semantic_type\": \"\",\n        \"description\": \"\"\n      }\n    },\n    {\n      \"column\": \"Dissolved Oxygen (mg/L)\",\n      \"properties\": {\n        \"dtype\": \"number\",\n        \"std\": 2.520411171907273,\n        \"min\": 0.0,\n        \"max\": 15.1,\n        \"num_unique_values\": 150,\n        \"samples\": [\n          4.65,\n          11.0,\n          4.2\n        ],\n        \"semantic_type\": \"\",\n        \"description\": \"\"\n      }\n    },\n    {\n      \"column\": \"pH (standard units)\",\n      \"properties\": {\n        \"dtype\": \"number\",\n        \"std\": 0.8076544894257206,\n        \"min\": 0.3,\n        \"max\": 9.9,\n        \"num_unique_values\": 47,\n        \"samples\": [\n          8.7,\n          0.3,\n          8.2\n        ],\n        \"semantic_type\": \"\",\n        \"description\": \"\"\n      }\n    },\n    {\n      \"column\": \"Secchi Depth (m)\",\n      \"properties\": {\n        \"dtype\": \"number\",\n        \"std\": 0.47797725006176567,\n        \"min\": 0.0,\n        \"max\": 7.4,\n        \"num_unique_values\": 69,\n        \"samples\": [\n          0.75,\n          0.4,\n          1.0\n        ],\n        \"semantic_type\": \"\",\n        \"description\": \"\"\n      }\n    },\n    {\n      \"column\": \"Water Depth (m)\",\n      \"properties\": {\n        \"dtype\": \"number\",\n        \"std\": 0.5763359626369285,\n        \"min\": 0.01,\n        \"max\": 7.5,\n        \"num_unique_values\": 98,\n        \"samples\": [\n          0.67,\n          0.375,\n          1.8\n        ],\n        \"semantic_type\": \"\",\n        \"description\": \"\"\n      }\n    },\n    {\n      \"column\": \"Water Temp (?C)\",\n      \"properties\": {\n        \"dtype\": \"number\",\n        \"std\": 8.302713771538665,\n        \"min\": 0.0,\n        \"max\": 74.0,\n        \"num_unique_values\": 106,\n        \"samples\": [\n          54.0,\n          19.3,\n          9.7\n        ],\n        \"semantic_type\": \"\",\n        \"description\": \"\"\n      }\n    },\n    {\n      \"column\": \"AirTemp (C)\",\n      \"properties\": {\n        \"dtype\": \"number\",\n        \"std\": 10.376484796768024,\n        \"min\": -17.77777778,\n        \"max\": 33.5,\n        \"num_unique_values\": 207,\n        \"samples\": [\n          27.22222222,\n          25.7,\n          22.5\n        ],\n        \"semantic_type\": \"\",\n        \"description\": \"\"\n      }\n    }\n  ]\n}"
            }
          },
          "metadata": {},
          "execution_count": 51
        }
      ]
    },
    {
      "cell_type": "code",
      "source": [
        "# @title\n",
        "X_water = water_df[[i for i in water_df.columns if i != 'Site_Id']]"
      ],
      "metadata": {
        "id": "VnxY5S2EUy0f",
        "cellView": "form"
      },
      "execution_count": null,
      "outputs": []
    },
    {
      "cell_type": "code",
      "source": [
        "# @title\n",
        "y_water = water_df['Site_Id'].tolist()"
      ],
      "metadata": {
        "id": "bV1H1tDmVAbR",
        "cellView": "form"
      },
      "execution_count": null,
      "outputs": []
    },
    {
      "cell_type": "markdown",
      "source": [
        "Разделим выборку на тренировочную и тестовую, т.к. мы решаем задачу классификации, качество которой нам позднее нужно будет оценить. Закодируем зависимую переменную, которая сейчас выражена словами и буквами."
      ],
      "metadata": {
        "id": "L24sKZjtqhq2"
      }
    },
    {
      "cell_type": "code",
      "source": [
        "# @title\n",
        "from sklearn.model_selection import train_test_split, GridSearchCV"
      ],
      "metadata": {
        "id": "YGsVWTe4VBkj",
        "cellView": "form"
      },
      "execution_count": null,
      "outputs": []
    },
    {
      "cell_type": "code",
      "source": [
        "# @title\n",
        "X_water_train, X_water_test, y_water_train, y_water_test = train_test_split(X_water, y_water, test_size=0.2, stratify=y_water)"
      ],
      "metadata": {
        "id": "GLc-HKnYVdVz",
        "cellView": "form"
      },
      "execution_count": null,
      "outputs": []
    },
    {
      "cell_type": "code",
      "source": [
        "# @title\n",
        "le = LabelEncoder()"
      ],
      "metadata": {
        "id": "IPNEARKOVNMc",
        "cellView": "form"
      },
      "execution_count": null,
      "outputs": []
    },
    {
      "cell_type": "code",
      "source": [
        "# @title\n",
        "le.fit(y_water_train)"
      ],
      "metadata": {
        "colab": {
          "base_uri": "https://localhost:8080/",
          "height": 86
        },
        "id": "knqG2-NHVcB-",
        "outputId": "8d154597-2cf3-4aec-ac52-3c135e1c97da",
        "cellView": "form",
        "collapsed": true
      },
      "execution_count": null,
      "outputs": [
        {
          "output_type": "execute_result",
          "data": {
            "text/plain": [
              "LabelEncoder()"
            ],
            "text/html": [
              "<style>#sk-container-id-2 {color: black;background-color: white;}#sk-container-id-2 pre{padding: 0;}#sk-container-id-2 div.sk-toggleable {background-color: white;}#sk-container-id-2 label.sk-toggleable__label {cursor: pointer;display: block;width: 100%;margin-bottom: 0;padding: 0.3em;box-sizing: border-box;text-align: center;}#sk-container-id-2 label.sk-toggleable__label-arrow:before {content: \"▸\";float: left;margin-right: 0.25em;color: #696969;}#sk-container-id-2 label.sk-toggleable__label-arrow:hover:before {color: black;}#sk-container-id-2 div.sk-estimator:hover label.sk-toggleable__label-arrow:before {color: black;}#sk-container-id-2 div.sk-toggleable__content {max-height: 0;max-width: 0;overflow: hidden;text-align: left;background-color: #f0f8ff;}#sk-container-id-2 div.sk-toggleable__content pre {margin: 0.2em;color: black;border-radius: 0.25em;background-color: #f0f8ff;}#sk-container-id-2 input.sk-toggleable__control:checked~div.sk-toggleable__content {max-height: 200px;max-width: 100%;overflow: auto;}#sk-container-id-2 input.sk-toggleable__control:checked~label.sk-toggleable__label-arrow:before {content: \"▾\";}#sk-container-id-2 div.sk-estimator input.sk-toggleable__control:checked~label.sk-toggleable__label {background-color: #d4ebff;}#sk-container-id-2 div.sk-label input.sk-toggleable__control:checked~label.sk-toggleable__label {background-color: #d4ebff;}#sk-container-id-2 input.sk-hidden--visually {border: 0;clip: rect(1px 1px 1px 1px);clip: rect(1px, 1px, 1px, 1px);height: 1px;margin: -1px;overflow: hidden;padding: 0;position: absolute;width: 1px;}#sk-container-id-2 div.sk-estimator {font-family: monospace;background-color: #f0f8ff;border: 1px dotted black;border-radius: 0.25em;box-sizing: border-box;margin-bottom: 0.5em;}#sk-container-id-2 div.sk-estimator:hover {background-color: #d4ebff;}#sk-container-id-2 div.sk-parallel-item::after {content: \"\";width: 100%;border-bottom: 1px solid gray;flex-grow: 1;}#sk-container-id-2 div.sk-label:hover label.sk-toggleable__label {background-color: #d4ebff;}#sk-container-id-2 div.sk-serial::before {content: \"\";position: absolute;border-left: 1px solid gray;box-sizing: border-box;top: 0;bottom: 0;left: 50%;z-index: 0;}#sk-container-id-2 div.sk-serial {display: flex;flex-direction: column;align-items: center;background-color: white;padding-right: 0.2em;padding-left: 0.2em;position: relative;}#sk-container-id-2 div.sk-item {position: relative;z-index: 1;}#sk-container-id-2 div.sk-parallel {display: flex;align-items: stretch;justify-content: center;background-color: white;position: relative;}#sk-container-id-2 div.sk-item::before, #sk-container-id-2 div.sk-parallel-item::before {content: \"\";position: absolute;border-left: 1px solid gray;box-sizing: border-box;top: 0;bottom: 0;left: 50%;z-index: -1;}#sk-container-id-2 div.sk-parallel-item {display: flex;flex-direction: column;z-index: 1;position: relative;background-color: white;}#sk-container-id-2 div.sk-parallel-item:first-child::after {align-self: flex-end;width: 50%;}#sk-container-id-2 div.sk-parallel-item:last-child::after {align-self: flex-start;width: 50%;}#sk-container-id-2 div.sk-parallel-item:only-child::after {width: 0;}#sk-container-id-2 div.sk-dashed-wrapped {border: 1px dashed gray;margin: 0 0.4em 0.5em 0.4em;box-sizing: border-box;padding-bottom: 0.4em;background-color: white;}#sk-container-id-2 div.sk-label label {font-family: monospace;font-weight: bold;display: inline-block;line-height: 1.2em;}#sk-container-id-2 div.sk-label-container {text-align: center;}#sk-container-id-2 div.sk-container {/* jupyter's `normalize.less` sets `[hidden] { display: none; }` but bootstrap.min.css set `[hidden] { display: none !important; }` so we also need the `!important` here to be able to override the default hidden behavior on the sphinx rendered scikit-learn.org. See: https://github.com/scikit-learn/scikit-learn/issues/21755 */display: inline-block !important;position: relative;}#sk-container-id-2 div.sk-text-repr-fallback {display: none;}</style><div id=\"sk-container-id-2\" class=\"sk-top-container\"><div class=\"sk-text-repr-fallback\"><pre>LabelEncoder()</pre><b>In a Jupyter environment, please rerun this cell to show the HTML representation or trust the notebook. <br />On GitHub, the HTML representation is unable to render, please try loading this page with nbviewer.org.</b></div><div class=\"sk-container\" hidden><div class=\"sk-item\"><div class=\"sk-estimator sk-toggleable\"><input class=\"sk-toggleable__control sk-hidden--visually\" id=\"sk-estimator-id-2\" type=\"checkbox\" checked><label for=\"sk-estimator-id-2\" class=\"sk-toggleable__label sk-toggleable__label-arrow\">LabelEncoder</label><div class=\"sk-toggleable__content\"><pre>LabelEncoder()</pre></div></div></div></div></div>"
            ]
          },
          "metadata": {},
          "execution_count": 55
        }
      ]
    },
    {
      "cell_type": "code",
      "source": [
        "# @title\n",
        "y_water_train_enc = le.transform(y_water_train)\n",
        "y_water_test_enc = le.transform(y_water_test)"
      ],
      "metadata": {
        "id": "M9IA22CHV03x",
        "cellView": "form"
      },
      "execution_count": null,
      "outputs": []
    },
    {
      "cell_type": "markdown",
      "source": [
        "### 2. Ансамблирование"
      ],
      "metadata": {
        "id": "honTeDBvqrq1"
      }
    },
    {
      "cell_type": "code",
      "source": [
        "# @title\n",
        "from sklearn.ensemble import RandomForestClassifier"
      ],
      "metadata": {
        "id": "7tEmUSBbV8Nk",
        "cellView": "form"
      },
      "execution_count": null,
      "outputs": []
    },
    {
      "cell_type": "code",
      "source": [
        "# @title\n",
        "from sklearn.metrics import classification_report"
      ],
      "metadata": {
        "id": "c_NaoT6uW10Z",
        "cellView": "form"
      },
      "execution_count": null,
      "outputs": []
    },
    {
      "cell_type": "code",
      "source": [
        "# @title\n",
        "from sklearn.ensemble import GradientBoostingRegressor"
      ],
      "metadata": {
        "id": "Vl4DfzswXFbF",
        "cellView": "form"
      },
      "execution_count": null,
      "outputs": []
    },
    {
      "cell_type": "code",
      "source": [
        "# @title\n",
        "water_clf = RandomForestClassifier()"
      ],
      "metadata": {
        "id": "TlsayV6lF3be",
        "cellView": "form"
      },
      "execution_count": null,
      "outputs": []
    },
    {
      "cell_type": "code",
      "source": [
        "# @title\n",
        "water_clf.fit(X_water_train, y_water_train_enc)"
      ],
      "metadata": {
        "colab": {
          "base_uri": "https://localhost:8080/",
          "height": 86
        },
        "id": "Wqfgx0ClH2mh",
        "outputId": "8db7660b-6c5e-4f9c-daf1-54e8389731d2",
        "cellView": "form",
        "collapsed": true
      },
      "execution_count": null,
      "outputs": [
        {
          "output_type": "execute_result",
          "data": {
            "text/plain": [
              "RandomForestClassifier()"
            ],
            "text/html": [
              "<style>#sk-container-id-3 {color: black;background-color: white;}#sk-container-id-3 pre{padding: 0;}#sk-container-id-3 div.sk-toggleable {background-color: white;}#sk-container-id-3 label.sk-toggleable__label {cursor: pointer;display: block;width: 100%;margin-bottom: 0;padding: 0.3em;box-sizing: border-box;text-align: center;}#sk-container-id-3 label.sk-toggleable__label-arrow:before {content: \"▸\";float: left;margin-right: 0.25em;color: #696969;}#sk-container-id-3 label.sk-toggleable__label-arrow:hover:before {color: black;}#sk-container-id-3 div.sk-estimator:hover label.sk-toggleable__label-arrow:before {color: black;}#sk-container-id-3 div.sk-toggleable__content {max-height: 0;max-width: 0;overflow: hidden;text-align: left;background-color: #f0f8ff;}#sk-container-id-3 div.sk-toggleable__content pre {margin: 0.2em;color: black;border-radius: 0.25em;background-color: #f0f8ff;}#sk-container-id-3 input.sk-toggleable__control:checked~div.sk-toggleable__content {max-height: 200px;max-width: 100%;overflow: auto;}#sk-container-id-3 input.sk-toggleable__control:checked~label.sk-toggleable__label-arrow:before {content: \"▾\";}#sk-container-id-3 div.sk-estimator input.sk-toggleable__control:checked~label.sk-toggleable__label {background-color: #d4ebff;}#sk-container-id-3 div.sk-label input.sk-toggleable__control:checked~label.sk-toggleable__label {background-color: #d4ebff;}#sk-container-id-3 input.sk-hidden--visually {border: 0;clip: rect(1px 1px 1px 1px);clip: rect(1px, 1px, 1px, 1px);height: 1px;margin: -1px;overflow: hidden;padding: 0;position: absolute;width: 1px;}#sk-container-id-3 div.sk-estimator {font-family: monospace;background-color: #f0f8ff;border: 1px dotted black;border-radius: 0.25em;box-sizing: border-box;margin-bottom: 0.5em;}#sk-container-id-3 div.sk-estimator:hover {background-color: #d4ebff;}#sk-container-id-3 div.sk-parallel-item::after {content: \"\";width: 100%;border-bottom: 1px solid gray;flex-grow: 1;}#sk-container-id-3 div.sk-label:hover label.sk-toggleable__label {background-color: #d4ebff;}#sk-container-id-3 div.sk-serial::before {content: \"\";position: absolute;border-left: 1px solid gray;box-sizing: border-box;top: 0;bottom: 0;left: 50%;z-index: 0;}#sk-container-id-3 div.sk-serial {display: flex;flex-direction: column;align-items: center;background-color: white;padding-right: 0.2em;padding-left: 0.2em;position: relative;}#sk-container-id-3 div.sk-item {position: relative;z-index: 1;}#sk-container-id-3 div.sk-parallel {display: flex;align-items: stretch;justify-content: center;background-color: white;position: relative;}#sk-container-id-3 div.sk-item::before, #sk-container-id-3 div.sk-parallel-item::before {content: \"\";position: absolute;border-left: 1px solid gray;box-sizing: border-box;top: 0;bottom: 0;left: 50%;z-index: -1;}#sk-container-id-3 div.sk-parallel-item {display: flex;flex-direction: column;z-index: 1;position: relative;background-color: white;}#sk-container-id-3 div.sk-parallel-item:first-child::after {align-self: flex-end;width: 50%;}#sk-container-id-3 div.sk-parallel-item:last-child::after {align-self: flex-start;width: 50%;}#sk-container-id-3 div.sk-parallel-item:only-child::after {width: 0;}#sk-container-id-3 div.sk-dashed-wrapped {border: 1px dashed gray;margin: 0 0.4em 0.5em 0.4em;box-sizing: border-box;padding-bottom: 0.4em;background-color: white;}#sk-container-id-3 div.sk-label label {font-family: monospace;font-weight: bold;display: inline-block;line-height: 1.2em;}#sk-container-id-3 div.sk-label-container {text-align: center;}#sk-container-id-3 div.sk-container {/* jupyter's `normalize.less` sets `[hidden] { display: none; }` but bootstrap.min.css set `[hidden] { display: none !important; }` so we also need the `!important` here to be able to override the default hidden behavior on the sphinx rendered scikit-learn.org. See: https://github.com/scikit-learn/scikit-learn/issues/21755 */display: inline-block !important;position: relative;}#sk-container-id-3 div.sk-text-repr-fallback {display: none;}</style><div id=\"sk-container-id-3\" class=\"sk-top-container\"><div class=\"sk-text-repr-fallback\"><pre>RandomForestClassifier()</pre><b>In a Jupyter environment, please rerun this cell to show the HTML representation or trust the notebook. <br />On GitHub, the HTML representation is unable to render, please try loading this page with nbviewer.org.</b></div><div class=\"sk-container\" hidden><div class=\"sk-item\"><div class=\"sk-estimator sk-toggleable\"><input class=\"sk-toggleable__control sk-hidden--visually\" id=\"sk-estimator-id-3\" type=\"checkbox\" checked><label for=\"sk-estimator-id-3\" class=\"sk-toggleable__label sk-toggleable__label-arrow\">RandomForestClassifier</label><div class=\"sk-toggleable__content\"><pre>RandomForestClassifier()</pre></div></div></div></div></div>"
            ]
          },
          "metadata": {},
          "execution_count": 65
        }
      ]
    },
    {
      "cell_type": "code",
      "source": [
        "# @title\n",
        "water_clf_preds = water_clf.predict(X_water_test)"
      ],
      "metadata": {
        "id": "DSMmLToiIBVh",
        "cellView": "form"
      },
      "execution_count": null,
      "outputs": []
    },
    {
      "cell_type": "code",
      "source": [
        "# @title\n",
        "print(classification_report(y_water_test_enc, water_clf_preds, target_names=le.classes_))"
      ],
      "metadata": {
        "colab": {
          "base_uri": "https://localhost:8080/"
        },
        "id": "YRM0XK5RIlSZ",
        "outputId": "f2ef4f97-0cf1-410f-f820-4e24c3ec6665",
        "cellView": "form",
        "collapsed": true
      },
      "execution_count": null,
      "outputs": [
        {
          "output_type": "stream",
          "name": "stdout",
          "text": [
            "              precision    recall  f1-score   support\n",
            "\n",
            "           A       0.42      0.31      0.36        32\n",
            "           B       0.62      0.62      0.62        34\n",
            "         Bay       0.76      0.88      0.82       136\n",
            "           C       0.64      0.33      0.44        21\n",
            "           D       0.92      0.88      0.90        41\n",
            "\n",
            "    accuracy                           0.73       264\n",
            "   macro avg       0.67      0.60      0.63       264\n",
            "weighted avg       0.72      0.73      0.72       264\n",
            "\n"
          ]
        }
      ]
    },
    {
      "cell_type": "code",
      "source": [
        "# @title\n",
        "from sklearn.ensemble import GradientBoostingClassifier"
      ],
      "metadata": {
        "id": "80oU0jM9MDyx",
        "cellView": "form"
      },
      "execution_count": null,
      "outputs": []
    },
    {
      "cell_type": "code",
      "source": [
        "# @title\n",
        "gbr = GradientBoostingClassifier(random_state=0)"
      ],
      "metadata": {
        "id": "7cj6nAKWMRPt",
        "cellView": "form"
      },
      "execution_count": null,
      "outputs": []
    },
    {
      "cell_type": "code",
      "source": [
        "# @title\n",
        "gbr.fit(X_water_train, y_water_train_enc)"
      ],
      "metadata": {
        "colab": {
          "base_uri": "https://localhost:8080/",
          "height": 86
        },
        "id": "ZZFNJSHrMU66",
        "outputId": "304f014c-3cde-4513-b5a9-e4df75fc198c",
        "cellView": "form",
        "collapsed": true
      },
      "execution_count": null,
      "outputs": [
        {
          "output_type": "execute_result",
          "data": {
            "text/plain": [
              "GradientBoostingClassifier(random_state=0)"
            ],
            "text/html": [
              "<style>#sk-container-id-7 {color: black;background-color: white;}#sk-container-id-7 pre{padding: 0;}#sk-container-id-7 div.sk-toggleable {background-color: white;}#sk-container-id-7 label.sk-toggleable__label {cursor: pointer;display: block;width: 100%;margin-bottom: 0;padding: 0.3em;box-sizing: border-box;text-align: center;}#sk-container-id-7 label.sk-toggleable__label-arrow:before {content: \"▸\";float: left;margin-right: 0.25em;color: #696969;}#sk-container-id-7 label.sk-toggleable__label-arrow:hover:before {color: black;}#sk-container-id-7 div.sk-estimator:hover label.sk-toggleable__label-arrow:before {color: black;}#sk-container-id-7 div.sk-toggleable__content {max-height: 0;max-width: 0;overflow: hidden;text-align: left;background-color: #f0f8ff;}#sk-container-id-7 div.sk-toggleable__content pre {margin: 0.2em;color: black;border-radius: 0.25em;background-color: #f0f8ff;}#sk-container-id-7 input.sk-toggleable__control:checked~div.sk-toggleable__content {max-height: 200px;max-width: 100%;overflow: auto;}#sk-container-id-7 input.sk-toggleable__control:checked~label.sk-toggleable__label-arrow:before {content: \"▾\";}#sk-container-id-7 div.sk-estimator input.sk-toggleable__control:checked~label.sk-toggleable__label {background-color: #d4ebff;}#sk-container-id-7 div.sk-label input.sk-toggleable__control:checked~label.sk-toggleable__label {background-color: #d4ebff;}#sk-container-id-7 input.sk-hidden--visually {border: 0;clip: rect(1px 1px 1px 1px);clip: rect(1px, 1px, 1px, 1px);height: 1px;margin: -1px;overflow: hidden;padding: 0;position: absolute;width: 1px;}#sk-container-id-7 div.sk-estimator {font-family: monospace;background-color: #f0f8ff;border: 1px dotted black;border-radius: 0.25em;box-sizing: border-box;margin-bottom: 0.5em;}#sk-container-id-7 div.sk-estimator:hover {background-color: #d4ebff;}#sk-container-id-7 div.sk-parallel-item::after {content: \"\";width: 100%;border-bottom: 1px solid gray;flex-grow: 1;}#sk-container-id-7 div.sk-label:hover label.sk-toggleable__label {background-color: #d4ebff;}#sk-container-id-7 div.sk-serial::before {content: \"\";position: absolute;border-left: 1px solid gray;box-sizing: border-box;top: 0;bottom: 0;left: 50%;z-index: 0;}#sk-container-id-7 div.sk-serial {display: flex;flex-direction: column;align-items: center;background-color: white;padding-right: 0.2em;padding-left: 0.2em;position: relative;}#sk-container-id-7 div.sk-item {position: relative;z-index: 1;}#sk-container-id-7 div.sk-parallel {display: flex;align-items: stretch;justify-content: center;background-color: white;position: relative;}#sk-container-id-7 div.sk-item::before, #sk-container-id-7 div.sk-parallel-item::before {content: \"\";position: absolute;border-left: 1px solid gray;box-sizing: border-box;top: 0;bottom: 0;left: 50%;z-index: -1;}#sk-container-id-7 div.sk-parallel-item {display: flex;flex-direction: column;z-index: 1;position: relative;background-color: white;}#sk-container-id-7 div.sk-parallel-item:first-child::after {align-self: flex-end;width: 50%;}#sk-container-id-7 div.sk-parallel-item:last-child::after {align-self: flex-start;width: 50%;}#sk-container-id-7 div.sk-parallel-item:only-child::after {width: 0;}#sk-container-id-7 div.sk-dashed-wrapped {border: 1px dashed gray;margin: 0 0.4em 0.5em 0.4em;box-sizing: border-box;padding-bottom: 0.4em;background-color: white;}#sk-container-id-7 div.sk-label label {font-family: monospace;font-weight: bold;display: inline-block;line-height: 1.2em;}#sk-container-id-7 div.sk-label-container {text-align: center;}#sk-container-id-7 div.sk-container {/* jupyter's `normalize.less` sets `[hidden] { display: none; }` but bootstrap.min.css set `[hidden] { display: none !important; }` so we also need the `!important` here to be able to override the default hidden behavior on the sphinx rendered scikit-learn.org. See: https://github.com/scikit-learn/scikit-learn/issues/21755 */display: inline-block !important;position: relative;}#sk-container-id-7 div.sk-text-repr-fallback {display: none;}</style><div id=\"sk-container-id-7\" class=\"sk-top-container\"><div class=\"sk-text-repr-fallback\"><pre>GradientBoostingClassifier(random_state=0)</pre><b>In a Jupyter environment, please rerun this cell to show the HTML representation or trust the notebook. <br />On GitHub, the HTML representation is unable to render, please try loading this page with nbviewer.org.</b></div><div class=\"sk-container\" hidden><div class=\"sk-item\"><div class=\"sk-estimator sk-toggleable\"><input class=\"sk-toggleable__control sk-hidden--visually\" id=\"sk-estimator-id-9\" type=\"checkbox\" checked><label for=\"sk-estimator-id-9\" class=\"sk-toggleable__label sk-toggleable__label-arrow\">GradientBoostingClassifier</label><div class=\"sk-toggleable__content\"><pre>GradientBoostingClassifier(random_state=0)</pre></div></div></div></div></div>"
            ]
          },
          "metadata": {},
          "execution_count": 86
        }
      ]
    },
    {
      "cell_type": "code",
      "source": [
        "# @title\n",
        "gbr_preds = gbr.predict(X_water_test)"
      ],
      "metadata": {
        "id": "d4cx_5ufMbIh",
        "cellView": "form"
      },
      "execution_count": null,
      "outputs": []
    },
    {
      "cell_type": "code",
      "source": [
        "# @title\n",
        "print(classification_report(y_water_test_enc, gbr_preds, target_names=le.classes_))"
      ],
      "metadata": {
        "colab": {
          "base_uri": "https://localhost:8080/"
        },
        "id": "ph8Z6O-iMnrK",
        "outputId": "35ee327a-a5cb-41b3-9ea3-d16f76271661",
        "cellView": "form",
        "collapsed": true
      },
      "execution_count": null,
      "outputs": [
        {
          "output_type": "stream",
          "name": "stdout",
          "text": [
            "              precision    recall  f1-score   support\n",
            "\n",
            "           A       0.43      0.28      0.34        32\n",
            "           B       0.61      0.59      0.60        34\n",
            "         Bay       0.78      0.88      0.82       136\n",
            "           C       0.53      0.43      0.47        21\n",
            "           D       0.90      0.88      0.89        41\n",
            "\n",
            "    accuracy                           0.73       264\n",
            "   macro avg       0.65      0.61      0.62       264\n",
            "weighted avg       0.71      0.73      0.72       264\n",
            "\n"
          ]
        }
      ]
    },
    {
      "cell_type": "markdown",
      "source": [
        "### Дополнительно: подбор гиперпараметров"
      ],
      "metadata": {
        "id": "XDknlE6qqxWH"
      }
    },
    {
      "cell_type": "code",
      "source": [
        "# @title\n",
        "forest_params = {'max_depth': [2, 5, 10, None], 'max_features': [0.3, 'sqrt', 1.0], 'n_estimators': [10, 100, 500]}"
      ],
      "metadata": {
        "id": "fGdL8CEuJkUH",
        "cellView": "form"
      },
      "execution_count": null,
      "outputs": []
    },
    {
      "cell_type": "code",
      "source": [
        "# @title\n",
        "gs = GridSearchCV(RandomForestClassifier(), forest_params, scoring='f1_weighted', verbose=1)"
      ],
      "metadata": {
        "id": "kIChSTUhJxE4",
        "cellView": "form"
      },
      "execution_count": null,
      "outputs": []
    },
    {
      "cell_type": "code",
      "source": [
        "# @title\n",
        "gs.fit(X_water_train, y_water_train_enc)"
      ],
      "metadata": {
        "colab": {
          "base_uri": "https://localhost:8080/",
          "height": 158
        },
        "id": "0iaIP5T1KC2K",
        "outputId": "beb8a2ee-b1e1-426f-fc6e-eb4234117765",
        "cellView": "form",
        "collapsed": true
      },
      "execution_count": null,
      "outputs": [
        {
          "output_type": "stream",
          "name": "stdout",
          "text": [
            "Fitting 5 folds for each of 36 candidates, totalling 180 fits\n"
          ]
        },
        {
          "output_type": "execute_result",
          "data": {
            "text/plain": [
              "GridSearchCV(estimator=RandomForestClassifier(),\n",
              "             param_grid={'max_depth': [2, 5, 10, None],\n",
              "                         'max_features': [0.3, 'sqrt', 1.0],\n",
              "                         'n_estimators': [10, 100, 500]},\n",
              "             scoring='f1_weighted', verbose=1)"
            ],
            "text/html": [
              "<style>#sk-container-id-4 {color: black;background-color: white;}#sk-container-id-4 pre{padding: 0;}#sk-container-id-4 div.sk-toggleable {background-color: white;}#sk-container-id-4 label.sk-toggleable__label {cursor: pointer;display: block;width: 100%;margin-bottom: 0;padding: 0.3em;box-sizing: border-box;text-align: center;}#sk-container-id-4 label.sk-toggleable__label-arrow:before {content: \"▸\";float: left;margin-right: 0.25em;color: #696969;}#sk-container-id-4 label.sk-toggleable__label-arrow:hover:before {color: black;}#sk-container-id-4 div.sk-estimator:hover label.sk-toggleable__label-arrow:before {color: black;}#sk-container-id-4 div.sk-toggleable__content {max-height: 0;max-width: 0;overflow: hidden;text-align: left;background-color: #f0f8ff;}#sk-container-id-4 div.sk-toggleable__content pre {margin: 0.2em;color: black;border-radius: 0.25em;background-color: #f0f8ff;}#sk-container-id-4 input.sk-toggleable__control:checked~div.sk-toggleable__content {max-height: 200px;max-width: 100%;overflow: auto;}#sk-container-id-4 input.sk-toggleable__control:checked~label.sk-toggleable__label-arrow:before {content: \"▾\";}#sk-container-id-4 div.sk-estimator input.sk-toggleable__control:checked~label.sk-toggleable__label {background-color: #d4ebff;}#sk-container-id-4 div.sk-label input.sk-toggleable__control:checked~label.sk-toggleable__label {background-color: #d4ebff;}#sk-container-id-4 input.sk-hidden--visually {border: 0;clip: rect(1px 1px 1px 1px);clip: rect(1px, 1px, 1px, 1px);height: 1px;margin: -1px;overflow: hidden;padding: 0;position: absolute;width: 1px;}#sk-container-id-4 div.sk-estimator {font-family: monospace;background-color: #f0f8ff;border: 1px dotted black;border-radius: 0.25em;box-sizing: border-box;margin-bottom: 0.5em;}#sk-container-id-4 div.sk-estimator:hover {background-color: #d4ebff;}#sk-container-id-4 div.sk-parallel-item::after {content: \"\";width: 100%;border-bottom: 1px solid gray;flex-grow: 1;}#sk-container-id-4 div.sk-label:hover label.sk-toggleable__label {background-color: #d4ebff;}#sk-container-id-4 div.sk-serial::before {content: \"\";position: absolute;border-left: 1px solid gray;box-sizing: border-box;top: 0;bottom: 0;left: 50%;z-index: 0;}#sk-container-id-4 div.sk-serial {display: flex;flex-direction: column;align-items: center;background-color: white;padding-right: 0.2em;padding-left: 0.2em;position: relative;}#sk-container-id-4 div.sk-item {position: relative;z-index: 1;}#sk-container-id-4 div.sk-parallel {display: flex;align-items: stretch;justify-content: center;background-color: white;position: relative;}#sk-container-id-4 div.sk-item::before, #sk-container-id-4 div.sk-parallel-item::before {content: \"\";position: absolute;border-left: 1px solid gray;box-sizing: border-box;top: 0;bottom: 0;left: 50%;z-index: -1;}#sk-container-id-4 div.sk-parallel-item {display: flex;flex-direction: column;z-index: 1;position: relative;background-color: white;}#sk-container-id-4 div.sk-parallel-item:first-child::after {align-self: flex-end;width: 50%;}#sk-container-id-4 div.sk-parallel-item:last-child::after {align-self: flex-start;width: 50%;}#sk-container-id-4 div.sk-parallel-item:only-child::after {width: 0;}#sk-container-id-4 div.sk-dashed-wrapped {border: 1px dashed gray;margin: 0 0.4em 0.5em 0.4em;box-sizing: border-box;padding-bottom: 0.4em;background-color: white;}#sk-container-id-4 div.sk-label label {font-family: monospace;font-weight: bold;display: inline-block;line-height: 1.2em;}#sk-container-id-4 div.sk-label-container {text-align: center;}#sk-container-id-4 div.sk-container {/* jupyter's `normalize.less` sets `[hidden] { display: none; }` but bootstrap.min.css set `[hidden] { display: none !important; }` so we also need the `!important` here to be able to override the default hidden behavior on the sphinx rendered scikit-learn.org. See: https://github.com/scikit-learn/scikit-learn/issues/21755 */display: inline-block !important;position: relative;}#sk-container-id-4 div.sk-text-repr-fallback {display: none;}</style><div id=\"sk-container-id-4\" class=\"sk-top-container\"><div class=\"sk-text-repr-fallback\"><pre>GridSearchCV(estimator=RandomForestClassifier(),\n",
              "             param_grid={&#x27;max_depth&#x27;: [2, 5, 10, None],\n",
              "                         &#x27;max_features&#x27;: [0.3, &#x27;sqrt&#x27;, 1.0],\n",
              "                         &#x27;n_estimators&#x27;: [10, 100, 500]},\n",
              "             scoring=&#x27;f1_weighted&#x27;, verbose=1)</pre><b>In a Jupyter environment, please rerun this cell to show the HTML representation or trust the notebook. <br />On GitHub, the HTML representation is unable to render, please try loading this page with nbviewer.org.</b></div><div class=\"sk-container\" hidden><div class=\"sk-item sk-dashed-wrapped\"><div class=\"sk-label-container\"><div class=\"sk-label sk-toggleable\"><input class=\"sk-toggleable__control sk-hidden--visually\" id=\"sk-estimator-id-4\" type=\"checkbox\" ><label for=\"sk-estimator-id-4\" class=\"sk-toggleable__label sk-toggleable__label-arrow\">GridSearchCV</label><div class=\"sk-toggleable__content\"><pre>GridSearchCV(estimator=RandomForestClassifier(),\n",
              "             param_grid={&#x27;max_depth&#x27;: [2, 5, 10, None],\n",
              "                         &#x27;max_features&#x27;: [0.3, &#x27;sqrt&#x27;, 1.0],\n",
              "                         &#x27;n_estimators&#x27;: [10, 100, 500]},\n",
              "             scoring=&#x27;f1_weighted&#x27;, verbose=1)</pre></div></div></div><div class=\"sk-parallel\"><div class=\"sk-parallel-item\"><div class=\"sk-item\"><div class=\"sk-label-container\"><div class=\"sk-label sk-toggleable\"><input class=\"sk-toggleable__control sk-hidden--visually\" id=\"sk-estimator-id-5\" type=\"checkbox\" ><label for=\"sk-estimator-id-5\" class=\"sk-toggleable__label sk-toggleable__label-arrow\">estimator: RandomForestClassifier</label><div class=\"sk-toggleable__content\"><pre>RandomForestClassifier()</pre></div></div></div><div class=\"sk-serial\"><div class=\"sk-item\"><div class=\"sk-estimator sk-toggleable\"><input class=\"sk-toggleable__control sk-hidden--visually\" id=\"sk-estimator-id-6\" type=\"checkbox\" ><label for=\"sk-estimator-id-6\" class=\"sk-toggleable__label sk-toggleable__label-arrow\">RandomForestClassifier</label><div class=\"sk-toggleable__content\"><pre>RandomForestClassifier()</pre></div></div></div></div></div></div></div></div></div></div>"
            ]
          },
          "metadata": {},
          "execution_count": 70
        }
      ]
    },
    {
      "cell_type": "code",
      "source": [
        "# @title\n",
        "gs.best_params_"
      ],
      "metadata": {
        "colab": {
          "base_uri": "https://localhost:8080/"
        },
        "id": "w6X6wJNnKhZI",
        "outputId": "09b1371a-e312-41bc-c017-eadd0b964276",
        "cellView": "form",
        "collapsed": true
      },
      "execution_count": null,
      "outputs": [
        {
          "output_type": "execute_result",
          "data": {
            "text/plain": [
              "{'max_depth': 10, 'max_features': 0.3, 'n_estimators': 500}"
            ]
          },
          "metadata": {},
          "execution_count": 71
        }
      ]
    },
    {
      "cell_type": "code",
      "source": [
        "# @title\n",
        "gs_preds = gs.predict(X_water_test)"
      ],
      "metadata": {
        "id": "YrAiHHHWLlF4",
        "cellView": "form"
      },
      "execution_count": null,
      "outputs": []
    },
    {
      "cell_type": "code",
      "source": [
        "# @title\n",
        "print(classification_report(y_water_test_enc, gs_preds, target_names=le.classes_))"
      ],
      "metadata": {
        "colab": {
          "base_uri": "https://localhost:8080/"
        },
        "id": "k8VCXyiNL6tB",
        "outputId": "d92f0d99-a0e9-4e4c-8200-a4c647d705ec",
        "cellView": "form",
        "collapsed": true
      },
      "execution_count": null,
      "outputs": [
        {
          "output_type": "stream",
          "name": "stdout",
          "text": [
            "              precision    recall  f1-score   support\n",
            "\n",
            "           A       0.53      0.31      0.39        32\n",
            "           B       0.61      0.59      0.60        34\n",
            "         Bay       0.76      0.90      0.83       136\n",
            "           C       0.60      0.29      0.39        21\n",
            "           D       0.93      0.90      0.91        41\n",
            "\n",
            "    accuracy                           0.74       264\n",
            "   macro avg       0.68      0.60      0.62       264\n",
            "weighted avg       0.72      0.74      0.72       264\n",
            "\n"
          ]
        }
      ]
    }
  ]
}