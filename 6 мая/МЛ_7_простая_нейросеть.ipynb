{
  "nbformat": 4,
  "nbformat_minor": 0,
  "metadata": {
    "colab": {
      "provenance": [],
      "gpuType": "T4",
      "toc_visible": true
    },
    "kernelspec": {
      "name": "python3",
      "display_name": "Python 3"
    },
    "language_info": {
      "name": "python"
    },
    "accelerator": "GPU"
  },
  "cells": [
    {
      "cell_type": "markdown",
      "source": [
        "# Простая полносвязная нейросеть для классификации имен"
      ],
      "metadata": {
        "id": "vemN0xohXLO7"
      }
    },
    {
      "cell_type": "markdown",
      "source": [
        "Источники:\n",
        "\n",
        "1) FFNN: https://medium.com/swlh/sentiment-classification-using-feed-forward-neural-network-in-pytorch-655811a0913f\n",
        "\n",
        "2) Датасет и некоторые сопутствующие функции: https://pytorch.org/tutorials/intermediate/char_rnn_classification_tutorial.html"
      ],
      "metadata": {
        "id": "9Zb6X19BICUT"
      }
    },
    {
      "cell_type": "markdown",
      "source": [
        "## Загрузка данных"
      ],
      "metadata": {
        "id": "K8nfA30sXQn9"
      }
    },
    {
      "cell_type": "code",
      "source": [
        "import os\n",
        "from collections import defaultdict"
      ],
      "metadata": {
        "id": "7GUpU2smnLZO"
      },
      "execution_count": null,
      "outputs": []
    },
    {
      "cell_type": "code",
      "source": [
        "from tqdm import tqdm"
      ],
      "metadata": {
        "id": "yhgm3ZpJ8YuI"
      },
      "execution_count": null,
      "outputs": []
    },
    {
      "cell_type": "code",
      "source": [
        "import random"
      ],
      "metadata": {
        "id": "02pKPIyFxmrT"
      },
      "execution_count": null,
      "outputs": []
    },
    {
      "cell_type": "markdown",
      "source": [
        "Ближайшие несколько занятий мы будем работать с библиотекой [pytorch](https://pytorch.org/) - одной из самых известных и часто применяющихся библиотек для глубокого обучения, на которой легко можно написать нейросеть с нуля."
      ],
      "metadata": {
        "id": "9XpQFdCUXYAc"
      }
    },
    {
      "cell_type": "code",
      "source": [
        "import torch"
      ],
      "metadata": {
        "id": "hFGH9-ey7E0J"
      },
      "execution_count": null,
      "outputs": []
    },
    {
      "cell_type": "code",
      "source": [
        "import torch.nn as nn\n",
        "import torch.nn.functional as F\n",
        "import torch.optim as optim"
      ],
      "metadata": {
        "id": "u7qa9RE67lVE"
      },
      "execution_count": null,
      "outputs": []
    },
    {
      "cell_type": "markdown",
      "source": [
        "Наши данные - это списки имен, записанных латиницей и отсортированных по происхождению."
      ],
      "metadata": {
        "id": "Zy2xMjqAXrTj"
      }
    },
    {
      "cell_type": "code",
      "source": [
        "category_lines = defaultdict(list)\n",
        "\n",
        "for filename in os.listdir('/content/drive/MyDrive/ML_training_data/names'):\n",
        "  category_name = filename[:-4]\n",
        "  with open(os.path.join('/content/drive/MyDrive/ML_training_data/names', filename), 'r') as f:\n",
        "    lines = f.read().strip().split('\\n')\n",
        "    category_lines[category_name] = lines"
      ],
      "metadata": {
        "id": "-Rfruswzoxi-"
      },
      "execution_count": null,
      "outputs": []
    },
    {
      "cell_type": "code",
      "source": [
        "category_lines.keys()"
      ],
      "metadata": {
        "colab": {
          "base_uri": "https://localhost:8080/"
        },
        "id": "v4aRcwqsptNk",
        "outputId": "9dace052-1b92-42d5-81d9-69fe69838efc"
      },
      "execution_count": null,
      "outputs": [
        {
          "output_type": "execute_result",
          "data": {
            "text/plain": [
              "dict_keys(['Chinese', 'Arabic', 'Czech', 'German', 'Korean', 'Japanese', 'Dutch', 'Polish', 'French', 'Greek', 'Portuguese', 'Scottish', 'Irish', 'Spanish', 'English', 'Italian', 'Vietnamese', 'Russian'])"
            ]
          },
          "metadata": {},
          "execution_count": 7
        }
      ]
    },
    {
      "cell_type": "code",
      "source": [
        "print(category_lines['Czech'][105:115])"
      ],
      "metadata": {
        "colab": {
          "base_uri": "https://localhost:8080/"
        },
        "id": "UvuYTbKKp3MO",
        "outputId": "c33fcfa9-da63-4695-df61-c60f876ede8e"
      },
      "execution_count": null,
      "outputs": [
        {
          "output_type": "stream",
          "name": "stdout",
          "text": [
            "['Grabski', 'Grozmanova', 'Grulich', 'Grygarova', 'Hadash', 'Hafernik', 'Hajek', 'Hajicek', 'Hajkova', 'Hana']\n"
          ]
        }
      ]
    },
    {
      "cell_type": "markdown",
      "source": [
        "Нам необходимо закодировать имена и категории. Начнем с имен.\n",
        "\n",
        "Мы применим простой способ кодирования имен, подобный принципу работы CountVectorizer: для каждого имени будем создавать вектор, равный общему количеству уникальных букв. Если буква присутствует в имени, в вектор записывается число раз, когда буква в имени встречается; если нет, по этому индексу остается 0."
      ],
      "metadata": {
        "id": "pA1VlMkZX1tB"
      }
    },
    {
      "cell_type": "code",
      "source": [
        "unique_letters = set()\n",
        "\n",
        "for k, v in category_lines.items():\n",
        "  for word in v:\n",
        "    unique_letters.update(set(word))"
      ],
      "metadata": {
        "id": "GNSq_YOoqiVG"
      },
      "execution_count": null,
      "outputs": []
    },
    {
      "cell_type": "code",
      "source": [
        "all_letters = list(unique_letters)\n",
        "n_letters = len(all_letters)"
      ],
      "metadata": {
        "id": "jvop7clVq-NX"
      },
      "execution_count": null,
      "outputs": []
    },
    {
      "cell_type": "markdown",
      "source": [
        "Что, если когда-нибудь наша модель увидит символ, который не видела на этапе обучения? Для этого мы предусмотрим дополнительный, последний индекс, который будет отвечать за хранение неизвестных символов."
      ],
      "metadata": {
        "id": "RmoFc6PwYfOJ"
      }
    },
    {
      "cell_type": "code",
      "source": [
        "n_letters += 1"
      ],
      "metadata": {
        "id": "TV-WsgM_v98f"
      },
      "execution_count": null,
      "outputs": []
    },
    {
      "cell_type": "markdown",
      "source": [
        "В глубоком обучении большую роль играет то, какие мощности (hardware) вам доступны. Некоторые виды видеокарт поддерживают более быстрое обучение нейросетей. Если вам доступна соответствующая GPU, можно проводить вычисления на ней."
      ],
      "metadata": {
        "id": "8Nv7xemOYrw8"
      }
    },
    {
      "cell_type": "markdown",
      "source": [
        "Если вы хотите использовать GPU в своем ноутбуке, выберите Runtime -> Change runtime type -> T4 GPU."
      ],
      "metadata": {
        "id": "PrFOQ65baCGc"
      }
    },
    {
      "cell_type": "code",
      "source": [
        "device = torch.device(\"cuda\" if torch.cuda.is_available() else \"cpu\")\n",
        "print(\"Device available for running: \")\n",
        "print(device)"
      ],
      "metadata": {
        "colab": {
          "base_uri": "https://localhost:8080/"
        },
        "id": "YPMuJ1hYrg54",
        "outputId": "b79fca20-28c4-4dea-d9ab-e6d2241eb59e"
      },
      "execution_count": null,
      "outputs": [
        {
          "output_type": "stream",
          "name": "stdout",
          "text": [
            "Device available for running: \n",
            "cuda\n"
          ]
        }
      ]
    },
    {
      "cell_type": "markdown",
      "source": [
        "### Кодирование слов. Тензоры."
      ],
      "metadata": {
        "id": "4f5rq6MQZR_H"
      }
    },
    {
      "cell_type": "markdown",
      "source": [
        "Тензоры - это особая структура данных, поддерживаемая pytorch. Тензоры похожи на numpy-массивы."
      ],
      "metadata": {
        "id": "d3ZG8nKiZWAg"
      }
    },
    {
      "cell_type": "code",
      "source": [
        "zero_tensor = torch.zeros(88, dtype=torch.float64, device=device)"
      ],
      "metadata": {
        "id": "24961jS2FUnN"
      },
      "execution_count": null,
      "outputs": []
    },
    {
      "cell_type": "code",
      "source": [
        "zero_tensor"
      ],
      "metadata": {
        "colab": {
          "base_uri": "https://localhost:8080/"
        },
        "id": "DPv8OCI5Fe4P",
        "outputId": "8bf30547-f961-444a-da9b-99d72000d231"
      },
      "execution_count": null,
      "outputs": [
        {
          "output_type": "execute_result",
          "data": {
            "text/plain": [
              "tensor([0., 0., 0., 0., 0., 0., 0., 0., 0., 0., 0., 0., 0., 0., 0., 0., 0., 0., 0., 0., 0., 0., 0., 0.,\n",
              "        0., 0., 0., 0., 0., 0., 0., 0., 0., 0., 0., 0., 0., 0., 0., 0., 0., 0., 0., 0., 0., 0., 0., 0.,\n",
              "        0., 0., 0., 0., 0., 0., 0., 0., 0., 0., 0., 0., 0., 0., 0., 0., 0., 0., 0., 0., 0., 0., 0., 0.,\n",
              "        0., 0., 0., 0., 0., 0., 0., 0., 0., 0., 0., 0., 0., 0., 0., 0.],\n",
              "       device='cuda:0', dtype=torch.float64)"
            ]
          },
          "metadata": {},
          "execution_count": 14
        }
      ]
    },
    {
      "cell_type": "code",
      "source": [
        "print(all_letters)"
      ],
      "metadata": {
        "colab": {
          "base_uri": "https://localhost:8080/"
        },
        "id": "KJwpxe_0FkC1",
        "outputId": "01ca0bd7-cad6-40f6-aa3c-c2f2cd96e975"
      },
      "execution_count": null,
      "outputs": [
        {
          "output_type": "stream",
          "name": "stdout",
          "text": [
            "['G', 'o', '/', 'S', 'W', 'ö', 'á', 'm', 'K', 'e', 'L', 'ń', 'ò', '-', 'O', 'R', 'B', 'Q', 'P', ' ', 'z', 'b', 'x', 'ß', 'ú', 'D', 'j', 'c', 'ç', 'õ', 'p', 'f', 'ä', '\\xa0', 'a', 'ñ', 'à', 'T', 'w', 'h', 'ù', 'n', 'g', 'E', 'q', 'ü', 'ą', 'u', 'C', 'ł', 'i', 'N', 'ã', 'r', 'ż', 'A', 'Á', 'U', 'F', 'Ś', 'v', 't', 'Z', 'I', 'ì', 'X', '1', 'ó', 'l', 'H', 'É', 'J', 'Y', 's', 'y', 'd', 'è', ':', 'k', 'í', \"'\", 'ê', 'V', 'M', 'Ż', ',', 'é']\n"
          ]
        }
      ]
    },
    {
      "cell_type": "code",
      "source": [
        "word = 'Madeline&'\n",
        "\n",
        "for letter in word:\n",
        "  if letter in all_letters:\n",
        "    ind = all_letters.index(letter)\n",
        "    zero_tensor[ind] += 1\n",
        "  else:\n",
        "    zero_tensor[-1] += 1"
      ],
      "metadata": {
        "id": "Is0teydPFrLg"
      },
      "execution_count": null,
      "outputs": []
    },
    {
      "cell_type": "code",
      "source": [
        "zero_tensor"
      ],
      "metadata": {
        "colab": {
          "base_uri": "https://localhost:8080/"
        },
        "id": "B4WdpiIYGL2t",
        "outputId": "69045a3e-193f-41e4-bcd0-d34920c666d4"
      },
      "execution_count": null,
      "outputs": [
        {
          "output_type": "execute_result",
          "data": {
            "text/plain": [
              "tensor([0., 0., 0., 0., 0., 0., 0., 0., 0., 2., 0., 0., 0., 0., 0., 0., 0., 0.,\n",
              "        0., 0., 0., 0., 0., 0., 0., 0., 0., 0., 0., 0., 0., 0., 0., 0., 1., 0.,\n",
              "        0., 0., 0., 0., 0., 1., 0., 0., 0., 0., 0., 0., 0., 0., 1., 0., 0., 0.,\n",
              "        0., 0., 0., 0., 0., 0., 0., 0., 0., 0., 0., 0., 0., 0., 1., 0., 0., 0.,\n",
              "        0., 0., 0., 1., 0., 0., 0., 0., 0., 0., 0., 1., 0., 0., 0., 1.],\n",
              "       device='cuda:0', dtype=torch.float64)"
            ]
          },
          "metadata": {},
          "execution_count": 17
        }
      ]
    },
    {
      "cell_type": "code",
      "source": [
        "def line_to_flat_tensor(line):\n",
        "  # параметр device позволяет посылать тензоры на GPU:\n",
        "    tensor = torch.zeros(n_letters, dtype=torch.float64, device=device)\n",
        "    for letter in line:\n",
        "      if letter in all_letters:\n",
        "        tensor[all_letters.index(letter)] += 1\n",
        "      else:\n",
        "        tensor[-1] += 1\n",
        "    return tensor.view(1, -1).float()\n",
        "\n",
        "print(line_to_flat_tensor('Jones').size())"
      ],
      "metadata": {
        "colab": {
          "base_uri": "https://localhost:8080/"
        },
        "id": "-NmRDI1cp6Hg",
        "outputId": "c0fe59d7-3a53-42f3-8887-ef0f10ede1d7"
      },
      "execution_count": null,
      "outputs": [
        {
          "output_type": "stream",
          "name": "stdout",
          "text": [
            "torch.Size([1, 88])\n"
          ]
        }
      ]
    },
    {
      "cell_type": "code",
      "source": [
        "line_to_flat_tensor('Zahar')"
      ],
      "metadata": {
        "colab": {
          "base_uri": "https://localhost:8080/"
        },
        "id": "5YlSU5sOZaBV",
        "outputId": "9a56311c-fcde-4c4d-89d1-dec6d23ba532"
      },
      "execution_count": null,
      "outputs": [
        {
          "output_type": "execute_result",
          "data": {
            "text/plain": [
              "tensor([[0., 0., 0., 0., 0., 0., 0., 0., 0., 0., 0., 0., 0., 0., 0., 0., 0., 0.,\n",
              "         0., 0., 0., 0., 0., 0., 0., 0., 0., 0., 0., 0., 0., 0., 0., 0., 2., 0.,\n",
              "         0., 0., 0., 1., 0., 0., 0., 0., 0., 0., 0., 0., 0., 0., 0., 0., 0., 1.,\n",
              "         0., 0., 0., 0., 0., 0., 0., 0., 1., 0., 0., 0., 0., 0., 0., 0., 0., 0.,\n",
              "         0., 0., 0., 0., 0., 0., 0., 0., 0., 0., 0., 0., 0., 0., 0., 0.]],\n",
              "       device='cuda:0')"
            ]
          },
          "metadata": {},
          "execution_count": 19
        }
      ]
    },
    {
      "cell_type": "markdown",
      "source": [
        "Проверим, сколько у нас категорий всего:"
      ],
      "metadata": {
        "id": "rG_mv9_MdWLA"
      }
    },
    {
      "cell_type": "code",
      "source": [
        "all_categories = list(category_lines.keys())"
      ],
      "metadata": {
        "id": "BWpDTuwHy27i"
      },
      "execution_count": null,
      "outputs": []
    },
    {
      "cell_type": "code",
      "source": [
        "len(all_categories)"
      ],
      "metadata": {
        "colab": {
          "base_uri": "https://localhost:8080/"
        },
        "id": "rQ_9wmtaKCXz",
        "outputId": "44765180-9774-470b-8bf1-64135dc6e88c"
      },
      "execution_count": null,
      "outputs": [
        {
          "output_type": "execute_result",
          "data": {
            "text/plain": [
              "18"
            ]
          },
          "metadata": {},
          "execution_count": 21
        }
      ]
    },
    {
      "cell_type": "markdown",
      "source": [
        "## Нейросеть"
      ],
      "metadata": {
        "id": "iatHVD6YaW9c"
      }
    },
    {
      "cell_type": "markdown",
      "source": [
        "Наша нейросеть будет иметь следующую структуру:\n",
        "\n",
        "\n",
        "*   1 полносвязный слой с количеством нейронов, равным количеству уникальных букв;\n",
        "*   2 скрытых слоя с одинаковым количеством нейронов, которое мы зададим сами;\n",
        "*   Выходной слой, определяющий происхождение имени, количество нейронов в котором равно количеству возможных категорий.\n",
        "\n",
        "После каждого слоя будет функция активации. Активацией последнего слоя будет софтмакс, т.к. у нас мультиклассовая классификация, а софтмакс возвращает вероятности от 0 до 1 в сумме (в отличие от сигмоиды, которая возвращает вероятности для каждого класса по отдельности).\n",
        "\n"
      ],
      "metadata": {
        "id": "vuzGj7WYcheI"
      }
    },
    {
      "cell_type": "code",
      "source": [
        "class FeedforwardNeuralNetModel(nn.Module):\n",
        "    def __init__(self, input_dim, hidden_dim, output_dim):\n",
        "        super(FeedforwardNeuralNetModel, self).__init__()\n",
        "\n",
        "        # Linear function 1: vocab_size --> hidden_dim\n",
        "        self.fc1 = nn.Linear(input_dim, hidden_dim)\n",
        "        # Non-linearity 1\n",
        "        self.relu1 = nn.ReLU()\n",
        "\n",
        "        # Linear function 2: hidden_dim --> hidden_dim\n",
        "        self.fc2 = nn.Linear(hidden_dim, hidden_dim)\n",
        "        # Non-linearity 2\n",
        "        self.relu2 = nn.ReLU()\n",
        "\n",
        "        # Linear function 3 (readout): hidden_dim --> output_dim\n",
        "        self.fc3 = nn.Linear(hidden_dim, output_dim)\n",
        "\n",
        "        self.softmax = nn.LogSoftmax(dim=1)\n",
        "\n",
        "    def forward(self, x):\n",
        "        # Linear function 1\n",
        "        out = self.fc1(x)\n",
        "        # Non-linearity 1\n",
        "        out = self.relu1(out)\n",
        "\n",
        "        # Linear function 2\n",
        "        out = self.fc2(out)\n",
        "        # Non-linearity 2\n",
        "        out = self.relu2(out)\n",
        "\n",
        "        # Linear function 3 (readout)\n",
        "        out = self.fc3(out)\n",
        "\n",
        "        return self.softmax(out)"
      ],
      "metadata": {
        "id": "9LZ8DtF6tDig"
      },
      "execution_count": null,
      "outputs": []
    },
    {
      "cell_type": "markdown",
      "source": [
        "## Обучение нейросети"
      ],
      "metadata": {
        "id": "90U6MccTdYn-"
      }
    },
    {
      "cell_type": "markdown",
      "source": [
        "Для начала, как обычно, разделим данные на тренировочные и тестовые. Мы сделаем два списка, в первом из которых будут слова, а во втором - соответствующие им категории, и затем разделим эти списки, выполнив стратификацию по второму."
      ],
      "metadata": {
        "id": "hA5FDVRjdd-i"
      }
    },
    {
      "cell_type": "code",
      "source": [
        "from sklearn.model_selection import train_test_split"
      ],
      "metadata": {
        "id": "3-fpYmntB51f"
      },
      "execution_count": null,
      "outputs": []
    },
    {
      "cell_type": "code",
      "source": [
        "X = []\n",
        "y = []\n",
        "\n",
        "for k, v in category_lines.items():\n",
        "  for w in v:\n",
        "    X.append(w)\n",
        "    y.append(k)"
      ],
      "metadata": {
        "id": "zmCLLz3bCGPQ"
      },
      "execution_count": null,
      "outputs": []
    },
    {
      "cell_type": "code",
      "source": [
        "len(X) == len(y)"
      ],
      "metadata": {
        "colab": {
          "base_uri": "https://localhost:8080/"
        },
        "id": "ie1tjexgJcYn",
        "outputId": "dc009b1f-be5a-48c1-9fbe-299ba12a9f37"
      },
      "execution_count": null,
      "outputs": [
        {
          "output_type": "execute_result",
          "data": {
            "text/plain": [
              "True"
            ]
          },
          "metadata": {},
          "execution_count": 25
        }
      ]
    },
    {
      "cell_type": "code",
      "source": [
        "X_train, X_test, y_train, y_test = train_test_split(X, y, stratify=y, shuffle=True)"
      ],
      "metadata": {
        "id": "5t4vpIorB9xm"
      },
      "execution_count": null,
      "outputs": []
    },
    {
      "cell_type": "markdown",
      "source": [
        "Определим параметры нашей нейросети. Также подберем функцию потерь и метод оптимизации. Выбор функции потерь обусловлен функцией активации последнего слоя."
      ],
      "metadata": {
        "id": "HU7I4m5VdpoN"
      }
    },
    {
      "cell_type": "code",
      "source": [
        "input_dim = n_letters\n",
        "hidden_dim = 50\n",
        "output_dim = len(all_categories)\n",
        "num_epochs = 200\n",
        "\n",
        "ff_nn_bow_model = FeedforwardNeuralNetModel(input_dim, hidden_dim, output_dim)\n",
        "ff_nn_bow_model.to(device)\n",
        "\n",
        "loss_function = nn.NLLLoss()\n",
        "optimizer = optim.SGD(ff_nn_bow_model.parameters(), lr=0.01)"
      ],
      "metadata": {
        "id": "KvtsiD4mtLWj"
      },
      "execution_count": null,
      "outputs": []
    },
    {
      "cell_type": "markdown",
      "source": [
        "Начинаем обучение. Мы будем сохранять значение функции потерь на каждом этапе, чтобы потом посмотреть, как она менялась."
      ],
      "metadata": {
        "id": "2ouophePeYVh"
      }
    },
    {
      "cell_type": "code",
      "source": [
        "torch.tensor([all_categories.index('Korean')], dtype=torch.long)"
      ],
      "metadata": {
        "colab": {
          "base_uri": "https://localhost:8080/"
        },
        "id": "De3iY48ALOko",
        "outputId": "f9ef6cb7-28d9-4131-c6de-acff316552ed"
      },
      "execution_count": null,
      "outputs": [
        {
          "output_type": "execute_result",
          "data": {
            "text/plain": [
              "tensor([4])"
            ]
          },
          "metadata": {},
          "execution_count": 28
        }
      ]
    },
    {
      "cell_type": "code",
      "source": [
        "losses = []\n",
        "\n",
        "for epoch in tqdm(range(num_epochs)):\n",
        "    train_loss = 0\n",
        "\n",
        "    # Делаем минибатч: случайным образом выбираем тысячу имен, на которых будем тренироваться в этой итерации\n",
        "    current_batch = random.sample(range(len(X_train)), 1000)\n",
        "    current_X_train = [X_train[i] for i in current_batch]\n",
        "    current_y_train = [y_train[i] for i in current_batch]\n",
        "\n",
        "    for current_word, current_category in zip(current_X_train, current_y_train):\n",
        "      # Очищаем градиент, аккумулированный на предыдущих этапах\n",
        "      optimizer.zero_grad()\n",
        "\n",
        "      # кодируем имя и категорию, превращая их в тензоры\n",
        "      line_tensor = line_to_flat_tensor(current_word)\n",
        "      category_tensor = torch.tensor([all_categories.index(current_category)], dtype=torch.long)\n",
        "\n",
        "      # forward pass: обновляем веса и получаем вероятности классов для слова\n",
        "      probs = ff_nn_bow_model(line_tensor.to(device))\n",
        "\n",
        "      # считаем значение функции потерь и добавляем его к общему лоссу этой эпохи\n",
        "      loss = loss_function(probs, category_tensor.to(device))\n",
        "      train_loss += loss.item()\n",
        "\n",
        "      # backward pass: распространяем ошибку обратно, чтобы проапдейтить веса\n",
        "      loss.backward()\n",
        "\n",
        "      # Апдейтим веса\n",
        "      optimizer.step()\n",
        "\n",
        "    losses.append(train_loss)\n",
        "    # перед следующей эпохой зануляем лосс\n",
        "    train_loss = 0"
      ],
      "metadata": {
        "colab": {
          "base_uri": "https://localhost:8080/"
        },
        "id": "M6FuHd1SwXPa",
        "outputId": "cd0abafc-9030-44d2-dfa2-ea486e1b2be1"
      },
      "execution_count": null,
      "outputs": [
        {
          "output_type": "stream",
          "name": "stderr",
          "text": [
            "100%|██████████| 200/200 [04:56<00:00,  1.48s/it]\n"
          ]
        }
      ]
    },
    {
      "cell_type": "markdown",
      "source": [
        "## Оценка работы модели"
      ],
      "metadata": {
        "id": "bJjpwb0ffo2d"
      }
    },
    {
      "cell_type": "markdown",
      "source": [
        "Давайте для начала посмотрим, удалось ли нам постепенно снизить ошибку."
      ],
      "metadata": {
        "id": "RUmvGnqwfrl_"
      }
    },
    {
      "cell_type": "code",
      "source": [
        "import matplotlib.pyplot as plt\n",
        "\n",
        "plt.plot(losses)"
      ],
      "metadata": {
        "colab": {
          "base_uri": "https://localhost:8080/",
          "height": 451
        },
        "id": "R5xaxjcZ-T-z",
        "outputId": "480ef671-14e0-46c1-ba07-3a4e398faee7"
      },
      "execution_count": null,
      "outputs": [
        {
          "output_type": "execute_result",
          "data": {
            "text/plain": [
              "[<matplotlib.lines.Line2D at 0x7c942167ccd0>]"
            ]
          },
          "metadata": {},
          "execution_count": 30
        },
        {
          "output_type": "display_data",
          "data": {
            "text/plain": [
              "<Figure size 640x480 with 1 Axes>"
            ],
            "image/png": "[encoded data removed]"
          },
          "metadata": {}
        }
      ]
    },
    {
      "cell_type": "code",
      "source": [
        "max(losses)"
      ],
      "metadata": {
        "colab": {
          "base_uri": "https://localhost:8080/"
        },
        "id": "kPf8bdJVQMsV",
        "outputId": "30a07e53-930b-49e4-f73e-caf7571f8d72"
      },
      "execution_count": null,
      "outputs": [
        {
          "output_type": "execute_result",
          "data": {
            "text/plain": [
              "1952.892711251974"
            ]
          },
          "metadata": {},
          "execution_count": 31
        }
      ]
    },
    {
      "cell_type": "code",
      "source": [
        "min(losses)"
      ],
      "metadata": {
        "colab": {
          "base_uri": "https://localhost:8080/"
        },
        "id": "zcHtNeavQOr2",
        "outputId": "961cf1ec-5550-4cb3-de93-ff82fde9718d"
      },
      "execution_count": null,
      "outputs": [
        {
          "output_type": "execute_result",
          "data": {
            "text/plain": [
              "576.7046353381417"
            ]
          },
          "metadata": {},
          "execution_count": 32
        }
      ]
    },
    {
      "cell_type": "markdown",
      "source": [
        "Теперь оценим качество модели стандартными способами для классификации:"
      ],
      "metadata": {
        "id": "wNPUFoOefvGw"
      }
    },
    {
      "cell_type": "code",
      "source": [
        "from sklearn.metrics import classification_report\n",
        "\n",
        "bow_ff_nn_predictions = []\n",
        "original_lables_ff_bow = []\n",
        "\n",
        "# этот метод означает, что нам не нужно считать градиент для обратного распространения ошибки, а нужно сделать только предсказания\n",
        "with torch.no_grad():\n",
        "  for word, cat in zip(X_test, y_test):\n",
        "    line_tensor = line_to_flat_tensor(word)\n",
        "    category_tensor = torch.tensor([all_categories.index(cat)], dtype=torch.long)\n",
        "\n",
        "    probs = ff_nn_bow_model(line_tensor)\n",
        "    bow_ff_nn_predictions.append(torch.argmax(probs, dim=1).cpu().numpy()[0])\n",
        "    original_lables_ff_bow.append(all_categories.index(cat))"
      ],
      "metadata": {
        "id": "4OS_ey3w0HFk"
      },
      "execution_count": null,
      "outputs": []
    },
    {
      "cell_type": "code",
      "source": [
        "print(classification_report(original_lables_ff_bow, bow_ff_nn_predictions, target_names=all_categories))"
      ],
      "metadata": {
        "colab": {
          "base_uri": "https://localhost:8080/"
        },
        "id": "8Lx-ZgTK5bP4",
        "outputId": "55958982-f501-4554-eb36-ee6d33255595"
      },
      "execution_count": null,
      "outputs": [
        {
          "output_type": "stream",
          "name": "stdout",
          "text": [
            "              precision    recall  f1-score   support\n",
            "\n",
            "     Chinese       0.44      0.66      0.53        67\n",
            "      Arabic       0.95      0.83      0.89       500\n",
            "       Czech       0.26      0.16      0.20       130\n",
            "      German       0.44      0.44      0.44       181\n",
            "      Korean       0.19      0.17      0.18        24\n",
            "    Japanese       0.72      0.69      0.70       248\n",
            "       Dutch       0.44      0.22      0.29        74\n",
            "      Polish       0.36      0.29      0.32        35\n",
            "      French       0.33      0.03      0.05        69\n",
            "       Greek       0.46      0.33      0.39        51\n",
            "  Portuguese       0.00      0.00      0.00        18\n",
            "    Scottish       0.00      0.00      0.00        25\n",
            "       Irish       0.73      0.14      0.23        58\n",
            "     Spanish       0.38      0.12      0.18        75\n",
            "     English       0.62      0.70      0.66       917\n",
            "     Italian       0.57      0.37      0.45       177\n",
            "  Vietnamese       0.00      0.00      0.00        18\n",
            "     Russian       0.81      0.92      0.86      2352\n",
            "\n",
            "    accuracy                           0.73      5019\n",
            "   macro avg       0.43      0.34      0.35      5019\n",
            "weighted avg       0.71      0.73      0.71      5019\n",
            "\n"
          ]
        },
        {
          "output_type": "stream",
          "name": "stderr",
          "text": [
            "/usr/local/lib/python3.10/dist-packages/sklearn/metrics/_classification.py:1344: UndefinedMetricWarning: Precision and F-score are ill-defined and being set to 0.0 in labels with no predicted samples. Use `zero_division` parameter to control this behavior.\n",
            "  _warn_prf(average, modifier, msg_start, len(result))\n",
            "/usr/local/lib/python3.10/dist-packages/sklearn/metrics/_classification.py:1344: UndefinedMetricWarning: Precision and F-score are ill-defined and being set to 0.0 in labels with no predicted samples. Use `zero_division` parameter to control this behavior.\n",
            "  _warn_prf(average, modifier, msg_start, len(result))\n",
            "/usr/local/lib/python3.10/dist-packages/sklearn/metrics/_classification.py:1344: UndefinedMetricWarning: Precision and F-score are ill-defined and being set to 0.0 in labels with no predicted samples. Use `zero_division` parameter to control this behavior.\n",
            "  _warn_prf(average, modifier, msg_start, len(result))\n"
          ]
        }
      ]
    },
    {
      "cell_type": "code",
      "source": [
        "from sklearn.metrics import ConfusionMatrixDisplay\n",
        "\n",
        "fig, ax = plt.subplots(figsize=(10,10))\n",
        "ConfusionMatrixDisplay.from_predictions(original_lables_ff_bow,\n",
        "                                        bow_ff_nn_predictions,\n",
        "                                        display_labels=all_categories,\n",
        "                                        ax=ax,\n",
        "                                        xticks_rotation='vertical', cmap='Blues')"
      ],
      "metadata": {
        "colab": {
          "base_uri": "https://localhost:8080/",
          "height": 864
        },
        "id": "zyKTE4qgKP0W",
        "outputId": "f35f030e-4f59-47f7-ffde-c191520a71b6"
      },
      "execution_count": null,
      "outputs": [
        {
          "output_type": "execute_result",
          "data": {
            "text/plain": [
              "<sklearn.metrics._plot.confusion_matrix.ConfusionMatrixDisplay at 0x7c942b0b5780>"
            ]
          },
          "metadata": {},
          "execution_count": 35
        },
        {
          "output_type": "display_data",
          "data": {
            "text/plain": [
              "<Figure size 1000x1000 with 2 Axes>"
            ],
            "image/png": "[encoded data removed]"
          },
          "metadata": {}
        }
      ]
    },
    {
      "cell_type": "markdown",
      "source": [
        "**Дополнительное задание:** имплементируйте предобработку из этого туториала: https://pytorch.org/tutorials/intermediate/char_rnn_classification_tutorial.html (секция [Preparing the data](https://pytorch.org/tutorials/intermediate/char_rnn_classification_tutorial.html), часть про перевод юникода в ascii). Важно: не надо повторять весь код предобработки, нас интересует только часть с переводом в ascii. Не забудьте, что размер алфавита при этом изменится."
      ],
      "metadata": {
        "id": "c5xa8iBVJVps"
      }
    },
    {
      "cell_type": "markdown",
      "source": [
        "Бонус: давайте предскажем несуществующее имя!"
      ],
      "metadata": {
        "id": "lRV-gaB9f896"
      }
    },
    {
      "cell_type": "code",
      "source": [
        "not_a_name = '2Xzae36'"
      ],
      "metadata": {
        "id": "ghpSlCX1J6Ow"
      },
      "execution_count": null,
      "outputs": []
    },
    {
      "cell_type": "markdown",
      "source": [
        "Его тоже нужно превратить в тензор:"
      ],
      "metadata": {
        "id": "LcsDtaIHgOvI"
      }
    },
    {
      "cell_type": "code",
      "source": [
        "line_tensor = line_to_flat_tensor(not_a_name)"
      ],
      "metadata": {
        "id": "8MQFGY6wgH3c"
      },
      "execution_count": null,
      "outputs": []
    },
    {
      "cell_type": "markdown",
      "source": [
        "Получим предсказание модели:"
      ],
      "metadata": {
        "id": "uwUTCDsGgdRP"
      }
    },
    {
      "cell_type": "code",
      "source": [
        "probs = ff_nn_bow_model(line_tensor)"
      ],
      "metadata": {
        "id": "rDadjmsAgOGi"
      },
      "execution_count": null,
      "outputs": []
    },
    {
      "cell_type": "code",
      "source": [
        "probs"
      ],
      "metadata": {
        "colab": {
          "base_uri": "https://localhost:8080/"
        },
        "id": "tft4Rigdge2W",
        "outputId": "87a32ba1-62e2-40c4-a5b9-a01160ae227b"
      },
      "execution_count": null,
      "outputs": [
        {
          "output_type": "execute_result",
          "data": {
            "text/plain": [
              "tensor([[-1.8158, -7.6911, -3.0066, -2.6686, -2.1633, -1.6537, -3.4186, -3.1731,\n",
              "         -3.7869, -6.9685, -4.4410, -4.8313, -6.5893, -2.8166, -2.5128, -5.5046,\n",
              "         -2.6408, -2.5754]], device='cuda:0', grad_fn=<LogSoftmaxBackward0>)"
            ]
          },
          "metadata": {},
          "execution_count": 39
        }
      ]
    },
    {
      "cell_type": "markdown",
      "source": [
        "К какой же категории относится слово?"
      ],
      "metadata": {
        "id": "GZGiBgivghha"
      }
    },
    {
      "cell_type": "code",
      "source": [
        "category_ind = torch.argmax(probs, dim=1).cpu().numpy()[0]"
      ],
      "metadata": {
        "id": "uytljFnLgUaB"
      },
      "execution_count": null,
      "outputs": []
    },
    {
      "cell_type": "code",
      "source": [
        "all_categories[category_ind]"
      ],
      "metadata": {
        "colab": {
          "base_uri": "https://localhost:8080/",
          "height": 38
        },
        "id": "mwAkhHIzgwQK",
        "outputId": "5dbeb362-c4f8-4b6e-f4d1-7786082e5879"
      },
      "execution_count": null,
      "outputs": [
        {
          "output_type": "execute_result",
          "data": {
            "text/plain": [
              "'Japanese'"
            ],
            "application/vnd.google.colaboratory.intrinsic+json": {
              "type": "string"
            }
          },
          "metadata": {},
          "execution_count": 41
        }
      ]
    }
  ]
}