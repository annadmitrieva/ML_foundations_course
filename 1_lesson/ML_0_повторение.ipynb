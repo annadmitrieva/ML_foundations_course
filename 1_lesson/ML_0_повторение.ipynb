{
  "nbformat": 4,
  "nbformat_minor": 0,
  "metadata": {
    "colab": {
      "provenance": []
    },
    "kernelspec": {
      "name": "python3",
      "display_name": "Python 3"
    },
    "language_info": {
      "name": "python"
    }
  },
  "cells": [
    {
      "cell_type": "markdown",
      "source": [
        "## Повторение: NumPy"
      ],
      "metadata": {
        "id": "w3ZM_vyyh5XW"
      }
    },
    {
      "cell_type": "markdown",
      "source": [
        "NumPy - это библиотека для работы с матрицами. Мы довольно часто будем сталкиваться с ней во время работы с scikit-learn, поэтому давайте вспомним некоторые базовые вещи."
      ],
      "metadata": {
        "id": "Bnv8SEHyiAsO"
      }
    },
    {
      "cell_type": "code",
      "source": [
        "import numpy as np"
      ],
      "metadata": {
        "id": "N3gN-ZUVL5xe"
      },
      "execution_count": null,
      "outputs": []
    },
    {
      "cell_type": "markdown",
      "source": [
        "Создадим массив и узнаем его размерность при помощи метода shape:"
      ],
      "metadata": {
        "id": "1lv3q0etk1-_"
      }
    },
    {
      "cell_type": "code",
      "source": [
        "arr = np.array([1, 2, 3])"
      ],
      "metadata": {
        "id": "ZyieGVHbkyJo"
      },
      "execution_count": null,
      "outputs": []
    },
    {
      "cell_type": "code",
      "source": [
        "arr.shape"
      ],
      "metadata": {
        "colab": {
          "base_uri": "https://localhost:8080/"
        },
        "id": "i_3lQo6blClR",
        "outputId": "b4926696-3c81-4041-a211-12ca78e71196"
      },
      "execution_count": null,
      "outputs": [
        {
          "output_type": "execute_result",
          "data": {
            "text/plain": [
              "(3,)"
            ]
          },
          "metadata": {},
          "execution_count": 61
        }
      ]
    },
    {
      "cell_type": "markdown",
      "source": [
        "Можно менять размерность при помощи добавления квадратных скобок:"
      ],
      "metadata": {
        "id": "IuO92ywrlQP5"
      }
    },
    {
      "cell_type": "code",
      "source": [
        "np.array([[1, 2, 3]]).shape"
      ],
      "metadata": {
        "colab": {
          "base_uri": "https://localhost:8080/"
        },
        "id": "uX7hH8P-lEpu",
        "outputId": "a1b19b91-9319-4dd4-cb0e-8ed842c9f3e2"
      },
      "execution_count": null,
      "outputs": [
        {
          "output_type": "execute_result",
          "data": {
            "text/plain": [
              "(1, 3)"
            ]
          },
          "metadata": {},
          "execution_count": 62
        }
      ]
    },
    {
      "cell_type": "code",
      "source": [
        "np.array([[[1, 2, 3]]]).shape"
      ],
      "metadata": {
        "colab": {
          "base_uri": "https://localhost:8080/"
        },
        "id": "aErleVGmlKeI",
        "outputId": "cc8ee7c6-9b26-497e-9750-60f3b9c9110a"
      },
      "execution_count": null,
      "outputs": [
        {
          "output_type": "execute_result",
          "data": {
            "text/plain": [
              "(1, 1, 3)"
            ]
          },
          "metadata": {},
          "execution_count": 63
        }
      ]
    },
    {
      "cell_type": "code",
      "source": [
        "arr_2d = np.array([[1, 2, 3]])\n",
        "\n",
        "print(\"Размер вдоль каждой оси:\", arr_2d.shape)\n",
        "print(\"Размерность:\", arr_2d.ndim)\n",
        "print(\"Количество элементов:\", arr_2d.size)\n",
        "print(\"Тип данных элементов:\", arr_2d.dtype)"
      ],
      "metadata": {
        "colab": {
          "base_uri": "https://localhost:8080/"
        },
        "id": "3e2UjMIdlUQ7",
        "outputId": "b8b9f462-e950-4634-bd0b-74141032d42b"
      },
      "execution_count": null,
      "outputs": [
        {
          "output_type": "stream",
          "name": "stdout",
          "text": [
            "Размер вдоль каждой оси: (1, 3)\n",
            "Размерность: 2\n",
            "Количество элементов: 3\n",
            "Тип данных элементов: int64\n"
          ]
        }
      ]
    },
    {
      "cell_type": "markdown",
      "source": [
        "Большинство объектов sklearn работают с двумерными массивами. Изменить размерность массива можно с помощью функции reshape:"
      ],
      "metadata": {
        "id": "WtRrwB7nttU_"
      }
    },
    {
      "cell_type": "code",
      "source": [
        "arr"
      ],
      "metadata": {
        "colab": {
          "base_uri": "https://localhost:8080/"
        },
        "id": "ZmOGeONbRzwl",
        "outputId": "83901d37-2f37-4929-b4e0-871393c4ab0f"
      },
      "execution_count": null,
      "outputs": [
        {
          "output_type": "execute_result",
          "data": {
            "text/plain": [
              "array([1, 2, 3])"
            ]
          },
          "metadata": {},
          "execution_count": 65
        }
      ]
    },
    {
      "cell_type": "code",
      "source": [
        "np.reshape(arr, (1, 3))"
      ],
      "metadata": {
        "colab": {
          "base_uri": "https://localhost:8080/"
        },
        "id": "HGLpbr4HnoII",
        "outputId": "f531d505-4329-407a-b94d-6df385469d6f"
      },
      "execution_count": null,
      "outputs": [
        {
          "output_type": "execute_result",
          "data": {
            "text/plain": [
              "array([[1, 2, 3]])"
            ]
          },
          "metadata": {},
          "execution_count": 10
        }
      ]
    },
    {
      "cell_type": "markdown",
      "source": [
        "Если подавать в классификаторы и другие объекты классов sklearn одномерные массивы, можно столкнуться с ошибкой, которая говорит следующее: Reshape your data either using array.reshape(-1, 1) if your data has a single feature or array.reshape(1, -1) if it contains a single sample. Посмотрим, в чем разница:"
      ],
      "metadata": {
        "id": "UJkG5HAZt7m5"
      }
    },
    {
      "cell_type": "code",
      "source": [
        "single_feature = np.array([1, 2, 3]).reshape(-1, 1)"
      ],
      "metadata": {
        "id": "vYGmRmdCt7A9"
      },
      "execution_count": null,
      "outputs": []
    },
    {
      "cell_type": "code",
      "source": [
        "single_feature"
      ],
      "metadata": {
        "colab": {
          "base_uri": "https://localhost:8080/"
        },
        "id": "LGMwrxBluf-S",
        "outputId": "5807d944-3211-4817-bde0-a6ff8ea1932a"
      },
      "execution_count": null,
      "outputs": [
        {
          "output_type": "execute_result",
          "data": {
            "text/plain": [
              "array([[1],\n",
              "       [2],\n",
              "       [3]])"
            ]
          },
          "metadata": {},
          "execution_count": 12
        }
      ]
    },
    {
      "cell_type": "code",
      "source": [
        "single_feature.shape"
      ],
      "metadata": {
        "colab": {
          "base_uri": "https://localhost:8080/"
        },
        "id": "wm2V4QjBuhE3",
        "outputId": "e1dd3ea2-5ca0-48be-9b5a-a83c261ac0b9"
      },
      "execution_count": null,
      "outputs": [
        {
          "output_type": "execute_result",
          "data": {
            "text/plain": [
              "(3, 1)"
            ]
          },
          "metadata": {},
          "execution_count": 13
        }
      ]
    },
    {
      "cell_type": "code",
      "source": [
        "single_sample = np.array([1, 2, 3]).reshape(1, -1)"
      ],
      "metadata": {
        "id": "RRRWfH6luYH8"
      },
      "execution_count": null,
      "outputs": []
    },
    {
      "cell_type": "code",
      "source": [
        "single_sample"
      ],
      "metadata": {
        "colab": {
          "base_uri": "https://localhost:8080/"
        },
        "id": "dEN6U8lrukxB",
        "outputId": "938fb3b2-0c57-4385-f79d-39484107d7d3"
      },
      "execution_count": null,
      "outputs": [
        {
          "output_type": "execute_result",
          "data": {
            "text/plain": [
              "array([[1, 2, 3]])"
            ]
          },
          "metadata": {},
          "execution_count": 15
        }
      ]
    },
    {
      "cell_type": "code",
      "source": [
        "single_sample.shape"
      ],
      "metadata": {
        "colab": {
          "base_uri": "https://localhost:8080/"
        },
        "id": "yPs0YocMul1h",
        "outputId": "861618ef-f907-4ef3-9cf9-7d78515dd21a"
      },
      "execution_count": null,
      "outputs": [
        {
          "output_type": "execute_result",
          "data": {
            "text/plain": [
              "(1, 3)"
            ]
          },
          "metadata": {},
          "execution_count": 16
        }
      ]
    },
    {
      "cell_type": "markdown",
      "source": [
        "Numpy поддерживает все матричные операции: сложение, умножение, транспонирование и т.п."
      ],
      "metadata": {
        "id": "WcuOKvpyvF3Z"
      }
    },
    {
      "cell_type": "code",
      "source": [
        "arr_a = np.array([[1, 2, 3]])\n",
        "arr_b = np.array([[4, 5, 6]])"
      ],
      "metadata": {
        "id": "tbp3rM8VunI3"
      },
      "execution_count": null,
      "outputs": []
    },
    {
      "cell_type": "code",
      "source": [
        "np.add(arr_a, arr_b)"
      ],
      "metadata": {
        "colab": {
          "base_uri": "https://localhost:8080/"
        },
        "id": "uSKl0zGwvgMf",
        "outputId": "461365fb-eec5-413e-dfca-61f1911c7a66"
      },
      "execution_count": null,
      "outputs": [
        {
          "output_type": "execute_result",
          "data": {
            "text/plain": [
              "array([[5, 7, 9]])"
            ]
          },
          "metadata": {},
          "execution_count": 67
        }
      ]
    },
    {
      "cell_type": "code",
      "source": [
        "arr_a + 1"
      ],
      "metadata": {
        "colab": {
          "base_uri": "https://localhost:8080/"
        },
        "id": "TkhA6DAfvyVT",
        "outputId": "935e9ebd-e165-4180-ca71-57930eb55297"
      },
      "execution_count": null,
      "outputs": [
        {
          "output_type": "execute_result",
          "data": {
            "text/plain": [
              "array([[2, 3, 4]])"
            ]
          },
          "metadata": {},
          "execution_count": 68
        }
      ]
    },
    {
      "cell_type": "code",
      "source": [
        "arr_a * 2"
      ],
      "metadata": {
        "colab": {
          "base_uri": "https://localhost:8080/"
        },
        "id": "Kr5fmwaxv2ft",
        "outputId": "7138f9a7-9be0-476f-b5fd-8e785bdc8725"
      },
      "execution_count": null,
      "outputs": [
        {
          "output_type": "execute_result",
          "data": {
            "text/plain": [
              "array([[2, 4, 6]])"
            ]
          },
          "metadata": {},
          "execution_count": 69
        }
      ]
    },
    {
      "cell_type": "code",
      "source": [
        "arr_a.T"
      ],
      "metadata": {
        "colab": {
          "base_uri": "https://localhost:8080/"
        },
        "id": "WuzY7DROwSD4",
        "outputId": "e2495778-c26f-458c-e0b3-44723acb1a35"
      },
      "execution_count": null,
      "outputs": [
        {
          "output_type": "execute_result",
          "data": {
            "text/plain": [
              "array([[1],\n",
              "       [2],\n",
              "       [3]])"
            ]
          },
          "metadata": {},
          "execution_count": 70
        }
      ]
    },
    {
      "cell_type": "code",
      "source": [
        "np.dot(arr_a, arr_b.T)"
      ],
      "metadata": {
        "colab": {
          "base_uri": "https://localhost:8080/"
        },
        "id": "nRjSFu_dv4vT",
        "outputId": "a35558d5-7524-4555-a093-3b8cfd0a0f99"
      },
      "execution_count": null,
      "outputs": [
        {
          "output_type": "execute_result",
          "data": {
            "text/plain": [
              "array([[32]])"
            ]
          },
          "metadata": {},
          "execution_count": 72
        }
      ]
    },
    {
      "cell_type": "markdown",
      "source": [
        "Также с массивами можно делать некоторые вещи из тех, что можно делать со списками: сортировать, разворачивать и т.п."
      ],
      "metadata": {
        "id": "ERUtMfEkwaBv"
      }
    },
    {
      "cell_type": "code",
      "source": [
        "arr_c = np.array([[1, 2, 3], [4, 5, 6]])\n",
        "arr_d = np.array([0, 3, 2, 1, 4, 0])"
      ],
      "metadata": {
        "id": "3v5HwA1wwZi4"
      },
      "execution_count": null,
      "outputs": []
    },
    {
      "cell_type": "code",
      "source": [
        "np.sort(arr_d)"
      ],
      "metadata": {
        "colab": {
          "base_uri": "https://localhost:8080/"
        },
        "id": "XYU8-9EAxSDN",
        "outputId": "f21afb6c-7c81-4473-f8f4-b939da59f5b6"
      },
      "execution_count": null,
      "outputs": [
        {
          "output_type": "execute_result",
          "data": {
            "text/plain": [
              "array([0, 0, 1, 2, 3, 4])"
            ]
          },
          "metadata": {},
          "execution_count": 74
        }
      ]
    },
    {
      "cell_type": "code",
      "source": [
        "np.argsort(arr_d)"
      ],
      "metadata": {
        "colab": {
          "base_uri": "https://localhost:8080/"
        },
        "id": "gw9Xg3paxVyU",
        "outputId": "9bc85ee2-3af7-4c52-9b77-d84510b00c1d"
      },
      "execution_count": null,
      "outputs": [
        {
          "output_type": "execute_result",
          "data": {
            "text/plain": [
              "array([0, 5, 3, 2, 1, 4])"
            ]
          },
          "metadata": {},
          "execution_count": 75
        }
      ]
    },
    {
      "cell_type": "code",
      "source": [
        "arr_c[::-1]"
      ],
      "metadata": {
        "colab": {
          "base_uri": "https://localhost:8080/"
        },
        "id": "nC_CnWYQx2AH",
        "outputId": "6468479c-b794-41f1-cf5f-4aa66811ffa2"
      },
      "execution_count": null,
      "outputs": [
        {
          "output_type": "execute_result",
          "data": {
            "text/plain": [
              "array([[4, 5, 6],\n",
              "       [1, 2, 3]])"
            ]
          },
          "metadata": {},
          "execution_count": 76
        }
      ]
    },
    {
      "cell_type": "code",
      "source": [
        "arr_c[:, ::-1]"
      ],
      "metadata": {
        "colab": {
          "base_uri": "https://localhost:8080/"
        },
        "id": "-Dor5u9Kx5tB",
        "outputId": "3f90c0bc-a1c8-4d0e-f744-096d37952ee9"
      },
      "execution_count": null,
      "outputs": [
        {
          "output_type": "execute_result",
          "data": {
            "text/plain": [
              "array([[3, 2, 1],\n",
              "       [6, 5, 4]])"
            ]
          },
          "metadata": {},
          "execution_count": 77
        }
      ]
    },
    {
      "cell_type": "markdown",
      "source": [
        "Наконец, массивы можно объединять различными способами:"
      ],
      "metadata": {
        "id": "Jj9zyUW0x_AD"
      }
    },
    {
      "cell_type": "code",
      "source": [
        "arr_a"
      ],
      "metadata": {
        "colab": {
          "base_uri": "https://localhost:8080/"
        },
        "id": "pW_CIcIGTSZt",
        "outputId": "f91998ed-73bd-43ab-855e-0e381bf2d47f"
      },
      "execution_count": null,
      "outputs": [
        {
          "output_type": "execute_result",
          "data": {
            "text/plain": [
              "array([[1, 2, 3]])"
            ]
          },
          "metadata": {},
          "execution_count": 78
        }
      ]
    },
    {
      "cell_type": "code",
      "source": [
        "arr_b"
      ],
      "metadata": {
        "colab": {
          "base_uri": "https://localhost:8080/"
        },
        "id": "GvQuUxbnTTqh",
        "outputId": "7c429076-ad9f-4a79-e7f7-4bc0d4b30dd3"
      },
      "execution_count": null,
      "outputs": [
        {
          "output_type": "execute_result",
          "data": {
            "text/plain": [
              "array([[4, 5, 6]])"
            ]
          },
          "metadata": {},
          "execution_count": 79
        }
      ]
    },
    {
      "cell_type": "code",
      "source": [
        "np.hstack([arr_a, arr_b])"
      ],
      "metadata": {
        "colab": {
          "base_uri": "https://localhost:8080/"
        },
        "id": "s19YY2zpyGNs",
        "outputId": "b47f28d9-8305-425e-e3cf-265d50fc76e4"
      },
      "execution_count": null,
      "outputs": [
        {
          "output_type": "execute_result",
          "data": {
            "text/plain": [
              "array([[1, 2, 3, 4, 5, 6]])"
            ]
          },
          "metadata": {},
          "execution_count": 80
        }
      ]
    },
    {
      "cell_type": "code",
      "source": [
        "np.vstack([arr_a, arr_b])"
      ],
      "metadata": {
        "colab": {
          "base_uri": "https://localhost:8080/"
        },
        "id": "SpUO3E_EyLYd",
        "outputId": "38aa8d01-2fbf-414e-fcc8-974fb24dd39f"
      },
      "execution_count": null,
      "outputs": [
        {
          "output_type": "execute_result",
          "data": {
            "text/plain": [
              "array([[1, 2, 3],\n",
              "       [4, 5, 6]])"
            ]
          },
          "metadata": {},
          "execution_count": 81
        }
      ]
    },
    {
      "cell_type": "code",
      "source": [
        "np.dstack([arr_a, arr_b])"
      ],
      "metadata": {
        "colab": {
          "base_uri": "https://localhost:8080/"
        },
        "id": "SwfShaxkyPK7",
        "outputId": "df93ee57-e188-4ae0-b7eb-b75f50109768"
      },
      "execution_count": null,
      "outputs": [
        {
          "output_type": "execute_result",
          "data": {
            "text/plain": [
              "array([[[1, 4],\n",
              "        [2, 5],\n",
              "        [3, 6]]])"
            ]
          },
          "metadata": {},
          "execution_count": 82
        }
      ]
    },
    {
      "cell_type": "code",
      "source": [
        "np.concatenate([arr_a, arr_b], axis=0)"
      ],
      "metadata": {
        "colab": {
          "base_uri": "https://localhost:8080/"
        },
        "id": "KzFzz9I8yen6",
        "outputId": "43f6c912-7eb0-4c97-ab2c-51c5c7d9e12a"
      },
      "execution_count": null,
      "outputs": [
        {
          "output_type": "execute_result",
          "data": {
            "text/plain": [
              "array([[1, 2, 3],\n",
              "       [4, 5, 6]])"
            ]
          },
          "metadata": {},
          "execution_count": 83
        }
      ]
    },
    {
      "cell_type": "code",
      "source": [
        "np.concatenate([arr_a, arr_b], axis=1)"
      ],
      "metadata": {
        "colab": {
          "base_uri": "https://localhost:8080/"
        },
        "id": "-YxP9semyiiW",
        "outputId": "88fe85ac-91ca-474f-bb7f-4ec4c8b039e6"
      },
      "execution_count": null,
      "outputs": [
        {
          "output_type": "execute_result",
          "data": {
            "text/plain": [
              "array([[1, 2, 3, 4, 5, 6]])"
            ]
          },
          "metadata": {},
          "execution_count": 84
        }
      ]
    },
    {
      "cell_type": "code",
      "source": [
        "np.stack([arr_a, arr_b])"
      ],
      "metadata": {
        "colab": {
          "base_uri": "https://localhost:8080/"
        },
        "id": "WUzV6tkDzh5Z",
        "outputId": "bf1a64e4-ff38-4d3c-b8a8-21a41ef02675"
      },
      "execution_count": null,
      "outputs": [
        {
          "output_type": "execute_result",
          "data": {
            "text/plain": [
              "array([[[1, 2, 3]],\n",
              "\n",
              "       [[4, 5, 6]]])"
            ]
          },
          "metadata": {},
          "execution_count": 85
        }
      ]
    },
    {
      "cell_type": "markdown",
      "source": [
        "### Повторение: векторайзеры."
      ],
      "metadata": {
        "id": "-lEwV3QpUUTa"
      }
    },
    {
      "cell_type": "markdown",
      "source": [
        "Вспомним, что **векторайзеры** превращают тексты в вектора слов. Рассмотрим небольшой игрушечный пример, чтобы понять, как именно это происходит."
      ],
      "metadata": {
        "id": "rKCEA9iWEnIW"
      }
    },
    {
      "cell_type": "code",
      "source": [
        "corpus = ['Бегемот шел по улице',\n",
        "          'Бегемот - черный кот',\n",
        "          'Черный кот шел по улице']"
      ],
      "metadata": {
        "id": "b6dkPY9GGUhY"
      },
      "execution_count": null,
      "outputs": []
    },
    {
      "cell_type": "markdown",
      "source": [
        "**CountVectorizer** - это простой векторайзер, который превращает коллекцию текстов в разреженную матрицу размера N*M, где N - количество текстов в коллекции, а M - количество уникальных слов (а разреженная матрица - это такая матрица, где много нулей). Числа в этой матрице соответствуют количеству раз, когда определенное слово встретилось в определенном документе."
      ],
      "metadata": {
        "id": "aTnpypac1W0S"
      }
    },
    {
      "cell_type": "markdown",
      "source": [
        "Давайте сделаем матрицу N*M вручную:\n",
        "\n"
      ],
      "metadata": {
        "id": "CFzpm7qmM3MD"
      }
    },
    {
      "cell_type": "code",
      "source": [
        "import re"
      ],
      "metadata": {
        "id": "zze9DWxVK-Bk"
      },
      "execution_count": null,
      "outputs": []
    },
    {
      "cell_type": "code",
      "source": [
        "unique_words = set()\n",
        "\n",
        "for doc in corpus:\n",
        "  tokens = re.findall('\\w+', doc.lower())\n",
        "  for token in tokens:\n",
        "    unique_words.add(token)"
      ],
      "metadata": {
        "id": "TVdQnUbsM11P"
      },
      "execution_count": null,
      "outputs": []
    },
    {
      "cell_type": "code",
      "source": [
        "unique_words = list(unique_words)"
      ],
      "metadata": {
        "id": "6n0HRo-bNjE0"
      },
      "execution_count": null,
      "outputs": []
    },
    {
      "cell_type": "code",
      "source": [
        "len(unique_words)"
      ],
      "metadata": {
        "colab": {
          "base_uri": "https://localhost:8080/"
        },
        "id": "AjmBqU4RNuNh",
        "outputId": "c06c8e12-e111-4cc2-b0ac-827d1cf3acca"
      },
      "execution_count": null,
      "outputs": [
        {
          "output_type": "execute_result",
          "data": {
            "text/plain": [
              "6"
            ]
          },
          "metadata": {},
          "execution_count": 89
        }
      ]
    },
    {
      "cell_type": "code",
      "source": [
        "unique_words"
      ],
      "metadata": {
        "colab": {
          "base_uri": "https://localhost:8080/"
        },
        "id": "apFUvMnCNho0",
        "outputId": "268df7fa-af9d-49ac-c867-9e7968fe23ed"
      },
      "execution_count": null,
      "outputs": [
        {
          "output_type": "execute_result",
          "data": {
            "text/plain": [
              "['улице', 'черный', 'кот', 'шел', 'по', 'бегемот']"
            ]
          },
          "metadata": {},
          "execution_count": 90
        }
      ]
    },
    {
      "cell_type": "code",
      "source": [
        "def get_vector(doc, unique_words):\n",
        "\n",
        "  tokens = re.findall('\\w+', doc.lower())\n",
        "  vec = []\n",
        "  for word in unique_words:\n",
        "    if word in tokens:\n",
        "      c = tokens.count(word)\n",
        "      vec.append(c)\n",
        "    else:\n",
        "      vec.append(0)\n",
        "\n",
        "  return vec"
      ],
      "metadata": {
        "id": "x0voZZuMN4Jr"
      },
      "execution_count": null,
      "outputs": []
    },
    {
      "cell_type": "code",
      "source": [
        "get_vector(corpus[2], unique_words)"
      ],
      "metadata": {
        "colab": {
          "base_uri": "https://localhost:8080/"
        },
        "id": "G8zs9eVAPZKj",
        "outputId": "84a175a2-7df4-46d2-c4e5-9c71729ec4db"
      },
      "execution_count": null,
      "outputs": [
        {
          "output_type": "execute_result",
          "data": {
            "text/plain": [
              "[1, 1, 1, 1, 1, 0]"
            ]
          },
          "metadata": {},
          "execution_count": 91
        }
      ]
    },
    {
      "cell_type": "markdown",
      "source": [
        "Теперь сделаем то же самое при помощи встроенного в sklearn класса CountVectorizer:"
      ],
      "metadata": {
        "id": "mNtTpVnULY3V"
      }
    },
    {
      "cell_type": "code",
      "source": [
        "from sklearn.feature_extraction.text import CountVectorizer"
      ],
      "metadata": {
        "id": "T7_YpUhOy-tO"
      },
      "execution_count": null,
      "outputs": []
    },
    {
      "cell_type": "code",
      "source": [
        "count = CountVectorizer()"
      ],
      "metadata": {
        "id": "cLQqyxNXz5Ul"
      },
      "execution_count": null,
      "outputs": []
    },
    {
      "cell_type": "code",
      "source": [
        "# это игрушечный пример, в виде исключения вызовем fit_transform на всём корпусе :)\n",
        "count_matrix = count.fit_transform(corpus)"
      ],
      "metadata": {
        "id": "Y-YPA0Dkz-Rd"
      },
      "execution_count": null,
      "outputs": []
    },
    {
      "cell_type": "code",
      "source": [
        "count_matrix"
      ],
      "metadata": {
        "colab": {
          "base_uri": "https://localhost:8080/"
        },
        "id": "8kKIChjN0SN8",
        "outputId": "e8912130-7a03-4f34-8f62-a40e4db5092b"
      },
      "execution_count": null,
      "outputs": [
        {
          "output_type": "execute_result",
          "data": {
            "text/plain": [
              "<3x6 sparse matrix of type '<class 'numpy.int64'>'\n",
              "\twith 12 stored elements in Compressed Sparse Row format>"
            ]
          },
          "metadata": {},
          "execution_count": 95
        }
      ]
    },
    {
      "cell_type": "markdown",
      "source": [
        "Матрица признаков - это разреженная матрица. Превратим ее в плотную, чтобы посмотреть, что внутри (с большими матрицами признаков в реальных задачах так делать не стоит):"
      ],
      "metadata": {
        "id": "WVD4pY6JGlVY"
      }
    },
    {
      "cell_type": "code",
      "source": [
        "count_matrix.todense()"
      ],
      "metadata": {
        "colab": {
          "base_uri": "https://localhost:8080/"
        },
        "id": "XNxyRC810b2j",
        "outputId": "79d1e735-192e-4982-c423-af48ca9aeba6"
      },
      "execution_count": null,
      "outputs": [
        {
          "output_type": "execute_result",
          "data": {
            "text/plain": [
              "matrix([[1, 0, 1, 1, 0, 1],\n",
              "        [1, 1, 0, 0, 1, 0],\n",
              "        [0, 1, 1, 1, 1, 1]])"
            ]
          },
          "metadata": {},
          "execution_count": 96
        }
      ]
    },
    {
      "cell_type": "markdown",
      "source": [
        "Мы видим вполне стандартную матрицу встречаемости слов размера 3*6: 3 документа на 6 уникальных слов. Но как узнать, в какой колонке какое слово? Для этого у векторайзеров есть метод get_feature_names_out():"
      ],
      "metadata": {
        "id": "1GlLhIo70jaJ"
      }
    },
    {
      "cell_type": "code",
      "source": [
        "count.get_feature_names_out()"
      ],
      "metadata": {
        "colab": {
          "base_uri": "https://localhost:8080/"
        },
        "id": "ihLQBKdq0zR0",
        "outputId": "33ce306f-f00e-406e-935e-b76071e32445"
      },
      "execution_count": null,
      "outputs": [
        {
          "output_type": "execute_result",
          "data": {
            "text/plain": [
              "array(['бегемот', 'кот', 'по', 'улице', 'черный', 'шел'], dtype=object)"
            ]
          },
          "metadata": {},
          "execution_count": 97
        }
      ]
    },
    {
      "cell_type": "markdown",
      "source": [
        "Действительно, если мы посмотрим на первую колонку, то увидим, что она соответствует встречаемости слова \"Бегемот\" в нашем корпусе: оно встретилось в первом и втором документе по одному разу, а в третьем - ни разу."
      ],
      "metadata": {
        "id": "ZNK6KlEW0_EL"
      }
    },
    {
      "cell_type": "markdown",
      "source": [
        "**TfIdfVectorizer** тоже превращает корпус в разреженную матрицу размера N*M. Каждому документу соответствует один ряд матрицы, где в колонках соответствующих слов стоят числа, соответствующие TF-IDF этих слов."
      ],
      "metadata": {
        "id": "vLN4-rZXz1XS"
      }
    },
    {
      "cell_type": "markdown",
      "source": [
        "Вспомним формулу TF-IDF:\n",
        "\n",
        "Считаем, что t - слово, d - документ, D - коллекция документов. Тогда:\n",
        "\n",
        "${TF}(t,d) = \\frac{f_{t,d}}{{\\sum_{t' \\in d}{f_{t',d}}}}$, где f - частота слова, т.е., частота слова в документе по отношению к количеству слов в документе.\n",
        "\n",
        "${IDF}(t, D) =  \\log \\frac{|D|}{|\\{\\,d_i \\in D \\mid t \\in d_{i}\\, \\}|}$, т.е., логарифм отношения числа документов в коллекции к количеству документов, в которых встречается t.\n",
        "\n",
        "Таким образом,\n",
        "\n",
        "$\\operatorname{TF-IDF}(t,d,D) = \\operatorname{TF}(t,d) \\times \\operatorname{IDF}(t, D)$"
      ],
      "metadata": {
        "id": "r_rgyJRoGVMq"
      }
    },
    {
      "cell_type": "code",
      "source": [
        "from sklearn.feature_extraction.text import TfidfVectorizer"
      ],
      "metadata": {
        "id": "KKUVLglkLwCO"
      },
      "execution_count": null,
      "outputs": []
    },
    {
      "cell_type": "code",
      "source": [
        "tfidf_vectorizer = TfidfVectorizer()\n",
        "tfidf_matrix = tfidf_vectorizer.fit_transform(corpus)"
      ],
      "metadata": {
        "id": "A-TZPDBXy7ez"
      },
      "execution_count": null,
      "outputs": []
    },
    {
      "cell_type": "code",
      "source": [
        "tfidf_matrix"
      ],
      "metadata": {
        "colab": {
          "base_uri": "https://localhost:8080/"
        },
        "id": "LgA-CyWLGdnD",
        "outputId": "133ec8ff-4d6c-42f5-8f7d-ecd3ad603918"
      },
      "execution_count": null,
      "outputs": [
        {
          "output_type": "execute_result",
          "data": {
            "text/plain": [
              "<3x6 sparse matrix of type '<class 'numpy.float64'>'\n",
              "\twith 12 stored elements in Compressed Sparse Row format>"
            ]
          },
          "metadata": {},
          "execution_count": 100
        }
      ]
    },
    {
      "cell_type": "code",
      "source": [
        "tfidf_matrix.todense()"
      ],
      "metadata": {
        "colab": {
          "base_uri": "https://localhost:8080/"
        },
        "id": "7sdCQMJsG1R-",
        "outputId": "48bdb0c7-fee5-4532-e919-ba6210af2fff"
      },
      "execution_count": null,
      "outputs": [
        {
          "output_type": "execute_result",
          "data": {
            "text/plain": [
              "matrix([[0.5       , 0.        , 0.5       , 0.5       , 0.        ,\n",
              "         0.5       ],\n",
              "        [0.57735027, 0.57735027, 0.        , 0.        , 0.57735027,\n",
              "         0.        ],\n",
              "        [0.        , 0.4472136 , 0.4472136 , 0.4472136 , 0.4472136 ,\n",
              "         0.4472136 ]])"
            ]
          },
          "metadata": {},
          "execution_count": 101
        }
      ]
    },
    {
      "cell_type": "markdown",
      "source": [
        "Можно видеть, что колонки такие же и расположены в том же порядке:"
      ],
      "metadata": {
        "id": "MkA4VWOY2VM4"
      }
    },
    {
      "cell_type": "code",
      "source": [
        "tfidf_vectorizer.get_feature_names_out()"
      ],
      "metadata": {
        "colab": {
          "base_uri": "https://localhost:8080/"
        },
        "id": "x5l9mn1MG4Jw",
        "outputId": "933fd31e-1d23-4d44-a4b5-bdabddd35b9c"
      },
      "execution_count": null,
      "outputs": [
        {
          "output_type": "execute_result",
          "data": {
            "text/plain": [
              "array(['бегемот', 'кот', 'по', 'улице', 'черный', 'шел'], dtype=object)"
            ]
          },
          "metadata": {},
          "execution_count": 102
        }
      ]
    },
    {
      "cell_type": "markdown",
      "source": [
        "Мы можем посмотреть значения IDF всех слов в словаре в параметре idf_. Но почему значения такие странные, если IDF слова \"Бегемот\", например, log(3/2) ~= 0.4?"
      ],
      "metadata": {
        "id": "GqppG8l5ICAl"
      }
    },
    {
      "cell_type": "code",
      "source": [
        "tfidf_vectorizer.idf_"
      ],
      "metadata": {
        "colab": {
          "base_uri": "https://localhost:8080/"
        },
        "id": "bWCXoF_pMDUp",
        "outputId": "f13c4c0b-3d8e-4a85-bfcc-6016e2b087ef"
      },
      "execution_count": null,
      "outputs": [
        {
          "output_type": "execute_result",
          "data": {
            "text/plain": [
              "array([1.28768207, 1.28768207, 1.28768207, 1.28768207, 1.28768207,\n",
              "       1.28768207])"
            ]
          },
          "metadata": {},
          "execution_count": 103
        }
      ]
    },
    {
      "cell_type": "markdown",
      "source": [
        "Всё потому, что, согласно документации, для вычисления IDF в sklearn используется формула $log\\frac{1+n}{1+df(t)} + 1$ (что написано в документации: https://scikit-learn.org/stable/modules/feature_extraction.html#tfidf-term-weighting)."
      ],
      "metadata": {
        "id": "-ioMCtlqPDqC"
      }
    },
    {
      "cell_type": "code",
      "source": [
        "np.log((3+1)/(2+1)) + 1"
      ],
      "metadata": {
        "colab": {
          "base_uri": "https://localhost:8080/"
        },
        "id": "xeCWM9VZVWtL",
        "outputId": "355f8bfc-e12a-41bb-8457-5c55814a5804"
      },
      "execution_count": null,
      "outputs": [
        {
          "output_type": "execute_result",
          "data": {
            "text/plain": [
              "1.2876820724517808"
            ]
          },
          "metadata": {},
          "execution_count": 54
        }
      ]
    },
    {
      "cell_type": "markdown",
      "source": [
        "Давайте вычислим вектор второго документа в нашей коллекции. Логично, что у всех трёх слов будут одинаковые значения TF-IDF."
      ],
      "metadata": {
        "id": "Hwgm0AO-RDZY"
      }
    },
    {
      "cell_type": "code",
      "source": [
        "vector_2nd_doc = []\n",
        "\n",
        "vocab = tfidf_vectorizer.get_feature_names_out()\n",
        "current_doc = re.findall('\\w+', corpus[1].lower())\n",
        "docs_in_collection = len(corpus)\n",
        "\n",
        "for word in vocab:\n",
        "\n",
        "  if word in current_doc:\n",
        "    words_in_doc = len(current_doc)\n",
        "    current_word_count = current_doc.count(word)\n",
        "    tf = current_word_count/words_in_doc\n",
        "\n",
        "    docs_containing_word = len([d for d in corpus if word in d.lower()])\n",
        "    idf = np.log((docs_in_collection + 1)/(docs_containing_word + 1)) + 1\n",
        "\n",
        "    tfidf = tf * idf\n",
        "    vector_2nd_doc.append(tfidf)\n",
        "\n",
        "  else:\n",
        "    vector_2nd_doc.append(0)"
      ],
      "metadata": {
        "id": "2NfqGKsoWpgF"
      },
      "execution_count": null,
      "outputs": []
    },
    {
      "cell_type": "code",
      "source": [
        "vector_2nd_doc"
      ],
      "metadata": {
        "colab": {
          "base_uri": "https://localhost:8080/"
        },
        "id": "NAHJEzuxZofr",
        "outputId": "3dd32972-c407-445c-bc81-67417f6e67ec"
      },
      "execution_count": null,
      "outputs": [
        {
          "output_type": "execute_result",
          "data": {
            "text/plain": [
              "[0.42922735748392693, 0.42922735748392693, 0, 0, 0.42922735748392693, 0]"
            ]
          },
          "metadata": {},
          "execution_count": 106
        }
      ]
    },
    {
      "cell_type": "markdown",
      "source": [
        "Это всё равно не те цифры, что в матрице. Дело в том, что в это векторайзере для каждого вектора дополнительно применяется нормализация (что тоже указано в [документации](https://scikit-learn.org/stable/modules/feature_extraction.html#tfidf-term-weighting)). Применим ее и для нашего вектора."
      ],
      "metadata": {
        "id": "ye5Mk5E3RfBv"
      }
    },
    {
      "cell_type": "code",
      "source": [
        "from sklearn.preprocessing import normalize"
      ],
      "metadata": {
        "id": "ZPB9yjsRNyD8"
      },
      "execution_count": null,
      "outputs": []
    },
    {
      "cell_type": "code",
      "source": [
        "# преобразим список в массив, чтобы с ним было удобнее работать\n",
        "vector_2nd_doc = np.array(vector_2nd_doc)"
      ],
      "metadata": {
        "id": "KUi0Rh6lVEgn"
      },
      "execution_count": null,
      "outputs": []
    },
    {
      "cell_type": "code",
      "source": [
        "# эта функция работает только с двумерными массивами\n",
        "# так что мы преобразим наш массив формы (3,) в (1, 3) при помощи метода reshape\n",
        "normalize(vector_2nd_doc.reshape(1, -1), norm=\"l2\")"
      ],
      "metadata": {
        "colab": {
          "base_uri": "https://localhost:8080/"
        },
        "id": "RhnPs-JKNyx2",
        "outputId": "29cb8d35-932d-4f54-9cea-ed66e8f24748"
      },
      "execution_count": null,
      "outputs": [
        {
          "output_type": "execute_result",
          "data": {
            "text/plain": [
              "array([[0.57735027, 0.57735027, 0.        , 0.        , 0.57735027,\n",
              "        0.        ]])"
            ]
          },
          "metadata": {},
          "execution_count": 59
        }
      ]
    },
    {
      "cell_type": "markdown",
      "source": [
        "Таким образом, мы получили числа, похожие на те, что есть в нашей матрице."
      ],
      "metadata": {
        "id": "LY7tDp4cSUo9"
      }
    }
  ]
}